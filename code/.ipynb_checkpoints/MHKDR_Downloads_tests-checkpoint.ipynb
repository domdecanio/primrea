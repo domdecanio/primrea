{
 "cells": [
  {
   "cell_type": "code",
   "execution_count": 7,
   "id": "6c15cce6-44f4-4cd4-92ae-f154e967e55e",
   "metadata": {},
   "outputs": [],
   "source": [
    "import requests\n",
    "url = 'https://mhkdr.openei.org/files/545/cpr.wave_stats.c1.20230901.001459.figures.zip'"
   ]
  },
  {
   "cell_type": "code",
   "execution_count": 9,
   "id": "37ea3417-c0d8-4011-9567-607c2a9439be",
   "metadata": {},
   "outputs": [],
   "source": [
    "r = requests.get(url)"
   ]
  },
  {
   "cell_type": "code",
   "execution_count": null,
   "id": "85b895b3-8631-41c1-ace6-5aec635bb1f9",
   "metadata": {},
   "outputs": [],
   "source": []
  },
  {
   "cell_type": "code",
   "execution_count": 2,
   "id": "0956edd0-791e-4a33-bb1d-12cd15bcd4b1",
   "metadata": {},
   "outputs": [],
   "source": [
    "import urllib.request\n",
    "url = 'https://mhkdr.openei.org/files/545/cpr.wave_stats.c1.20230901.001459.figures.zip'"
   ]
  },
  {
   "cell_type": "code",
   "execution_count": 5,
   "id": "939ce190-d488-4f08-9d79-bc467f87723a",
   "metadata": {},
   "outputs": [],
   "source": [
    "with urllib.request.urlopen(url) as f:\n",
    "    html = f.read()"
   ]
  },
  {
   "cell_type": "code",
   "execution_count": null,
   "id": "74e8fa53-504e-44fd-8709-b42c6c86044c",
   "metadata": {},
   "outputs": [],
   "source": []
  },
  {
   "cell_type": "code",
   "execution_count": 13,
   "id": "2561aaed-3ef2-4487-9e3f-10c0adb024f3",
   "metadata": {},
   "outputs": [],
   "source": [
    "import urllib.request\n",
    "response = urllib.request.urlopen(url)\n",
    "html = response.read()"
   ]
  },
  {
   "cell_type": "code",
   "execution_count": null,
   "id": "7855f829-15c6-4a68-8dcd-7636a703be8f",
   "metadata": {},
   "outputs": [],
   "source": []
  },
  {
   "cell_type": "code",
   "execution_count": 16,
   "id": "6b688011-7a2d-4680-bf3b-fe6269d28d76",
   "metadata": {},
   "outputs": [],
   "source": [
    "# this one works\n",
    "r = requests.get(url)\n",
    "with open(\"output.zip\", \"wb\") as fd:\n",
    "    fd.write(r.content)"
   ]
  }
 ],
 "metadata": {
  "kernelspec": {
   "display_name": "Python 3 (ipykernel)",
   "language": "python",
   "name": "python3"
  },
  "language_info": {
   "codemirror_mode": {
    "name": "ipython",
    "version": 3
   },
   "file_extension": ".py",
   "mimetype": "text/x-python",
   "name": "python",
   "nbconvert_exporter": "python",
   "pygments_lexer": "ipython3",
   "version": "3.11.8"
  }
 },
 "nbformat": 4,
 "nbformat_minor": 5
}
