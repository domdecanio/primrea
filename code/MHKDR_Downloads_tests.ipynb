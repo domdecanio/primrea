{
 "cells": [
  {
   "cell_type": "code",
   "execution_count": 3,
   "id": "6c15cce6-44f4-4cd4-92ae-f154e967e55e",
   "metadata": {},
   "outputs": [],
   "source": [
    "import requests\n",
    "url = 'https://mhkdr.openei.org/files/545/cpr.wave_stats.c1.20230901.001459.figures.zip'"
   ]
  },
  {
   "cell_type": "code",
   "execution_count": 4,
   "id": "6b688011-7a2d-4680-bf3b-fe6269d28d76",
   "metadata": {},
   "outputs": [],
   "source": [
    "r = requests.get(url)\n",
    "with open(\"output.zip\", \"wb\") as fd:\n",
    "    fd.write(r.content)"
   ]
  }
 ],
 "metadata": {
  "kernelspec": {
   "display_name": "Python 3 (ipykernel)",
   "language": "python",
   "name": "python3"
  },
  "language_info": {
   "codemirror_mode": {
    "name": "ipython",
    "version": 3
   },
   "file_extension": ".py",
   "mimetype": "text/x-python",
   "name": "python",
   "nbconvert_exporter": "python",
   "pygments_lexer": "ipython3",
   "version": "3.11.8"
  }
 },
 "nbformat": 4,
 "nbformat_minor": 5
}
