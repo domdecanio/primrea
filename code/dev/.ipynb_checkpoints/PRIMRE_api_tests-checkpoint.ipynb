{
 "cells": [
  {
   "cell_type": "code",
   "execution_count": 1,
   "id": "7aad6fb9-dc51-4f4f-a254-bce668a21d63",
   "metadata": {},
   "outputs": [],
   "source": [
    "import requests"
   ]
  },
  {
   "cell_type": "code",
   "execution_count": 2,
   "id": "ef25578d-807a-4b51-93df-646fe7d391a7",
   "metadata": {},
   "outputs": [],
   "source": [
    "mhkdr_api = 'https://mhkdr.openei.org/api?action=getSubmissionsForPRIMRE'\n",
    "tethys_api = 'https://tethys.pnnl.gov/api/primre_export'\n",
    "tethys_e_api = 'https://tethys-engineering.pnnl.gov/api/primre_export'"
   ]
  },
  {
   "cell_type": "code",
   "execution_count": 3,
   "id": "aff60477-92f1-4835-970e-0ac438c39f3f",
   "metadata": {},
   "outputs": [
    {
     "name": "stdout",
     "output_type": "stream",
     "text": [
      "Number of MHKDR Entries: 392\n",
      "Number of Tethys Entries: 4231\n",
      "Number of Tethys Engineering Entries: 8193\n"
     ]
    }
   ],
   "source": [
    "mhkdr_response = requests.get(mhkdr_api)\n",
    "tethys_response = requests.get(tethys_api)       # Note: The tethys api grabs content specifically related to marine energy, and there is another API for wind energy.\n",
    "tethys_e_response = requests.get(tethys_e_api)\n",
    "\n",
    "mhkdr_response_json = mhkdr_response.json()\n",
    "tethys_response_json = tethys_response.json()\n",
    "tethys_e_response_json = tethys_e_response.json()\n",
    "\n",
    "print(f'Number of MHKDR Entries: {len(mhkdr_response_json)}\\nNumber of Tethys Entries: {len(tethys_response_json)}\\nNumber of Tethys Engineering Entries: {len(tethys_e_response_json)}')"
   ]
  },
  {
   "cell_type": "code",
   "execution_count": 4,
   "id": "c586d876-eb1a-4def-815b-292800aa987d",
   "metadata": {},
   "outputs": [
    {
     "data": {
      "text/plain": [
       "{'URI': 'https://mhkdr.openei.org/submissions/545',\n",
       " 'type': ['Dataset', 'Dataset/Archive'],\n",
       " 'landingPage': 'https://mhkdr.openei.org/submissions/545',\n",
       " 'sourceURL': 'https://mhkdr.openei.org/submissions/545',\n",
       " 'title': 'Wave Measurements taken NW of Culebra Is., PR, 2023',\n",
       " 'description': 'Wave and sea surface temperature measurements collected by a Sofar Spotter buoy in 2023. The buoy was deployed on July 27, 2023 at 11:30 UTC northwest of Culebra Island, Puerto Rico, (18.3878 N, 65.3899 W) and recovered on Nov 5, 2023 at 12:45 UTC. \\n\\nData are saved here in netCDF format, organized by month, and include directional wave statistics, GPS, and SST measurements at 30-minute intervals. Figures produced from these data are provided here as well. They include timeseries of wave height/period/direction and SST, GPS location, wave roses, and directional spectra. Additionally, raw CSV files from the Spotter\\'s memory card can also be found below.\\n\\nNetCDF files can be read in python using the netCDF4 or Xarray packages, or through MATLAB using the \"ncread()\" command.',\n",
       " 'author': ['James McVey',\n",
       "  'Molly Grear',\n",
       "  'Mikaela Freeman',\n",
       "  'Lysel Garavelli'],\n",
       " 'organization': ['Pacific Northwest National Laboratory'],\n",
       " 'originationDate': '2023-07-27 06:00:00',\n",
       " 'spatial': {'extent': 'point', 'coordinates': [18.3878, -65.3899]},\n",
       " 'technologyType': ['Wave'],\n",
       " 'tags': ['wave',\n",
       "  'puerto rico',\n",
       "  'sea surface temperature',\n",
       "  'wave energy',\n",
       "  'wave measurements',\n",
       "  'spotter',\n",
       "  'buoy',\n",
       "  'caribbean',\n",
       "  'wave resource',\n",
       "  'wave statistics',\n",
       "  'MATLAB',\n",
       "  'Python',\n",
       "  'NetCDF',\n",
       "  'GPS',\n",
       "  'SST',\n",
       "  'directional spectra',\n",
       "  'raw data',\n",
       "  'processed data',\n",
       "  'height',\n",
       "  'period',\n",
       "  'direction',\n",
       "  'energy density spectra'],\n",
       " 'signatureProject': [],\n",
       " 'modifiedDate': '2024-04-01 14:59:21'}"
      ]
     },
     "execution_count": 4,
     "metadata": {},
     "output_type": "execute_result"
    }
   ],
   "source": [
    "mhkdr_response_json[0]"
   ]
  },
  {
   "cell_type": "code",
   "execution_count": 7,
   "id": "a8481de1-d013-4903-99f5-ee51e27b8c5c",
   "metadata": {},
   "outputs": [
    {
     "ename": "NameError",
     "evalue": "name 'tethys_response_json' is not defined",
     "output_type": "error",
     "traceback": [
      "\u001b[1;31m---------------------------------------------------------------------------\u001b[0m",
      "\u001b[1;31mNameError\u001b[0m                                 Traceback (most recent call last)",
      "Cell \u001b[1;32mIn[7], line 1\u001b[0m\n\u001b[1;32m----> 1\u001b[0m tethys_response_json[\u001b[38;5;241m0\u001b[39m]\n",
      "\u001b[1;31mNameError\u001b[0m: name 'tethys_response_json' is not defined"
     ]
    }
   ],
   "source": [
    "tethys_response_json[0]"
   ]
  },
  {
   "cell_type": "code",
   "execution_count": null,
   "id": "7280333e-fd54-4abd-bc41-cda68a243240",
   "metadata": {},
   "outputs": [],
   "source": [
    "tethys_e_response_json[0]"
   ]
  },
  {
   "cell_type": "code",
   "execution_count": null,
   "id": "9a7ff679-b030-419f-9921-2474c9b61436",
   "metadata": {},
   "outputs": [],
   "source": []
  },
  {
   "cell_type": "code",
   "execution_count": null,
   "id": "ba28e229-335b-4476-8f32-93bf4f9613ff",
   "metadata": {},
   "outputs": [],
   "source": []
  },
  {
   "cell_type": "code",
   "execution_count": null,
   "id": "6defcfba-fe37-40a6-86e8-1f1ab1ac1520",
   "metadata": {},
   "outputs": [],
   "source": []
  },
  {
   "cell_type": "markdown",
   "id": "b4166d1d-e73d-4e98-bbcc-ccb4248fbca2",
   "metadata": {},
   "source": [
    "## Dissecting the JSON to be made into a tabular format"
   ]
  },
  {
   "cell_type": "code",
   "execution_count": 8,
   "id": "1ee778e8-bd49-4911-90b7-99da8a98c244",
   "metadata": {},
   "outputs": [],
   "source": [
    "import pandas as pd\n",
    "import regex as re\n",
    "#pd.set_option('display.max_rows', 500)"
   ]
  },
  {
   "cell_type": "code",
   "execution_count": 9,
   "id": "01077e5f-b149-4a94-9843-9607e7053591",
   "metadata": {},
   "outputs": [
    {
     "data": {
      "text/plain": [
       "389"
      ]
     },
     "execution_count": 9,
     "metadata": {},
     "output_type": "execute_result"
    }
   ],
   "source": [
    "len(mhkdr_response_json)"
   ]
  },
  {
   "cell_type": "code",
   "execution_count": 24,
   "id": "f9934873-f5ad-4bd1-a248-ea50400355e4",
   "metadata": {},
   "outputs": [
    {
     "data": {
      "text/html": [
       "<div>\n",
       "<style scoped>\n",
       "    .dataframe tbody tr th:only-of-type {\n",
       "        vertical-align: middle;\n",
       "    }\n",
       "\n",
       "    .dataframe tbody tr th {\n",
       "        vertical-align: top;\n",
       "    }\n",
       "\n",
       "    .dataframe thead th {\n",
       "        text-align: right;\n",
       "    }\n",
       "</style>\n",
       "<table border=\"1\" class=\"dataframe\">\n",
       "  <thead>\n",
       "    <tr style=\"text-align: right;\">\n",
       "      <th></th>\n",
       "      <th>URI</th>\n",
       "      <th>type</th>\n",
       "      <th>landingPage</th>\n",
       "      <th>sourceURL</th>\n",
       "      <th>title</th>\n",
       "      <th>description</th>\n",
       "      <th>author</th>\n",
       "      <th>organization</th>\n",
       "      <th>originationDate</th>\n",
       "      <th>spatial</th>\n",
       "      <th>technologyType</th>\n",
       "      <th>tags</th>\n",
       "      <th>signatureProject</th>\n",
       "      <th>modifiedDate</th>\n",
       "    </tr>\n",
       "  </thead>\n",
       "  <tbody>\n",
       "    <tr>\n",
       "      <th>0</th>\n",
       "      <td>https://mhkdr.openei.org/submissions/545</td>\n",
       "      <td>[Dataset, Dataset/Archive]</td>\n",
       "      <td>https://mhkdr.openei.org/submissions/545</td>\n",
       "      <td>https://mhkdr.openei.org/submissions/545</td>\n",
       "      <td>Wave Measurements taken NW of Culebra Is., PR,...</td>\n",
       "      <td>Wave and sea surface temperature measurements ...</td>\n",
       "      <td>[James McVey, Molly Grear, Mikaela Freeman, Ly...</td>\n",
       "      <td>[Pacific Northwest National Laboratory]</td>\n",
       "      <td>2023-07-27 06:00:00</td>\n",
       "      <td>{'extent': 'point', 'coordinates': [18.3878, -...</td>\n",
       "      <td>[Wave]</td>\n",
       "      <td>[wave, puerto rico, sea surface temperature, w...</td>\n",
       "      <td>[]</td>\n",
       "      <td>2024-04-01 14:59:21</td>\n",
       "    </tr>\n",
       "    <tr>\n",
       "      <th>1</th>\n",
       "      <td>https://mhkdr.openei.org/submissions/534</td>\n",
       "      <td>[Dataset, Dataset/Archive, Document/Report]</td>\n",
       "      <td>https://mhkdr.openei.org/submissions/534</td>\n",
       "      <td>https://mhkdr.openei.org/submissions/534</td>\n",
       "      <td>TEAMER: Biofouling Analysis for Wave Energy Pi...</td>\n",
       "      <td>Biofouling and corrosion are a major concern f...</td>\n",
       "      <td>[Tyler Robertson, Robertson Cavagnaro, Linnea ...</td>\n",
       "      <td>[Triton Systems, Inc.]</td>\n",
       "      <td>2021-11-01 06:00:00</td>\n",
       "      <td>{'boundingCoordinatesNE': [50.38149245701351, ...</td>\n",
       "      <td>[]</td>\n",
       "      <td>[MHK, Marine, Hydrokinetic, energy, power, wav...</td>\n",
       "      <td>[]</td>\n",
       "      <td>2024-02-27 23:09:36</td>\n",
       "    </tr>\n",
       "    <tr>\n",
       "      <th>2</th>\n",
       "      <td>https://mhkdr.openei.org/submissions/532</td>\n",
       "      <td>[Dataset, Dataset/Archive, Document/Report, Da...</td>\n",
       "      <td>https://mhkdr.openei.org/submissions/532</td>\n",
       "      <td>https://mhkdr.openei.org/submissions/532</td>\n",
       "      <td>TEAMER: Supporting model output files for Envi...</td>\n",
       "      <td>Orbital Marine Power (Orbital) is seeking to d...</td>\n",
       "      <td>[Taiping Wang, Zhaoqing Yang, Andrea Copping, ...</td>\n",
       "      <td>[Pacific Northwest National Laboratory]</td>\n",
       "      <td>2023-03-01 07:00:00</td>\n",
       "      <td>{'extent': 'point', 'coordinates': [60.6922101...</td>\n",
       "      <td>[]</td>\n",
       "      <td>[MHK, Marine, Hydrokinetic, energy, power, TEA...</td>\n",
       "      <td>[TEAMER]</td>\n",
       "      <td>2024-02-29 20:30:34</td>\n",
       "    </tr>\n",
       "  </tbody>\n",
       "</table>\n",
       "</div>"
      ],
      "text/plain": [
       "                                        URI  \\\n",
       "0  https://mhkdr.openei.org/submissions/545   \n",
       "1  https://mhkdr.openei.org/submissions/534   \n",
       "2  https://mhkdr.openei.org/submissions/532   \n",
       "\n",
       "                                                type  \\\n",
       "0                         [Dataset, Dataset/Archive]   \n",
       "1        [Dataset, Dataset/Archive, Document/Report]   \n",
       "2  [Dataset, Dataset/Archive, Document/Report, Da...   \n",
       "\n",
       "                                landingPage  \\\n",
       "0  https://mhkdr.openei.org/submissions/545   \n",
       "1  https://mhkdr.openei.org/submissions/534   \n",
       "2  https://mhkdr.openei.org/submissions/532   \n",
       "\n",
       "                                  sourceURL  \\\n",
       "0  https://mhkdr.openei.org/submissions/545   \n",
       "1  https://mhkdr.openei.org/submissions/534   \n",
       "2  https://mhkdr.openei.org/submissions/532   \n",
       "\n",
       "                                               title  \\\n",
       "0  Wave Measurements taken NW of Culebra Is., PR,...   \n",
       "1  TEAMER: Biofouling Analysis for Wave Energy Pi...   \n",
       "2  TEAMER: Supporting model output files for Envi...   \n",
       "\n",
       "                                         description  \\\n",
       "0  Wave and sea surface temperature measurements ...   \n",
       "1  Biofouling and corrosion are a major concern f...   \n",
       "2  Orbital Marine Power (Orbital) is seeking to d...   \n",
       "\n",
       "                                              author  \\\n",
       "0  [James McVey, Molly Grear, Mikaela Freeman, Ly...   \n",
       "1  [Tyler Robertson, Robertson Cavagnaro, Linnea ...   \n",
       "2  [Taiping Wang, Zhaoqing Yang, Andrea Copping, ...   \n",
       "\n",
       "                              organization      originationDate  \\\n",
       "0  [Pacific Northwest National Laboratory]  2023-07-27 06:00:00   \n",
       "1                   [Triton Systems, Inc.]  2021-11-01 06:00:00   \n",
       "2  [Pacific Northwest National Laboratory]  2023-03-01 07:00:00   \n",
       "\n",
       "                                             spatial technologyType  \\\n",
       "0  {'extent': 'point', 'coordinates': [18.3878, -...         [Wave]   \n",
       "1  {'boundingCoordinatesNE': [50.38149245701351, ...             []   \n",
       "2  {'extent': 'point', 'coordinates': [60.6922101...             []   \n",
       "\n",
       "                                                tags signatureProject  \\\n",
       "0  [wave, puerto rico, sea surface temperature, w...               []   \n",
       "1  [MHK, Marine, Hydrokinetic, energy, power, wav...               []   \n",
       "2  [MHK, Marine, Hydrokinetic, energy, power, TEA...         [TEAMER]   \n",
       "\n",
       "          modifiedDate  \n",
       "0  2024-04-01 14:59:21  \n",
       "1  2024-02-27 23:09:36  \n",
       "2  2024-02-29 20:30:34  "
      ]
     },
     "execution_count": 24,
     "metadata": {},
     "output_type": "execute_result"
    }
   ],
   "source": [
    "mhkdr_dataframe = pd.DataFrame(mhkdr_response_json)\n",
    "mhkdr_dataframe.head(3)"
   ]
  },
  {
   "cell_type": "code",
   "execution_count": 127,
   "id": "95fca0a0-171b-4ee2-99fc-71059a8847ef",
   "metadata": {},
   "outputs": [
    {
     "data": {
      "text/plain": [
       "'https://mhkdr.openei.org/submissions/545'"
      ]
     },
     "execution_count": 127,
     "metadata": {},
     "output_type": "execute_result"
    }
   ],
   "source": [
    "mhkdr_dataframe['landingPage'][0]"
   ]
  },
  {
   "cell_type": "code",
   "execution_count": 128,
   "id": "f9d3f47a-f0a4-42d6-91d7-fd8ac89d48ee",
   "metadata": {},
   "outputs": [
    {
     "data": {
      "text/plain": [
       "regex.Regex('\\\\d+', flags=regex.V0)"
      ]
     },
     "execution_count": 128,
     "metadata": {},
     "output_type": "execute_result"
    }
   ],
   "source": [
    "q = re.compile(r'\\d+')\n",
    "q"
   ]
  },
  {
   "cell_type": "code",
   "execution_count": 129,
   "id": "713efeda-01eb-4280-9a2c-ddc0bc65a3ae",
   "metadata": {},
   "outputs": [],
   "source": [
    "m2 = q.findall(a)"
   ]
  },
  {
   "cell_type": "code",
   "execution_count": 130,
   "id": "d3d826fd-d8cd-45dc-b3dd-900950f19e90",
   "metadata": {},
   "outputs": [
    {
     "data": {
      "text/plain": [
       "545"
      ]
     },
     "execution_count": 130,
     "metadata": {},
     "output_type": "execute_result"
    }
   ],
   "source": [
    "int(m2[0])"
   ]
  },
  {
   "cell_type": "code",
   "execution_count": null,
   "id": "261b54b6-897c-420e-9154-58b1789c6a00",
   "metadata": {},
   "outputs": [],
   "source": []
  },
  {
   "cell_type": "code",
   "execution_count": null,
   "id": "187d2841-3dc9-4e2b-a998-9693be24db08",
   "metadata": {},
   "outputs": [],
   "source": []
  },
  {
   "cell_type": "code",
   "execution_count": null,
   "id": "9278fe71-67ea-43c7-a3a2-65c7ba4fb0ff",
   "metadata": {},
   "outputs": [],
   "source": []
  },
  {
   "cell_type": "code",
   "execution_count": null,
   "id": "e2844c7d-bb6c-48bf-a39d-11d8ba65fd84",
   "metadata": {},
   "outputs": [],
   "source": []
  },
  {
   "cell_type": "code",
   "execution_count": null,
   "id": "564a344f-2c94-41fa-9d51-87b4cc058a9f",
   "metadata": {},
   "outputs": [],
   "source": []
  },
  {
   "cell_type": "code",
   "execution_count": null,
   "id": "b09c015e-a853-443d-9fa5-6be55d4c0081",
   "metadata": {},
   "outputs": [],
   "source": []
  },
  {
   "cell_type": "markdown",
   "id": "0b0222ba-f9e1-4149-8fad-1b4b53145302",
   "metadata": {},
   "source": [
    "### Authors\n",
    "This field is a true list. Which is awesome because it means I will not have to use regex to create a list for this column to dissect this field."
   ]
  },
  {
   "cell_type": "code",
   "execution_count": 43,
   "id": "d4761c22-dab9-498f-96d0-62f66ef3e7dc",
   "metadata": {},
   "outputs": [
    {
     "data": {
      "text/plain": [
       "'Lysel Garavelli'"
      ]
     },
     "execution_count": 43,
     "metadata": {},
     "output_type": "execute_result"
    }
   ],
   "source": [
    "mhkdr_dataframe['author'][0][3]"
   ]
  },
  {
   "cell_type": "code",
   "execution_count": null,
   "id": "78d2c065-90d2-4812-ad1b-ddd3cf4322a5",
   "metadata": {},
   "outputs": [],
   "source": []
  },
  {
   "cell_type": "code",
   "execution_count": null,
   "id": "9a7c2e82-9e2a-4269-9e88-bce68ff8606f",
   "metadata": {},
   "outputs": [],
   "source": []
  },
  {
   "cell_type": "code",
   "execution_count": null,
   "id": "825f15d6-170f-4222-bc85-6ba048f93d39",
   "metadata": {},
   "outputs": [],
   "source": []
  },
  {
   "cell_type": "code",
   "execution_count": null,
   "id": "ccfe0816-5ebc-4468-bd18-88d9fb773894",
   "metadata": {},
   "outputs": [],
   "source": []
  },
  {
   "cell_type": "code",
   "execution_count": null,
   "id": "7cafe21b-9daa-4a95-9243-0e355b15ccb9",
   "metadata": {},
   "outputs": [],
   "source": []
  },
  {
   "cell_type": "markdown",
   "id": "fd492c11-fe61-4e9c-9736-56a76565043c",
   "metadata": {},
   "source": [
    "### Organization\n",
    "~~This field is layed out as str, even if there are more than one organzation associated with the entry. This necessitates some regex on my part to disentangle entries with multiple organizations~~"
   ]
  },
  {
   "cell_type": "markdown",
   "id": "413a23cd-766f-4be7-9493-0cbacd4da805",
   "metadata": {},
   "source": [
    "~~There are two entries in the MHKDR dataset that are associated with 2 organizations. To handle this exception, I skimmed through all of the entries in the \"Organizations\" field, and noted that the only entries that use a comma (,) are those that:~~\n",
    "1. ~~Have two entries~~\n",
    "2. ~~are a company, where the comma is folled by \"Inc.\" e.g. \", Inc.\"~~\n",
    "3. ~~are a limitted liability company, where the comma is followed by \"LLC\" e.g. \", LLC\"~~"
   ]
  },
  {
   "cell_type": "markdown",
   "id": "c7c1a94b-5d46-4461-9cae-34421e8b4e78",
   "metadata": {},
   "source": [
    "This was wrong. The organizations are atomic, but the names are complex because some organizations completed work in collaboration with a broader working group. I do not think it is relevant to get into this detail now. I also don't think there is enough data to make such detail meaningful."
   ]
  },
  {
   "cell_type": "code",
   "execution_count": 11,
   "id": "f30112d6-f847-4933-8e73-a2560d9126e9",
   "metadata": {},
   "outputs": [
    {
     "data": {
      "text/plain": [
       "0      [Pacific Northwest National Laboratory]\n",
       "1                       [Triton Systems, Inc.]\n",
       "2      [Pacific Northwest National Laboratory]\n",
       "3                   [University of Washington]\n",
       "4                    [Oregon State University]\n",
       "                        ...                   \n",
       "384                  [Dehlsen Associates, LLC]\n",
       "385                  [Dehlsen Associates, LLC]\n",
       "386                  [Dehlsen Associates, LLC]\n",
       "387                  [Dehlsen Associates, LLC]\n",
       "388     [National Renewable Energy Laboratory]\n",
       "Name: organization, Length: 389, dtype: object"
      ]
     },
     "execution_count": 11,
     "metadata": {},
     "output_type": "execute_result"
    }
   ],
   "source": [
    "mhkdr_dataframe['organization']"
   ]
  },
  {
   "cell_type": "code",
   "execution_count": null,
   "id": "feaec7da-75e0-445c-a591-267d70bdf9ec",
   "metadata": {},
   "outputs": [],
   "source": []
  },
  {
   "cell_type": "code",
   "execution_count": null,
   "id": "a7226b66-f92c-4006-a9fb-46e938d5010c",
   "metadata": {},
   "outputs": [],
   "source": []
  },
  {
   "cell_type": "code",
   "execution_count": null,
   "id": "03891d87-ba3d-4e79-8202-ef7d85bcb008",
   "metadata": {},
   "outputs": [],
   "source": []
  },
  {
   "cell_type": "markdown",
   "id": "32388509-47c1-465d-8fc9-996b7a2b301a",
   "metadata": {},
   "source": [
    "### Tags\n",
    "Like 'Author,' the 'Tags' field is layed out as a list. This is awesome because it means that I do not need to do regex to create a list for this field."
   ]
  },
  {
   "cell_type": "code",
   "execution_count": 42,
   "id": "a7c68119-ed41-4164-9e41-d1f9750cfb5f",
   "metadata": {},
   "outputs": [
    {
     "data": {
      "text/plain": [
       "'wave'"
      ]
     },
     "execution_count": 42,
     "metadata": {},
     "output_type": "execute_result"
    }
   ],
   "source": [
    "mhkdr_dataframe['tags'][0][0]"
   ]
  },
  {
   "cell_type": "code",
   "execution_count": null,
   "id": "ebab7d31-c7a1-4083-a053-ee3e30850e3b",
   "metadata": {},
   "outputs": [],
   "source": []
  },
  {
   "cell_type": "code",
   "execution_count": null,
   "id": "3f5bef04-2b1a-4709-bb9a-6967c769e416",
   "metadata": {},
   "outputs": [],
   "source": []
  },
  {
   "cell_type": "code",
   "execution_count": null,
   "id": "90a8dd93-498c-4341-ad8f-efc09aa6b5e8",
   "metadata": {},
   "outputs": [],
   "source": []
  },
  {
   "cell_type": "code",
   "execution_count": null,
   "id": "a4f6157f-7240-4319-ad34-cfc1fd856d15",
   "metadata": {},
   "outputs": [],
   "source": []
  },
  {
   "cell_type": "code",
   "execution_count": null,
   "id": "b5e0d2cd-b673-4cf6-a4bc-f93e42f71e44",
   "metadata": {},
   "outputs": [],
   "source": []
  },
  {
   "cell_type": "markdown",
   "id": "e8ca9183-b994-489c-90a5-ce5fd9144cb9",
   "metadata": {},
   "source": [
    "# Cleaned "
   ]
  },
  {
   "cell_type": "code",
   "execution_count": 17,
   "id": "254cfefc-7d0d-4d78-b659-d640f47e53fe",
   "metadata": {},
   "outputs": [],
   "source": [
    "def find_entry_id(entry_url):\n",
    "    '''\n",
    "    This function takes in the url of a MHKDR entry, and returns the entry_id of that page. \n",
    "    The 'entry_id' is the integer at the end of the url, which is unique to each MHKDR entry.\n",
    "    The regex used in this function relies on the fact that the only number in the url is the id.\n",
    "    '''\n",
    "    rule = re.compile(r'\\d+')\n",
    "    matches_rule = rule.findall(entry_url)\n",
    "    entry_id = int(matches_rule[0])\n",
    "\n",
    "    return entry_id"
   ]
  },
  {
   "cell_type": "code",
   "execution_count": 18,
   "id": "b4d3f63e-6169-41eb-a360-2b8d07ad0694",
   "metadata": {},
   "outputs": [],
   "source": [
    "def construct_authors_table(mhkdr_dataframe):\n",
    "    '''\n",
    "    This function creates a normalized table for the json element \"author,\" connected to an \"entry_id\" that \n",
    "    may be called as a primary key to join this table to others. This disentangles the nested list structure\n",
    "    present in the json to enable reporting e.g. associations among researchers, number of documents \n",
    "    attributed to each author.\n",
    "    '''\n",
    "    authors_of_entries = list(mhkdr_dataframe['author'])\n",
    "    landing_page_urls = list(mhkdr_dataframe['sourceURL'])\n",
    "    \n",
    "    entry_ids = list()  # This list will contain duplicate entry ids, as it represents the final column that will map to entry\n",
    "    authors = list()    # This list will contain duplicate authors when an author contributes to multiple entries\n",
    "    \n",
    "    for i in range(0, len(mhkdr_dataframe)):\n",
    "        # Construct \"entry_id\" - This will be a primary key for all future merge operations.\n",
    "        entry_id = find_entry_id(landing_page_urls[i])\n",
    "        \n",
    "        # Construct \"author\" column\n",
    "        num_authors = len(authors_of_entries[i])\n",
    "        for j in range(0, num_authors):\n",
    "            entry_ids.append(entry_id)\n",
    "            authors.append(authors_of_entries[i][j])\n",
    "    \n",
    "    final_df = pd.DataFrame({'entry_id':entry_ids, 'author':authors})\n",
    "    \n",
    "    return final_df"
   ]
  },
  {
   "cell_type": "code",
   "execution_count": 19,
   "id": "b936db20-0040-4c3c-8224-0f1f04c528db",
   "metadata": {},
   "outputs": [],
   "source": [
    "def construct_organizations_table(mhkdr_dataframe):\n",
    "    '''\n",
    "    This function creates a normalized table for the json element \"organization,\" connected to an \"entry_id\" that \n",
    "    may be called as a primary key to join this table to others. This disentangles the nested list structure\n",
    "    present in the json to enable reporting e.g. associations among researchers, number of documents \n",
    "    attributed to each author.\n",
    "    '''\n",
    "    orgs_of_entries = list(mhkdr_dataframe['organization'])\n",
    "    landing_page_urls = list(mhkdr_dataframe['sourceURL'])\n",
    "    \n",
    "    entry_ids = list()  # This list will contain duplicate entry ids, as it represents the final column that will map to entry\n",
    "    orgs = list()    # This list will contain duplicate authors when an author contributes to multiple entries\n",
    "    \n",
    "    for i in range(0, len(mhkdr_dataframe)):\n",
    "        # Construct \"entry_id\" - This will be a primary key for all future merge operations.\n",
    "        entry_id = find_entry_id(landing_page_urls[i])\n",
    "        \n",
    "        # Construct \"organization\" column\n",
    "        org = orgs_of_entries[i][0]\n",
    "\n",
    "        entry_ids.append(entry_id)\n",
    "        orgs.append(org)\n",
    "    \n",
    "    final_df = pd.DataFrame({'entry_id':entry_ids, 'organization':orgs})\n",
    "    \n",
    "    return final_df"
   ]
  },
  {
   "cell_type": "code",
   "execution_count": 20,
   "id": "a6e34d9a-1e3b-4f8b-b04d-804e6bd00fad",
   "metadata": {},
   "outputs": [],
   "source": [
    "def construct_tags_table(mhkdr_dataframe):\n",
    "    '''\n",
    "    This function creates a normalized table for the json element \"tags,\" connected to an \"entry_id\" that \n",
    "    may be called as a primary key to join this table to others. This disentangles the nested list structure\n",
    "    present in the json to enable reporting e.g. associations among researchers, number of documents \n",
    "    attributed to each author.\n",
    "    '''\n",
    "    tags_of_entries = list(mhkdr_dataframe['tags'])\n",
    "    landing_page_urls = list(mhkdr_dataframe['sourceURL'])\n",
    "    \n",
    "    entry_ids = list()  # This list will contain duplicate entry ids, as it represents the final column that will map to entry\n",
    "    tags = list()    # This list will contain duplicate authors when an author contributes to multiple entries\n",
    "    \n",
    "    for i in range(0, len(mhkdr_dataframe)):\n",
    "        # Construct \"entry_id\" - This will be a primary key for all future merge operations.\n",
    "        entry_id = find_entry_id(landing_page_urls[i])\n",
    "        \n",
    "        # Construct \"tag\" column\n",
    "        num_tags = len(tags_of_entries[i])\n",
    "        for j in range(0, num_tags):\n",
    "            entry_ids.append(entry_id)\n",
    "            tags.append(tags_of_entries[i][j])\n",
    "    \n",
    "    final_df = pd.DataFrame({'entry_id':entry_ids, 'tag':tags})\n",
    "    \n",
    "    return final_df"
   ]
  },
  {
   "cell_type": "code",
   "execution_count": null,
   "id": "4a064b58-9678-4b1f-8600-a936b2145a27",
   "metadata": {},
   "outputs": [],
   "source": []
  },
  {
   "cell_type": "code",
   "execution_count": null,
   "id": "7dc3ae2e-8534-4ee7-8465-9b1b641da509",
   "metadata": {},
   "outputs": [],
   "source": []
  },
  {
   "cell_type": "markdown",
   "id": "2d467f21-69e6-4c21-a22b-29474e5065ca",
   "metadata": {},
   "source": [
    "## Cleaned - Tests"
   ]
  },
  {
   "cell_type": "code",
   "execution_count": 98,
   "id": "5a00f990-97b4-4b1a-ab3e-f576397b2458",
   "metadata": {},
   "outputs": [
    {
     "data": {
      "text/html": [
       "<div>\n",
       "<style scoped>\n",
       "    .dataframe tbody tr th:only-of-type {\n",
       "        vertical-align: middle;\n",
       "    }\n",
       "\n",
       "    .dataframe tbody tr th {\n",
       "        vertical-align: top;\n",
       "    }\n",
       "\n",
       "    .dataframe thead th {\n",
       "        text-align: right;\n",
       "    }\n",
       "</style>\n",
       "<table border=\"1\" class=\"dataframe\">\n",
       "  <thead>\n",
       "    <tr style=\"text-align: right;\">\n",
       "      <th></th>\n",
       "      <th>entry_id</th>\n",
       "      <th>author</th>\n",
       "    </tr>\n",
       "  </thead>\n",
       "  <tbody>\n",
       "    <tr>\n",
       "      <th>0</th>\n",
       "      <td>545</td>\n",
       "      <td>James McVey</td>\n",
       "    </tr>\n",
       "    <tr>\n",
       "      <th>1</th>\n",
       "      <td>545</td>\n",
       "      <td>Molly Grear</td>\n",
       "    </tr>\n",
       "    <tr>\n",
       "      <th>2</th>\n",
       "      <td>545</td>\n",
       "      <td>Mikaela Freeman</td>\n",
       "    </tr>\n",
       "    <tr>\n",
       "      <th>3</th>\n",
       "      <td>545</td>\n",
       "      <td>Lysel Garavelli</td>\n",
       "    </tr>\n",
       "    <tr>\n",
       "      <th>4</th>\n",
       "      <td>534</td>\n",
       "      <td>Tyler Robertson</td>\n",
       "    </tr>\n",
       "    <tr>\n",
       "      <th>...</th>\n",
       "      <td>...</td>\n",
       "      <td>...</td>\n",
       "    </tr>\n",
       "    <tr>\n",
       "      <th>994</th>\n",
       "      <td>2</td>\n",
       "      <td>Tyler Mayer</td>\n",
       "    </tr>\n",
       "    <tr>\n",
       "      <th>995</th>\n",
       "      <td>1</td>\n",
       "      <td>Jon Weers</td>\n",
       "    </tr>\n",
       "    <tr>\n",
       "      <th>996</th>\n",
       "      <td>1</td>\n",
       "      <td>Nicole Taverna</td>\n",
       "    </tr>\n",
       "    <tr>\n",
       "      <th>997</th>\n",
       "      <td>1</td>\n",
       "      <td>Jay Huggins</td>\n",
       "    </tr>\n",
       "    <tr>\n",
       "      <th>998</th>\n",
       "      <td>1</td>\n",
       "      <td>RJ Scavo</td>\n",
       "    </tr>\n",
       "  </tbody>\n",
       "</table>\n",
       "<p>999 rows × 2 columns</p>\n",
       "</div>"
      ],
      "text/plain": [
       "     entry_id           author\n",
       "0         545      James McVey\n",
       "1         545      Molly Grear\n",
       "2         545  Mikaela Freeman\n",
       "3         545  Lysel Garavelli\n",
       "4         534  Tyler Robertson\n",
       "..        ...              ...\n",
       "994         2      Tyler Mayer\n",
       "995         1        Jon Weers\n",
       "996         1   Nicole Taverna\n",
       "997         1      Jay Huggins\n",
       "998         1         RJ Scavo\n",
       "\n",
       "[999 rows x 2 columns]"
      ]
     },
     "execution_count": 98,
     "metadata": {},
     "output_type": "execute_result"
    }
   ],
   "source": [
    "authors_tbl = construct_authors_table(mhkdr_dataframe)\n",
    "construct_authors_table(mhkdr_dataframe)"
   ]
  },
  {
   "cell_type": "code",
   "execution_count": 92,
   "id": "7a45e0a6-149f-490d-8253-ec80a9adb909",
   "metadata": {},
   "outputs": [
    {
     "data": {
      "text/html": [
       "<div>\n",
       "<style scoped>\n",
       "    .dataframe tbody tr th:only-of-type {\n",
       "        vertical-align: middle;\n",
       "    }\n",
       "\n",
       "    .dataframe tbody tr th {\n",
       "        vertical-align: top;\n",
       "    }\n",
       "\n",
       "    .dataframe thead th {\n",
       "        text-align: right;\n",
       "    }\n",
       "</style>\n",
       "<table border=\"1\" class=\"dataframe\">\n",
       "  <thead>\n",
       "    <tr style=\"text-align: right;\">\n",
       "      <th></th>\n",
       "      <th>entry_id</th>\n",
       "      <th>organization</th>\n",
       "    </tr>\n",
       "  </thead>\n",
       "  <tbody>\n",
       "    <tr>\n",
       "      <th>0</th>\n",
       "      <td>545</td>\n",
       "      <td>Pacific Northwest National Laboratory</td>\n",
       "    </tr>\n",
       "    <tr>\n",
       "      <th>1</th>\n",
       "      <td>534</td>\n",
       "      <td>Triton Systems, Inc.</td>\n",
       "    </tr>\n",
       "    <tr>\n",
       "      <th>2</th>\n",
       "      <td>532</td>\n",
       "      <td>Pacific Northwest National Laboratory</td>\n",
       "    </tr>\n",
       "    <tr>\n",
       "      <th>3</th>\n",
       "      <td>531</td>\n",
       "      <td>University of Washington</td>\n",
       "    </tr>\n",
       "    <tr>\n",
       "      <th>4</th>\n",
       "      <td>530</td>\n",
       "      <td>Oregon State University</td>\n",
       "    </tr>\n",
       "    <tr>\n",
       "      <th>...</th>\n",
       "      <td>...</td>\n",
       "      <td>...</td>\n",
       "    </tr>\n",
       "    <tr>\n",
       "      <th>384</th>\n",
       "      <td>14</td>\n",
       "      <td>Dehlsen Associates, LLC</td>\n",
       "    </tr>\n",
       "    <tr>\n",
       "      <th>385</th>\n",
       "      <td>5</td>\n",
       "      <td>Dehlsen Associates, LLC</td>\n",
       "    </tr>\n",
       "    <tr>\n",
       "      <th>386</th>\n",
       "      <td>3</td>\n",
       "      <td>Dehlsen Associates, LLC</td>\n",
       "    </tr>\n",
       "    <tr>\n",
       "      <th>387</th>\n",
       "      <td>2</td>\n",
       "      <td>Dehlsen Associates, LLC</td>\n",
       "    </tr>\n",
       "    <tr>\n",
       "      <th>388</th>\n",
       "      <td>1</td>\n",
       "      <td>National Renewable Energy Laboratory</td>\n",
       "    </tr>\n",
       "  </tbody>\n",
       "</table>\n",
       "<p>389 rows × 2 columns</p>\n",
       "</div>"
      ],
      "text/plain": [
       "     entry_id                           organization\n",
       "0         545  Pacific Northwest National Laboratory\n",
       "1         534                   Triton Systems, Inc.\n",
       "2         532  Pacific Northwest National Laboratory\n",
       "3         531               University of Washington\n",
       "4         530                Oregon State University\n",
       "..        ...                                    ...\n",
       "384        14                Dehlsen Associates, LLC\n",
       "385         5                Dehlsen Associates, LLC\n",
       "386         3                Dehlsen Associates, LLC\n",
       "387         2                Dehlsen Associates, LLC\n",
       "388         1   National Renewable Energy Laboratory\n",
       "\n",
       "[389 rows x 2 columns]"
      ]
     },
     "execution_count": 92,
     "metadata": {},
     "output_type": "execute_result"
    }
   ],
   "source": [
    "orgs_tbl = construct_organizations_table(mhkdr_dataframe)\n",
    "construct_organizations_table(mhkdr_dataframe)"
   ]
  },
  {
   "cell_type": "code",
   "execution_count": 47,
   "id": "8b7515cf-cb99-4867-87c9-5e01f1188448",
   "metadata": {},
   "outputs": [
    {
     "data": {
      "text/html": [
       "<div>\n",
       "<style scoped>\n",
       "    .dataframe tbody tr th:only-of-type {\n",
       "        vertical-align: middle;\n",
       "    }\n",
       "\n",
       "    .dataframe tbody tr th {\n",
       "        vertical-align: top;\n",
       "    }\n",
       "\n",
       "    .dataframe thead th {\n",
       "        text-align: right;\n",
       "    }\n",
       "</style>\n",
       "<table border=\"1\" class=\"dataframe\">\n",
       "  <thead>\n",
       "    <tr style=\"text-align: right;\">\n",
       "      <th></th>\n",
       "      <th>entry_id</th>\n",
       "      <th>tag</th>\n",
       "    </tr>\n",
       "  </thead>\n",
       "  <tbody>\n",
       "    <tr>\n",
       "      <th>0</th>\n",
       "      <td>545</td>\n",
       "      <td>wave</td>\n",
       "    </tr>\n",
       "    <tr>\n",
       "      <th>1</th>\n",
       "      <td>545</td>\n",
       "      <td>puerto rico</td>\n",
       "    </tr>\n",
       "    <tr>\n",
       "      <th>2</th>\n",
       "      <td>545</td>\n",
       "      <td>sea surface temperature</td>\n",
       "    </tr>\n",
       "    <tr>\n",
       "      <th>3</th>\n",
       "      <td>545</td>\n",
       "      <td>wave energy</td>\n",
       "    </tr>\n",
       "    <tr>\n",
       "      <th>4</th>\n",
       "      <td>545</td>\n",
       "      <td>wave measurements</td>\n",
       "    </tr>\n",
       "    <tr>\n",
       "      <th>...</th>\n",
       "      <td>...</td>\n",
       "      <td>...</td>\n",
       "    </tr>\n",
       "    <tr>\n",
       "      <th>10967</th>\n",
       "      <td>1</td>\n",
       "      <td>best practices</td>\n",
       "    </tr>\n",
       "    <tr>\n",
       "      <th>10968</th>\n",
       "      <td>1</td>\n",
       "      <td>guide</td>\n",
       "    </tr>\n",
       "    <tr>\n",
       "      <th>10969</th>\n",
       "      <td>1</td>\n",
       "      <td>API</td>\n",
       "    </tr>\n",
       "    <tr>\n",
       "      <th>10970</th>\n",
       "      <td>1</td>\n",
       "      <td>management</td>\n",
       "    </tr>\n",
       "    <tr>\n",
       "      <th>10971</th>\n",
       "      <td>1</td>\n",
       "      <td>storage</td>\n",
       "    </tr>\n",
       "  </tbody>\n",
       "</table>\n",
       "<p>10972 rows × 2 columns</p>\n",
       "</div>"
      ],
      "text/plain": [
       "       entry_id                      tag\n",
       "0           545                     wave\n",
       "1           545              puerto rico\n",
       "2           545  sea surface temperature\n",
       "3           545              wave energy\n",
       "4           545        wave measurements\n",
       "...         ...                      ...\n",
       "10967         1           best practices\n",
       "10968         1                    guide\n",
       "10969         1                      API\n",
       "10970         1               management\n",
       "10971         1                  storage\n",
       "\n",
       "[10972 rows x 2 columns]"
      ]
     },
     "execution_count": 47,
     "metadata": {},
     "output_type": "execute_result"
    }
   ],
   "source": [
    "construct_tags_table(mhkdr_dataframe)"
   ]
  },
  {
   "cell_type": "code",
   "execution_count": null,
   "id": "75ef0e3b-892b-4f6b-9c32-6270c5ef7d96",
   "metadata": {},
   "outputs": [],
   "source": []
  },
  {
   "cell_type": "markdown",
   "id": "4ab61ae4-bd22-47e3-9efa-ba0cf0138781",
   "metadata": {},
   "source": [
    "## EDA"
   ]
  },
  {
   "cell_type": "code",
   "execution_count": 48,
   "id": "71665c26-8ac5-402e-a592-e979a8e26dc4",
   "metadata": {},
   "outputs": [],
   "source": [
    "from matplotlib import pyplot as plt"
   ]
  },
  {
   "cell_type": "code",
   "execution_count": 36,
   "id": "5b4294f0-f39e-4f9b-a708-e7bb48c7bdff",
   "metadata": {},
   "outputs": [],
   "source": [
    "tags_tbl = construct_tags_table(mhkdr_dataframe)"
   ]
  },
  {
   "cell_type": "code",
   "execution_count": 42,
   "id": "3d5ccbd9-d202-4afa-a525-c5a01f942ec7",
   "metadata": {},
   "outputs": [
    {
     "data": {
      "text/plain": [
       "2544"
      ]
     },
     "execution_count": 42,
     "metadata": {},
     "output_type": "execute_result"
    }
   ],
   "source": [
    "all_tags = list(tags_tbl['tag'].unique())\n",
    "len(all_tags)"
   ]
  },
  {
   "cell_type": "code",
   "execution_count": 51,
   "id": "6856a55a-b0c3-4e0f-bd4a-0344650fcb20",
   "metadata": {},
   "outputs": [],
   "source": [
    "all_tags2 = tags_tbl.groupby(tags_tbl['tag'].tolist(),as_index=False).size().sort_values('size')"
   ]
  },
  {
   "cell_type": "code",
   "execution_count": 52,
   "id": "20ec8291-543f-429f-8b19-d508fd138cfc",
   "metadata": {},
   "outputs": [
    {
     "data": {
      "text/html": [
       "<div>\n",
       "<style scoped>\n",
       "    .dataframe tbody tr th:only-of-type {\n",
       "        vertical-align: middle;\n",
       "    }\n",
       "\n",
       "    .dataframe tbody tr th {\n",
       "        vertical-align: top;\n",
       "    }\n",
       "\n",
       "    .dataframe thead th {\n",
       "        text-align: right;\n",
       "    }\n",
       "</style>\n",
       "<table border=\"1\" class=\"dataframe\">\n",
       "  <thead>\n",
       "    <tr style=\"text-align: right;\">\n",
       "      <th></th>\n",
       "      <th>index</th>\n",
       "      <th>size</th>\n",
       "    </tr>\n",
       "  </thead>\n",
       "  <tbody>\n",
       "    <tr>\n",
       "      <th>0</th>\n",
       "      <td>/kW</td>\n",
       "      <td>1</td>\n",
       "    </tr>\n",
       "    <tr>\n",
       "      <th>1524</th>\n",
       "      <td>heading</td>\n",
       "      <td>1</td>\n",
       "    </tr>\n",
       "    <tr>\n",
       "      <th>1523</th>\n",
       "      <td>hawaii natural energy institute</td>\n",
       "      <td>1</td>\n",
       "    </tr>\n",
       "    <tr>\n",
       "      <th>1521</th>\n",
       "      <td>hardware-in-the-loop</td>\n",
       "      <td>1</td>\n",
       "    </tr>\n",
       "    <tr>\n",
       "      <th>1520</th>\n",
       "      <td>hardware</td>\n",
       "      <td>1</td>\n",
       "    </tr>\n",
       "    <tr>\n",
       "      <th>...</th>\n",
       "      <td>...</td>\n",
       "      <td>...</td>\n",
       "    </tr>\n",
       "    <tr>\n",
       "      <th>1926</th>\n",
       "      <td>power</td>\n",
       "      <td>344</td>\n",
       "    </tr>\n",
       "    <tr>\n",
       "      <th>441</th>\n",
       "      <td>Marine</td>\n",
       "      <td>354</td>\n",
       "    </tr>\n",
       "    <tr>\n",
       "      <th>354</th>\n",
       "      <td>Hydrokinetic</td>\n",
       "      <td>356</td>\n",
       "    </tr>\n",
       "    <tr>\n",
       "      <th>425</th>\n",
       "      <td>MHK</td>\n",
       "      <td>364</td>\n",
       "    </tr>\n",
       "    <tr>\n",
       "      <th>1346</th>\n",
       "      <td>energy</td>\n",
       "      <td>366</td>\n",
       "    </tr>\n",
       "  </tbody>\n",
       "</table>\n",
       "<p>2544 rows × 2 columns</p>\n",
       "</div>"
      ],
      "text/plain": [
       "                                index  size\n",
       "0                                 /kW     1\n",
       "1524                          heading     1\n",
       "1523  hawaii natural energy institute     1\n",
       "1521             hardware-in-the-loop     1\n",
       "1520                         hardware     1\n",
       "...                               ...   ...\n",
       "1926                            power   344\n",
       "441                            Marine   354\n",
       "354                      Hydrokinetic   356\n",
       "425                               MHK   364\n",
       "1346                           energy   366\n",
       "\n",
       "[2544 rows x 2 columns]"
      ]
     },
     "execution_count": 52,
     "metadata": {},
     "output_type": "execute_result"
    }
   ],
   "source": [
    "all_tags2"
   ]
  },
  {
   "cell_type": "code",
   "execution_count": 57,
   "id": "8f408a86-443c-4136-b536-6da74d8a7cd7",
   "metadata": {},
   "outputs": [
    {
     "data": {
      "text/plain": [
       "<BarContainer object of 2544 artists>"
      ]
     },
     "execution_count": 57,
     "metadata": {},
     "output_type": "execute_result"
    },
    {
     "data": {
      "image/png": "[encoded data removed]",
      "text/plain": [
       "<Figure size 640x480 with 1 Axes>"
      ]
     },
     "metadata": {},
     "output_type": "display_data"
    }
   ],
   "source": [
    "plt.bar(all_tags2['index'], all_tags2['size'], label='')"
   ]
  },
  {
   "cell_type": "code",
   "execution_count": 87,
   "id": "1b1a7795-3cfc-4a50-9a2e-24b78ffcd64b",
   "metadata": {},
   "outputs": [],
   "source": [
    "lens = list()\n",
    "lens2 = list()\n",
    "for i in range(0, 2543):\n",
    "    lens.append(len(all_tags2['index'][i]))\n",
    "    lens2.append(all_tags2['index'][i])"
   ]
  },
  {
   "cell_type": "code",
   "execution_count": 88,
   "id": "a512a8f5-39f9-421f-bf48-86ac8f97e250",
   "metadata": {},
   "outputs": [
    {
     "data": {
      "text/plain": [
       "241"
      ]
     },
     "execution_count": 88,
     "metadata": {},
     "output_type": "execute_result"
    }
   ],
   "source": [
    "lens[748]"
   ]
  },
  {
   "cell_type": "code",
   "execution_count": 89,
   "id": "22a0dd7a-503b-435b-acd2-1fbd48d2450d",
   "metadata": {},
   "outputs": [
    {
     "data": {
      "text/plain": [
       "'Search Results Scholarly articles for nonlinear schrodinger equation  for a derivative nonlinear Schrdinger equation - Kaup - Cited by 1114  Cauchy problem for nonlinear Schrdinger equations - Glassey - Cited by 851  equations. II. Numerical'"
      ]
     },
     "execution_count": 89,
     "metadata": {},
     "output_type": "execute_result"
    }
   ],
   "source": [
    "lens2[748]"
   ]
  },
  {
   "cell_type": "code",
   "execution_count": 90,
   "id": "817a2010-3b20-45fe-be51-8678b250beac",
   "metadata": {},
   "outputs": [
    {
     "data": {
      "text/html": [
       "<div>\n",
       "<style scoped>\n",
       "    .dataframe tbody tr th:only-of-type {\n",
       "        vertical-align: middle;\n",
       "    }\n",
       "\n",
       "    .dataframe tbody tr th {\n",
       "        vertical-align: top;\n",
       "    }\n",
       "\n",
       "    .dataframe thead th {\n",
       "        text-align: right;\n",
       "    }\n",
       "</style>\n",
       "<table border=\"1\" class=\"dataframe\">\n",
       "  <thead>\n",
       "    <tr style=\"text-align: right;\">\n",
       "      <th></th>\n",
       "      <th>index</th>\n",
       "      <th>size</th>\n",
       "    </tr>\n",
       "  </thead>\n",
       "  <tbody>\n",
       "    <tr>\n",
       "      <th>748</th>\n",
       "      <td>Search Results Scholarly articles for nonlinea...</td>\n",
       "      <td>1</td>\n",
       "    </tr>\n",
       "  </tbody>\n",
       "</table>\n",
       "</div>"
      ],
      "text/plain": [
       "                                                 index  size\n",
       "748  Search Results Scholarly articles for nonlinea...     1"
      ]
     },
     "execution_count": 90,
     "metadata": {},
     "output_type": "execute_result"
    }
   ],
   "source": [
    "all_tags2[all_tags2['index']=='Search Results Scholarly articles for nonlinear schrodinger equation  for a derivative nonlinear Schrdinger equation - Kaup - Cited by 1114  Cauchy problem for nonlinear Schrdinger equations - Glassey - Cited by 851  equations. II. Numerical']"
   ]
  },
  {
   "cell_type": "code",
   "execution_count": 79,
   "id": "1ccea7c6-16cc-420f-8c6d-0b022a7dc604",
   "metadata": {},
   "outputs": [],
   "source": [
    "a = list(all_tags2['index'])"
   ]
  },
  {
   "cell_type": "code",
   "execution_count": 81,
   "id": "6163727f-58d1-49a0-b4d8-a4686888096e",
   "metadata": {},
   "outputs": [
    {
     "data": {
      "text/plain": [
       "'planning'"
      ]
     },
     "execution_count": 81,
     "metadata": {},
     "output_type": "execute_result"
    }
   ],
   "source": [
    "a[748]"
   ]
  },
  {
   "cell_type": "code",
   "execution_count": null,
   "id": "5996636c-5225-4392-b9c1-a28171711866",
   "metadata": {},
   "outputs": [],
   "source": []
  },
  {
   "cell_type": "code",
   "execution_count": null,
   "id": "a46bab64-cbc2-4c7e-945e-45773f1e765b",
   "metadata": {},
   "outputs": [],
   "source": []
  },
  {
   "cell_type": "code",
   "execution_count": null,
   "id": "75122131-ee4b-4d77-924f-e12325a038e5",
   "metadata": {},
   "outputs": [],
   "source": []
  },
  {
   "cell_type": "code",
   "execution_count": 100,
   "id": "0e91e36f-21e2-4b5b-b092-788f8161832d",
   "metadata": {},
   "outputs": [],
   "source": [
    "all_auth = authors_tbl.groupby(authors_tbl['author'].tolist(),as_index=False).size().sort_values('size')"
   ]
  },
  {
   "cell_type": "code",
   "execution_count": 101,
   "id": "b194e1fd-f091-41b2-8a79-41d364750cd9",
   "metadata": {},
   "outputs": [
    {
     "data": {
      "text/plain": [
       "<BarContainer object of 382 artists>"
      ]
     },
     "execution_count": 101,
     "metadata": {},
     "output_type": "execute_result"
    },
    {
     "data": {
      "image/png": "[encoded data removed]",
      "text/plain": [
       "<Figure size 640x480 with 1 Axes>"
      ]
     },
     "metadata": {},
     "output_type": "display_data"
    }
   ],
   "source": [
    "plt.bar(all_auth['index'], all_auth['size'])"
   ]
  },
  {
   "cell_type": "code",
   "execution_count": 103,
   "id": "e377c2cd-c7cc-450e-9915-bc53f6c50efd",
   "metadata": {},
   "outputs": [
    {
     "data": {
      "text/html": [
       "<div>\n",
       "<style scoped>\n",
       "    .dataframe tbody tr th:only-of-type {\n",
       "        vertical-align: middle;\n",
       "    }\n",
       "\n",
       "    .dataframe tbody tr th {\n",
       "        vertical-align: top;\n",
       "    }\n",
       "\n",
       "    .dataframe thead th {\n",
       "        text-align: right;\n",
       "    }\n",
       "</style>\n",
       "<table border=\"1\" class=\"dataframe\">\n",
       "  <thead>\n",
       "    <tr style=\"text-align: right;\">\n",
       "      <th></th>\n",
       "      <th>index</th>\n",
       "      <th>size</th>\n",
       "    </tr>\n",
       "  </thead>\n",
       "  <tbody>\n",
       "    <tr>\n",
       "      <th>348</th>\n",
       "      <td>Thomas Boerner</td>\n",
       "      <td>19</td>\n",
       "    </tr>\n",
       "    <tr>\n",
       "      <th>250</th>\n",
       "      <td>Mirko Previsic</td>\n",
       "      <td>21</td>\n",
       "    </tr>\n",
       "    <tr>\n",
       "      <th>367</th>\n",
       "      <td>Wesley Scharmen</td>\n",
       "      <td>26</td>\n",
       "    </tr>\n",
       "    <tr>\n",
       "      <th>346</th>\n",
       "      <td>Terry Lettenmaier</td>\n",
       "      <td>26</td>\n",
       "    </tr>\n",
       "    <tr>\n",
       "      <th>153</th>\n",
       "      <td>Jarlath McEntee</td>\n",
       "      <td>29</td>\n",
       "    </tr>\n",
       "  </tbody>\n",
       "</table>\n",
       "</div>"
      ],
      "text/plain": [
       "                 index  size\n",
       "348     Thomas Boerner    19\n",
       "250     Mirko Previsic    21\n",
       "367    Wesley Scharmen    26\n",
       "346  Terry Lettenmaier    26\n",
       "153    Jarlath McEntee    29"
      ]
     },
     "execution_count": 103,
     "metadata": {},
     "output_type": "execute_result"
    }
   ],
   "source": [
    "all_auth.tail(5)"
   ]
  }
 ],
 "metadata": {
  "kernelspec": {
   "display_name": "Python 3 (ipykernel)",
   "language": "python",
   "name": "python3"
  },
  "language_info": {
   "codemirror_mode": {
    "name": "ipython",
    "version": 3
   },
   "file_extension": ".py",
   "mimetype": "text/x-python",
   "name": "python",
   "nbconvert_exporter": "python",
   "pygments_lexer": "ipython3",
   "version": "3.11.8"
  }
 },
 "nbformat": 4,
 "nbformat_minor": 5
}
