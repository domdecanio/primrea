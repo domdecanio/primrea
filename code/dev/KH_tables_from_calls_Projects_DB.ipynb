{
 "cells": [
  {
   "cell_type": "markdown",
   "id": "b3326c73-ee04-408b-8ee7-e1f0480142f2",
   "metadata": {},
   "source": [
    "# Projects Database Development"
   ]
  },
  {
   "cell_type": "markdown",
   "id": "85515249-68fc-42e7-a98a-db8995d7b039",
   "metadata": {},
   "source": [
    "The purpose of this development notebook is to capture the relevant workflow that culminated in the table transformations generated from the ProjectsDB (calls), which are deployed and continually developed in the software package. This notebook will be out of date if the API changes, or significant changes are made to the codebase that deviate from the table decomposition outlined and arrived at by this notebook. It may be helpful, however, as a detailed look at what is possible to draw from the API by doing a git checkout to understand the development cycle of the table composition arrived at here. This may also be a helpful starting palce for additional feature development using the API, and a git checkout to this commit may give a good starting place for additional branches that take development into these features using this development cycle as a starting place."
   ]
  },
  {
   "cell_type": "markdown",
   "id": "62081da6-6f39-45a0-b9a5-dd03a339254e",
   "metadata": {},
   "source": [
    "For this set of relation tables, essentially all of the code can be applied to the 4 tables of this format. Becuase of this, the function below is designed to complete all of these tables, and must be run 4 times, once each with the respective download link for the ask query of interest. It would be __very helpful__ if I record the __link to the ask query interface alongside the variable for the download link__ of each table, so that it is easy to follow the link and interactively find errors in the source data that may be causing downstream failures."
   ]
  },
  {
   "cell_type": "markdown",
   "id": "c699fb69-5589-459c-b124-1f9fd030e354",
   "metadata": {},
   "source": [
    "### Setup"
   ]
  },
  {
   "cell_type": "code",
   "execution_count": 1,
   "id": "e71235a2-d723-4d45-b310-ea344f7d9a32",
   "metadata": {},
   "outputs": [],
   "source": [
    "import requests\n",
    "import pandas as pd"
   ]
  },
  {
   "cell_type": "code",
   "execution_count": 2,
   "id": "939a3e8f-29b2-431c-a175-5746406be4a2",
   "metadata": {},
   "outputs": [],
   "source": [
    "ask_query = 'https://openei.org/wiki/Special:Ask/-5B-5BCategory:PRIMRE-20Projects-20Database-20Devices-5D-5D/-3FName/-3FOrganization/mainlabel=/limit=500/prettyprint=true/format=csv'"
   ]
  },
  {
   "cell_type": "markdown",
   "id": "879199f9-eb4e-4c26-9bdc-758e4b8864de",
   "metadata": {},
   "source": [
    "Test link (100)\n",
    "\n",
    "https://openei.org/w/index.php?title=Special:Ask&offset=0&limit=100&q=%5B%5BCategory%3APRIMRE+Projects+Database+Devices%5D%5D&p=format%3Dbroadtable%2Flink%3Dall%2Fheaders%3Dshow%2Fsearchlabel%3D...-20further-20results%2Fclass%3Dsortable-20wikitable-20smwtable&po=%3FName%0A%3FOrganization%0A&eq=yes"
   ]
  },
  {
   "cell_type": "code",
   "execution_count": 3,
   "id": "85818d67-da41-4434-b0eb-a063163a1cb4",
   "metadata": {},
   "outputs": [],
   "source": [
    "test_query = 'https://openei.org/wiki/Special:Ask/-5B-5BCategory:PRIMRE-20Projects-20Database-20Devices-5D-5D/-3FName/-3FOrganization/mainlabel=/limit=100/format=csv'"
   ]
  },
  {
   "cell_type": "markdown",
   "id": "2ea49369-d549-418a-9ee8-b28eaefca796",
   "metadata": {},
   "source": [
    "### Dev"
   ]
  },
  {
   "cell_type": "code",
   "execution_count": 4,
   "id": "3ee89900-c713-4fec-aecc-e15d81c3dcb2",
   "metadata": {},
   "outputs": [],
   "source": [
    "ask_response = requests.get(test_query)\n",
    "ask_response_str = str(ask_response.text)"
   ]
  },
  {
   "cell_type": "code",
   "execution_count": 5,
   "id": "e314c717-4546-4aa8-9e8a-6863a9616284",
   "metadata": {},
   "outputs": [
    {
     "data": {
      "text/plain": [
       "',Name,Organization\\n\"PRIMRE/Databases/Projects Database/Devices/40 South Energy R115\",\"40 South Energy R115\",\"40 South Energy\"\\n\"PRIMRE/Databases/Projects Database/Devices/650 kW ZJU turbine\",\"650 kW ZJ'"
      ]
     },
     "execution_count": 5,
     "metadata": {},
     "output_type": "execute_result"
    }
   ],
   "source": [
    "ask_response_str[0:200]"
   ]
  },
  {
   "cell_type": "code",
   "execution_count": 6,
   "id": "9a9e67d2-2c89-4028-8b47-b860e305209c",
   "metadata": {},
   "outputs": [],
   "source": [
    "ask_response_str_splt1 = ask_response_str.split('\\n')\n",
    "ask_response_str_splt1_2 = ask_response_str_splt1[1:-1]"
   ]
  },
  {
   "cell_type": "code",
   "execution_count": 7,
   "id": "75a2c1ce-7702-400b-b72e-58a6a9c585ce",
   "metadata": {},
   "outputs": [
    {
     "data": {
      "text/plain": [
       "['\"PRIMRE/Databases/Projects Database/Devices/40 South Energy R115\",\"40 South Energy R115\",\"40 South Energy\"',\n",
       " '\"PRIMRE/Databases/Projects Database/Devices/650 kW ZJU turbine\",\"650 kW ZJU turbine\",\"Zhejiang University,\"',\n",
       " '\"PRIMRE/Databases/Projects Database/Devices/AMOG Wave Energy Converter\",\"AMOG Wave Energy Converter\",\"Australian Marine Offshore Group\"',\n",
       " '\"PRIMRE/Databases/Projects Database/Devices/ANDRITZ Hydro HS1000\",\"ANDRITZ Hydro HS1000\",\"ANDRITZ Hydro\"',\n",
       " '\"PRIMRE/Databases/Projects Database/Devices/ANDRITZ Hydro HS1500\",\"ANDRITZ Hydro HS1500\",\"ANDRITZ Hydro\"']"
      ]
     },
     "execution_count": 7,
     "metadata": {},
     "output_type": "execute_result"
    }
   ],
   "source": [
    "ask_response_str_splt1_2[0:5]"
   ]
  },
  {
   "cell_type": "code",
   "execution_count": null,
   "id": "e23a9c93-2e46-4229-8943-9591de852e96",
   "metadata": {},
   "outputs": [],
   "source": []
  },
  {
   "cell_type": "code",
   "execution_count": null,
   "id": "ad9ce06a-7461-4f77-9900-2660b52f77a2",
   "metadata": {},
   "outputs": [],
   "source": []
  },
  {
   "cell_type": "code",
   "execution_count": null,
   "id": "471ad803-f9dd-4ea1-b6d0-a5f016dd60de",
   "metadata": {},
   "outputs": [],
   "source": []
  },
  {
   "cell_type": "markdown",
   "id": "fb32d102-7d84-4b81-bdfb-3396c914dac3",
   "metadata": {},
   "source": [
    "### Cleaned"
   ]
  },
  {
   "cell_type": "code",
   "execution_count": 8,
   "id": "45e0e0fc-21f1-4a32-b585-15a79e23f856",
   "metadata": {},
   "outputs": [],
   "source": [
    "def compose_ask_query_relational_table(ask_query):\n",
    "    '''\n",
    "    This Function is designed to \n",
    "\n",
    "    '''\n",
    "    # Retrieve data from ask query\n",
    "    ask_response = requests.get(ask_query)\n",
    "    ask_response_str = str(ask_response.text)\n",
    "    \n",
    "    # Clean data\n",
    "    ask_response_str_splt1 = ask_response_str.split('\\n')\n",
    "    ask_response_str_splt1_2 = ask_response_str_splt1[1:-1]\n",
    "    \n",
    "    all_data = list()\n",
    "    for i in range(0, len(ask_response_str_splt1_2)):\n",
    "        row = ask_response_str_splt1_2[i].split(',')\n",
    "        \n",
    "        # Clean funky \"s that are sometimes included in the data.\n",
    "        row_new = list()\n",
    "        for i in range(1, 3):                # Clean only the elements that will form the columns we will use\n",
    "            first_char = row[i][0]\n",
    "            last_char = row[i][-1]\n",
    "            if first_char == '\"':\n",
    "                if last_char == '\"':\n",
    "                    new_str = row[i][1:-1]\n",
    "                else:\n",
    "                    new_str = row[i][1:]\n",
    "            else:\n",
    "                if last_char == '\"':\n",
    "                    new_str = row[i][:-1]\n",
    "                else:\n",
    "                    new_str = row[i]\n",
    "        \n",
    "            row_new.append(new_str)\n",
    "            \n",
    "        all_data.append(row_new[0])\n",
    "        all_data.append(row_new[1])\n",
    "    \n",
    "    device_nam_lst = all_data[0::2]\n",
    "    device_org_lst = all_data[1::2]\n",
    "    \n",
    "    table = pd.DataFrame({'Device Name':device_nam_lst, 'Organization':device_org_lst})\n",
    "\n",
    "    return table"
   ]
  },
  {
   "cell_type": "markdown",
   "id": "4950979b-e38c-4c8c-b20a-fc76bcd763e4",
   "metadata": {},
   "source": [
    "### Cleaned - Tests"
   ]
  },
  {
   "cell_type": "code",
   "execution_count": 12,
   "id": "d558e83e-2791-47ae-ba91-45bd5c497f44",
   "metadata": {},
   "outputs": [
    {
     "data": {
      "text/html": [
       "<div>\n",
       "<style scoped>\n",
       "    .dataframe tbody tr th:only-of-type {\n",
       "        vertical-align: middle;\n",
       "    }\n",
       "\n",
       "    .dataframe tbody tr th {\n",
       "        vertical-align: top;\n",
       "    }\n",
       "\n",
       "    .dataframe thead th {\n",
       "        text-align: right;\n",
       "    }\n",
       "</style>\n",
       "<table border=\"1\" class=\"dataframe\">\n",
       "  <thead>\n",
       "    <tr style=\"text-align: right;\">\n",
       "      <th></th>\n",
       "      <th>Device Name</th>\n",
       "      <th>Organization</th>\n",
       "    </tr>\n",
       "  </thead>\n",
       "  <tbody>\n",
       "    <tr>\n",
       "      <th>0</th>\n",
       "      <td>40 South Energy R115</td>\n",
       "      <td>40 South Energy</td>\n",
       "    </tr>\n",
       "    <tr>\n",
       "      <th>1</th>\n",
       "      <td>650 kW ZJU turbine</td>\n",
       "      <td>Zhejiang University</td>\n",
       "    </tr>\n",
       "    <tr>\n",
       "      <th>2</th>\n",
       "      <td>AMOG Wave Energy Converter</td>\n",
       "      <td>Australian Marine Offshore Group</td>\n",
       "    </tr>\n",
       "    <tr>\n",
       "      <th>3</th>\n",
       "      <td>ANDRITZ Hydro HS1000</td>\n",
       "      <td>ANDRITZ Hydro</td>\n",
       "    </tr>\n",
       "    <tr>\n",
       "      <th>4</th>\n",
       "      <td>ANDRITZ Hydro HS1500</td>\n",
       "      <td>ANDRITZ Hydro</td>\n",
       "    </tr>\n",
       "    <tr>\n",
       "      <th>...</th>\n",
       "      <td>...</td>\n",
       "      <td>...</td>\n",
       "    </tr>\n",
       "    <tr>\n",
       "      <th>80</th>\n",
       "      <td>Energy Island Lilypad</td>\n",
       "      <td>Energy Island Ltd</td>\n",
       "    </tr>\n",
       "    <tr>\n",
       "      <th>81</th>\n",
       "      <td>Energy Island OTEC</td>\n",
       "      <td>Energy Island Ltd</td>\n",
       "    </tr>\n",
       "    <tr>\n",
       "      <th>82</th>\n",
       "      <td>EnviroGen</td>\n",
       "      <td>New Energy Corporation</td>\n",
       "    </tr>\n",
       "    <tr>\n",
       "      <th>83</th>\n",
       "      <td>Etymol WEC</td>\n",
       "      <td>Etymol Ocean Power SpA</td>\n",
       "    </tr>\n",
       "    <tr>\n",
       "      <th>84</th>\n",
       "      <td>Evolution Series</td>\n",
       "      <td>Hydrokinetic Power Generation Systems</td>\n",
       "    </tr>\n",
       "  </tbody>\n",
       "</table>\n",
       "<p>85 rows × 2 columns</p>\n",
       "</div>"
      ],
      "text/plain": [
       "                   Device Name                           Organization\n",
       "0         40 South Energy R115                        40 South Energy\n",
       "1           650 kW ZJU turbine                    Zhejiang University\n",
       "2   AMOG Wave Energy Converter       Australian Marine Offshore Group\n",
       "3         ANDRITZ Hydro HS1000                          ANDRITZ Hydro\n",
       "4         ANDRITZ Hydro HS1500                          ANDRITZ Hydro\n",
       "..                         ...                                    ...\n",
       "80       Energy Island Lilypad                      Energy Island Ltd\n",
       "81          Energy Island OTEC                      Energy Island Ltd\n",
       "82                   EnviroGen                 New Energy Corporation\n",
       "83                  Etymol WEC                 Etymol Ocean Power SpA\n",
       "84            Evolution Series  Hydrokinetic Power Generation Systems\n",
       "\n",
       "[85 rows x 2 columns]"
      ]
     },
     "execution_count": 12,
     "metadata": {},
     "output_type": "execute_result"
    }
   ],
   "source": [
    "compose_ask_query_relational_table(test_query)"
   ]
  },
  {
   "cell_type": "code",
   "execution_count": null,
   "id": "9ae28722-ba83-4184-8fae-4a1d47d996ea",
   "metadata": {},
   "outputs": [],
   "source": []
  },
  {
   "cell_type": "code",
   "execution_count": null,
   "id": "84bc335f-7f90-4574-83aa-854daddab74d",
   "metadata": {},
   "outputs": [],
   "source": []
  }
 ],
 "metadata": {
  "kernelspec": {
   "display_name": "Python 3 (ipykernel)",
   "language": "python",
   "name": "python3"
  },
  "language_info": {
   "codemirror_mode": {
    "name": "ipython",
    "version": 3
   },
   "file_extension": ".py",
   "mimetype": "text/x-python",
   "name": "python",
   "nbconvert_exporter": "python",
   "pygments_lexer": "ipython3",
   "version": "3.11.8"
  }
 },
 "nbformat": 4,
 "nbformat_minor": 5
}
