{
 "cells": [
  {
   "cell_type": "markdown",
   "id": "843cbfc9-0d98-456a-a9b6-ed829d3ccb39",
   "metadata": {},
   "source": [
    "# Doodle\n",
    "The aim of this notebook is to experiment with the random number generator system within Numpy to prepare myself for numerical analyses that may be required on the job, and serve as a test bed to break off my proverbial \"rust,\" getting used to coding again."
   ]
  },
  {
   "cell_type": "code",
   "execution_count": 1,
   "id": "033f74e8-b317-42b5-b366-9614ce67d3b7",
   "metadata": {
    "tags": []
   },
   "outputs": [],
   "source": [
    "import pandas as pd\n",
    "import numpy as np"
   ]
  },
  {
   "cell_type": "code",
   "execution_count": 2,
   "id": "4a6c7ff0-0cfe-48a5-b4c4-4c1cdcea0f81",
   "metadata": {},
   "outputs": [],
   "source": [
    "rng = np.random.default_rng(2132024)"
   ]
  },
  {
   "cell_type": "code",
   "execution_count": 3,
   "id": "026e7a63-a1d1-4c8c-8387-a7b3e8c1b2a6",
   "metadata": {
    "tags": []
   },
   "outputs": [
    {
     "data": {
      "text/plain": [
       "[4, 10, 3, 4, 4, 4, 8, 4, 7, 6]"
      ]
     },
     "execution_count": 3,
     "metadata": {},
     "output_type": "execute_result"
    }
   ],
   "source": [
    "# test!\n",
    "rng.integers(1, 11, 10).tolist()"
   ]
  },
  {
   "cell_type": "markdown",
   "id": "dfa0e3f9-2fac-4ce1-b6ae-77bfbbdb502e",
   "metadata": {},
   "source": [
    "Cards. \n",
    "There are 4 suits and 13 cards in each suit."
   ]
  },
  {
   "cell_type": "code",
   "execution_count": 4,
   "id": "fd6a76a8-feb1-4c3d-88a6-28588f6abeb1",
   "metadata": {},
   "outputs": [],
   "source": [
    "class deck:\n",
    "    \"\"\"\n",
    "    This class creates a deck of cards based on the s\n",
    "    \"\"\"     \n",
    "    def __init__(self, suits, number_vals, face_vals, wildcards):\n",
    "        self.suits = suits\n",
    "        self.number_vals = list(range(number_vals[0], number_vals[1]+1))\n",
    "        self.face_vals = face_vals\n",
    "        wildcard_keys = list(wildcards.keys())\n",
    "        wildcards_bin = list()\n",
    "        for i in wildcard_keys:\n",
    "            for j in range(0,wildcards[i]):\n",
    "                wildcards_bin.append(i)\n",
    "        self.wildcards = wildcards_bin\n",
    "        self.cards = []\n",
    "    \n",
    "        # Generating Deck\n",
    "        vals_in_suit = self.number_vals + self.face_vals\n",
    "        for k in suits:\n",
    "            for l in vals_in_suit:\n",
    "                self.cards.append((k, l))\n",
    "        for m in self.wildcards:\n",
    "            self.cards.append((m,))\n",
    "\n",
    "    def shuffle(self):\n",
    "        rng.shuffle(self.cards)"
   ]
  },
  {
   "cell_type": "code",
   "execution_count": 5,
   "id": "fee17bf2-d6c0-46b0-a5fe-4669a83d490b",
   "metadata": {
    "tags": []
   },
   "outputs": [],
   "source": [
    "suits = ['Clubs', 'Diamonds', 'Hearts', 'Spades']\n",
    "number_card_range = [2, 10]\n",
    "face_cards = ['Jack', 'Queen', 'King', 'Ace']\n",
    "wild_cards = {'Joker': 2, 'Trump': 1}"
   ]
  },
  {
   "cell_type": "code",
   "execution_count": 11,
   "id": "4bb453d3-16c9-4e69-a52d-a14cdccabdb7",
   "metadata": {
    "tags": []
   },
   "outputs": [],
   "source": [
    "x = deck(suits, number_card_range, face_cards, wild_cards)"
   ]
  },
  {
   "cell_type": "code",
   "execution_count": 13,
   "id": "90b54cb1-be94-4c33-bc46-f600b991bb83",
   "metadata": {
    "tags": []
   },
   "outputs": [],
   "source": [
    "x.shuffle()"
   ]
  },
  {
   "cell_type": "code",
   "execution_count": 16,
   "id": "98a23cf2-724c-4bc4-bd2a-47f0989374e0",
   "metadata": {},
   "outputs": [
    {
     "data": {
      "text/plain": [
       "[('Spades', 7),\n",
       " ('Diamonds', 4),\n",
       " ('Clubs', 'Ace'),\n",
       " ('Diamonds', 10),\n",
       " ('Diamonds', 7)]"
      ]
     },
     "execution_count": 16,
     "metadata": {},
     "output_type": "execute_result"
    }
   ],
   "source": [
    "x.cards[:5]"
   ]
  },
  {
   "cell_type": "markdown",
   "id": "1ad588ec-c6e1-4975-a52c-0f5ba8ff29e9",
   "metadata": {},
   "source": [
    "## Solitaire Deal"
   ]
  },
  {
   "cell_type": "code",
   "execution_count": 8,
   "id": "73a6f7e0-5afb-4340-a0ec-41b1411b31b4",
   "metadata": {
    "tags": []
   },
   "outputs": [
    {
     "data": {
      "text/html": [
       "<div>\n",
       "<style scoped>\n",
       "    .dataframe tbody tr th:only-of-type {\n",
       "        vertical-align: middle;\n",
       "    }\n",
       "\n",
       "    .dataframe tbody tr th {\n",
       "        vertical-align: top;\n",
       "    }\n",
       "\n",
       "    .dataframe thead th {\n",
       "        text-align: right;\n",
       "    }\n",
       "</style>\n",
       "<table border=\"1\" class=\"dataframe\">\n",
       "  <thead>\n",
       "    <tr style=\"text-align: right;\">\n",
       "      <th></th>\n",
       "      <th>first</th>\n",
       "      <th>Second</th>\n",
       "      <th>Third</th>\n",
       "    </tr>\n",
       "  </thead>\n",
       "  <tbody>\n",
       "    <tr>\n",
       "      <th>0</th>\n",
       "      <td>Queen</td>\n",
       "      <td>1</td>\n",
       "      <td>King</td>\n",
       "    </tr>\n",
       "    <tr>\n",
       "      <th>1</th>\n",
       "      <td>.</td>\n",
       "      <td>10</td>\n",
       "      <td>3</td>\n",
       "    </tr>\n",
       "    <tr>\n",
       "      <th>2</th>\n",
       "      <td>.</td>\n",
       "      <td>.</td>\n",
       "      <td>Jack</td>\n",
       "    </tr>\n",
       "  </tbody>\n",
       "</table>\n",
       "</div>"
      ],
      "text/plain": [
       "   first Second Third\n",
       "0  Queen      1  King\n",
       "1      .     10     3\n",
       "2      .      .  Jack"
      ]
     },
     "execution_count": 8,
     "metadata": {},
     "output_type": "execute_result"
    }
   ],
   "source": [
    "pd.DataFrame.from_dict({'first': ['Queen', '.', '.'], 'Second': ['1', '10', '.'], 'Third': ['King', '3', 'Jack']})"
   ]
  },
  {
   "cell_type": "code",
   "execution_count": 17,
   "id": "09ad29d7-5b84-4d01-b73f-a08f7982adae",
   "metadata": {},
   "outputs": [],
   "source": [
    "class solitaire_hand:\n",
    "    '''\n",
    "    \n",
    "    '''\n",
    "    def __init__(self):\n",
    "        self.interface = f\"{x0} {x1} {x2} {x3} {x4} {x5} {x6} {x7}\"\n",
    "    \n",
    "    def see_hand():\n",
    "        print(self.interface)"
   ]
  },
  {
   "cell_type": "code",
   "execution_count": 18,
   "id": "43abf248-f334-419c-ae3f-c0c364fae3a9",
   "metadata": {
    "tags": []
   },
   "outputs": [
    {
     "ename": "NameError",
     "evalue": "name 'x0' is not defined",
     "output_type": "error",
     "traceback": [
      "\u001b[1;31m---------------------------------------------------------------------------\u001b[0m",
      "\u001b[1;31mNameError\u001b[0m                                 Traceback (most recent call last)",
      "Cell \u001b[1;32mIn[18], line 1\u001b[0m\n\u001b[1;32m----> 1\u001b[0m y \u001b[38;5;241m=\u001b[39m solitaire_hand()\n",
      "Cell \u001b[1;32mIn[17], line 6\u001b[0m, in \u001b[0;36msolitaire_hand.__init__\u001b[1;34m(self)\u001b[0m\n\u001b[0;32m      5\u001b[0m \u001b[38;5;28;01mdef\u001b[39;00m \u001b[38;5;21m__init__\u001b[39m(\u001b[38;5;28mself\u001b[39m):\n\u001b[1;32m----> 6\u001b[0m     \u001b[38;5;28mself\u001b[39m\u001b[38;5;241m.\u001b[39minterface \u001b[38;5;241m=\u001b[39m \u001b[38;5;124mf\u001b[39m\u001b[38;5;124m\"\u001b[39m\u001b[38;5;132;01m{\u001b[39;00mx0\u001b[38;5;132;01m}\u001b[39;00m\u001b[38;5;124m \u001b[39m\u001b[38;5;132;01m{\u001b[39;00mx1\u001b[38;5;132;01m}\u001b[39;00m\u001b[38;5;124m \u001b[39m\u001b[38;5;132;01m{\u001b[39;00mx2\u001b[38;5;132;01m}\u001b[39;00m\u001b[38;5;124m \u001b[39m\u001b[38;5;132;01m{\u001b[39;00mx3\u001b[38;5;132;01m}\u001b[39;00m\u001b[38;5;124m \u001b[39m\u001b[38;5;132;01m{\u001b[39;00mx4\u001b[38;5;132;01m}\u001b[39;00m\u001b[38;5;124m \u001b[39m\u001b[38;5;132;01m{\u001b[39;00mx5\u001b[38;5;132;01m}\u001b[39;00m\u001b[38;5;124m \u001b[39m\u001b[38;5;132;01m{\u001b[39;00mx6\u001b[38;5;132;01m}\u001b[39;00m\u001b[38;5;124m \u001b[39m\u001b[38;5;132;01m{\u001b[39;00mx7\u001b[38;5;132;01m}\u001b[39;00m\u001b[38;5;124m\"\u001b[39m\n",
      "\u001b[1;31mNameError\u001b[0m: name 'x0' is not defined"
     ]
    }
   ],
   "source": [
    "y = solitaire_hand()"
   ]
  }
 ],
 "metadata": {
  "kernelspec": {
   "display_name": "Python 3 (ipykernel)",
   "language": "python",
   "name": "python3"
  },
  "language_info": {
   "codemirror_mode": {
    "name": "ipython",
    "version": 3
   },
   "file_extension": ".py",
   "mimetype": "text/x-python",
   "name": "python",
   "nbconvert_exporter": "python",
   "pygments_lexer": "ipython3",
   "version": "3.11.3"
  }
 },
 "nbformat": 4,
 "nbformat_minor": 5
}
