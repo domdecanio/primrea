{
 "cells": [
  {
   "cell_type": "code",
   "execution_count": 3,
   "id": "b19b4571-0d02-4e15-b91e-4a2e394c8337",
   "metadata": {},
   "outputs": [],
   "source": [
    "from mediawiki import MediaWiki"
   ]
  },
  {
   "cell_type": "code",
   "execution_count": 3,
   "id": "4ebbe611-f368-4c73-9688-40c4d5589778",
   "metadata": {},
   "outputs": [],
   "source": [
    "wikipedia = MediaWiki()"
   ]
  },
  {
   "cell_type": "code",
   "execution_count": null,
   "id": "18f62b5c-7b1e-43d4-a1f7-fad47821e5dd",
   "metadata": {},
   "outputs": [],
   "source": []
  },
  {
   "cell_type": "code",
   "execution_count": 5,
   "id": "23639d43-cba1-4ac2-90c3-278f4e30e8be",
   "metadata": {},
   "outputs": [
    {
     "name": "stdout",
     "output_type": "stream",
     "text": [
      "python-mediawiki/VERSION-0.7.4/(https://github.com/barrust/mediawiki)/BOT\n"
     ]
    }
   ],
   "source": [
    "print(wikipedia.user_agent)"
   ]
  },
  {
   "cell_type": "code",
   "execution_count": 8,
   "id": "d8be4509-7d62-48fa-8e60-23835e59adfd",
   "metadata": {},
   "outputs": [],
   "source": [
    "wikipedia.user_agent = 'Mozilla/5.0 (Windows NT 10.0; Win64; x64) AppleWebKit/537.36 (KHTML, like Gecko) Chrome/123.0.0.0 Safari/537.36'"
   ]
  },
  {
   "cell_type": "code",
   "execution_count": 9,
   "id": "a427b10b-7b83-48fc-86fa-a7d9b14dc94b",
   "metadata": {},
   "outputs": [
    {
     "name": "stdout",
     "output_type": "stream",
     "text": [
      "Mozilla/5.0 (Windows NT 10.0; Win64; x64) AppleWebKit/537.36 (KHTML, like Gecko) Chrome/123.0.0.0 Safari/537.36\n"
     ]
    }
   ],
   "source": [
    "print(wikipedia.user_agent)"
   ]
  },
  {
   "cell_type": "code",
   "execution_count": null,
   "id": "e54c1ce9-b213-413c-91db-bc48421ee0f8",
   "metadata": {},
   "outputs": [],
   "source": []
  },
  {
   "cell_type": "code",
   "execution_count": 13,
   "id": "37c483f0-9414-4eb7-9cfd-a9bb455ff087",
   "metadata": {},
   "outputs": [
    {
     "name": "stdout",
     "output_type": "stream",
     "text": [
      "<mediawiki.mediawiki.MediaWiki object at 0x00000212605CB6B0>\n"
     ]
    }
   ],
   "source": [
    "print(MediaWiki())\n",
    "#help(MediaWiki())"
   ]
  },
  {
   "cell_type": "code",
   "execution_count": 14,
   "id": "52bb59db-d7b2-44bf-88e0-1ba92d5669da",
   "metadata": {},
   "outputs": [
    {
     "data": {
      "text/plain": [
       "['Zeta (river)', 'Sodium azide', \"Devil's Den-Ewing Mountain\"]"
      ]
     },
     "execution_count": 14,
     "metadata": {},
     "output_type": "execute_result"
    }
   ],
   "source": [
    "wikipedia.random(pages=3)"
   ]
  },
  {
   "cell_type": "code",
   "execution_count": 15,
   "id": "7c56f208-41d2-456f-a3a8-00167c7f2f5d",
   "metadata": {},
   "outputs": [],
   "source": [
    "page = wikipedia.page('Zeta (river)')"
   ]
  },
  {
   "cell_type": "code",
   "execution_count": 16,
   "id": "506e8d83-8b01-440e-92aa-6106981e0453",
   "metadata": {},
   "outputs": [
    {
     "data": {
      "text/plain": [
       "'Zeta (river)'"
      ]
     },
     "execution_count": 16,
     "metadata": {},
     "output_type": "execute_result"
    }
   ],
   "source": [
    "page.title"
   ]
  },
  {
   "cell_type": "code",
   "execution_count": 17,
   "id": "9c3f75d1-2808-4290-b437-a5f6922efbf9",
   "metadata": {},
   "outputs": [
    {
     "data": {
      "text/plain": [
       "'261629'"
      ]
     },
     "execution_count": 17,
     "metadata": {},
     "output_type": "execute_result"
    }
   ],
   "source": [
    "page.pageid"
   ]
  },
  {
   "cell_type": "raw",
   "id": "aab6778b-96ad-41d1-909f-48ffd30fe4a8",
   "metadata": {},
   "source": [
    "page.links"
   ]
  },
  {
   "cell_type": "raw",
   "id": "357588c8-ce01-4e46-b581-79f675380cbe",
   "metadata": {},
   "source": [
    "help(page.links)"
   ]
  },
  {
   "cell_type": "code",
   "execution_count": 30,
   "id": "583f85cd-a593-43f0-a62b-ed5e301b4285",
   "metadata": {
    "scrolled": true
   },
   "outputs": [
    {
     "data": {
      "text/plain": [
       "['http://monstat.org/userfiles/file/publikacije/godisnjak%202017/1.pdf',\n",
       " 'https://geohack.toolforge.org/geohack.php?pagename=Zeta_(river)&params=42_27_52_N_19_15_40_E_region:ME_type:river_source:dewiki']"
      ]
     },
     "execution_count": 30,
     "metadata": {},
     "output_type": "execute_result"
    }
   ],
   "source": [
    "page.references"
   ]
  },
  {
   "cell_type": "code",
   "execution_count": null,
   "id": "54a4ee6c-006d-4058-9a16-c1a96525025a",
   "metadata": {},
   "outputs": [],
   "source": []
  },
  {
   "cell_type": "code",
   "execution_count": null,
   "id": "73c0561c-0072-4846-84e0-370422402978",
   "metadata": {},
   "outputs": [],
   "source": []
  },
  {
   "cell_type": "code",
   "execution_count": null,
   "id": "6648677f-5232-430e-82de-9f2e03dead49",
   "metadata": {},
   "outputs": [],
   "source": []
  },
  {
   "cell_type": "code",
   "execution_count": null,
   "id": "b2de5ad4-e301-4c58-87c9-b3e23ae4aa23",
   "metadata": {},
   "outputs": [],
   "source": []
  },
  {
   "cell_type": "code",
   "execution_count": 43,
   "id": "c80bef87-3446-4151-8374-c57a5e37b531",
   "metadata": {},
   "outputs": [
    {
     "name": "stdout",
     "output_type": "stream",
     "text": [
      "Help on function login in module mediawiki.mediawiki:\n",
      "\n",
      "login(self, username: str, password: str, strict: bool = True) -> bool\n",
      "    Login as specified user\n",
      "    \n",
      "    Args:\n",
      "        username (str): The username to log in with\n",
      "        password (str): The password for the user\n",
      "        strict (bool): `True` to throw an error on failure\n",
      "    Returns:\n",
      "        bool: `True` if successfully logged in; `False` otherwise\n",
      "    Raises:\n",
      "        :py:func:`mediawiki.exceptions.MediaWikiLoginError`: if unable to login\n",
      "    \n",
      "    Note:\n",
      "        Per the MediaWiki API, one should use the `bot password`;                 see https://www.mediawiki.org/wiki/API:Login for more information\n",
      "\n"
     ]
    }
   ],
   "source": [
    "help(MediaWiki.login)"
   ]
  },
  {
   "cell_type": "raw",
   "id": "89ebc5f8-2849-4ea3-8422-81df331c07fe",
   "metadata": {},
   "source": [
    "help(MediaWiki)"
   ]
  },
  {
   "cell_type": "markdown",
   "id": "4d5180aa-6c18-429a-9d4d-2c2271dbfa6d",
   "metadata": {},
   "source": [
    "### Tethys Engineering"
   ]
  },
  {
   "cell_type": "code",
   "execution_count": 37,
   "id": "b45b52dd-aab5-4f6c-9a85-e44f58070a04",
   "metadata": {},
   "outputs": [],
   "source": [
    "tethys_engineering_url = 'https://tethys-engineering.pnnl.gov'\n",
    "tethys_engineering_username = 'dominick.c.decanio@pnnl.gov'\n",
    "tethys_engineering_password = 'pQ84$mC93#'"
   ]
  },
  {
   "cell_type": "code",
   "execution_count": null,
   "id": "bf4fd48b-d201-4c0d-ba6f-5a0e4b040792",
   "metadata": {},
   "outputs": [],
   "source": [
    "Tethys_Engineering = MediaWiki(url=tethys_engineering_url, username=tethys_engineering_username, password=tethys_engineering_password)\n",
    "#Tethys_Engineering = MediaWiki(url=tethys_engineering_url)"
   ]
  },
  {
   "cell_type": "code",
   "execution_count": null,
   "id": "b52bbbad-08bf-4625-9871-56807560f912",
   "metadata": {},
   "outputs": [],
   "source": []
  },
  {
   "cell_type": "code",
   "execution_count": null,
   "id": "ad922b77-490f-4e92-98a8-81b6c509ef7a",
   "metadata": {},
   "outputs": [],
   "source": []
  },
  {
   "cell_type": "code",
   "execution_count": 1,
   "id": "1dff33e8-a8b0-4147-8390-b29b35c0f5b2",
   "metadata": {},
   "outputs": [],
   "source": [
    "import requests\n",
    "import json"
   ]
  },
  {
   "cell_type": "code",
   "execution_count": 2,
   "id": "aa23e5e5-76fb-423e-8e75-0102b85c3010",
   "metadata": {},
   "outputs": [],
   "source": [
    "S = requests.Session()"
   ]
  },
  {
   "cell_type": "code",
   "execution_count": 4,
   "id": "c56e0d74-fab8-4633-8389-ea79cc2b09c8",
   "metadata": {},
   "outputs": [],
   "source": [
    "te_url = 'https://tethys-engineering.pnnl.gov'"
   ]
  },
  {
   "cell_type": "code",
   "execution_count": 5,
   "id": "66303689-1235-4556-90f8-98091f3d1296",
   "metadata": {},
   "outputs": [],
   "source": [
    "# Retrieve Login Token first\n",
    "Params_0 = {\n",
    "    'action':\"query\",\n",
    "    'meta':\"tokens\",\n",
    "    'type':\"login\",\n",
    "    'format':\"json\"\n",
    "}"
   ]
  },
  {
   "cell_type": "code",
   "execution_count": 6,
   "id": "dc753c0b-51b3-49f0-816f-c39a81fdbe0f",
   "metadata": {},
   "outputs": [],
   "source": [
    "R = S.get(url=te_url, params=Params_0)"
   ]
  },
  {
   "cell_type": "code",
   "execution_count": null,
   "id": "7ea66ce9-75a4-4470-9100-b685749cf8c7",
   "metadata": {},
   "outputs": [],
   "source": []
  },
  {
   "cell_type": "code",
   "execution_count": 9,
   "id": "d2cf9035-d9ff-446f-9e6e-fb1c5bebd673",
   "metadata": {},
   "outputs": [],
   "source": [
    "#type(R)\n",
    "#json.load(R)"
   ]
  },
  {
   "cell_type": "code",
   "execution_count": 11,
   "id": "eab0a862-ce33-40a9-a52f-d98bd77440fb",
   "metadata": {},
   "outputs": [],
   "source": [
    "#Data = R.json()"
   ]
  },
  {
   "cell_type": "code",
   "execution_count": 17,
   "id": "e602445d-97e8-424e-a14c-c143858c5106",
   "metadata": {},
   "outputs": [
    {
     "data": {
      "text/plain": [
       "{'Date': 'Mon, 08 Apr 2024 18:27:02 GMT', 'Cache-Control': 'must-revalidate, no-cache, private', 'X-UA-Compatible': 'IE=edge', 'Content-language': 'en', 'Expires': 'Sun, 19 Nov 1978 05:00:00 GMT', 'Strict-Transport-Security': 'max-age=31536000', 'Keep-Alive': 'timeout=5, max=100', 'Connection': 'Keep-Alive', 'Content-Type': 'text/html; charset=UTF-8', 'X-Content-Type-Options': 'nosniff', 'X-Xss-Protection': '1; mode=block', 'X-Permitted-Cross-Domain-Policies': 'none', 'Transfer-Encoding': 'chunked'}"
      ]
     },
     "execution_count": 17,
     "metadata": {},
     "output_type": "execute_result"
    }
   ],
   "source": [
    "R.headers"
   ]
  },
  {
   "cell_type": "raw",
   "id": "513dc915-297c-4a8c-bd18-4f3dd8db01e0",
   "metadata": {},
   "source": [
    "json.loads(R)"
   ]
  },
  {
   "cell_type": "code",
   "execution_count": null,
   "id": "3dd331fb-8fac-4a37-a974-cb14811205e6",
   "metadata": {},
   "outputs": [],
   "source": []
  },
  {
   "cell_type": "raw",
   "id": "e7820904-6e83-4852-a54d-91e4695494af",
   "metadata": {},
   "source": [
    "ex = R.text\n",
    "json.loads(ex)"
   ]
  },
  {
   "cell_type": "code",
   "execution_count": null,
   "id": "cb163834-7cff-4814-9f71-52bcf059f4b5",
   "metadata": {},
   "outputs": [],
   "source": []
  },
  {
   "cell_type": "raw",
   "id": "1cf78638-c2e3-4539-81d9-118929a34394",
   "metadata": {},
   "source": [
    "help(requests.Session())"
   ]
  },
  {
   "cell_type": "code",
   "execution_count": null,
   "id": "782e1f87-a329-4691-9a0c-e2fdc3ab02e8",
   "metadata": {},
   "outputs": [],
   "source": []
  },
  {
   "cell_type": "code",
   "execution_count": null,
   "id": "402a4e23-50db-43c3-ad54-f04c73fa7f79",
   "metadata": {},
   "outputs": [],
   "source": []
  },
  {
   "cell_type": "code",
   "execution_count": null,
   "id": "47cfcdf2-316f-485e-9033-8c6981022120",
   "metadata": {},
   "outputs": [],
   "source": []
  },
  {
   "cell_type": "code",
   "execution_count": null,
   "id": "0966059b-6e01-4b30-ab75-cd7b648f87bd",
   "metadata": {},
   "outputs": [],
   "source": []
  },
  {
   "cell_type": "markdown",
   "id": "6dc78102-92b4-474c-a859-4cb4e07df12e",
   "metadata": {},
   "source": [
    "https://www.mediawiki.org/wiki/API:Login#Python\n"
   ]
  },
  {
   "cell_type": "code",
   "execution_count": null,
   "id": "a11b96c1-33cb-42df-81cf-0865555de20b",
   "metadata": {},
   "outputs": [],
   "source": []
  },
  {
   "cell_type": "code",
   "execution_count": null,
   "id": "743318da-3a90-483f-bff2-4266b0579647",
   "metadata": {},
   "outputs": [],
   "source": []
  },
  {
   "cell_type": "code",
   "execution_count": null,
   "id": "901360e6-6442-4fcd-9d65-351c2bb3ed51",
   "metadata": {},
   "outputs": [],
   "source": []
  },
  {
   "cell_type": "code",
   "execution_count": null,
   "id": "ec93f2f6-7c34-408f-8f38-692aac2ac483",
   "metadata": {},
   "outputs": [],
   "source": []
  },
  {
   "cell_type": "code",
   "execution_count": null,
   "id": "f3ba4201-b7ed-4962-95fe-b5a1e131bc3e",
   "metadata": {},
   "outputs": [],
   "source": []
  },
  {
   "cell_type": "code",
   "execution_count": null,
   "id": "320c9c04-06e5-4df2-a5d1-22ad9490e4fe",
   "metadata": {},
   "outputs": [],
   "source": []
  },
  {
   "cell_type": "markdown",
   "id": "9ae33a76-b623-44a8-bb50-89988d24793c",
   "metadata": {},
   "source": [
    "### PRIMRE"
   ]
  },
  {
   "cell_type": "code",
   "execution_count": 1,
   "id": "c682f6c9-e97b-42b4-a7c5-1ee65c951945",
   "metadata": {},
   "outputs": [],
   "source": [
    "PRIMRE_url = 'https://openei.org/wiki/PRIMRE'\n",
    "#tethys_engineering_username = 'dominick.c.decanio@pnnl.gov'\n",
    "#tethys_engineering_password = 'pQ84$mC93#'"
   ]
  },
  {
   "cell_type": "code",
   "execution_count": 2,
   "id": "ca714b70-a46e-4326-9a02-62ff016adc08",
   "metadata": {},
   "outputs": [],
   "source": [
    "#Tethys_Engineering = MediaWiki(url=tethys_engineering_url, username=tethys_engineering_username, password=tethys_engineering_password)\n",
    "#Tethys_Engineering = MediaWiki(url=PRIMRE_url)"
   ]
  },
  {
   "cell_type": "code",
   "execution_count": 3,
   "id": "08db8579-3d68-45bf-ad2b-d92722005eac",
   "metadata": {},
   "outputs": [],
   "source": [
    "import requests\n",
    "import json"
   ]
  },
  {
   "cell_type": "code",
   "execution_count": 4,
   "id": "aa6c57f9-e98e-4ae0-8e22-c3568ce87096",
   "metadata": {},
   "outputs": [],
   "source": [
    "S = requests.Session()"
   ]
  },
  {
   "cell_type": "code",
   "execution_count": 5,
   "id": "dd136655-fef9-4c8d-ab2a-2991b0688673",
   "metadata": {},
   "outputs": [],
   "source": [
    "# Retrieve Login Token first\n",
    "Params_0 = {\n",
    "    'action':\"query\",\n",
    "    'meta':\"tokens\",\n",
    "    'type':\"login\",\n",
    "    'format':\"json\"\n",
    "}"
   ]
  },
  {
   "cell_type": "code",
   "execution_count": 8,
   "id": "fa5bab4b-c482-446b-9f31-790dc77b39ea",
   "metadata": {},
   "outputs": [],
   "source": [
    "#R = S.get(url=PRIMRE_url, params=Params_0)\n",
    "R = S.get(url=PRIMRE_url)"
   ]
  },
  {
   "cell_type": "code",
   "execution_count": 9,
   "id": "efc749be-9a70-4a8e-b337-137726f57a40",
   "metadata": {},
   "outputs": [
    {
     "data": {
      "text/plain": [
       "<Response [200]>"
      ]
     },
     "execution_count": 9,
     "metadata": {},
     "output_type": "execute_result"
    }
   ],
   "source": [
    "R"
   ]
  },
  {
   "cell_type": "code",
   "execution_count": 9,
   "id": "760c5a57-cf9d-40c1-b863-cff170460460",
   "metadata": {},
   "outputs": [],
   "source": [
    "#type(R)\n",
    "#json.load(R)"
   ]
  },
  {
   "cell_type": "code",
   "execution_count": null,
   "id": "d2f32c8c-88dd-4b5a-8fed-db507c1d22da",
   "metadata": {},
   "outputs": [],
   "source": []
  },
  {
   "cell_type": "code",
   "execution_count": null,
   "id": "dfd7e612-3ab8-4d22-9b43-ce7fb04c73c7",
   "metadata": {},
   "outputs": [],
   "source": []
  },
  {
   "cell_type": "code",
   "execution_count": 11,
   "id": "391320b4-9aa4-44db-9ec3-1a678db5d4ad",
   "metadata": {},
   "outputs": [],
   "source": [
    "from mediawiki import MediaWiki"
   ]
  },
  {
   "cell_type": "code",
   "execution_count": 12,
   "id": "9bbf7b03-529c-4ac9-a661-1f204ba6e968",
   "metadata": {},
   "outputs": [
    {
     "ename": "MediaWikiAPIURLError",
     "evalue": "https://openei.org/wiki/PRIMRE is not a valid MediaWiki API URL",
     "output_type": "error",
     "traceback": [
      "\u001b[1;31m---------------------------------------------------------------------------\u001b[0m",
      "\u001b[1;31mMediaWikiException\u001b[0m                        Traceback (most recent call last)",
      "File \u001b[1;32m~\\AppData\\Roaming\\Python\\Python311\\site-packages\\mediawiki\\mediawiki.py:130\u001b[0m, in \u001b[0;36mMediaWiki.__init__\u001b[1;34m(self, url, lang, timeout, rate_limit, rate_limit_wait, cat_prefix, user_agent, username, password, proxies, verify_ssl)\u001b[0m\n\u001b[0;32m    129\u001b[0m \u001b[38;5;28;01mtry\u001b[39;00m:\n\u001b[1;32m--> 130\u001b[0m     \u001b[38;5;28mself\u001b[39m\u001b[38;5;241m.\u001b[39m_get_site_info()\n\u001b[0;32m    131\u001b[0m \u001b[38;5;28;01mexcept\u001b[39;00m MediaWikiException \u001b[38;5;28;01mas\u001b[39;00m exc:\n",
      "File \u001b[1;32m~\\AppData\\Roaming\\Python\\Python311\\site-packages\\mediawiki\\mediawiki.py:900\u001b[0m, in \u001b[0;36mMediaWiki._get_site_info\u001b[1;34m(self)\u001b[0m\n\u001b[0;32m    899\u001b[0m \u001b[38;5;28;01mif\u001b[39;00m query \u001b[38;5;129;01mis\u001b[39;00m \u001b[38;5;28;01mNone\u001b[39;00m \u001b[38;5;129;01mor\u001b[39;00m query\u001b[38;5;241m.\u001b[39mget(\u001b[38;5;124m\"\u001b[39m\u001b[38;5;124mgeneral\u001b[39m\u001b[38;5;124m\"\u001b[39m, \u001b[38;5;28;01mNone\u001b[39;00m) \u001b[38;5;129;01mis\u001b[39;00m \u001b[38;5;28;01mNone\u001b[39;00m:\n\u001b[1;32m--> 900\u001b[0m     \u001b[38;5;28;01mraise\u001b[39;00m MediaWikiException(\u001b[38;5;124m\"\u001b[39m\u001b[38;5;124mMissing query in response\u001b[39m\u001b[38;5;124m\"\u001b[39m)\n\u001b[0;32m    902\u001b[0m gen \u001b[38;5;241m=\u001b[39m query\u001b[38;5;241m.\u001b[39mget(\u001b[38;5;124m\"\u001b[39m\u001b[38;5;124mgeneral\u001b[39m\u001b[38;5;124m\"\u001b[39m, \u001b[38;5;28;01mNone\u001b[39;00m)\n",
      "\u001b[1;31mMediaWikiException\u001b[0m: An unknown error occurred: \"Missing query in response\". Please report it on GitHub!",
      "\nThe above exception was the direct cause of the following exception:\n",
      "\u001b[1;31mMediaWikiAPIURLError\u001b[0m                      Traceback (most recent call last)",
      "Cell \u001b[1;32mIn[12], line 1\u001b[0m\n\u001b[1;32m----> 1\u001b[0m primre \u001b[38;5;241m=\u001b[39m MediaWiki(PRIMRE_url)\n",
      "File \u001b[1;32m~\\AppData\\Roaming\\Python\\Python311\\site-packages\\mediawiki\\mediawiki.py:132\u001b[0m, in \u001b[0;36mMediaWiki.__init__\u001b[1;34m(self, url, lang, timeout, rate_limit, rate_limit_wait, cat_prefix, user_agent, username, password, proxies, verify_ssl)\u001b[0m\n\u001b[0;32m    130\u001b[0m     \u001b[38;5;28mself\u001b[39m\u001b[38;5;241m.\u001b[39m_get_site_info()\n\u001b[0;32m    131\u001b[0m \u001b[38;5;28;01mexcept\u001b[39;00m MediaWikiException \u001b[38;5;28;01mas\u001b[39;00m exc:\n\u001b[1;32m--> 132\u001b[0m     \u001b[38;5;28;01mraise\u001b[39;00m MediaWikiAPIURLError(url) \u001b[38;5;28;01mfrom\u001b[39;00m \u001b[38;5;21;01mexc\u001b[39;00m\n",
      "\u001b[1;31mMediaWikiAPIURLError\u001b[0m: https://openei.org/wiki/PRIMRE is not a valid MediaWiki API URL"
     ]
    }
   ],
   "source": [
    "primre = MediaWiki(PRIMRE_url)"
   ]
  },
  {
   "cell_type": "code",
   "execution_count": null,
   "id": "a6bcda96-d13c-4878-ac7b-03aec503c1bb",
   "metadata": {},
   "outputs": [],
   "source": []
  },
  {
   "cell_type": "code",
   "execution_count": null,
   "id": "2d720259-08c2-4946-a535-03d30f4c6da5",
   "metadata": {},
   "outputs": [],
   "source": []
  }
 ],
 "metadata": {
  "kernelspec": {
   "display_name": "Python 3 (ipykernel)",
   "language": "python",
   "name": "python3"
  },
  "language_info": {
   "codemirror_mode": {
    "name": "ipython",
    "version": 3
   },
   "file_extension": ".py",
   "mimetype": "text/x-python",
   "name": "python",
   "nbconvert_exporter": "python",
   "pygments_lexer": "ipython3",
   "version": "3.11.8"
  }
 },
 "nbformat": 4,
 "nbformat_minor": 5
}
