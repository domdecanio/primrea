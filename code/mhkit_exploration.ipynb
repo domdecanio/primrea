{
 "cells": [
  {
   "cell_type": "code",
   "execution_count": 2,
   "id": "b82f487b-1cff-4886-bf89-b7a241314907",
   "metadata": {},
   "outputs": [],
   "source": [
    "import mhkit"
   ]
  },
  {
   "cell_type": "code",
   "execution_count": 3,
   "id": "b84edf98-3804-47c9-b9e1-aa84ae1cb732",
   "metadata": {},
   "outputs": [
    {
     "name": "stdout",
     "output_type": "stream",
     "text": [
      "Help on package mhkit:\n",
      "\n",
      "NAME\n",
      "    mhkit\n",
      "\n",
      "PACKAGE CONTENTS\n",
      "    dolfyn (package)\n",
      "    loads (package)\n",
      "    mooring (package)\n",
      "    power (package)\n",
      "    qc (package)\n",
      "    river (package)\n",
      "    tests (package)\n",
      "    tidal (package)\n",
      "    utils\n",
      "    wave (package)\n",
      "\n",
      "DATA\n",
      "    __copyright__ = '\\nCopyright 2019, Alliance for Sustainable Energy...e...\n",
      "    __license__ = 'Revised BSD License'\n",
      "\n",
      "VERSION\n",
      "    v0.7.0\n",
      "\n",
      "FILE\n",
      "    c:\\users\\deca761\\appdata\\roaming\\python\\python311\\site-packages\\mhkit\\__init__.py\n",
      "\n",
      "\n"
     ]
    }
   ],
   "source": [
    "help(mhkit)"
   ]
  }
 ],
 "metadata": {
  "kernelspec": {
   "display_name": "Python 3 (ipykernel)",
   "language": "python",
   "name": "python3"
  },
  "language_info": {
   "codemirror_mode": {
    "name": "ipython",
    "version": 3
   },
   "file_extension": ".py",
   "mimetype": "text/x-python",
   "name": "python",
   "nbconvert_exporter": "python",
   "pygments_lexer": "ipython3",
   "version": "3.11.8"
  }
 },
 "nbformat": 4,
 "nbformat_minor": 5
}
