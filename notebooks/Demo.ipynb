{
 "cells": [
  {
   "cell_type": "markdown",
   "id": "164abd85-b081-4c78-8018-c9cf517457ef",
   "metadata": {},
   "source": [
    "# Demo"
   ]
  },
  {
   "cell_type": "markdown",
   "id": "134c7cb3-7676-4ceb-9895-d2fc95a0ff70",
   "metadata": {},
   "source": [
    "This notebook will be used as planning for and structure durring a live demo of my progress during the PRIMRE Sequim meeting (6/4/24 - 6/6/24)."
   ]
  },
  {
   "cell_type": "markdown",
   "id": "b83184d9-ef1f-449c-bc58-a269115381fb",
   "metadata": {},
   "source": [
    "### Setup"
   ]
  },
  {
   "cell_type": "code",
   "execution_count": 29,
   "id": "5ed6db98-bdbf-4c12-8f3c-d4864acd6141",
   "metadata": {},
   "outputs": [],
   "source": [
    "import pandas as pd\n",
    "import primrea.core"
   ]
  },
  {
   "cell_type": "markdown",
   "id": "648a6f4b-43b5-45aa-86e7-19b98a228eed",
   "metadata": {},
   "source": [
    "### Available Tables"
   ]
  },
  {
   "cell_type": "code",
   "execution_count": 2,
   "id": "ea44ef16-559b-40b4-84cd-62c1a2944527",
   "metadata": {},
   "outputs": [],
   "source": [
    "primre_metadata = primrea.core.primrea_data()"
   ]
  },
  {
   "cell_type": "code",
   "execution_count": 15,
   "id": "032aca52-5541-4d49-a17c-e11129283649",
   "metadata": {},
   "outputs": [
    {
     "data": {
      "text/html": [
       "<div>\n",
       "<style scoped>\n",
       "    .dataframe tbody tr th:only-of-type {\n",
       "        vertical-align: middle;\n",
       "    }\n",
       "\n",
       "    .dataframe tbody tr th {\n",
       "        vertical-align: top;\n",
       "    }\n",
       "\n",
       "    .dataframe thead th {\n",
       "        text-align: right;\n",
       "    }\n",
       "</style>\n",
       "<table border=\"1\" class=\"dataframe\">\n",
       "  <thead>\n",
       "    <tr style=\"text-align: right;\">\n",
       "      <th></th>\n",
       "      <th>entry_id</th>\n",
       "      <th>author</th>\n",
       "    </tr>\n",
       "  </thead>\n",
       "  <tbody>\n",
       "    <tr>\n",
       "      <th>0</th>\n",
       "      <td>499</td>\n",
       "      <td>Soukissian, T.</td>\n",
       "    </tr>\n",
       "    <tr>\n",
       "      <th>1</th>\n",
       "      <td>499</td>\n",
       "      <td>Denaxa, D.</td>\n",
       "    </tr>\n",
       "    <tr>\n",
       "      <th>2</th>\n",
       "      <td>499</td>\n",
       "      <td>Karathanasi, F.</td>\n",
       "    </tr>\n",
       "    <tr>\n",
       "      <th>3</th>\n",
       "      <td>499</td>\n",
       "      <td>Prospathopoulos, A.</td>\n",
       "    </tr>\n",
       "    <tr>\n",
       "      <th>4</th>\n",
       "      <td>499</td>\n",
       "      <td>Sarantakos, K.</td>\n",
       "    </tr>\n",
       "    <tr>\n",
       "      <th>...</th>\n",
       "      <td>...</td>\n",
       "      <td>...</td>\n",
       "    </tr>\n",
       "    <tr>\n",
       "      <th>15873</th>\n",
       "      <td>2078986</td>\n",
       "      <td>Li, M.</td>\n",
       "    </tr>\n",
       "    <tr>\n",
       "      <th>15874</th>\n",
       "      <td>2078986</td>\n",
       "      <td>Wolf, J.</td>\n",
       "    </tr>\n",
       "    <tr>\n",
       "      <th>15875</th>\n",
       "      <td>2078986</td>\n",
       "      <td>Williams, A.</td>\n",
       "    </tr>\n",
       "    <tr>\n",
       "      <th>15876</th>\n",
       "      <td>2078986</td>\n",
       "      <td>Badoe, C</td>\n",
       "    </tr>\n",
       "    <tr>\n",
       "      <th>15877</th>\n",
       "      <td>2078986</td>\n",
       "      <td>Masters, I.</td>\n",
       "    </tr>\n",
       "  </tbody>\n",
       "</table>\n",
       "<p>15878 rows × 2 columns</p>\n",
       "</div>"
      ],
      "text/plain": [
       "       entry_id               author\n",
       "0           499       Soukissian, T.\n",
       "1           499           Denaxa, D.\n",
       "2           499      Karathanasi, F.\n",
       "3           499  Prospathopoulos, A.\n",
       "4           499       Sarantakos, K.\n",
       "...         ...                  ...\n",
       "15873   2078986               Li, M.\n",
       "15874   2078986             Wolf, J.\n",
       "15875   2078986         Williams, A.\n",
       "15876   2078986             Badoe, C\n",
       "15877   2078986          Masters, I.\n",
       "\n",
       "[15878 rows x 2 columns]"
      ]
     },
     "execution_count": 15,
     "metadata": {},
     "output_type": "execute_result"
    }
   ],
   "source": [
    "primre_metadata.tethys_authors"
   ]
  },
  {
   "cell_type": "markdown",
   "id": "cc1c0757-cc89-4632-9985-2e3cb9bff7ff",
   "metadata": {},
   "source": [
    "### Basic Analysis"
   ]
  },
  {
   "cell_type": "code",
   "execution_count": 16,
   "id": "535cc2ed-9e2e-4ba8-ac0d-3a9aabc14df5",
   "metadata": {},
   "outputs": [],
   "source": [
    "tethys_authors = primre_metadata.tethys_authors"
   ]
  },
  {
   "cell_type": "code",
   "execution_count": 17,
   "id": "804176b7-4989-43d3-b91d-115d785c6e59",
   "metadata": {},
   "outputs": [
    {
     "data": {
      "text/html": [
       "<div>\n",
       "<style scoped>\n",
       "    .dataframe tbody tr th:only-of-type {\n",
       "        vertical-align: middle;\n",
       "    }\n",
       "\n",
       "    .dataframe tbody tr th {\n",
       "        vertical-align: top;\n",
       "    }\n",
       "\n",
       "    .dataframe thead th {\n",
       "        text-align: right;\n",
       "    }\n",
       "</style>\n",
       "<table border=\"1\" class=\"dataframe\">\n",
       "  <thead>\n",
       "    <tr style=\"text-align: right;\">\n",
       "      <th></th>\n",
       "      <th>entry_id</th>\n",
       "      <th>author</th>\n",
       "    </tr>\n",
       "  </thead>\n",
       "  <tbody>\n",
       "    <tr>\n",
       "      <th>0</th>\n",
       "      <td>499</td>\n",
       "      <td>Soukissian, T.</td>\n",
       "    </tr>\n",
       "    <tr>\n",
       "      <th>1</th>\n",
       "      <td>499</td>\n",
       "      <td>Denaxa, D.</td>\n",
       "    </tr>\n",
       "    <tr>\n",
       "      <th>2</th>\n",
       "      <td>499</td>\n",
       "      <td>Karathanasi, F.</td>\n",
       "    </tr>\n",
       "    <tr>\n",
       "      <th>3</th>\n",
       "      <td>499</td>\n",
       "      <td>Prospathopoulos, A.</td>\n",
       "    </tr>\n",
       "    <tr>\n",
       "      <th>4</th>\n",
       "      <td>499</td>\n",
       "      <td>Sarantakos, K.</td>\n",
       "    </tr>\n",
       "    <tr>\n",
       "      <th>...</th>\n",
       "      <td>...</td>\n",
       "      <td>...</td>\n",
       "    </tr>\n",
       "    <tr>\n",
       "      <th>15873</th>\n",
       "      <td>2078986</td>\n",
       "      <td>Li, M.</td>\n",
       "    </tr>\n",
       "    <tr>\n",
       "      <th>15874</th>\n",
       "      <td>2078986</td>\n",
       "      <td>Wolf, J.</td>\n",
       "    </tr>\n",
       "    <tr>\n",
       "      <th>15875</th>\n",
       "      <td>2078986</td>\n",
       "      <td>Williams, A.</td>\n",
       "    </tr>\n",
       "    <tr>\n",
       "      <th>15876</th>\n",
       "      <td>2078986</td>\n",
       "      <td>Badoe, C</td>\n",
       "    </tr>\n",
       "    <tr>\n",
       "      <th>15877</th>\n",
       "      <td>2078986</td>\n",
       "      <td>Masters, I.</td>\n",
       "    </tr>\n",
       "  </tbody>\n",
       "</table>\n",
       "<p>15878 rows × 2 columns</p>\n",
       "</div>"
      ],
      "text/plain": [
       "       entry_id               author\n",
       "0           499       Soukissian, T.\n",
       "1           499           Denaxa, D.\n",
       "2           499      Karathanasi, F.\n",
       "3           499  Prospathopoulos, A.\n",
       "4           499       Sarantakos, K.\n",
       "...         ...                  ...\n",
       "15873   2078986               Li, M.\n",
       "15874   2078986             Wolf, J.\n",
       "15875   2078986         Williams, A.\n",
       "15876   2078986             Badoe, C\n",
       "15877   2078986          Masters, I.\n",
       "\n",
       "[15878 rows x 2 columns]"
      ]
     },
     "execution_count": 17,
     "metadata": {},
     "output_type": "execute_result"
    }
   ],
   "source": [
    "tethys_authors"
   ]
  },
  {
   "cell_type": "code",
   "execution_count": 27,
   "id": "19a43d4f-3cda-465e-a8ab-c52f22c45a86",
   "metadata": {},
   "outputs": [
    {
     "data": {
      "text/plain": [
       "8428"
      ]
     },
     "execution_count": 27,
     "metadata": {},
     "output_type": "execute_result"
    }
   ],
   "source": [
    "tethys_authors_unique = list(tethys_authors['author'].unique())\n",
    "len(tethys_authors_unique)"
   ]
  },
  {
   "cell_type": "code",
   "execution_count": 20,
   "id": "f996764b-1e96-4d9c-895a-80347057f637",
   "metadata": {},
   "outputs": [
    {
     "data": {
      "text/plain": [
       "'Širović, A.'"
      ]
     },
     "execution_count": 20,
     "metadata": {},
     "output_type": "execute_result"
    }
   ],
   "source": [
    "max(tethys_authors['author'])"
   ]
  },
  {
   "cell_type": "code",
   "execution_count": 21,
   "id": "561af47d-ffbd-4381-bcaf-3209f7d662c4",
   "metadata": {},
   "outputs": [
    {
     "data": {
      "text/html": [
       "<div>\n",
       "<style scoped>\n",
       "    .dataframe tbody tr th:only-of-type {\n",
       "        vertical-align: middle;\n",
       "    }\n",
       "\n",
       "    .dataframe tbody tr th {\n",
       "        vertical-align: top;\n",
       "    }\n",
       "\n",
       "    .dataframe thead th {\n",
       "        text-align: right;\n",
       "    }\n",
       "</style>\n",
       "<table border=\"1\" class=\"dataframe\">\n",
       "  <thead>\n",
       "    <tr style=\"text-align: right;\">\n",
       "      <th></th>\n",
       "      <th>entry_id</th>\n",
       "      <th>author</th>\n",
       "    </tr>\n",
       "  </thead>\n",
       "  <tbody>\n",
       "    <tr>\n",
       "      <th>2512</th>\n",
       "      <td>1931</td>\n",
       "      <td>Širović, A.</td>\n",
       "    </tr>\n",
       "  </tbody>\n",
       "</table>\n",
       "</div>"
      ],
      "text/plain": [
       "      entry_id       author\n",
       "2512      1931  Širović, A."
      ]
     },
     "execution_count": 21,
     "metadata": {},
     "output_type": "execute_result"
    }
   ],
   "source": [
    "tethys_authors[tethys_authors['author']=='Širović, A.']"
   ]
  },
  {
   "cell_type": "code",
   "execution_count": 23,
   "id": "a5562e46-4b17-4fcd-91fd-ba513dece96b",
   "metadata": {},
   "outputs": [],
   "source": [
    "author_associations = tethys_authors['author'].value_counts().reindex(tethys_authors['author'].unique()).tolist()"
   ]
  },
  {
   "cell_type": "code",
   "execution_count": 30,
   "id": "75f85177-8cb0-4a7a-b8b3-68a8b444f438",
   "metadata": {},
   "outputs": [],
   "source": [
    "author_associations_df = pd.DataFrame({'author':tethys_authors_unique, 'associations':author_associations})"
   ]
  },
  {
   "cell_type": "code",
   "execution_count": 31,
   "id": "22266941-e29a-4bfc-a2f2-8fca58f19447",
   "metadata": {},
   "outputs": [
    {
     "data": {
      "text/html": [
       "<div>\n",
       "<style scoped>\n",
       "    .dataframe tbody tr th:only-of-type {\n",
       "        vertical-align: middle;\n",
       "    }\n",
       "\n",
       "    .dataframe tbody tr th {\n",
       "        vertical-align: top;\n",
       "    }\n",
       "\n",
       "    .dataframe thead th {\n",
       "        text-align: right;\n",
       "    }\n",
       "</style>\n",
       "<table border=\"1\" class=\"dataframe\">\n",
       "  <thead>\n",
       "    <tr style=\"text-align: right;\">\n",
       "      <th></th>\n",
       "      <th>author</th>\n",
       "      <th>associations</th>\n",
       "    </tr>\n",
       "  </thead>\n",
       "  <tbody>\n",
       "    <tr>\n",
       "      <th>0</th>\n",
       "      <td>Soukissian, T.</td>\n",
       "      <td>6</td>\n",
       "    </tr>\n",
       "    <tr>\n",
       "      <th>1</th>\n",
       "      <td>Denaxa, D.</td>\n",
       "      <td>1</td>\n",
       "    </tr>\n",
       "    <tr>\n",
       "      <th>2</th>\n",
       "      <td>Karathanasi, F.</td>\n",
       "      <td>2</td>\n",
       "    </tr>\n",
       "    <tr>\n",
       "      <th>3</th>\n",
       "      <td>Prospathopoulos, A.</td>\n",
       "      <td>2</td>\n",
       "    </tr>\n",
       "    <tr>\n",
       "      <th>4</th>\n",
       "      <td>Sarantakos, K.</td>\n",
       "      <td>1</td>\n",
       "    </tr>\n",
       "    <tr>\n",
       "      <th>...</th>\n",
       "      <td>...</td>\n",
       "      <td>...</td>\n",
       "    </tr>\n",
       "    <tr>\n",
       "      <th>8423</th>\n",
       "      <td>Wood, W.</td>\n",
       "      <td>1</td>\n",
       "    </tr>\n",
       "    <tr>\n",
       "      <th>8424</th>\n",
       "      <td>Marsh, A.</td>\n",
       "      <td>1</td>\n",
       "    </tr>\n",
       "    <tr>\n",
       "      <th>8425</th>\n",
       "      <td>Fischer, M.</td>\n",
       "      <td>1</td>\n",
       "    </tr>\n",
       "    <tr>\n",
       "      <th>8426</th>\n",
       "      <td>Li, X</td>\n",
       "      <td>1</td>\n",
       "    </tr>\n",
       "    <tr>\n",
       "      <th>8427</th>\n",
       "      <td>Badoe, C</td>\n",
       "      <td>1</td>\n",
       "    </tr>\n",
       "  </tbody>\n",
       "</table>\n",
       "<p>8428 rows × 2 columns</p>\n",
       "</div>"
      ],
      "text/plain": [
       "                   author  associations\n",
       "0          Soukissian, T.             6\n",
       "1              Denaxa, D.             1\n",
       "2         Karathanasi, F.             2\n",
       "3     Prospathopoulos, A.             2\n",
       "4          Sarantakos, K.             1\n",
       "...                   ...           ...\n",
       "8423             Wood, W.             1\n",
       "8424            Marsh, A.             1\n",
       "8425          Fischer, M.             1\n",
       "8426                Li, X             1\n",
       "8427             Badoe, C             1\n",
       "\n",
       "[8428 rows x 2 columns]"
      ]
     },
     "execution_count": 31,
     "metadata": {},
     "output_type": "execute_result"
    }
   ],
   "source": [
    "author_associations_df"
   ]
  },
  {
   "cell_type": "code",
   "execution_count": 32,
   "id": "8086a650-d51b-4203-a14e-dbe1535cfb47",
   "metadata": {},
   "outputs": [
    {
     "data": {
      "text/plain": [
       "109"
      ]
     },
     "execution_count": 32,
     "metadata": {},
     "output_type": "execute_result"
    }
   ],
   "source": [
    "author_associations_df['associations'].max()"
   ]
  },
  {
   "cell_type": "code",
   "execution_count": 33,
   "id": "093f86ef-fca9-4924-b33e-58ec6414449d",
   "metadata": {},
   "outputs": [
    {
     "data": {
      "text/html": [
       "<div>\n",
       "<style scoped>\n",
       "    .dataframe tbody tr th:only-of-type {\n",
       "        vertical-align: middle;\n",
       "    }\n",
       "\n",
       "    .dataframe tbody tr th {\n",
       "        vertical-align: top;\n",
       "    }\n",
       "\n",
       "    .dataframe thead th {\n",
       "        text-align: right;\n",
       "    }\n",
       "</style>\n",
       "<table border=\"1\" class=\"dataframe\">\n",
       "  <thead>\n",
       "    <tr style=\"text-align: right;\">\n",
       "      <th></th>\n",
       "      <th>author</th>\n",
       "      <th>associations</th>\n",
       "    </tr>\n",
       "  </thead>\n",
       "  <tbody>\n",
       "    <tr>\n",
       "      <th>100</th>\n",
       "      <td>Copping, A.</td>\n",
       "      <td>109</td>\n",
       "    </tr>\n",
       "  </tbody>\n",
       "</table>\n",
       "</div>"
      ],
      "text/plain": [
       "          author  associations\n",
       "100  Copping, A.           109"
      ]
     },
     "execution_count": 33,
     "metadata": {},
     "output_type": "execute_result"
    }
   ],
   "source": [
    "author_associations_df[author_associations_df['associations']==109]"
   ]
  },
  {
   "cell_type": "code",
   "execution_count": 37,
   "id": "803e3c8e-3cfa-4dda-860e-0d900baf82e2",
   "metadata": {},
   "outputs": [
    {
     "data": {
      "text/html": [
       "<div>\n",
       "<style scoped>\n",
       "    .dataframe tbody tr th:only-of-type {\n",
       "        vertical-align: middle;\n",
       "    }\n",
       "\n",
       "    .dataframe tbody tr th {\n",
       "        vertical-align: top;\n",
       "    }\n",
       "\n",
       "    .dataframe thead th {\n",
       "        text-align: right;\n",
       "    }\n",
       "</style>\n",
       "<table border=\"1\" class=\"dataframe\">\n",
       "  <thead>\n",
       "    <tr style=\"text-align: right;\">\n",
       "      <th></th>\n",
       "      <th>author</th>\n",
       "      <th>associations</th>\n",
       "    </tr>\n",
       "  </thead>\n",
       "  <tbody>\n",
       "    <tr>\n",
       "      <th>100</th>\n",
       "      <td>Copping, A.</td>\n",
       "      <td>109</td>\n",
       "    </tr>\n",
       "    <tr>\n",
       "      <th>267</th>\n",
       "      <td>Polagye, B.</td>\n",
       "      <td>48</td>\n",
       "    </tr>\n",
       "    <tr>\n",
       "      <th>65</th>\n",
       "      <td>Scott, B.</td>\n",
       "      <td>47</td>\n",
       "    </tr>\n",
       "    <tr>\n",
       "      <th>83</th>\n",
       "      <td>Iglesias, G.</td>\n",
       "      <td>42</td>\n",
       "    </tr>\n",
       "    <tr>\n",
       "      <th>213</th>\n",
       "      <td>Hastie, G.</td>\n",
       "      <td>41</td>\n",
       "    </tr>\n",
       "    <tr>\n",
       "      <th>114</th>\n",
       "      <td>Freeman, M.</td>\n",
       "      <td>41</td>\n",
       "    </tr>\n",
       "    <tr>\n",
       "      <th>293</th>\n",
       "      <td>Roberts, J.</td>\n",
       "      <td>40</td>\n",
       "    </tr>\n",
       "    <tr>\n",
       "      <th>299</th>\n",
       "      <td>Sparling, C.</td>\n",
       "      <td>40</td>\n",
       "    </tr>\n",
       "    <tr>\n",
       "      <th>366</th>\n",
       "      <td>Bald, J.</td>\n",
       "      <td>39</td>\n",
       "    </tr>\n",
       "    <tr>\n",
       "      <th>215</th>\n",
       "      <td>Wilson, B.</td>\n",
       "      <td>38</td>\n",
       "    </tr>\n",
       "  </tbody>\n",
       "</table>\n",
       "</div>"
      ],
      "text/plain": [
       "           author  associations\n",
       "100   Copping, A.           109\n",
       "267   Polagye, B.            48\n",
       "65      Scott, B.            47\n",
       "83   Iglesias, G.            42\n",
       "213    Hastie, G.            41\n",
       "114   Freeman, M.            41\n",
       "293   Roberts, J.            40\n",
       "299  Sparling, C.            40\n",
       "366      Bald, J.            39\n",
       "215    Wilson, B.            38"
      ]
     },
     "execution_count": 37,
     "metadata": {},
     "output_type": "execute_result"
    }
   ],
   "source": [
    "author_associations_df.sort_values('associations', ascending=False)[:10]"
   ]
  },
  {
   "cell_type": "code",
   "execution_count": null,
   "id": "8f2e9e9b-87de-44d1-912c-68653a66610f",
   "metadata": {},
   "outputs": [],
   "source": []
  }
 ],
 "metadata": {
  "kernelspec": {
   "display_name": "Python 3 (ipykernel)",
   "language": "python",
   "name": "python3"
  },
  "language_info": {
   "codemirror_mode": {
    "name": "ipython",
    "version": 3
   },
   "file_extension": ".py",
   "mimetype": "text/x-python",
   "name": "python",
   "nbconvert_exporter": "python",
   "pygments_lexer": "ipython3",
   "version": "3.11.7"
  }
 },
 "nbformat": 4,
 "nbformat_minor": 5
}
