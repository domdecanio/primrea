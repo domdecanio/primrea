{
 "cells": [
  {
   "cell_type": "markdown",
   "id": "074bcc3c-b8d2-45b4-ac53-50cc7d51cd02",
   "metadata": {},
   "source": [
    "# PRIMRE APIs\n",
    "\n",
    "The aim of this notebook is to concisely utilize the APIs that are currently built for PRIMRE Knowledge hubs. This includes the Knowledge Hubs: MHKDR, Tethys and Tethys Engineering. Projects Database is not included here because there is no API built particularly for pulling the data, and I am required to directly call the results of custom ask queries. This complicates the code, making custom implementations necessary for each table that will result. The difference of form this creates separates the scope of the Knowledge Hubs included hereand the Projects Database."
   ]
  },
  {
   "cell_type": "code",
   "execution_count": 1,
   "id": "599b5d21-814a-4b54-b93d-26497b7134a0",
   "metadata": {},
   "outputs": [],
   "source": [
    "import requests"
   ]
  },
  {
   "cell_type": "code",
   "execution_count": 2,
   "id": "5e0b4b6a-2ea6-442a-a23b-b715b8f03663",
   "metadata": {},
   "outputs": [],
   "source": [
    "mhkdr_api = 'https://mhkdr.openei.org/api?action=getSubmissionsForPRIMRE'\n",
    "tethys_api = 'https://tethys.pnnl.gov/api/primre_export'\n",
    "tethys_e_api = 'https://tethys-engineering.pnnl.gov/api/primre_export'"
   ]
  },
  {
   "cell_type": "code",
   "execution_count": 3,
   "id": "297748b9-27ff-450e-8fe6-145de34786c2",
   "metadata": {},
   "outputs": [
    {
     "name": "stdout",
     "output_type": "stream",
     "text": [
      "Number of MHKDR Entries: 399\n",
      "Number of Tethys Entries: 4233\n",
      "Number of Tethys Engineering Entries: 8211\n"
     ]
    }
   ],
   "source": [
    "mhkdr_response = requests.get(mhkdr_api)\n",
    "tethys_response = requests.get(tethys_api)       # Note: The tethys api grabs content specifically related to marine energy, and there is another API for wind energy.\n",
    "tethys_e_response = requests.get(tethys_e_api)\n",
    "\n",
    "mhkdr_response_json = mhkdr_response.json()\n",
    "tethys_response_json = tethys_response.json()\n",
    "tethys_e_response_json = tethys_e_response.json()\n",
    "\n",
    "print(f'Number of MHKDR Entries: {len(mhkdr_response_json)}\\nNumber of Tethys Entries: {len(tethys_response_json)}\\nNumber of Tethys Engineering Entries: {len(tethys_e_response_json)}')"
   ]
  },
  {
   "cell_type": "code",
   "execution_count": 4,
   "id": "93464b39-805d-4534-a1e5-dc606ba63c10",
   "metadata": {},
   "outputs": [
    {
     "data": {
      "text/plain": [
       "{'URI': 'https://mhkdr.openei.org/submissions/548',\n",
       " 'type': ['Dataset', 'Document/Report'],\n",
       " 'landingPage': 'https://mhkdr.openei.org/submissions/548',\n",
       " 'sourceURL': 'https://mhkdr.openei.org/submissions/548',\n",
       " 'title': 'CalWave - xWave Device, Non-Commercially Sensitive Project Report',\n",
       " 'description': \"CalWave has developed a submerged pressure differential type Wave Energy Converter (WEC) architecture called xWave. The single body device oscillates submerged, is positively buoyant, and taut moored to the sea floor and integrates novel features such as absorber submergence depth control. Since participation in the US Wave Energy Prize, CalWave has evolved the design and successfully concluded a scaled 10-month open ocean pilot. CalWave recently concluded the final design phase of a scaled up WEC version for PacWave and started component order/build of the WEC towards the grid-connected demonstration at PacWave.\\n\\nDocumentation here includes a Non-Commercially Sensitive Project Report for BP1 of CalWave's xWave Demonstration Project.\",\n",
       " 'author': ['Marcus Lehmann', 'Ryan Davidson'],\n",
       " 'organization': ['CalWave Power Technologies Inc.'],\n",
       " 'originationDate': '2024-02-29 07:00:00',\n",
       " 'spatial': {'boundingCoordinatesNE': [44.63067800397145, -121.943046875],\n",
       "  'boundingCoordinatesSW': [37.098651838142224, -125.91004687499999],\n",
       "  'extent': 'boundingBox'},\n",
       " 'technologyType': ['Wave'],\n",
       " 'tags': ['MHK',\n",
       "  'Marine',\n",
       "  'Hydrokinetic',\n",
       "  'energy',\n",
       "  'power',\n",
       "  'wave',\n",
       "  'PacWave',\n",
       "  'CalWave',\n",
       "  'xWave',\n",
       "  'wave energy converter',\n",
       "  'submerged pressure differential',\n",
       "  'technology',\n",
       "  'demonstration',\n",
       "  'demo'],\n",
       " 'signatureProject': [],\n",
       " 'modifiedDate': '2024-04-25 20:40:00'}"
      ]
     },
     "execution_count": 4,
     "metadata": {},
     "output_type": "execute_result"
    }
   ],
   "source": [
    "mhkdr_response_json[0]"
   ]
  },
  {
   "cell_type": "code",
   "execution_count": 5,
   "id": "600d6247-5d8d-4be3-bf45-fe0ffe10768c",
   "metadata": {},
   "outputs": [
    {
     "data": {
      "text/plain": [
       "{'URI': 'https://tethys.pnnl.gov/node/499',\n",
       " 'type': ['Document', 'Document/Journal Article'],\n",
       " 'landingPage': 'https://tethys.pnnl.gov/publications/marine-renewable-energy-mediterranean-sea-status-perspectives',\n",
       " 'sourceURL': 'https://www.mdpi.com/1996-1073/10/10/1512/htm',\n",
       " 'title': 'Marine Renewable Energy in the Mediterranean Sea: Status and Perspectives',\n",
       " 'description': 'In this work, an extended overview of the marine renewable energy in the Mediterranean Sea is provided as regards current status, potential problems, challenges, and perspectives of development. An integrated and holistic approach is necessary for the economic viability and sustainability of marine renewable energy projects; this approach comprises three different frameworks, not always aligned, i.e., geotechnical/engineering, socio-economic, and environmental/ecological frameworks. In this context, the geomorphological, climatological, socio-economic, and environmental/ecological particularities of the Mediterranean basin are discussed, as they constitute key issues of the spatial context in which marine renewable energy projects are to be implemented. General guidelines for the sustainable development of marine renewable energy in the Mediterranean are also provided.',\n",
       " 'author': ['Soukissian, T.',\n",
       "  'Denaxa, D.',\n",
       "  'Karathanasi, F.',\n",
       "  'Prospathopoulos, A.',\n",
       "  'Sarantakos, K.',\n",
       "  'Iona, A.',\n",
       "  'Georgantas, K.',\n",
       "  'Mavrakos, S.'],\n",
       " 'organization': ['Hellenic Centre for Marine Research (HCMR)',\n",
       "  'National Technical University of Athens'],\n",
       " 'originationDate': '2017-09-29',\n",
       " 'spatial': [],\n",
       " 'technologyType': [],\n",
       " 'tags': ['Environment', 'Human Dimensions'],\n",
       " 'modifiedDate': '2024-01-22 09:24:45',\n",
       " 'signatureProject': [],\n",
       " 'attachment': []}"
      ]
     },
     "execution_count": 5,
     "metadata": {},
     "output_type": "execute_result"
    }
   ],
   "source": [
    "tethys_response_json[0]"
   ]
  },
  {
   "cell_type": "code",
   "execution_count": 6,
   "id": "45293860-a6d7-4826-b45a-c2493b2c98bd",
   "metadata": {},
   "outputs": [
    {
     "data": {
      "text/plain": [
       "{'URI': 'https://tethys-engineering.pnnl.gov/node/4',\n",
       " 'type': ['Document', 'Document/Journal Article'],\n",
       " 'landingPage': 'https://tethys-engineering.pnnl.gov/publications/analytical-linear-modelization-buckled-undulating-membrane-tidal-energy-converter',\n",
       " 'sourceURL': 'https://www.sciencedirect.com/science/article/pii/S0960148118306943',\n",
       " 'title': 'Analytical linear modelization of a buckled undulating membrane tidal energy converter',\n",
       " 'description': \"This paper presents an analytical linear model developed to study the behaviour of a buckled membrane tidal energy converter. The Euler beam theory and the elongated body theory are used for the fluid structure interaction formulation. The effect of electromechanical converters used to convert the undulating motion into electrical energy is reproduced by adding a term equivalent to viscous material damping.  The influence of compression force, flaps and hanging conditions is studied, as well as the effects of simulated power take-off through internal damping. The system's behaviour is characterized by undulating mode, critical flow velocity, motion frequency and amplitude.  The model shows good agreement in terms of frequency and satisfactory results for the amplitude compared to experimental data. The linear assumptions were validated on fluid and structure models as a good start for a first analytical model describing the system's physic. The obtained results confirmed the benefits of initial stress and optimized damping to the tidal converter for energy harnessing.\",\n",
       " 'author': ['Träsch, M.',\n",
       "  'Déporte, A.',\n",
       "  'Delacroix, S.',\n",
       "  'Germain, G.',\n",
       "  'Drevet, J.'],\n",
       " 'organization': [],\n",
       " 'originationDate': '2019-01-01',\n",
       " 'spatial': [],\n",
       " 'technologyType': ['Current', 'Current/Tidal'],\n",
       " 'tags': ['Engineering', 'Performance', 'Modeling'],\n",
       " 'modifiedDate': '2022-07-26 02:02:47',\n",
       " 'signatureProject': [],\n",
       " 'attachment': []}"
      ]
     },
     "execution_count": 6,
     "metadata": {},
     "output_type": "execute_result"
    }
   ],
   "source": [
    "tethys_e_response_json[0]"
   ]
  }
 ],
 "metadata": {
  "kernelspec": {
   "display_name": "Python 3 (ipykernel)",
   "language": "python",
   "name": "python3"
  },
  "language_info": {
   "codemirror_mode": {
    "name": "ipython",
    "version": 3
   },
   "file_extension": ".py",
   "mimetype": "text/x-python",
   "name": "python",
   "nbconvert_exporter": "python",
   "pygments_lexer": "ipython3",
   "version": "3.11.7"
  }
 },
 "nbformat": 4,
 "nbformat_minor": 5
}
