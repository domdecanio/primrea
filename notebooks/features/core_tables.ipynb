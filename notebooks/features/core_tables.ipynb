{
 "cells": [
  {
   "cell_type": "markdown",
   "id": "bfee42c3-47b4-4360-9b13-34bf999875ce",
   "metadata": {},
   "source": [
    "# Core Tables"
   ]
  },
  {
   "cell_type": "markdown",
   "id": "77a25dd8-64d2-4a44-9226-faa39093ab5d",
   "metadata": {},
   "source": [
    "The purpose of this notebook is to develop the tables for MHKDR, Tethys, and Tethys Engineering which will contain the entry-level data for these Knowledge hubs. I may need to further divide this development by knowledge hub, as there will most likely be partial overlap between the fields of the Tethys and MHKDR.\n",
    "\n",
    "For now, the aim of this notebook is to create the core tables for Tethys and Tethys Engineering. These core tables will contain data relevant to the \"grain\" of 1 T/TE entry. By the end of this notebook, the core tables for T/TE should not include any field which violates atomicity (no field should have data - each should have only 1 datum). To accomplish this aim, the following columns need to be removed / modified:\n",
    " - type\n",
    " - author\n",
    " - organization\n",
    " - spatial\n",
    " - technologyType\n",
    " - tags\n",
    " - attachment\n",
    "\n",
    "In addition, I need to add an \"entry_id\" field, that creates a unique id for each entry based on the node number in the URI. Thus far I have used this number as a unique identifier for the entry under the assumption that the website engine generates a new, unique node number every time a new page is generated.\n",
    " - entry_id\n",
    "\n",
    "Finally, the two date-time fields must be updated. On ingest from the API these two columns' types default to string, and thus we need to convert them to date-time to make them usable.\n",
    " - originationDate\n",
    " - modifiedDate"
   ]
  },
  {
   "cell_type": "markdown",
   "id": "ad828ae2-e48a-4b3b-a488-13877e0d7c0c",
   "metadata": {},
   "source": [
    "### Setup"
   ]
  },
  {
   "cell_type": "code",
   "execution_count": 5,
   "id": "969f384b-e819-4df6-83ed-90b8d952a058",
   "metadata": {},
   "outputs": [],
   "source": [
    "import pandas as pd\n",
    "import numpy as np\n",
    "import datetime"
   ]
  },
  {
   "cell_type": "code",
   "execution_count": 17,
   "id": "cbbdf395-c727-4edd-ab98-d51c1989cc49",
   "metadata": {},
   "outputs": [],
   "source": [
    "import primrea.core\n",
    "from primrea import *\n",
    "primre_data = primrea.core.primrea_data()"
   ]
  },
  {
   "cell_type": "markdown",
   "id": "8bda9af8-79b8-4e5f-8fba-3e6bb4c393b5",
   "metadata": {},
   "source": [
    "### Dev"
   ]
  },
  {
   "cell_type": "code",
   "execution_count": 3,
   "id": "58f0b2f3-14e2-471f-89be-f2d3d9c7ed2a",
   "metadata": {},
   "outputs": [
    {
     "data": {
      "text/html": [
       "<div>\n",
       "<style scoped>\n",
       "    .dataframe tbody tr th:only-of-type {\n",
       "        vertical-align: middle;\n",
       "    }\n",
       "\n",
       "    .dataframe tbody tr th {\n",
       "        vertical-align: top;\n",
       "    }\n",
       "\n",
       "    .dataframe thead th {\n",
       "        text-align: right;\n",
       "    }\n",
       "</style>\n",
       "<table border=\"1\" class=\"dataframe\">\n",
       "  <thead>\n",
       "    <tr style=\"text-align: right;\">\n",
       "      <th></th>\n",
       "      <th>URI</th>\n",
       "      <th>type</th>\n",
       "      <th>landingPage</th>\n",
       "      <th>sourceURL</th>\n",
       "      <th>title</th>\n",
       "      <th>description</th>\n",
       "      <th>author</th>\n",
       "      <th>organization</th>\n",
       "      <th>originationDate</th>\n",
       "      <th>spatial</th>\n",
       "      <th>technologyType</th>\n",
       "      <th>tags</th>\n",
       "      <th>modifiedDate</th>\n",
       "      <th>signatureProject</th>\n",
       "      <th>attachment</th>\n",
       "    </tr>\n",
       "  </thead>\n",
       "  <tbody>\n",
       "    <tr>\n",
       "      <th>0</th>\n",
       "      <td>https://tethys.pnnl.gov/node/499</td>\n",
       "      <td>[Document, Document/Journal Article]</td>\n",
       "      <td>https://tethys.pnnl.gov/publications/marine-re...</td>\n",
       "      <td>https://www.mdpi.com/1996-1073/10/10/1512/htm</td>\n",
       "      <td>Marine Renewable Energy in the Mediterranean S...</td>\n",
       "      <td>In this work, an extended overview of the mari...</td>\n",
       "      <td>[Soukissian, T., Denaxa, D., Karathanasi, F., ...</td>\n",
       "      <td>[Hellenic Centre for Marine Research (HCMR), N...</td>\n",
       "      <td>2017-09-29</td>\n",
       "      <td>[]</td>\n",
       "      <td>[]</td>\n",
       "      <td>[Environment, Human Dimensions]</td>\n",
       "      <td>2024-01-22 09:24:45</td>\n",
       "      <td>[]</td>\n",
       "      <td>[]</td>\n",
       "    </tr>\n",
       "    <tr>\n",
       "      <th>1</th>\n",
       "      <td>https://tethys.pnnl.gov/node/500</td>\n",
       "      <td>[Document, Document/Report]</td>\n",
       "      <td>https://tethys.pnnl.gov/publications/port-fair...</td>\n",
       "      <td>http://bps.energy/projects</td>\n",
       "      <td>The Port Fairy Pilot Wave Energy Project Envir...</td>\n",
       "      <td>This Environmental Management Plan (EMP) detai...</td>\n",
       "      <td>[BioPower Systems]</td>\n",
       "      <td>[BioPower Systems]</td>\n",
       "      <td>2016-02-09</td>\n",
       "      <td>{'coordinates': ['-38.398417000000', '142.1726...</td>\n",
       "      <td>[Wave]</td>\n",
       "      <td>[Environment, Environmental Impact Assessment]</td>\n",
       "      <td>2024-01-22 09:24:45</td>\n",
       "      <td>[]</td>\n",
       "      <td>[https://tethys.pnnl.gov/sites/default/files/p...</td>\n",
       "    </tr>\n",
       "    <tr>\n",
       "      <th>2</th>\n",
       "      <td>https://tethys.pnnl.gov/node/501</td>\n",
       "      <td>[Document, Document/Journal Article]</td>\n",
       "      <td>https://tethys.pnnl.gov/publications/baseline-...</td>\n",
       "      <td>https://www.sciencedirect.com/science/article/...</td>\n",
       "      <td>Baseline assessment of underwater noise in the...</td>\n",
       "      <td>The Ria Formosa is a sheltered large coastal l...</td>\n",
       "      <td>[Soares, C., Pacheco, A., Zabel, F., González-...</td>\n",
       "      <td>[Marine Sensing and Acoustic Technologies (Mar...</td>\n",
       "      <td>2020-01-10</td>\n",
       "      <td>{'coordinates': ['36.972554000000', '-7.870570...</td>\n",
       "      <td>[Current, Current/Tidal]</td>\n",
       "      <td>[Environment, Noise]</td>\n",
       "      <td>2024-01-22 09:24:45</td>\n",
       "      <td>[]</td>\n",
       "      <td>[]</td>\n",
       "    </tr>\n",
       "  </tbody>\n",
       "</table>\n",
       "</div>"
      ],
      "text/plain": [
       "                                URI                                  type  \\\n",
       "0  https://tethys.pnnl.gov/node/499  [Document, Document/Journal Article]   \n",
       "1  https://tethys.pnnl.gov/node/500           [Document, Document/Report]   \n",
       "2  https://tethys.pnnl.gov/node/501  [Document, Document/Journal Article]   \n",
       "\n",
       "                                         landingPage  \\\n",
       "0  https://tethys.pnnl.gov/publications/marine-re...   \n",
       "1  https://tethys.pnnl.gov/publications/port-fair...   \n",
       "2  https://tethys.pnnl.gov/publications/baseline-...   \n",
       "\n",
       "                                           sourceURL  \\\n",
       "0      https://www.mdpi.com/1996-1073/10/10/1512/htm   \n",
       "1                         http://bps.energy/projects   \n",
       "2  https://www.sciencedirect.com/science/article/...   \n",
       "\n",
       "                                               title  \\\n",
       "0  Marine Renewable Energy in the Mediterranean S...   \n",
       "1  The Port Fairy Pilot Wave Energy Project Envir...   \n",
       "2  Baseline assessment of underwater noise in the...   \n",
       "\n",
       "                                         description  \\\n",
       "0  In this work, an extended overview of the mari...   \n",
       "1  This Environmental Management Plan (EMP) detai...   \n",
       "2  The Ria Formosa is a sheltered large coastal l...   \n",
       "\n",
       "                                              author  \\\n",
       "0  [Soukissian, T., Denaxa, D., Karathanasi, F., ...   \n",
       "1                                 [BioPower Systems]   \n",
       "2  [Soares, C., Pacheco, A., Zabel, F., González-...   \n",
       "\n",
       "                                        organization originationDate  \\\n",
       "0  [Hellenic Centre for Marine Research (HCMR), N...      2017-09-29   \n",
       "1                                 [BioPower Systems]      2016-02-09   \n",
       "2  [Marine Sensing and Acoustic Technologies (Mar...      2020-01-10   \n",
       "\n",
       "                                             spatial  \\\n",
       "0                                                 []   \n",
       "1  {'coordinates': ['-38.398417000000', '142.1726...   \n",
       "2  {'coordinates': ['36.972554000000', '-7.870570...   \n",
       "\n",
       "             technologyType                                            tags  \\\n",
       "0                        []                 [Environment, Human Dimensions]   \n",
       "1                    [Wave]  [Environment, Environmental Impact Assessment]   \n",
       "2  [Current, Current/Tidal]                            [Environment, Noise]   \n",
       "\n",
       "          modifiedDate signatureProject  \\\n",
       "0  2024-01-22 09:24:45               []   \n",
       "1  2024-01-22 09:24:45               []   \n",
       "2  2024-01-22 09:24:45               []   \n",
       "\n",
       "                                          attachment  \n",
       "0                                                 []  \n",
       "1  [https://tethys.pnnl.gov/sites/default/files/p...  \n",
       "2                                                 []  "
      ]
     },
     "execution_count": 3,
     "metadata": {},
     "output_type": "execute_result"
    }
   ],
   "source": [
    "tethys_df = primre_data.tethys_dataframe\n",
    "tethys_df.head(3)"
   ]
  },
  {
   "cell_type": "code",
   "execution_count": 9,
   "id": "b497ca84-686d-40c6-a9a4-ec0c94f357b3",
   "metadata": {},
   "outputs": [
    {
     "name": "stdout",
     "output_type": "stream",
     "text": [
      "originationDate field example : 2017-09-29\n",
      "originationDate field type    : <class 'str'>\n",
      "modifiedDate field example : 2024-01-22 09:24:45\n",
      "modifiedDate field type    : <class 'str'>\n"
     ]
    }
   ],
   "source": [
    "orig_date = tethys_df['originationDate'][0]\n",
    "orig_date_typ = type(orig_date)\n",
    "mod_date = tethys_df['modifiedDate'][0]\n",
    "mod_date_typ = type(mod_date)\n",
    "print(f'originationDate field example : {orig_date}\\noriginationDate field type    : {orig_date_typ}\\nmodifiedDate field example : {mod_date}\\nmodifiedDate field type    : {mod_date_typ}')"
   ]
  },
  {
   "cell_type": "code",
   "execution_count": null,
   "id": "063c4093-c4b7-4c92-a9ac-f41a92bdf556",
   "metadata": {},
   "outputs": [],
   "source": []
  },
  {
   "cell_type": "code",
   "execution_count": null,
   "id": "4bbf63d4-7c50-464c-8ca3-faef3c6ebb4d",
   "metadata": {},
   "outputs": [],
   "source": []
  },
  {
   "cell_type": "code",
   "execution_count": null,
   "id": "611f83f7-27f1-4725-b6ad-9c7babd18b06",
   "metadata": {},
   "outputs": [],
   "source": []
  },
  {
   "cell_type": "code",
   "execution_count": 27,
   "id": "c979394a-3ea9-49ba-8c6e-d054b47cc98d",
   "metadata": {},
   "outputs": [],
   "source": [
    "tethys_df_test = tethys_df"
   ]
  },
  {
   "cell_type": "code",
   "execution_count": 28,
   "id": "72f1daf5-b668-412f-ae51-8500b877c087",
   "metadata": {},
   "outputs": [
    {
     "data": {
      "text/plain": [
       "Index(['URI', 'type', 'landingPage', 'sourceURL', 'title', 'description',\n",
       "       'author', 'organization', 'originationDate', 'spatial',\n",
       "       'technologyType', 'tags', 'modifiedDate', 'signatureProject',\n",
       "       'attachment', 'originationDate2', 'modifiedDate2', 'entry_id'],\n",
       "      dtype='object')"
      ]
     },
     "execution_count": 28,
     "metadata": {},
     "output_type": "execute_result"
    }
   ],
   "source": [
    "tethys_df_test.keys()"
   ]
  },
  {
   "cell_type": "markdown",
   "id": "c417559e-011d-44fb-9818-9636ad59fe44",
   "metadata": {},
   "source": [
    "Remove\n",
    "\n",
    " - type\n",
    " - author\n",
    " - organizaton\n",
    " - spatial\n",
    " - \n",
    "technogyTyp\n",
    " - tags\n",
    " - \r\n",
    "attachment"
   ]
  },
  {
   "cell_type": "markdown",
   "id": "ef55d5a6-748a-4d85-9a14-be8408162d72",
   "metadata": {},
   "source": [
    "Remaining\n",
    " - URI\n",
    " - landingPage\n",
    " - sourceURL\n",
    " - title\n",
    " - description\n",
    " - originationDate\n",
    " - modifiedDate\n",
    " - signatureProject\n",
    "\n",
    "Add\n",
    " - entry_id"
   ]
  },
  {
   "cell_type": "code",
   "execution_count": 18,
   "id": "b23f8262-afc7-4b3a-ac94-54acc77da4ee",
   "metadata": {},
   "outputs": [],
   "source": [
    "tethys_df_len = len(tethys_df_test)\n",
    "entry_ids = list()\n",
    "for i in range(0, tethys_df_len):\n",
    "    entry_id = primrea.kh_table_gen.entry_based.find_entry_id(tethys_df_test['URI'][i])\n",
    "    entry_ids.append(entry_id)"
   ]
  },
  {
   "cell_type": "code",
   "execution_count": 23,
   "id": "612c6844-2c9d-494e-b5f3-23d0cc0a0962",
   "metadata": {},
   "outputs": [],
   "source": [
    "tethys_df_test['entry_id'] = entry_ids"
   ]
  },
  {
   "cell_type": "code",
   "execution_count": 11,
   "id": "08a20b1c-12ab-40db-931f-39c7a14caff9",
   "metadata": {},
   "outputs": [],
   "source": [
    "tethys_df_test['originationDate2'] = pd.to_datetime(tethys_df_test['originationDate'])\n",
    "tethys_df_test['modifiedDate2'] = pd.to_datetime(tethys_df_test['modifiedDate'])"
   ]
  },
  {
   "cell_type": "code",
   "execution_count": 26,
   "id": "b968da7f-d1cc-47d3-ba21-209ad0286e94",
   "metadata": {},
   "outputs": [
    {
     "data": {
      "text/html": [
       "<div>\n",
       "<style scoped>\n",
       "    .dataframe tbody tr th:only-of-type {\n",
       "        vertical-align: middle;\n",
       "    }\n",
       "\n",
       "    .dataframe tbody tr th {\n",
       "        vertical-align: top;\n",
       "    }\n",
       "\n",
       "    .dataframe thead th {\n",
       "        text-align: right;\n",
       "    }\n",
       "</style>\n",
       "<table border=\"1\" class=\"dataframe\">\n",
       "  <thead>\n",
       "    <tr style=\"text-align: right;\">\n",
       "      <th></th>\n",
       "      <th>entry_id</th>\n",
       "      <th>originationDate2</th>\n",
       "      <th>modifiedDate2</th>\n",
       "      <th>URI</th>\n",
       "      <th>landingPage</th>\n",
       "      <th>sourceURL</th>\n",
       "      <th>title</th>\n",
       "      <th>description</th>\n",
       "      <th>signatureProject</th>\n",
       "    </tr>\n",
       "  </thead>\n",
       "  <tbody>\n",
       "    <tr>\n",
       "      <th>0</th>\n",
       "      <td>499</td>\n",
       "      <td>2017-09-29</td>\n",
       "      <td>2024-01-22 09:24:45</td>\n",
       "      <td>https://tethys.pnnl.gov/node/499</td>\n",
       "      <td>https://tethys.pnnl.gov/publications/marine-re...</td>\n",
       "      <td>https://www.mdpi.com/1996-1073/10/10/1512/htm</td>\n",
       "      <td>Marine Renewable Energy in the Mediterranean S...</td>\n",
       "      <td>In this work, an extended overview of the mari...</td>\n",
       "      <td>[]</td>\n",
       "    </tr>\n",
       "  </tbody>\n",
       "</table>\n",
       "</div>"
      ],
      "text/plain": [
       "   entry_id originationDate2       modifiedDate2  \\\n",
       "0       499       2017-09-29 2024-01-22 09:24:45   \n",
       "\n",
       "                                URI  \\\n",
       "0  https://tethys.pnnl.gov/node/499   \n",
       "\n",
       "                                         landingPage  \\\n",
       "0  https://tethys.pnnl.gov/publications/marine-re...   \n",
       "\n",
       "                                       sourceURL  \\\n",
       "0  https://www.mdpi.com/1996-1073/10/10/1512/htm   \n",
       "\n",
       "                                               title  \\\n",
       "0  Marine Renewable Energy in the Mediterranean S...   \n",
       "\n",
       "                                         description signatureProject  \n",
       "0  In this work, an extended overview of the mari...               []  "
      ]
     },
     "execution_count": 26,
     "metadata": {},
     "output_type": "execute_result"
    }
   ],
   "source": [
    "tethys_df_test = tethys_df_test[['entry_id', 'originationDate2', 'modifiedDate2', 'URI', 'landingPage', 'sourceURL', 'title', 'description', 'signatureProject']]\n",
    "tethys_df_test.head(1)"
   ]
  },
  {
   "cell_type": "code",
   "execution_count": null,
   "id": "fabafd2d-7b7b-4c5a-b38f-52cf82ad0a08",
   "metadata": {},
   "outputs": [],
   "source": []
  },
  {
   "cell_type": "code",
   "execution_count": null,
   "id": "377a7959-7e62-4aa6-8d1c-18c7598f3728",
   "metadata": {},
   "outputs": [],
   "source": []
  },
  {
   "cell_type": "code",
   "execution_count": 16,
   "id": "71ef2c20-4952-4686-8dda-d11c23c14e51",
   "metadata": {},
   "outputs": [
    {
     "data": {
      "text/html": [
       "<div>\n",
       "<style scoped>\n",
       "    .dataframe tbody tr th:only-of-type {\n",
       "        vertical-align: middle;\n",
       "    }\n",
       "\n",
       "    .dataframe tbody tr th {\n",
       "        vertical-align: top;\n",
       "    }\n",
       "\n",
       "    .dataframe thead th {\n",
       "        text-align: right;\n",
       "    }\n",
       "</style>\n",
       "<table border=\"1\" class=\"dataframe\">\n",
       "  <thead>\n",
       "    <tr style=\"text-align: right;\">\n",
       "      <th></th>\n",
       "      <th>URI</th>\n",
       "      <th>type</th>\n",
       "      <th>landingPage</th>\n",
       "      <th>sourceURL</th>\n",
       "      <th>title</th>\n",
       "      <th>description</th>\n",
       "      <th>author</th>\n",
       "      <th>organization</th>\n",
       "      <th>originationDate</th>\n",
       "      <th>spatial</th>\n",
       "      <th>technologyType</th>\n",
       "      <th>tags</th>\n",
       "      <th>modifiedDate</th>\n",
       "      <th>signatureProject</th>\n",
       "      <th>attachment</th>\n",
       "      <th>originationDate2</th>\n",
       "      <th>modifiedDate2</th>\n",
       "    </tr>\n",
       "  </thead>\n",
       "  <tbody>\n",
       "    <tr>\n",
       "      <th>0</th>\n",
       "      <td>https://tethys.pnnl.gov/node/499</td>\n",
       "      <td>[Document, Document/Journal Article]</td>\n",
       "      <td>https://tethys.pnnl.gov/publications/marine-re...</td>\n",
       "      <td>https://www.mdpi.com/1996-1073/10/10/1512/htm</td>\n",
       "      <td>Marine Renewable Energy in the Mediterranean S...</td>\n",
       "      <td>In this work, an extended overview of the mari...</td>\n",
       "      <td>[Soukissian, T., Denaxa, D., Karathanasi, F., ...</td>\n",
       "      <td>[Hellenic Centre for Marine Research (HCMR), N...</td>\n",
       "      <td>2017-09-29</td>\n",
       "      <td>[]</td>\n",
       "      <td>[]</td>\n",
       "      <td>[Environment, Human Dimensions]</td>\n",
       "      <td>2024-01-22 09:24:45</td>\n",
       "      <td>[]</td>\n",
       "      <td>[]</td>\n",
       "      <td>2017-09-29</td>\n",
       "      <td>2024-01-22 09:24:45</td>\n",
       "    </tr>\n",
       "  </tbody>\n",
       "</table>\n",
       "</div>"
      ],
      "text/plain": [
       "                                URI                                  type  \\\n",
       "0  https://tethys.pnnl.gov/node/499  [Document, Document/Journal Article]   \n",
       "\n",
       "                                         landingPage  \\\n",
       "0  https://tethys.pnnl.gov/publications/marine-re...   \n",
       "\n",
       "                                       sourceURL  \\\n",
       "0  https://www.mdpi.com/1996-1073/10/10/1512/htm   \n",
       "\n",
       "                                               title  \\\n",
       "0  Marine Renewable Energy in the Mediterranean S...   \n",
       "\n",
       "                                         description  \\\n",
       "0  In this work, an extended overview of the mari...   \n",
       "\n",
       "                                              author  \\\n",
       "0  [Soukissian, T., Denaxa, D., Karathanasi, F., ...   \n",
       "\n",
       "                                        organization originationDate spatial  \\\n",
       "0  [Hellenic Centre for Marine Research (HCMR), N...      2017-09-29      []   \n",
       "\n",
       "  technologyType                             tags         modifiedDate  \\\n",
       "0             []  [Environment, Human Dimensions]  2024-01-22 09:24:45   \n",
       "\n",
       "  signatureProject attachment originationDate2       modifiedDate2  \n",
       "0               []         []       2017-09-29 2024-01-22 09:24:45  "
      ]
     },
     "execution_count": 16,
     "metadata": {},
     "output_type": "execute_result"
    }
   ],
   "source": [
    "# To create a comparison\n",
    "date_before = np.datetime64(datetime.date(2016, 1, 19))\n",
    "tethys_df_test[tethys_df_test['originationDate2'] > date_before].head(1)"
   ]
  }
 ],
 "metadata": {
  "kernelspec": {
   "display_name": "Python 3 (ipykernel)",
   "language": "python",
   "name": "python3"
  },
  "language_info": {
   "codemirror_mode": {
    "name": "ipython",
    "version": 3
   },
   "file_extension": ".py",
   "mimetype": "text/x-python",
   "name": "python",
   "nbconvert_exporter": "python",
   "pygments_lexer": "ipython3",
   "version": "3.11.7"
  }
 },
 "nbformat": 4,
 "nbformat_minor": 5
}
