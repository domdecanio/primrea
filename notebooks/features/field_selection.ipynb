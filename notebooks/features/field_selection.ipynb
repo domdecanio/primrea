{
 "cells": [
  {
   "cell_type": "markdown",
   "id": "d007e52b-d8d7-4cea-a30c-3c9235244246",
   "metadata": {},
   "source": [
    "# Field Selection"
   ]
  },
  {
   "cell_type": "markdown",
   "id": "6d9dcc36-be28-49d0-a0a1-910e1efd073a",
   "metadata": {},
   "source": [
    "The aim of this notebook is to continue the thread of \"mhkdr_apis_comparison\" and bring in the question of field selection within the context of Tethys / Tethys Engineering API results. The questions of interest follow. \n",
    "1. Is there any reason to prefer one or the other [MHKDR API] data source when the fields are identical?\n",
    "2. To what extent should the table structure be lossless when compared to the APIs?\n",
    "    - That is, the Tethys and Tethys Engineering APIs seem to duplicate a lot of fields. Should I keep these duplicate fields?\n",
    "       1. Are there any cases where these fields do differ?\n",
    "    - Similarly, should I keep all information from the API, even when this information seems useless? An example is the different \"@type\" variable in MHKDR, or the unique attribution style within MHKDR \"Organization\" field, that inlcudes the author again alongside other unique information.\n",
    "       1. Is there a situation is which these fields will help us achieve the goals of this package?\n",
    "  \n",
    "What are the goals of the package?\n",
    "1. Enable automated download of the content\n",
    "2. Enable cross-Knowledge Hub analysis of the Marine Energy Industry"
   ]
  },
  {
   "cell_type": "markdown",
   "id": "e639bcb8-5137-4a3e-96d6-e26570b080f0",
   "metadata": {},
   "source": [
    "### Setup"
   ]
  },
  {
   "cell_type": "code",
   "execution_count": 1,
   "id": "618f7c8d-48c2-4562-b1a8-17aca70d14c3",
   "metadata": {},
   "outputs": [],
   "source": [
    "import requests\n",
    "import json\n",
    "import pandas as pd\n",
    "#import re\n",
    "import primrea\n",
    "\n",
    "tethys_api = 'https://tethys.pnnl.gov/api/primre_export'\n",
    "tethys_e_api = 'https://tethys-engineering.pnnl.gov/api/primre_export'\n",
    "mhkdr_api_1 = 'https://mhkdr.openei.org/api?action=getSubmissionsForPRIMRE'\n",
    "mhkdr_api_2 = 'https://mhkdr.openei.org/data.json'"
   ]
  },
  {
   "cell_type": "code",
   "execution_count": 2,
   "id": "f1c94e23-e267-4ddb-b45c-5eca543259cb",
   "metadata": {},
   "outputs": [
    {
     "ename": "SSLError",
     "evalue": "HTTPSConnectionPool(host='mhkdr.openei.org', port=443): Max retries exceeded with url: /api?action=getSubmissionsForPRIMRE (Caused by SSLError(SSLCertVerificationError(1, '[SSL: CERTIFICATE_VERIFY_FAILED] certificate verify failed: self-signed certificate in certificate chain (_ssl.c:1006)')))",
     "output_type": "error",
     "traceback": [
      "\u001b[1;31m---------------------------------------------------------------------------\u001b[0m",
      "\u001b[1;31mSSLCertVerificationError\u001b[0m                  Traceback (most recent call last)",
      "File \u001b[1;32m~\\AppData\\Local\\anaconda3\\Lib\\site-packages\\urllib3\\connectionpool.py:468\u001b[0m, in \u001b[0;36mHTTPConnectionPool._make_request\u001b[1;34m(self, conn, method, url, body, headers, retries, timeout, chunked, response_conn, preload_content, decode_content, enforce_content_length)\u001b[0m\n\u001b[0;32m    467\u001b[0m \u001b[38;5;28;01mtry\u001b[39;00m:\n\u001b[1;32m--> 468\u001b[0m     \u001b[38;5;28mself\u001b[39m\u001b[38;5;241m.\u001b[39m_validate_conn(conn)\n\u001b[0;32m    469\u001b[0m \u001b[38;5;28;01mexcept\u001b[39;00m (SocketTimeout, BaseSSLError) \u001b[38;5;28;01mas\u001b[39;00m e:\n",
      "File \u001b[1;32m~\\AppData\\Local\\anaconda3\\Lib\\site-packages\\urllib3\\connectionpool.py:1097\u001b[0m, in \u001b[0;36mHTTPSConnectionPool._validate_conn\u001b[1;34m(self, conn)\u001b[0m\n\u001b[0;32m   1096\u001b[0m \u001b[38;5;28;01mif\u001b[39;00m conn\u001b[38;5;241m.\u001b[39mis_closed:\n\u001b[1;32m-> 1097\u001b[0m     conn\u001b[38;5;241m.\u001b[39mconnect()\n\u001b[0;32m   1099\u001b[0m \u001b[38;5;28;01mif\u001b[39;00m \u001b[38;5;129;01mnot\u001b[39;00m conn\u001b[38;5;241m.\u001b[39mis_verified:\n",
      "File \u001b[1;32m~\\AppData\\Local\\anaconda3\\Lib\\site-packages\\urllib3\\connection.py:642\u001b[0m, in \u001b[0;36mHTTPSConnection.connect\u001b[1;34m(self)\u001b[0m\n\u001b[0;32m    634\u001b[0m     warnings\u001b[38;5;241m.\u001b[39mwarn(\n\u001b[0;32m    635\u001b[0m         (\n\u001b[0;32m    636\u001b[0m             \u001b[38;5;124mf\u001b[39m\u001b[38;5;124m\"\u001b[39m\u001b[38;5;124mSystem time is way off (before \u001b[39m\u001b[38;5;132;01m{\u001b[39;00mRECENT_DATE\u001b[38;5;132;01m}\u001b[39;00m\u001b[38;5;124m). This will probably \u001b[39m\u001b[38;5;124m\"\u001b[39m\n\u001b[1;32m   (...)\u001b[0m\n\u001b[0;32m    639\u001b[0m         SystemTimeWarning,\n\u001b[0;32m    640\u001b[0m     )\n\u001b[1;32m--> 642\u001b[0m sock_and_verified \u001b[38;5;241m=\u001b[39m _ssl_wrap_socket_and_match_hostname(\n\u001b[0;32m    643\u001b[0m     sock\u001b[38;5;241m=\u001b[39msock,\n\u001b[0;32m    644\u001b[0m     cert_reqs\u001b[38;5;241m=\u001b[39m\u001b[38;5;28mself\u001b[39m\u001b[38;5;241m.\u001b[39mcert_reqs,\n\u001b[0;32m    645\u001b[0m     ssl_version\u001b[38;5;241m=\u001b[39m\u001b[38;5;28mself\u001b[39m\u001b[38;5;241m.\u001b[39mssl_version,\n\u001b[0;32m    646\u001b[0m     ssl_minimum_version\u001b[38;5;241m=\u001b[39m\u001b[38;5;28mself\u001b[39m\u001b[38;5;241m.\u001b[39mssl_minimum_version,\n\u001b[0;32m    647\u001b[0m     ssl_maximum_version\u001b[38;5;241m=\u001b[39m\u001b[38;5;28mself\u001b[39m\u001b[38;5;241m.\u001b[39mssl_maximum_version,\n\u001b[0;32m    648\u001b[0m     ca_certs\u001b[38;5;241m=\u001b[39m\u001b[38;5;28mself\u001b[39m\u001b[38;5;241m.\u001b[39mca_certs,\n\u001b[0;32m    649\u001b[0m     ca_cert_dir\u001b[38;5;241m=\u001b[39m\u001b[38;5;28mself\u001b[39m\u001b[38;5;241m.\u001b[39mca_cert_dir,\n\u001b[0;32m    650\u001b[0m     ca_cert_data\u001b[38;5;241m=\u001b[39m\u001b[38;5;28mself\u001b[39m\u001b[38;5;241m.\u001b[39mca_cert_data,\n\u001b[0;32m    651\u001b[0m     cert_file\u001b[38;5;241m=\u001b[39m\u001b[38;5;28mself\u001b[39m\u001b[38;5;241m.\u001b[39mcert_file,\n\u001b[0;32m    652\u001b[0m     key_file\u001b[38;5;241m=\u001b[39m\u001b[38;5;28mself\u001b[39m\u001b[38;5;241m.\u001b[39mkey_file,\n\u001b[0;32m    653\u001b[0m     key_password\u001b[38;5;241m=\u001b[39m\u001b[38;5;28mself\u001b[39m\u001b[38;5;241m.\u001b[39mkey_password,\n\u001b[0;32m    654\u001b[0m     server_hostname\u001b[38;5;241m=\u001b[39mserver_hostname,\n\u001b[0;32m    655\u001b[0m     ssl_context\u001b[38;5;241m=\u001b[39m\u001b[38;5;28mself\u001b[39m\u001b[38;5;241m.\u001b[39mssl_context,\n\u001b[0;32m    656\u001b[0m     tls_in_tls\u001b[38;5;241m=\u001b[39mtls_in_tls,\n\u001b[0;32m    657\u001b[0m     assert_hostname\u001b[38;5;241m=\u001b[39m\u001b[38;5;28mself\u001b[39m\u001b[38;5;241m.\u001b[39massert_hostname,\n\u001b[0;32m    658\u001b[0m     assert_fingerprint\u001b[38;5;241m=\u001b[39m\u001b[38;5;28mself\u001b[39m\u001b[38;5;241m.\u001b[39massert_fingerprint,\n\u001b[0;32m    659\u001b[0m )\n\u001b[0;32m    660\u001b[0m \u001b[38;5;28mself\u001b[39m\u001b[38;5;241m.\u001b[39msock \u001b[38;5;241m=\u001b[39m sock_and_verified\u001b[38;5;241m.\u001b[39msocket\n",
      "File \u001b[1;32m~\\AppData\\Local\\anaconda3\\Lib\\site-packages\\urllib3\\connection.py:783\u001b[0m, in \u001b[0;36m_ssl_wrap_socket_and_match_hostname\u001b[1;34m(sock, cert_reqs, ssl_version, ssl_minimum_version, ssl_maximum_version, cert_file, key_file, key_password, ca_certs, ca_cert_dir, ca_cert_data, assert_hostname, assert_fingerprint, server_hostname, ssl_context, tls_in_tls)\u001b[0m\n\u001b[0;32m    781\u001b[0m         server_hostname \u001b[38;5;241m=\u001b[39m normalized\n\u001b[1;32m--> 783\u001b[0m ssl_sock \u001b[38;5;241m=\u001b[39m ssl_wrap_socket(\n\u001b[0;32m    784\u001b[0m     sock\u001b[38;5;241m=\u001b[39msock,\n\u001b[0;32m    785\u001b[0m     keyfile\u001b[38;5;241m=\u001b[39mkey_file,\n\u001b[0;32m    786\u001b[0m     certfile\u001b[38;5;241m=\u001b[39mcert_file,\n\u001b[0;32m    787\u001b[0m     key_password\u001b[38;5;241m=\u001b[39mkey_password,\n\u001b[0;32m    788\u001b[0m     ca_certs\u001b[38;5;241m=\u001b[39mca_certs,\n\u001b[0;32m    789\u001b[0m     ca_cert_dir\u001b[38;5;241m=\u001b[39mca_cert_dir,\n\u001b[0;32m    790\u001b[0m     ca_cert_data\u001b[38;5;241m=\u001b[39mca_cert_data,\n\u001b[0;32m    791\u001b[0m     server_hostname\u001b[38;5;241m=\u001b[39mserver_hostname,\n\u001b[0;32m    792\u001b[0m     ssl_context\u001b[38;5;241m=\u001b[39mcontext,\n\u001b[0;32m    793\u001b[0m     tls_in_tls\u001b[38;5;241m=\u001b[39mtls_in_tls,\n\u001b[0;32m    794\u001b[0m )\n\u001b[0;32m    796\u001b[0m \u001b[38;5;28;01mtry\u001b[39;00m:\n",
      "File \u001b[1;32m~\\AppData\\Local\\anaconda3\\Lib\\site-packages\\urllib3\\util\\ssl_.py:471\u001b[0m, in \u001b[0;36mssl_wrap_socket\u001b[1;34m(sock, keyfile, certfile, cert_reqs, ca_certs, server_hostname, ssl_version, ciphers, ssl_context, ca_cert_dir, key_password, ca_cert_data, tls_in_tls)\u001b[0m\n\u001b[0;32m    469\u001b[0m     \u001b[38;5;28;01mpass\u001b[39;00m\n\u001b[1;32m--> 471\u001b[0m ssl_sock \u001b[38;5;241m=\u001b[39m _ssl_wrap_socket_impl(sock, context, tls_in_tls, server_hostname)\n\u001b[0;32m    472\u001b[0m \u001b[38;5;28;01mreturn\u001b[39;00m ssl_sock\n",
      "File \u001b[1;32m~\\AppData\\Local\\anaconda3\\Lib\\site-packages\\urllib3\\util\\ssl_.py:515\u001b[0m, in \u001b[0;36m_ssl_wrap_socket_impl\u001b[1;34m(sock, ssl_context, tls_in_tls, server_hostname)\u001b[0m\n\u001b[0;32m    513\u001b[0m     \u001b[38;5;28;01mreturn\u001b[39;00m SSLTransport(sock, ssl_context, server_hostname)\n\u001b[1;32m--> 515\u001b[0m \u001b[38;5;28;01mreturn\u001b[39;00m ssl_context\u001b[38;5;241m.\u001b[39mwrap_socket(sock, server_hostname\u001b[38;5;241m=\u001b[39mserver_hostname)\n",
      "File \u001b[1;32m~\\AppData\\Local\\anaconda3\\Lib\\ssl.py:517\u001b[0m, in \u001b[0;36mSSLContext.wrap_socket\u001b[1;34m(self, sock, server_side, do_handshake_on_connect, suppress_ragged_eofs, server_hostname, session)\u001b[0m\n\u001b[0;32m    511\u001b[0m \u001b[38;5;28;01mdef\u001b[39;00m \u001b[38;5;21mwrap_socket\u001b[39m(\u001b[38;5;28mself\u001b[39m, sock, server_side\u001b[38;5;241m=\u001b[39m\u001b[38;5;28;01mFalse\u001b[39;00m,\n\u001b[0;32m    512\u001b[0m                 do_handshake_on_connect\u001b[38;5;241m=\u001b[39m\u001b[38;5;28;01mTrue\u001b[39;00m,\n\u001b[0;32m    513\u001b[0m                 suppress_ragged_eofs\u001b[38;5;241m=\u001b[39m\u001b[38;5;28;01mTrue\u001b[39;00m,\n\u001b[0;32m    514\u001b[0m                 server_hostname\u001b[38;5;241m=\u001b[39m\u001b[38;5;28;01mNone\u001b[39;00m, session\u001b[38;5;241m=\u001b[39m\u001b[38;5;28;01mNone\u001b[39;00m):\n\u001b[0;32m    515\u001b[0m     \u001b[38;5;66;03m# SSLSocket class handles server_hostname encoding before it calls\u001b[39;00m\n\u001b[0;32m    516\u001b[0m     \u001b[38;5;66;03m# ctx._wrap_socket()\u001b[39;00m\n\u001b[1;32m--> 517\u001b[0m     \u001b[38;5;28;01mreturn\u001b[39;00m \u001b[38;5;28mself\u001b[39m\u001b[38;5;241m.\u001b[39msslsocket_class\u001b[38;5;241m.\u001b[39m_create(\n\u001b[0;32m    518\u001b[0m         sock\u001b[38;5;241m=\u001b[39msock,\n\u001b[0;32m    519\u001b[0m         server_side\u001b[38;5;241m=\u001b[39mserver_side,\n\u001b[0;32m    520\u001b[0m         do_handshake_on_connect\u001b[38;5;241m=\u001b[39mdo_handshake_on_connect,\n\u001b[0;32m    521\u001b[0m         suppress_ragged_eofs\u001b[38;5;241m=\u001b[39msuppress_ragged_eofs,\n\u001b[0;32m    522\u001b[0m         server_hostname\u001b[38;5;241m=\u001b[39mserver_hostname,\n\u001b[0;32m    523\u001b[0m         context\u001b[38;5;241m=\u001b[39m\u001b[38;5;28mself\u001b[39m,\n\u001b[0;32m    524\u001b[0m         session\u001b[38;5;241m=\u001b[39msession\n\u001b[0;32m    525\u001b[0m     )\n",
      "File \u001b[1;32m~\\AppData\\Local\\anaconda3\\Lib\\ssl.py:1108\u001b[0m, in \u001b[0;36mSSLSocket._create\u001b[1;34m(cls, sock, server_side, do_handshake_on_connect, suppress_ragged_eofs, server_hostname, context, session)\u001b[0m\n\u001b[0;32m   1107\u001b[0m             \u001b[38;5;28;01mraise\u001b[39;00m \u001b[38;5;167;01mValueError\u001b[39;00m(\u001b[38;5;124m\"\u001b[39m\u001b[38;5;124mdo_handshake_on_connect should not be specified for non-blocking sockets\u001b[39m\u001b[38;5;124m\"\u001b[39m)\n\u001b[1;32m-> 1108\u001b[0m         \u001b[38;5;28mself\u001b[39m\u001b[38;5;241m.\u001b[39mdo_handshake()\n\u001b[0;32m   1109\u001b[0m \u001b[38;5;28;01mexcept\u001b[39;00m (\u001b[38;5;167;01mOSError\u001b[39;00m, \u001b[38;5;167;01mValueError\u001b[39;00m):\n",
      "File \u001b[1;32m~\\AppData\\Local\\anaconda3\\Lib\\ssl.py:1383\u001b[0m, in \u001b[0;36mSSLSocket.do_handshake\u001b[1;34m(self, block)\u001b[0m\n\u001b[0;32m   1382\u001b[0m         \u001b[38;5;28mself\u001b[39m\u001b[38;5;241m.\u001b[39msettimeout(\u001b[38;5;28;01mNone\u001b[39;00m)\n\u001b[1;32m-> 1383\u001b[0m     \u001b[38;5;28mself\u001b[39m\u001b[38;5;241m.\u001b[39m_sslobj\u001b[38;5;241m.\u001b[39mdo_handshake()\n\u001b[0;32m   1384\u001b[0m \u001b[38;5;28;01mfinally\u001b[39;00m:\n",
      "\u001b[1;31mSSLCertVerificationError\u001b[0m: [SSL: CERTIFICATE_VERIFY_FAILED] certificate verify failed: self-signed certificate in certificate chain (_ssl.c:1006)",
      "\nDuring handling of the above exception, another exception occurred:\n",
      "\u001b[1;31mSSLError\u001b[0m                                  Traceback (most recent call last)",
      "File \u001b[1;32m~\\AppData\\Local\\anaconda3\\Lib\\site-packages\\urllib3\\connectionpool.py:791\u001b[0m, in \u001b[0;36mHTTPConnectionPool.urlopen\u001b[1;34m(self, method, url, body, headers, retries, redirect, assert_same_host, timeout, pool_timeout, release_conn, chunked, body_pos, preload_content, decode_content, **response_kw)\u001b[0m\n\u001b[0;32m    790\u001b[0m \u001b[38;5;66;03m# Make the request on the HTTPConnection object\u001b[39;00m\n\u001b[1;32m--> 791\u001b[0m response \u001b[38;5;241m=\u001b[39m \u001b[38;5;28mself\u001b[39m\u001b[38;5;241m.\u001b[39m_make_request(\n\u001b[0;32m    792\u001b[0m     conn,\n\u001b[0;32m    793\u001b[0m     method,\n\u001b[0;32m    794\u001b[0m     url,\n\u001b[0;32m    795\u001b[0m     timeout\u001b[38;5;241m=\u001b[39mtimeout_obj,\n\u001b[0;32m    796\u001b[0m     body\u001b[38;5;241m=\u001b[39mbody,\n\u001b[0;32m    797\u001b[0m     headers\u001b[38;5;241m=\u001b[39mheaders,\n\u001b[0;32m    798\u001b[0m     chunked\u001b[38;5;241m=\u001b[39mchunked,\n\u001b[0;32m    799\u001b[0m     retries\u001b[38;5;241m=\u001b[39mretries,\n\u001b[0;32m    800\u001b[0m     response_conn\u001b[38;5;241m=\u001b[39mresponse_conn,\n\u001b[0;32m    801\u001b[0m     preload_content\u001b[38;5;241m=\u001b[39mpreload_content,\n\u001b[0;32m    802\u001b[0m     decode_content\u001b[38;5;241m=\u001b[39mdecode_content,\n\u001b[0;32m    803\u001b[0m     \u001b[38;5;241m*\u001b[39m\u001b[38;5;241m*\u001b[39mresponse_kw,\n\u001b[0;32m    804\u001b[0m )\n\u001b[0;32m    806\u001b[0m \u001b[38;5;66;03m# Everything went great!\u001b[39;00m\n",
      "File \u001b[1;32m~\\AppData\\Local\\anaconda3\\Lib\\site-packages\\urllib3\\connectionpool.py:492\u001b[0m, in \u001b[0;36mHTTPConnectionPool._make_request\u001b[1;34m(self, conn, method, url, body, headers, retries, timeout, chunked, response_conn, preload_content, decode_content, enforce_content_length)\u001b[0m\n\u001b[0;32m    491\u001b[0m         new_e \u001b[38;5;241m=\u001b[39m _wrap_proxy_error(new_e, conn\u001b[38;5;241m.\u001b[39mproxy\u001b[38;5;241m.\u001b[39mscheme)\n\u001b[1;32m--> 492\u001b[0m     \u001b[38;5;28;01mraise\u001b[39;00m new_e\n\u001b[0;32m    494\u001b[0m \u001b[38;5;66;03m# conn.request() calls http.client.*.request, not the method in\u001b[39;00m\n\u001b[0;32m    495\u001b[0m \u001b[38;5;66;03m# urllib3.request. It also calls makefile (recv) on the socket.\u001b[39;00m\n",
      "\u001b[1;31mSSLError\u001b[0m: [SSL: CERTIFICATE_VERIFY_FAILED] certificate verify failed: self-signed certificate in certificate chain (_ssl.c:1006)",
      "\nThe above exception was the direct cause of the following exception:\n",
      "\u001b[1;31mMaxRetryError\u001b[0m                             Traceback (most recent call last)",
      "File \u001b[1;32m~\\AppData\\Local\\anaconda3\\Lib\\site-packages\\requests\\adapters.py:486\u001b[0m, in \u001b[0;36mHTTPAdapter.send\u001b[1;34m(self, request, stream, timeout, verify, cert, proxies)\u001b[0m\n\u001b[0;32m    485\u001b[0m \u001b[38;5;28;01mtry\u001b[39;00m:\n\u001b[1;32m--> 486\u001b[0m     resp \u001b[38;5;241m=\u001b[39m conn\u001b[38;5;241m.\u001b[39murlopen(\n\u001b[0;32m    487\u001b[0m         method\u001b[38;5;241m=\u001b[39mrequest\u001b[38;5;241m.\u001b[39mmethod,\n\u001b[0;32m    488\u001b[0m         url\u001b[38;5;241m=\u001b[39murl,\n\u001b[0;32m    489\u001b[0m         body\u001b[38;5;241m=\u001b[39mrequest\u001b[38;5;241m.\u001b[39mbody,\n\u001b[0;32m    490\u001b[0m         headers\u001b[38;5;241m=\u001b[39mrequest\u001b[38;5;241m.\u001b[39mheaders,\n\u001b[0;32m    491\u001b[0m         redirect\u001b[38;5;241m=\u001b[39m\u001b[38;5;28;01mFalse\u001b[39;00m,\n\u001b[0;32m    492\u001b[0m         assert_same_host\u001b[38;5;241m=\u001b[39m\u001b[38;5;28;01mFalse\u001b[39;00m,\n\u001b[0;32m    493\u001b[0m         preload_content\u001b[38;5;241m=\u001b[39m\u001b[38;5;28;01mFalse\u001b[39;00m,\n\u001b[0;32m    494\u001b[0m         decode_content\u001b[38;5;241m=\u001b[39m\u001b[38;5;28;01mFalse\u001b[39;00m,\n\u001b[0;32m    495\u001b[0m         retries\u001b[38;5;241m=\u001b[39m\u001b[38;5;28mself\u001b[39m\u001b[38;5;241m.\u001b[39mmax_retries,\n\u001b[0;32m    496\u001b[0m         timeout\u001b[38;5;241m=\u001b[39mtimeout,\n\u001b[0;32m    497\u001b[0m         chunked\u001b[38;5;241m=\u001b[39mchunked,\n\u001b[0;32m    498\u001b[0m     )\n\u001b[0;32m    500\u001b[0m \u001b[38;5;28;01mexcept\u001b[39;00m (ProtocolError, \u001b[38;5;167;01mOSError\u001b[39;00m) \u001b[38;5;28;01mas\u001b[39;00m err:\n",
      "File \u001b[1;32m~\\AppData\\Local\\anaconda3\\Lib\\site-packages\\urllib3\\connectionpool.py:845\u001b[0m, in \u001b[0;36mHTTPConnectionPool.urlopen\u001b[1;34m(self, method, url, body, headers, retries, redirect, assert_same_host, timeout, pool_timeout, release_conn, chunked, body_pos, preload_content, decode_content, **response_kw)\u001b[0m\n\u001b[0;32m    843\u001b[0m     new_e \u001b[38;5;241m=\u001b[39m ProtocolError(\u001b[38;5;124m\"\u001b[39m\u001b[38;5;124mConnection aborted.\u001b[39m\u001b[38;5;124m\"\u001b[39m, new_e)\n\u001b[1;32m--> 845\u001b[0m retries \u001b[38;5;241m=\u001b[39m retries\u001b[38;5;241m.\u001b[39mincrement(\n\u001b[0;32m    846\u001b[0m     method, url, error\u001b[38;5;241m=\u001b[39mnew_e, _pool\u001b[38;5;241m=\u001b[39m\u001b[38;5;28mself\u001b[39m, _stacktrace\u001b[38;5;241m=\u001b[39msys\u001b[38;5;241m.\u001b[39mexc_info()[\u001b[38;5;241m2\u001b[39m]\n\u001b[0;32m    847\u001b[0m )\n\u001b[0;32m    848\u001b[0m retries\u001b[38;5;241m.\u001b[39msleep()\n",
      "File \u001b[1;32m~\\AppData\\Local\\anaconda3\\Lib\\site-packages\\urllib3\\util\\retry.py:515\u001b[0m, in \u001b[0;36mRetry.increment\u001b[1;34m(self, method, url, response, error, _pool, _stacktrace)\u001b[0m\n\u001b[0;32m    514\u001b[0m     reason \u001b[38;5;241m=\u001b[39m error \u001b[38;5;129;01mor\u001b[39;00m ResponseError(cause)\n\u001b[1;32m--> 515\u001b[0m     \u001b[38;5;28;01mraise\u001b[39;00m MaxRetryError(_pool, url, reason) \u001b[38;5;28;01mfrom\u001b[39;00m \u001b[38;5;21;01mreason\u001b[39;00m  \u001b[38;5;66;03m# type: ignore[arg-type]\u001b[39;00m\n\u001b[0;32m    517\u001b[0m log\u001b[38;5;241m.\u001b[39mdebug(\u001b[38;5;124m\"\u001b[39m\u001b[38;5;124mIncremented Retry for (url=\u001b[39m\u001b[38;5;124m'\u001b[39m\u001b[38;5;132;01m%s\u001b[39;00m\u001b[38;5;124m'\u001b[39m\u001b[38;5;124m): \u001b[39m\u001b[38;5;132;01m%r\u001b[39;00m\u001b[38;5;124m\"\u001b[39m, url, new_retry)\n",
      "\u001b[1;31mMaxRetryError\u001b[0m: HTTPSConnectionPool(host='mhkdr.openei.org', port=443): Max retries exceeded with url: /api?action=getSubmissionsForPRIMRE (Caused by SSLError(SSLCertVerificationError(1, '[SSL: CERTIFICATE_VERIFY_FAILED] certificate verify failed: self-signed certificate in certificate chain (_ssl.c:1006)')))",
      "\nDuring handling of the above exception, another exception occurred:\n",
      "\u001b[1;31mSSLError\u001b[0m                                  Traceback (most recent call last)",
      "Cell \u001b[1;32mIn[2], line 3\u001b[0m\n\u001b[0;32m      1\u001b[0m tethys_response \u001b[38;5;241m=\u001b[39m requests\u001b[38;5;241m.\u001b[39mget(tethys_api)       \u001b[38;5;66;03m# Note: The tethys api grabs content specifically related to marine energy, and there is another API for wind energy.\u001b[39;00m\n\u001b[0;32m      2\u001b[0m tethys_e_response \u001b[38;5;241m=\u001b[39m requests\u001b[38;5;241m.\u001b[39mget(tethys_e_api)\n\u001b[1;32m----> 3\u001b[0m mhkdr_1_response \u001b[38;5;241m=\u001b[39m requests\u001b[38;5;241m.\u001b[39mget(mhkdr_api_1)\n\u001b[0;32m      4\u001b[0m mhkdr_2_response \u001b[38;5;241m=\u001b[39m requests\u001b[38;5;241m.\u001b[39mget(mhkdr_api_2)\n",
      "File \u001b[1;32m~\\AppData\\Local\\anaconda3\\Lib\\site-packages\\requests\\api.py:73\u001b[0m, in \u001b[0;36mget\u001b[1;34m(url, params, **kwargs)\u001b[0m\n\u001b[0;32m     62\u001b[0m \u001b[38;5;28;01mdef\u001b[39;00m \u001b[38;5;21mget\u001b[39m(url, params\u001b[38;5;241m=\u001b[39m\u001b[38;5;28;01mNone\u001b[39;00m, \u001b[38;5;241m*\u001b[39m\u001b[38;5;241m*\u001b[39mkwargs):\n\u001b[0;32m     63\u001b[0m \u001b[38;5;250m    \u001b[39m\u001b[38;5;124mr\u001b[39m\u001b[38;5;124;03m\"\"\"Sends a GET request.\u001b[39;00m\n\u001b[0;32m     64\u001b[0m \n\u001b[0;32m     65\u001b[0m \u001b[38;5;124;03m    :param url: URL for the new :class:`Request` object.\u001b[39;00m\n\u001b[1;32m   (...)\u001b[0m\n\u001b[0;32m     70\u001b[0m \u001b[38;5;124;03m    :rtype: requests.Response\u001b[39;00m\n\u001b[0;32m     71\u001b[0m \u001b[38;5;124;03m    \"\"\"\u001b[39;00m\n\u001b[1;32m---> 73\u001b[0m     \u001b[38;5;28;01mreturn\u001b[39;00m request(\u001b[38;5;124m\"\u001b[39m\u001b[38;5;124mget\u001b[39m\u001b[38;5;124m\"\u001b[39m, url, params\u001b[38;5;241m=\u001b[39mparams, \u001b[38;5;241m*\u001b[39m\u001b[38;5;241m*\u001b[39mkwargs)\n",
      "File \u001b[1;32m~\\AppData\\Local\\anaconda3\\Lib\\site-packages\\requests\\api.py:59\u001b[0m, in \u001b[0;36mrequest\u001b[1;34m(method, url, **kwargs)\u001b[0m\n\u001b[0;32m     55\u001b[0m \u001b[38;5;66;03m# By using the 'with' statement we are sure the session is closed, thus we\u001b[39;00m\n\u001b[0;32m     56\u001b[0m \u001b[38;5;66;03m# avoid leaving sockets open which can trigger a ResourceWarning in some\u001b[39;00m\n\u001b[0;32m     57\u001b[0m \u001b[38;5;66;03m# cases, and look like a memory leak in others.\u001b[39;00m\n\u001b[0;32m     58\u001b[0m \u001b[38;5;28;01mwith\u001b[39;00m sessions\u001b[38;5;241m.\u001b[39mSession() \u001b[38;5;28;01mas\u001b[39;00m session:\n\u001b[1;32m---> 59\u001b[0m     \u001b[38;5;28;01mreturn\u001b[39;00m session\u001b[38;5;241m.\u001b[39mrequest(method\u001b[38;5;241m=\u001b[39mmethod, url\u001b[38;5;241m=\u001b[39murl, \u001b[38;5;241m*\u001b[39m\u001b[38;5;241m*\u001b[39mkwargs)\n",
      "File \u001b[1;32m~\\AppData\\Local\\anaconda3\\Lib\\site-packages\\requests\\sessions.py:589\u001b[0m, in \u001b[0;36mSession.request\u001b[1;34m(self, method, url, params, data, headers, cookies, files, auth, timeout, allow_redirects, proxies, hooks, stream, verify, cert, json)\u001b[0m\n\u001b[0;32m    584\u001b[0m send_kwargs \u001b[38;5;241m=\u001b[39m {\n\u001b[0;32m    585\u001b[0m     \u001b[38;5;124m\"\u001b[39m\u001b[38;5;124mtimeout\u001b[39m\u001b[38;5;124m\"\u001b[39m: timeout,\n\u001b[0;32m    586\u001b[0m     \u001b[38;5;124m\"\u001b[39m\u001b[38;5;124mallow_redirects\u001b[39m\u001b[38;5;124m\"\u001b[39m: allow_redirects,\n\u001b[0;32m    587\u001b[0m }\n\u001b[0;32m    588\u001b[0m send_kwargs\u001b[38;5;241m.\u001b[39mupdate(settings)\n\u001b[1;32m--> 589\u001b[0m resp \u001b[38;5;241m=\u001b[39m \u001b[38;5;28mself\u001b[39m\u001b[38;5;241m.\u001b[39msend(prep, \u001b[38;5;241m*\u001b[39m\u001b[38;5;241m*\u001b[39msend_kwargs)\n\u001b[0;32m    591\u001b[0m \u001b[38;5;28;01mreturn\u001b[39;00m resp\n",
      "File \u001b[1;32m~\\AppData\\Local\\anaconda3\\Lib\\site-packages\\requests\\sessions.py:703\u001b[0m, in \u001b[0;36mSession.send\u001b[1;34m(self, request, **kwargs)\u001b[0m\n\u001b[0;32m    700\u001b[0m start \u001b[38;5;241m=\u001b[39m preferred_clock()\n\u001b[0;32m    702\u001b[0m \u001b[38;5;66;03m# Send the request\u001b[39;00m\n\u001b[1;32m--> 703\u001b[0m r \u001b[38;5;241m=\u001b[39m adapter\u001b[38;5;241m.\u001b[39msend(request, \u001b[38;5;241m*\u001b[39m\u001b[38;5;241m*\u001b[39mkwargs)\n\u001b[0;32m    705\u001b[0m \u001b[38;5;66;03m# Total elapsed time of the request (approximately)\u001b[39;00m\n\u001b[0;32m    706\u001b[0m elapsed \u001b[38;5;241m=\u001b[39m preferred_clock() \u001b[38;5;241m-\u001b[39m start\n",
      "File \u001b[1;32m~\\AppData\\Local\\anaconda3\\Lib\\site-packages\\requests\\adapters.py:517\u001b[0m, in \u001b[0;36mHTTPAdapter.send\u001b[1;34m(self, request, stream, timeout, verify, cert, proxies)\u001b[0m\n\u001b[0;32m    513\u001b[0m         \u001b[38;5;28;01mraise\u001b[39;00m ProxyError(e, request\u001b[38;5;241m=\u001b[39mrequest)\n\u001b[0;32m    515\u001b[0m     \u001b[38;5;28;01mif\u001b[39;00m \u001b[38;5;28misinstance\u001b[39m(e\u001b[38;5;241m.\u001b[39mreason, _SSLError):\n\u001b[0;32m    516\u001b[0m         \u001b[38;5;66;03m# This branch is for urllib3 v1.22 and later.\u001b[39;00m\n\u001b[1;32m--> 517\u001b[0m         \u001b[38;5;28;01mraise\u001b[39;00m SSLError(e, request\u001b[38;5;241m=\u001b[39mrequest)\n\u001b[0;32m    519\u001b[0m     \u001b[38;5;28;01mraise\u001b[39;00m \u001b[38;5;167;01mConnectionError\u001b[39;00m(e, request\u001b[38;5;241m=\u001b[39mrequest)\n\u001b[0;32m    521\u001b[0m \u001b[38;5;28;01mexcept\u001b[39;00m ClosedPoolError \u001b[38;5;28;01mas\u001b[39;00m e:\n",
      "\u001b[1;31mSSLError\u001b[0m: HTTPSConnectionPool(host='mhkdr.openei.org', port=443): Max retries exceeded with url: /api?action=getSubmissionsForPRIMRE (Caused by SSLError(SSLCertVerificationError(1, '[SSL: CERTIFICATE_VERIFY_FAILED] certificate verify failed: self-signed certificate in certificate chain (_ssl.c:1006)')))"
     ]
    }
   ],
   "source": [
    "tethys_response = requests.get(tethys_api)       # Note: The tethys api grabs content specifically related to marine energy, and there is another API for wind energy.\n",
    "tethys_e_response = requests.get(tethys_e_api)\n",
    "mhkdr_1_response = requests.get(mhkdr_api_1)\n",
    "mhkdr_2_response = requests.get(mhkdr_api_2)"
   ]
  },
  {
   "cell_type": "code",
   "execution_count": null,
   "id": "39aecd31-6eb5-41a1-b413-2f1d54b0c8fd",
   "metadata": {},
   "outputs": [],
   "source": [
    "tethys_response_json = tethys_response.json()\n",
    "tethys_e_response_json = tethys_e_response.json()\n",
    "mhkdr_1_response_json = mhkdr_1_response.json()\n",
    "mhkdr_2_response_json = mhkdr_2_response.json()"
   ]
  },
  {
   "cell_type": "code",
   "execution_count": null,
   "id": "30eddce2-0b7d-4a18-87e4-f65103cbfd5e",
   "metadata": {},
   "outputs": [],
   "source": [
    "tethys_df = pd.DataFrame(tethys_response_json)\n",
    "tethys_e_df = pd.DataFrame(tethys_e_response_json)\n",
    "mhkdr_1_df = pd.DataFrame(mhkdr_1_response_json)\n",
    "mhkdr_2_df = pd.DataFrame(mhkdr_2_response_json['dataset'])"
   ]
  },
  {
   "cell_type": "markdown",
   "id": "7ed26577-b780-4c67-8f16-62434756ac9a",
   "metadata": {},
   "source": [
    "### MHKDR Data\n",
    "\n",
    "|1|both|2|\n",
    "|:---:|:---:|:---:|\n",
    "||(URI, landingPage, sourceURL) / (identifier, landingPage)||\n",
    "|type|||\n",
    "||(title) / (title)||\n",
    "||(description) / (description)||\n",
    "|author|||\n",
    "|organization|||\n",
    "|originationDate|||\n",
    "||(spatial) / (spatial)?||\n",
    "|technologyType|||\n",
    "||(tags) / (keyword)||\n",
    "|signatureProject|||\n",
    "||(modifiedDate) / (modified)?||\n",
    "|||@type|\n",
    "|||accessLevel|\n",
    "|||bureauCode|\n",
    "|||license|\n",
    "|||issued|\n",
    "|||dataQuality|\n",
    "|||projectTitle|\n",
    "|||projectNumber|\n",
    "|||publisher|\n",
    "|||contactPoint|\n",
    "|||programCode|\n",
    "|||distribution|\n",
    "|||DOI|"
   ]
  },
  {
   "cell_type": "markdown",
   "id": "da1c5024-659e-457c-8bcb-9f638d5bfc85",
   "metadata": {},
   "source": [
    "### Dev"
   ]
  },
  {
   "cell_type": "markdown",
   "id": "bf25226d-b459-4470-b962-829fdc017cb3",
   "metadata": {},
   "source": [
    "#### 1.1 Should I prefer one or the other MHKDR data source when the fields are identical?\n",
    "\n",
    "The first step here is understanding if there are cases in which the values of the fields are not identical. For this, I will create a function that takes in some target columns 'x,' 'y,' and returns a dataframe where all of the rows of the df have values of 'x,' and 'y,' that are NOT identical. This will be necessary for testing identical columns in tethys/tethys e as well, and should prove useful for rooting out redundancy across the board."
   ]
  },
  {
   "cell_type": "code",
   "execution_count": null,
   "id": "32558dff-5bb7-421e-99ee-8351e0a18c6b",
   "metadata": {},
   "outputs": [],
   "source": [
    "tethys_df.head(3)"
   ]
  },
  {
   "cell_type": "markdown",
   "id": "c7dc0c75-18ab-47bc-9c75-6680aaa4cd02",
   "metadata": {},
   "source": [
    "After viewing the Tethys data again, I see the point. \"landingPage\" is different than \"sourceURL\" because the origin of tethys documents is not tethys. Tethys hosts the *connection* not the original source of the documents. So, every document in Tethys should have a \"sourceURL\" that is different from the Tethys page.\n",
    "\n",
    "Likewise, the \"URI\" is different from the \"landingPage\" because the URI includes the node number, and is difinitively unique. The URI redirects to the landingPage URL on travelling there, but the URI is not directly shown to users. This point is confusing in MHKDR because there is no difference between the URI and landingPage (URL)"
   ]
  },
  {
   "cell_type": "markdown",
   "id": "fc4112f5-cc66-4c4c-9b8e-5e8e40c3f5ad",
   "metadata": {},
   "source": [
    "Despite the promising findings above, I must still write the  function in order to test redundancy of identical columns across the MHKDR APIs"
   ]
  },
  {
   "cell_type": "code",
   "execution_count": null,
   "id": "31748a29-492c-4ba8-a101-eb8ccd3629de",
   "metadata": {},
   "outputs": [],
   "source": [
    "def identicals():\n",
    "    '''\n",
    "    The purpose of this function is to return a dataframe where, for each observation (row), the\n",
    "    values of the two columns are not identical.\n",
    "    '''\n",
    "        "
   ]
  },
  {
   "cell_type": "code",
   "execution_count": null,
   "id": "f1366af6-cc7a-4ab9-a7ea-dcf2ca81509d",
   "metadata": {},
   "outputs": [],
   "source": [
    "mhkdr_1_df.head(1)"
   ]
  },
  {
   "cell_type": "code",
   "execution_count": null,
   "id": "784efe09-588f-457e-b990-36705beeb40b",
   "metadata": {},
   "outputs": [],
   "source": [
    "mhkdr_2_df.head(1)"
   ]
  },
  {
   "cell_type": "code",
   "execution_count": null,
   "id": "fb9a32d6-d6b6-42bf-99ad-95d82471f18c",
   "metadata": {},
   "outputs": [],
   "source": [
    "a = mhkdr_1_df['URI'].equals(mhkdr_1_df['landingPage'])\n",
    "b = mhkdr_1_df['URI'].equals(mhkdr_1_df['sourceURL'])\n",
    "c = mhkdr_1_df['landingPage'].equals(mhkdr_1_df['sourceURL'])\n",
    "print(f'MHKDR API 1 : \"URI\" = \"landingPage\"       - {a}\\nMHKDR API 1 : \"URI\" = \"sourceURL\"         - {b}\\nMHKDR API 1 : \"landingPage\" = \"sourceURL\" - {c}')"
   ]
  },
  {
   "cell_type": "markdown",
   "id": "eb7ee867-7104-4d5a-9447-868e75801230",
   "metadata": {},
   "source": [
    "Looking good!\n",
    "\n",
    "As expected, the three columns of MHKDR API 1 (\"URI\" \"landingPage\" and \"sourceURL\") are identical."
   ]
  },
  {
   "cell_type": "code",
   "execution_count": null,
   "id": "cf8fc198-7e07-4972-b1f3-191929ef098a",
   "metadata": {},
   "outputs": [],
   "source": [
    "a = mhkdr_2_df['identifier'].equals(mhkdr_2_df['landingPage'])\n",
    "print(f'MHKDR API 2 : \"identifier\" = \"landingPage\"  - {a}')"
   ]
  },
  {
   "cell_type": "code",
   "execution_count": null,
   "id": "dce7b591-2f85-4d94-abe3-b6f49995e1a0",
   "metadata": {},
   "outputs": [],
   "source": [
    "a = mhkdr_1_df['title'].equals(mhkdr_2_df['title'])\n",
    "b = mhkdr_1_df['description'].equals(mhkdr_2_df['description'])\n",
    "c = mhkdr_1_df['spatial'].equals(mhkdr_2_df['spatial'])\n",
    "d = mhkdr_1_df['tags'].equals(mhkdr_2_df['keyword'])\n",
    "e = mhkdr_1_df['modifiedDate'].equals(mhkdr_2_df['modified'])\n",
    "print(f'MHKDR API 1-2 : \"title\" = \"title\"              - {a}\\nMHKDR API 1-2 : \"description\" = \"description\"  - {b}\\nMHKDR API 1-2 : \"spatial\" = \"spatial\"          - {c}\\nMHKDR API 1-2 : \"tags\" = \"keywords\"            - {d}\\nMHKDR API 1-2 : \"modifiedDate\" = \"modified\"    - {e}')"
   ]
  },
  {
   "cell_type": "markdown",
   "id": "0f8420d3-9ccb-4775-b5f9-ea29ea24273c",
   "metadata": {},
   "source": [
    "With the results above, I will elect to keeping the 3 redundant columns of data for MHKDR, so as to match the form of Tethys/Tethys Engineering, and store that all together. \n",
    "\n",
    "The evidently mismatching columsns must be investigated further to determine preferential inclusion into the final structure."
   ]
  },
  {
   "cell_type": "code",
   "execution_count": null,
   "id": "f1ccdf62-c478-45d4-8717-70cf74516482",
   "metadata": {},
   "outputs": [],
   "source": [
    "mhkdr_1_df['title'][0]"
   ]
  },
  {
   "cell_type": "code",
   "execution_count": null,
   "id": "4c135e20-9f36-4018-9132-f2fecfa0aeb6",
   "metadata": {},
   "outputs": [],
   "source": [
    "mhkdr_2_df['title'][0]"
   ]
  },
  {
   "cell_type": "markdown",
   "id": "49a1d10e-f490-4874-979d-58420389b355",
   "metadata": {},
   "source": [
    "They were mismatched because they were not sorted by id!\n",
    "\n",
    "Next, create the id column, append it, and then sort both dfs by id to compare apples to apples. Also, do a join to remove those 65 observations that are inluded in API 1 but not API 2. For these observations we have no choice but to use the variables we have access to. On writing that, that is a perfect prior for using API 1 vars in all cases. It will still be useful to do these test, because they will verify that there is no data loss by excluding some variables repeated by the two APIs"
   ]
  },
  {
   "cell_type": "code",
   "execution_count": null,
   "id": "14f461c9-9f4f-40b8-afe7-f5a14b6547cc",
   "metadata": {},
   "outputs": [],
   "source": [
    "ids_1 = list()\n",
    "for i in mhkdr_1_df['URI']:\n",
    "    a = primrea.kh_table_gen.entry_based.find_entry_id(i)\n",
    "    ids_1.append(a)\n",
    "\n",
    "ids_2 = list()\n",
    "for i in mhkdr_2_df['identifier']:\n",
    "    a = primrea.kh_table_gen.entry_based.find_entry_id(i)\n",
    "    ids_2.append(a)"
   ]
  },
  {
   "cell_type": "code",
   "execution_count": null,
   "id": "4551b439-a794-44b5-9511-b5e4fc3a83da",
   "metadata": {},
   "outputs": [],
   "source": [
    "mhkdr_1_df['id'] = ids_1\n",
    "mhkdr_2_df['id'] = ids_2"
   ]
  },
  {
   "cell_type": "code",
   "execution_count": null,
   "id": "54c59b35-cbdc-4a1b-8658-3b81ff3e14e4",
   "metadata": {},
   "outputs": [],
   "source": [
    "mhkdr_12_df = mhkdr_1_df.merge(mhkdr_2_df, on='id')"
   ]
  },
  {
   "cell_type": "code",
   "execution_count": null,
   "id": "d68eb8cd-0040-4e9d-95c3-8a8c430837ab",
   "metadata": {},
   "outputs": [],
   "source": [
    "mhkdr_12_df.keys()"
   ]
  },
  {
   "cell_type": "code",
   "execution_count": null,
   "id": "166e2625-8bca-4ec9-87a7-aa1430a5c9e0",
   "metadata": {},
   "outputs": [],
   "source": [
    "a = mhkdr_12_df['title_x'].equals(mhkdr_12_df['title_y'])\n",
    "b = mhkdr_12_df['description_x'].equals(mhkdr_12_df['description_y'])\n",
    "c = mhkdr_12_df['spatial_x'].equals(mhkdr_12_df['spatial_y'])\n",
    "d = mhkdr_12_df['tags'].equals(mhkdr_12_df['keyword'])\n",
    "e = mhkdr_12_df['modifiedDate'].equals(mhkdr_12_df['modified'])\n",
    "print(f'MHKDR API 1-2 : \"title\" = \"title\"              - {a}\\nMHKDR API 1-2 : \"description\" = \"description\"  - {b}\\nMHKDR API 1-2 : \"spatial\" = \"spatial\"          - {c}\\nMHKDR API 1-2 : \"tags\" = \"keywords\"            - {d}\\nMHKDR API 1-2 : \"modifiedDate\" = \"modified\"    - {e}')"
   ]
  },
  {
   "cell_type": "markdown",
   "id": "3a6f1668-1a42-4a1d-ae2f-68d9597e0229",
   "metadata": {},
   "source": [
    "It is good to see that the three variables\n",
    "1. title\n",
    "2. description\n",
    "3. tags\n",
    "\n",
    "Are identical across the APIs. I prefer those attached to API 1 for aformentioned reasons, so will include these three in the final structure.\n",
    "\n",
    "Next is analysis of the mismatches; \"spatial,\" and \"modifiedDate.\""
   ]
  },
  {
   "cell_type": "markdown",
   "id": "bdcab8c5-c172-470a-9650-04135b5315f5",
   "metadata": {},
   "source": [
    "#### Spatial"
   ]
  },
  {
   "cell_type": "code",
   "execution_count": null,
   "id": "d0766659-0b24-4e66-a418-42063a419901",
   "metadata": {},
   "outputs": [],
   "source": [
    "spatial_df = mhkdr_12_df[['spatial_x', 'spatial_y']]"
   ]
  },
  {
   "cell_type": "code",
   "execution_count": null,
   "id": "8a0348c5-9a50-469f-adb0-8b89c0170103",
   "metadata": {},
   "outputs": [],
   "source": [
    "spatial_df['spatial_x'][0]"
   ]
  },
  {
   "cell_type": "code",
   "execution_count": null,
   "id": "67f95969-7584-4397-93c8-9f22d37b41f9",
   "metadata": {},
   "outputs": [],
   "source": [
    "spatial_df['spatial_y'][0]"
   ]
  },
  {
   "cell_type": "markdown",
   "id": "eb48d1f9-4ed7-44e4-b2a6-0ec561142fb4",
   "metadata": {},
   "source": [
    "As we can see the same data is encoded with a different typing convention. Preference for the API 1 data as previously stated to match the typing of Tethys/Tethys Engineering data."
   ]
  },
  {
   "cell_type": "markdown",
   "id": "ea1adea0-bb10-4793-ba49-91d381515e75",
   "metadata": {},
   "source": [
    "#### modifiedDate"
   ]
  },
  {
   "cell_type": "code",
   "execution_count": null,
   "id": "521f3f66-7909-487f-887f-52d396937ec0",
   "metadata": {},
   "outputs": [],
   "source": [
    "mod_df = mhkdr_12_df[['modifiedDate', 'modified']]"
   ]
  },
  {
   "cell_type": "code",
   "execution_count": null,
   "id": "bdb3c18e-26f5-4b24-a390-2b5d6fd6baff",
   "metadata": {},
   "outputs": [],
   "source": [
    "mod_df['modifiedDate'][0]"
   ]
  },
  {
   "cell_type": "code",
   "execution_count": null,
   "id": "88ac6d7a-4922-4104-8570-f632eff031db",
   "metadata": {},
   "outputs": [],
   "source": [
    "mod_df['modified'][0]"
   ]
  },
  {
   "cell_type": "markdown",
   "id": "b59617b3-c72f-40f8-bd36-5086756f3389",
   "metadata": {},
   "source": [
    "As we can see, the same situation as 'spatial' - it is the same information encoded differently. Prefer API 1 data for consistency with Tethys/Tethys Engineering data."
   ]
  },
  {
   "cell_type": "markdown",
   "id": "06817753-6da1-4aff-9e1c-9309eb072674",
   "metadata": {},
   "source": [
    "#### type"
   ]
  },
  {
   "cell_type": "code",
   "execution_count": null,
   "id": "008c59e0-cd07-4f30-a65e-0d892a747a23",
   "metadata": {},
   "outputs": [],
   "source": [
    "mhkdr_12_df['type'][5]"
   ]
  },
  {
   "cell_type": "code",
   "execution_count": null,
   "id": "3f9228eb-4ab1-4c35-964d-3a8deac8c377",
   "metadata": {},
   "outputs": [],
   "source": [
    "mhkdr_12_df['@type'][5]"
   ]
  },
  {
   "cell_type": "markdown",
   "id": "1cc5f93d-3b21-4c16-8bd0-d86b21d1c31f",
   "metadata": {},
   "source": [
    "#### Other Variables"
   ]
  },
  {
   "cell_type": "code",
   "execution_count": null,
   "id": "60cd713a-d7bf-4603-8a20-946c33547c3a",
   "metadata": {},
   "outputs": [],
   "source": [
    "a = mhkdr_12_df['accessLevel']\n",
    "a.drop_duplicates()"
   ]
  },
  {
   "cell_type": "markdown",
   "id": "885f098c-d0be-4c22-bc4d-08d3d0fd7460",
   "metadata": {},
   "source": [
    "Remove accessLevel, no information gained."
   ]
  },
  {
   "cell_type": "code",
   "execution_count": null,
   "id": "d5cb1dbd-d159-4e02-9b69-7dcf71cb4c32",
   "metadata": {},
   "outputs": [],
   "source": [
    "a = mhkdr_12_df['bureauCode']\n",
    "a.drop_duplicates()"
   ]
  },
  {
   "cell_type": "markdown",
   "id": "ed552a5b-3e9c-4ed2-ac48-9002a0081afa",
   "metadata": {},
   "source": [
    "Remove bureaCode, no information gained."
   ]
  },
  {
   "cell_type": "code",
   "execution_count": null,
   "id": "369fe21e-b4ad-4f9a-b2fe-33b7859aa30d",
   "metadata": {},
   "outputs": [],
   "source": [
    "a = mhkdr_12_df['license']\n",
    "a.drop_duplicates()"
   ]
  },
  {
   "cell_type": "markdown",
   "id": "300aa384-b5ee-4d57-9dfc-418926b35c33",
   "metadata": {},
   "source": [
    "Possibly remove license - they are all the same so no info gained. Retain for now because this is important."
   ]
  },
  {
   "cell_type": "code",
   "execution_count": null,
   "id": "36da6f7d-528e-467f-9e86-e101e2466bb4",
   "metadata": {},
   "outputs": [],
   "source": [
    "a = mhkdr_12_df['issued']\n",
    "a.drop_duplicates()"
   ]
  },
  {
   "cell_type": "markdown",
   "id": "c5e303ac-2315-46e3-9dd7-b5fa80a1e5db",
   "metadata": {},
   "source": [
    "issued - retain for now, seemingly unuseful but this is for a discussion. What does this mean?"
   ]
  },
  {
   "cell_type": "code",
   "execution_count": null,
   "id": "1d8f4d2b-e4cc-446a-9cda-77ff07d374ed",
   "metadata": {},
   "outputs": [],
   "source": [
    "a = mhkdr_12_df['dataQuality']\n",
    "a.drop_duplicates()"
   ]
  },
  {
   "cell_type": "markdown",
   "id": "f3ac9f6c-91bf-4a7b-a322-a80e7d301f44",
   "metadata": {},
   "source": [
    "Possibly remove dataQuality - they are all the same so no info gained. Retain for now because this is important."
   ]
  },
  {
   "cell_type": "code",
   "execution_count": null,
   "id": "43f0410a-cf2b-4e8a-9794-6f64acbb92d1",
   "metadata": {},
   "outputs": [],
   "source": [
    "a = mhkdr_12_df['projectTitle']\n",
    "a.drop_duplicates()"
   ]
  },
  {
   "cell_type": "markdown",
   "id": "79fd310a-5974-4de1-a2d4-1ba223a5e5fd",
   "metadata": {},
   "source": [
    "Keep. This is interesting because it appears related to the current funding strategy of DOE, and might group outputs in a meaningful way as they relate to funding."
   ]
  },
  {
   "cell_type": "code",
   "execution_count": null,
   "id": "eb4e1653-0a34-4caa-800d-15a51fdda089",
   "metadata": {},
   "outputs": [],
   "source": [
    "a = mhkdr_12_df['projectNumber']\n",
    "a.drop_duplicates()"
   ]
  },
  {
   "cell_type": "markdown",
   "id": "0e3e0407-e6d1-47f4-89ec-41c775412215",
   "metadata": {},
   "source": [
    "Keep. Same reasons as 'projectTitle.' Very interesting because there are a different count in 'projectTitle,' and 'projectNumber,' indicating that these are not equivalent measures."
   ]
  },
  {
   "cell_type": "code",
   "execution_count": null,
   "id": "63651891-a974-4c6a-a2da-8a112dc3f95b",
   "metadata": {},
   "outputs": [],
   "source": [
    "a = mhkdr_12_df['publisher']\n",
    "a.drop_duplicates()"
   ]
  },
  {
   "cell_type": "markdown",
   "id": "8697e45a-dbcc-4b3e-865e-21e8ff54832c",
   "metadata": {},
   "source": [
    "publisher - can probably be dropped. This is simply one of the names of the authors. It does not add unique info uncaptured elsewhere, and it confuses the grain."
   ]
  },
  {
   "cell_type": "code",
   "execution_count": null,
   "id": "c71aeb37-0fe7-4793-aeea-2a8fe33c0386",
   "metadata": {},
   "outputs": [],
   "source": [
    "a = mhkdr_12_df['contactPoint']\n",
    "a.drop_duplicates()"
   ]
  },
  {
   "cell_type": "code",
   "execution_count": null,
   "id": "a2971761-cd6a-4de2-909d-d2f83246aa71",
   "metadata": {},
   "outputs": [],
   "source": [
    "mhkdr_12_df['contactPoint'][0]"
   ]
  },
  {
   "cell_type": "code",
   "execution_count": null,
   "id": "32fb0b6b-72ff-42d4-8818-8899293972da",
   "metadata": {},
   "outputs": [],
   "source": [
    "a = mhkdr_12_df['programCode']\n",
    "a.drop_duplicates()"
   ]
  },
  {
   "cell_type": "code",
   "execution_count": null,
   "id": "62434423-2772-4911-b79c-df130e364cbc",
   "metadata": {},
   "outputs": [],
   "source": [
    "a = mhkdr_12_df['DOI']\n",
    "a.drop_duplicates()"
   ]
  },
  {
   "cell_type": "code",
   "execution_count": null,
   "id": "8af2916c-2c89-482e-add1-59f83ec3b0c7",
   "metadata": {},
   "outputs": [],
   "source": []
  },
  {
   "cell_type": "code",
   "execution_count": null,
   "id": "bf24fd1e-e09c-4bd8-8820-8ef33c0d8d00",
   "metadata": {},
   "outputs": [],
   "source": []
  },
  {
   "cell_type": "markdown",
   "id": "114066c2-5748-46e2-b4cc-15d68164a976",
   "metadata": {},
   "source": [
    "### MHKDR Data - Revised\n",
    "\n",
    "|1|both|2|\n",
    "|:---:|:---:|:---:|\n",
    "||(URI, landingPage, sourceURL) / ~(identifier, landingPage)~||\n",
    "|type|||\n",
    "||(title) / ~(title)~||\n",
    "||(description) / ~(description)~||\n",
    "|author|||\n",
    "|organization|||\n",
    "|originationDate|||\n",
    "||(spatial) / ~(spatial)~||\n",
    "|technologyType|||\n",
    "||(tags) / ~(keyword)~||\n",
    "|signatureProject|||\n",
    "||(modifiedDate) / ~(modified)~||\n",
    "|||~@type~|\n",
    "|||~accessLevel~?|\n",
    "|||~bureauCode~?|\n",
    "|||license?|\n",
    "|||issued??|\n",
    "|||dataQuality?|\n",
    "|||projectTitle|\n",
    "|||projectNumber|\n",
    "|||~publisher~|\n",
    "|||contactPoint?|\n",
    "|||~programCode~|\n",
    "|||distribution|\n",
    "|||DOI?|"
   ]
  },
  {
   "cell_type": "markdown",
   "id": "1a8a5617-e8c4-46a3-af29-a07d79e65985",
   "metadata": {},
   "source": [
    "@type, accesslevel, bureauCode, dataquality good to axe,\n",
    "\n",
    "Doi, contactPoint, license keep\n",
    "\n",
    "DOI list of what doesn't have one good for QA/QC\n",
    "\n",
    "keep issued, keep anything that is just a bool that\n",
    "check 1-1 on publisher, if there is anything added by the field then keep it."
   ]
  },
  {
   "cell_type": "markdown",
   "id": "4e78b757-13f5-47ff-8011-b7761ef60bb2",
   "metadata": {},
   "source": [
    "#### 4.0 \"Distribution\"\n",
    "\n",
    "The aim of this section is to display the fields given by MHKDR API 2 in \"Distribution\" - so that his data can be mapped to the Tethys/Tethys Engineering data for finalizing the table structure."
   ]
  },
  {
   "cell_type": "code",
   "execution_count": 37,
   "id": "1aed9af2-3e34-401e-ae10-a2a29b5f5a59",
   "metadata": {},
   "outputs": [
    {
     "data": {
      "text/plain": [
       "{'@type': 'dcat:Distribution',\n",
       " 'description': 'A video recording of the data management and submission best practices training presentation and a recorded demo of data submission to the MHKDR',\n",
       " 'title': 'MHKDR Data Management and Submission Best Practices Video',\n",
       " 'accessURL': 'https://www.youtube.com/watch?v=QeqYr6W9HC0&list=PL4lfI7kmtVfqEk0SjiR9zPTpqVb2Mm9vO',\n",
       " 'format': 'HTML',\n",
       " 'mediaType': 'text/html'}"
      ]
     },
     "execution_count": 37,
     "metadata": {},
     "output_type": "execute_result"
    }
   ],
   "source": [
    "mhkdr_2_df['distribution'][0][0]"
   ]
  },
  {
   "cell_type": "code",
   "execution_count": 38,
   "id": "b53882ac-ea09-4fdc-ac19-cdedfb87054d",
   "metadata": {},
   "outputs": [
    {
     "data": {
      "text/plain": [
       "dict_keys(['@type', 'description', 'title', 'accessURL', 'format', 'mediaType'])"
      ]
     },
     "execution_count": 38,
     "metadata": {},
     "output_type": "execute_result"
    }
   ],
   "source": [
    "mhkdr_2_df['distribution'][0][0].keys()"
   ]
  },
  {
   "cell_type": "markdown",
   "id": "4efad12b-0ad8-41fc-96e1-5b1f7d95b10b",
   "metadata": {},
   "source": [
    "Decision:\n",
    "\n",
    "Keep Tethys & Tethys Engineering architecture separate from MHKDR. There would be significant loss of content by merging the two, and the merge can still be done after the fact by a user if they so desired. "
   ]
  }
 ],
 "metadata": {
  "kernelspec": {
   "display_name": "Python 3 (ipykernel)",
   "language": "python",
   "name": "python3"
  },
  "language_info": {
   "codemirror_mode": {
    "name": "ipython",
    "version": 3
   },
   "file_extension": ".py",
   "mimetype": "text/x-python",
   "name": "python",
   "nbconvert_exporter": "python",
   "pygments_lexer": "ipython3",
   "version": "3.11.7"
  }
 },
 "nbformat": 4,
 "nbformat_minor": 5
}
