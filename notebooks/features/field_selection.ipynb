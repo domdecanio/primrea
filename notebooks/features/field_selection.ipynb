{
 "cells": [
  {
   "cell_type": "markdown",
   "id": "d007e52b-d8d7-4cea-a30c-3c9235244246",
   "metadata": {},
   "source": [
    "# Field Selection"
   ]
  },
  {
   "cell_type": "markdown",
   "id": "6d9dcc36-be28-49d0-a0a1-910e1efd073a",
   "metadata": {},
   "source": [
    "The aim of this notebook is to continue the thread of \"mhkdr_apis_comparison\" and bring in the question of field selection within the context of Tethys / Tethys Engineering API results. The questions of interest follow. \n",
    "1. Is there any reason to prefer one or the other [MHKDR API] data source when the fields are identical?\n",
    "2. To what extent should the table structure be lossless when compared to the APIs?\n",
    "    - That is, the Tethys and Tethys Engineering APIs seem to duplicate a lot of fields. Should I keep these duplicate fields?\n",
    "       1. Are there any cases where these fields do differ?\n",
    "    - Similarly, should I keep all information from the API, even when this information seems useless? An example is the different \"@type\" variable in MHKDR, or the unique attribution style within MHKDR \"Organization\" field, that inlcudes the author again alongside other unique information.\n",
    "       1. Is there a situation is which these fields will help us achieve the goals of this package?\n",
    "  \n",
    "What are the goals of the package?\n",
    "1. Enable automated download of the content\n",
    "2. Enable cross-Knowledge Hub analysis of the Marine Energy Industry"
   ]
  },
  {
   "cell_type": "markdown",
   "id": "e639bcb8-5137-4a3e-96d6-e26570b080f0",
   "metadata": {},
   "source": [
    "### Setup"
   ]
  },
  {
   "cell_type": "code",
   "execution_count": 1,
   "id": "618f7c8d-48c2-4562-b1a8-17aca70d14c3",
   "metadata": {},
   "outputs": [],
   "source": [
    "import requests\n",
    "import json\n",
    "import pandas as pd\n",
    "#import re\n",
    "import primrea.core\n",
    "from primrea import *\n",
    "\n",
    "tethys_api = 'https://tethys.pnnl.gov/api/primre_export'\n",
    "tethys_e_api = 'https://tethys-engineering.pnnl.gov/api/primre_export'\n",
    "mhkdr_api_1 = 'https://mhkdr.openei.org/api?action=getSubmissionsForPRIMRE'\n",
    "mhkdr_api_2 = 'https://mhkdr.openei.org/data.json'"
   ]
  },
  {
   "cell_type": "code",
   "execution_count": 2,
   "id": "f1c94e23-e267-4ddb-b45c-5eca543259cb",
   "metadata": {},
   "outputs": [],
   "source": [
    "tethys_response = requests.get(tethys_api)       # Note: The tethys api grabs content specifically related to marine energy, and there is another API for wind energy.\n",
    "tethys_e_response = requests.get(tethys_e_api)\n",
    "mhkdr_1_response = requests.get(mhkdr_api_1)\n",
    "mhkdr_2_response = requests.get(mhkdr_api_2)"
   ]
  },
  {
   "cell_type": "code",
   "execution_count": 3,
   "id": "39aecd31-6eb5-41a1-b413-2f1d54b0c8fd",
   "metadata": {},
   "outputs": [],
   "source": [
    "tethys_response_json = tethys_response.json()\n",
    "tethys_e_response_json = tethys_e_response.json()\n",
    "mhkdr_1_response_json = mhkdr_1_response.json()\n",
    "mhkdr_2_response_json = mhkdr_2_response.json()"
   ]
  },
  {
   "cell_type": "code",
   "execution_count": 4,
   "id": "30eddce2-0b7d-4a18-87e4-f65103cbfd5e",
   "metadata": {},
   "outputs": [],
   "source": [
    "tethys_df = pd.DataFrame(tethys_response_json)\n",
    "tethys_e_df = pd.DataFrame(tethys_e_response_json)\n",
    "mhkdr_1_df = pd.DataFrame(mhkdr_1_response_json)\n",
    "mhkdr_2_df = pd.DataFrame(mhkdr_2_response_json['dataset'])"
   ]
  },
  {
   "cell_type": "markdown",
   "id": "7ed26577-b780-4c67-8f16-62434756ac9a",
   "metadata": {},
   "source": [
    "### MHKDR Data\n",
    "\n",
    "|1|both|2|\n",
    "|:---:|:---:|:---:|\n",
    "||(URI, landingPage, sourceURL) / (identifier, landingPage)||\n",
    "|type|||\n",
    "||(title) / (title)||\n",
    "||(description) / (description)||\n",
    "|author|||\n",
    "|organization|||\n",
    "|originationDate|||\n",
    "||(spatial) / (spatial)?||\n",
    "|technologyType|||\n",
    "||(tags) / (keyword)||\n",
    "|signatureProject|||\n",
    "||(modifiedDate) / (modified)?||\n",
    "|||@type|\n",
    "|||accessLevel|\n",
    "|||bureauCode|\n",
    "|||license|\n",
    "|||issued|\n",
    "|||dataQuality|\n",
    "|||projectTitle|\n",
    "|||projectNumber|\n",
    "|||publisher|\n",
    "|||contactPoint|\n",
    "|||programCode|\n",
    "|||distribution|\n",
    "|||DOI|"
   ]
  },
  {
   "cell_type": "markdown",
   "id": "da1c5024-659e-457c-8bcb-9f638d5bfc85",
   "metadata": {},
   "source": [
    "### Dev"
   ]
  },
  {
   "cell_type": "markdown",
   "id": "bf25226d-b459-4470-b962-829fdc017cb3",
   "metadata": {},
   "source": [
    "#### 1.1 Should I prefer one or the other MHKDR data source when the fields are identical?\n",
    "\n",
    "The first step here is understanding if there are cases in which the values of the fields are not identical. For this, I will create a function that takes in some target columns 'x,' 'y,' and returns a dataframe where all of the rows of the df have values of 'x,' and 'y,' that are NOT identical. This will be necessary for testing identical columns in tethys/tethys e as well, and should prove useful for rooting out redundancy across the board."
   ]
  },
  {
   "cell_type": "code",
   "execution_count": 5,
   "id": "32558dff-5bb7-421e-99ee-8351e0a18c6b",
   "metadata": {},
   "outputs": [
    {
     "data": {
      "text/html": [
       "<div>\n",
       "<style scoped>\n",
       "    .dataframe tbody tr th:only-of-type {\n",
       "        vertical-align: middle;\n",
       "    }\n",
       "\n",
       "    .dataframe tbody tr th {\n",
       "        vertical-align: top;\n",
       "    }\n",
       "\n",
       "    .dataframe thead th {\n",
       "        text-align: right;\n",
       "    }\n",
       "</style>\n",
       "<table border=\"1\" class=\"dataframe\">\n",
       "  <thead>\n",
       "    <tr style=\"text-align: right;\">\n",
       "      <th></th>\n",
       "      <th>URI</th>\n",
       "      <th>type</th>\n",
       "      <th>landingPage</th>\n",
       "      <th>sourceURL</th>\n",
       "      <th>title</th>\n",
       "      <th>description</th>\n",
       "      <th>author</th>\n",
       "      <th>organization</th>\n",
       "      <th>originationDate</th>\n",
       "      <th>spatial</th>\n",
       "      <th>technologyType</th>\n",
       "      <th>tags</th>\n",
       "      <th>modifiedDate</th>\n",
       "      <th>signatureProject</th>\n",
       "      <th>attachment</th>\n",
       "    </tr>\n",
       "  </thead>\n",
       "  <tbody>\n",
       "    <tr>\n",
       "      <th>0</th>\n",
       "      <td>https://tethys.pnnl.gov/node/499</td>\n",
       "      <td>[Document, Document/Journal Article]</td>\n",
       "      <td>https://tethys.pnnl.gov/publications/marine-re...</td>\n",
       "      <td>https://www.mdpi.com/1996-1073/10/10/1512/htm</td>\n",
       "      <td>Marine Renewable Energy in the Mediterranean S...</td>\n",
       "      <td>In this work, an extended overview of the mari...</td>\n",
       "      <td>[Soukissian, T., Denaxa, D., Karathanasi, F., ...</td>\n",
       "      <td>[Hellenic Centre for Marine Research (HCMR), N...</td>\n",
       "      <td>2017-09-29</td>\n",
       "      <td>[]</td>\n",
       "      <td>[]</td>\n",
       "      <td>[Environment, Human Dimensions]</td>\n",
       "      <td>2024-01-22 09:24:45</td>\n",
       "      <td>[]</td>\n",
       "      <td>[]</td>\n",
       "    </tr>\n",
       "    <tr>\n",
       "      <th>1</th>\n",
       "      <td>https://tethys.pnnl.gov/node/500</td>\n",
       "      <td>[Document, Document/Report]</td>\n",
       "      <td>https://tethys.pnnl.gov/publications/port-fair...</td>\n",
       "      <td>http://bps.energy/projects</td>\n",
       "      <td>The Port Fairy Pilot Wave Energy Project Envir...</td>\n",
       "      <td>This Environmental Management Plan (EMP) detai...</td>\n",
       "      <td>[BioPower Systems]</td>\n",
       "      <td>[BioPower Systems]</td>\n",
       "      <td>2016-02-09</td>\n",
       "      <td>{'coordinates': ['-38.398417000000', '142.1726...</td>\n",
       "      <td>[Wave]</td>\n",
       "      <td>[Environment, Environmental Impact Assessment]</td>\n",
       "      <td>2024-01-22 09:24:45</td>\n",
       "      <td>[]</td>\n",
       "      <td>[https://tethys.pnnl.gov/sites/default/files/p...</td>\n",
       "    </tr>\n",
       "    <tr>\n",
       "      <th>2</th>\n",
       "      <td>https://tethys.pnnl.gov/node/501</td>\n",
       "      <td>[Document, Document/Journal Article]</td>\n",
       "      <td>https://tethys.pnnl.gov/publications/baseline-...</td>\n",
       "      <td>https://www.sciencedirect.com/science/article/...</td>\n",
       "      <td>Baseline assessment of underwater noise in the...</td>\n",
       "      <td>The Ria Formosa is a sheltered large coastal l...</td>\n",
       "      <td>[Soares, C., Pacheco, A., Zabel, F., González-...</td>\n",
       "      <td>[Marine Sensing and Acoustic Technologies (Mar...</td>\n",
       "      <td>2020-01-10</td>\n",
       "      <td>{'coordinates': ['36.972554000000', '-7.870570...</td>\n",
       "      <td>[Current, Current/Tidal]</td>\n",
       "      <td>[Environment, Noise]</td>\n",
       "      <td>2024-01-22 09:24:45</td>\n",
       "      <td>[]</td>\n",
       "      <td>[]</td>\n",
       "    </tr>\n",
       "  </tbody>\n",
       "</table>\n",
       "</div>"
      ],
      "text/plain": [
       "                                URI                                  type  \\\n",
       "0  https://tethys.pnnl.gov/node/499  [Document, Document/Journal Article]   \n",
       "1  https://tethys.pnnl.gov/node/500           [Document, Document/Report]   \n",
       "2  https://tethys.pnnl.gov/node/501  [Document, Document/Journal Article]   \n",
       "\n",
       "                                         landingPage  \\\n",
       "0  https://tethys.pnnl.gov/publications/marine-re...   \n",
       "1  https://tethys.pnnl.gov/publications/port-fair...   \n",
       "2  https://tethys.pnnl.gov/publications/baseline-...   \n",
       "\n",
       "                                           sourceURL  \\\n",
       "0      https://www.mdpi.com/1996-1073/10/10/1512/htm   \n",
       "1                         http://bps.energy/projects   \n",
       "2  https://www.sciencedirect.com/science/article/...   \n",
       "\n",
       "                                               title  \\\n",
       "0  Marine Renewable Energy in the Mediterranean S...   \n",
       "1  The Port Fairy Pilot Wave Energy Project Envir...   \n",
       "2  Baseline assessment of underwater noise in the...   \n",
       "\n",
       "                                         description  \\\n",
       "0  In this work, an extended overview of the mari...   \n",
       "1  This Environmental Management Plan (EMP) detai...   \n",
       "2  The Ria Formosa is a sheltered large coastal l...   \n",
       "\n",
       "                                              author  \\\n",
       "0  [Soukissian, T., Denaxa, D., Karathanasi, F., ...   \n",
       "1                                 [BioPower Systems]   \n",
       "2  [Soares, C., Pacheco, A., Zabel, F., González-...   \n",
       "\n",
       "                                        organization originationDate  \\\n",
       "0  [Hellenic Centre for Marine Research (HCMR), N...      2017-09-29   \n",
       "1                                 [BioPower Systems]      2016-02-09   \n",
       "2  [Marine Sensing and Acoustic Technologies (Mar...      2020-01-10   \n",
       "\n",
       "                                             spatial  \\\n",
       "0                                                 []   \n",
       "1  {'coordinates': ['-38.398417000000', '142.1726...   \n",
       "2  {'coordinates': ['36.972554000000', '-7.870570...   \n",
       "\n",
       "             technologyType                                            tags  \\\n",
       "0                        []                 [Environment, Human Dimensions]   \n",
       "1                    [Wave]  [Environment, Environmental Impact Assessment]   \n",
       "2  [Current, Current/Tidal]                            [Environment, Noise]   \n",
       "\n",
       "          modifiedDate signatureProject  \\\n",
       "0  2024-01-22 09:24:45               []   \n",
       "1  2024-01-22 09:24:45               []   \n",
       "2  2024-01-22 09:24:45               []   \n",
       "\n",
       "                                          attachment  \n",
       "0                                                 []  \n",
       "1  [https://tethys.pnnl.gov/sites/default/files/p...  \n",
       "2                                                 []  "
      ]
     },
     "execution_count": 5,
     "metadata": {},
     "output_type": "execute_result"
    }
   ],
   "source": [
    "tethys_df.head(3)"
   ]
  },
  {
   "cell_type": "markdown",
   "id": "c7dc0c75-18ab-47bc-9c75-6680aaa4cd02",
   "metadata": {},
   "source": [
    "After viewing the Tethys data again, I see the point. \"landingPage\" is different than \"sourceURL\" because the origin of tethys documents is not tethys. Tethys hosts the *connection* not the original source of the documents. So, every document in Tethys should have a \"sourceURL\" that is different from the Tethys page.\n",
    "\n",
    "Likewise, the \"URI\" is different from the \"landingPage\" because the URI includes the node number, and is difinitively unique. The URI redirects to the landingPage URL on travelling there, but the URI is not directly shown to users. This point is confusing in MHKDR because there is no difference between the URI and landingPage (URL)"
   ]
  },
  {
   "cell_type": "markdown",
   "id": "fc4112f5-cc66-4c4c-9b8e-5e8e40c3f5ad",
   "metadata": {},
   "source": [
    "Despite the promising findings above, I must still write the  function in order to test redundancy of identical columns across the MHKDR APIs"
   ]
  },
  {
   "cell_type": "code",
   "execution_count": 6,
   "id": "31748a29-492c-4ba8-a101-eb8ccd3629de",
   "metadata": {},
   "outputs": [],
   "source": [
    "def identicals():\n",
    "    '''\n",
    "    The purpose of this function is to return a dataframe where, for each observation (row), the\n",
    "    values of the two columns are not identical.\n",
    "    '''\n",
    "        "
   ]
  },
  {
   "cell_type": "code",
   "execution_count": 7,
   "id": "f1366af6-cc7a-4ab9-a7ea-dcf2ca81509d",
   "metadata": {},
   "outputs": [
    {
     "data": {
      "text/html": [
       "<div>\n",
       "<style scoped>\n",
       "    .dataframe tbody tr th:only-of-type {\n",
       "        vertical-align: middle;\n",
       "    }\n",
       "\n",
       "    .dataframe tbody tr th {\n",
       "        vertical-align: top;\n",
       "    }\n",
       "\n",
       "    .dataframe thead th {\n",
       "        text-align: right;\n",
       "    }\n",
       "</style>\n",
       "<table border=\"1\" class=\"dataframe\">\n",
       "  <thead>\n",
       "    <tr style=\"text-align: right;\">\n",
       "      <th></th>\n",
       "      <th>URI</th>\n",
       "      <th>type</th>\n",
       "      <th>landingPage</th>\n",
       "      <th>sourceURL</th>\n",
       "      <th>title</th>\n",
       "      <th>description</th>\n",
       "      <th>author</th>\n",
       "      <th>organization</th>\n",
       "      <th>originationDate</th>\n",
       "      <th>spatial</th>\n",
       "      <th>technologyType</th>\n",
       "      <th>tags</th>\n",
       "      <th>signatureProject</th>\n",
       "      <th>modifiedDate</th>\n",
       "    </tr>\n",
       "  </thead>\n",
       "  <tbody>\n",
       "    <tr>\n",
       "      <th>0</th>\n",
       "      <td>https://mhkdr.openei.org/submissions/548</td>\n",
       "      <td>[Dataset, Document/Report]</td>\n",
       "      <td>https://mhkdr.openei.org/submissions/548</td>\n",
       "      <td>https://mhkdr.openei.org/submissions/548</td>\n",
       "      <td>CalWave - xWave Device, Non-Commercially Sensi...</td>\n",
       "      <td>CalWave has developed a submerged pressure dif...</td>\n",
       "      <td>[Marcus Lehmann, Ryan Davidson]</td>\n",
       "      <td>[CalWave Power Technologies Inc.]</td>\n",
       "      <td>2024-02-29 07:00:00</td>\n",
       "      <td>{'boundingCoordinatesNE': [44.63067800397145, ...</td>\n",
       "      <td>[Wave]</td>\n",
       "      <td>[MHK, Marine, Hydrokinetic, energy, power, wav...</td>\n",
       "      <td>[]</td>\n",
       "      <td>2024-04-25 20:40:00</td>\n",
       "    </tr>\n",
       "  </tbody>\n",
       "</table>\n",
       "</div>"
      ],
      "text/plain": [
       "                                        URI                        type  \\\n",
       "0  https://mhkdr.openei.org/submissions/548  [Dataset, Document/Report]   \n",
       "\n",
       "                                landingPage  \\\n",
       "0  https://mhkdr.openei.org/submissions/548   \n",
       "\n",
       "                                  sourceURL  \\\n",
       "0  https://mhkdr.openei.org/submissions/548   \n",
       "\n",
       "                                               title  \\\n",
       "0  CalWave - xWave Device, Non-Commercially Sensi...   \n",
       "\n",
       "                                         description  \\\n",
       "0  CalWave has developed a submerged pressure dif...   \n",
       "\n",
       "                            author                       organization  \\\n",
       "0  [Marcus Lehmann, Ryan Davidson]  [CalWave Power Technologies Inc.]   \n",
       "\n",
       "       originationDate                                            spatial  \\\n",
       "0  2024-02-29 07:00:00  {'boundingCoordinatesNE': [44.63067800397145, ...   \n",
       "\n",
       "  technologyType                                               tags  \\\n",
       "0         [Wave]  [MHK, Marine, Hydrokinetic, energy, power, wav...   \n",
       "\n",
       "  signatureProject         modifiedDate  \n",
       "0               []  2024-04-25 20:40:00  "
      ]
     },
     "execution_count": 7,
     "metadata": {},
     "output_type": "execute_result"
    }
   ],
   "source": [
    "mhkdr_1_df.head(1)"
   ]
  },
  {
   "cell_type": "code",
   "execution_count": 8,
   "id": "784efe09-588f-457e-b990-36705beeb40b",
   "metadata": {},
   "outputs": [
    {
     "data": {
      "text/html": [
       "<div>\n",
       "<style scoped>\n",
       "    .dataframe tbody tr th:only-of-type {\n",
       "        vertical-align: middle;\n",
       "    }\n",
       "\n",
       "    .dataframe tbody tr th {\n",
       "        vertical-align: top;\n",
       "    }\n",
       "\n",
       "    .dataframe thead th {\n",
       "        text-align: right;\n",
       "    }\n",
       "</style>\n",
       "<table border=\"1\" class=\"dataframe\">\n",
       "  <thead>\n",
       "    <tr style=\"text-align: right;\">\n",
       "      <th></th>\n",
       "      <th>@type</th>\n",
       "      <th>identifier</th>\n",
       "      <th>accessLevel</th>\n",
       "      <th>bureauCode</th>\n",
       "      <th>license</th>\n",
       "      <th>issued</th>\n",
       "      <th>dataQuality</th>\n",
       "      <th>title</th>\n",
       "      <th>description</th>\n",
       "      <th>keyword</th>\n",
       "      <th>...</th>\n",
       "      <th>projectTitle</th>\n",
       "      <th>projectNumber</th>\n",
       "      <th>modified</th>\n",
       "      <th>publisher</th>\n",
       "      <th>contactPoint</th>\n",
       "      <th>programCode</th>\n",
       "      <th>landingPage</th>\n",
       "      <th>distribution</th>\n",
       "      <th>spatial</th>\n",
       "      <th>DOI</th>\n",
       "    </tr>\n",
       "  </thead>\n",
       "  <tbody>\n",
       "    <tr>\n",
       "      <th>0</th>\n",
       "      <td>dcat:Dataset</td>\n",
       "      <td>https://mhkdr.openei.org/submissions/1</td>\n",
       "      <td>public</td>\n",
       "      <td>[019:20]</td>\n",
       "      <td>https://creativecommons.org/licenses/by/4.0/</td>\n",
       "      <td>2021-12-15T07:00:00Z</td>\n",
       "      <td>True</td>\n",
       "      <td>MHKDR Data Management and Best Practices for S...</td>\n",
       "      <td>Resources for MHKDR data submitters and curato...</td>\n",
       "      <td>[MHK, Marine, Hydrokinetic, energy, power, dat...</td>\n",
       "      <td>...</td>\n",
       "      <td>Marine and Hydrokinetic Data Repository (MHKDR)</td>\n",
       "      <td>35007</td>\n",
       "      <td>2022-05-26T18:08:40Z</td>\n",
       "      <td>{'@type': 'org:Organization', 'name': 'RJ Scavo'}</td>\n",
       "      <td>{'@type': 'vcard:Contact', 'fn': 'MHKDR Help',...</td>\n",
       "      <td>[019:009]</td>\n",
       "      <td>https://mhkdr.openei.org/submissions/1</td>\n",
       "      <td>[{'@type': 'dcat:Distribution', 'description':...</td>\n",
       "      <td>{\"type\":\"Polygon\",\"coordinates\":[[[-180,-83],[...</td>\n",
       "      <td>NaN</td>\n",
       "    </tr>\n",
       "  </tbody>\n",
       "</table>\n",
       "<p>1 rows × 21 columns</p>\n",
       "</div>"
      ],
      "text/plain": [
       "          @type                              identifier accessLevel  \\\n",
       "0  dcat:Dataset  https://mhkdr.openei.org/submissions/1      public   \n",
       "\n",
       "  bureauCode                                       license  \\\n",
       "0   [019:20]  https://creativecommons.org/licenses/by/4.0/   \n",
       "\n",
       "                 issued  dataQuality  \\\n",
       "0  2021-12-15T07:00:00Z         True   \n",
       "\n",
       "                                               title  \\\n",
       "0  MHKDR Data Management and Best Practices for S...   \n",
       "\n",
       "                                         description  \\\n",
       "0  Resources for MHKDR data submitters and curato...   \n",
       "\n",
       "                                             keyword  ...  \\\n",
       "0  [MHK, Marine, Hydrokinetic, energy, power, dat...  ...   \n",
       "\n",
       "                                      projectTitle projectNumber  \\\n",
       "0  Marine and Hydrokinetic Data Repository (MHKDR)         35007   \n",
       "\n",
       "               modified                                          publisher  \\\n",
       "0  2022-05-26T18:08:40Z  {'@type': 'org:Organization', 'name': 'RJ Scavo'}   \n",
       "\n",
       "                                        contactPoint programCode  \\\n",
       "0  {'@type': 'vcard:Contact', 'fn': 'MHKDR Help',...   [019:009]   \n",
       "\n",
       "                              landingPage  \\\n",
       "0  https://mhkdr.openei.org/submissions/1   \n",
       "\n",
       "                                        distribution  \\\n",
       "0  [{'@type': 'dcat:Distribution', 'description':...   \n",
       "\n",
       "                                             spatial  DOI  \n",
       "0  {\"type\":\"Polygon\",\"coordinates\":[[[-180,-83],[...  NaN  \n",
       "\n",
       "[1 rows x 21 columns]"
      ]
     },
     "execution_count": 8,
     "metadata": {},
     "output_type": "execute_result"
    }
   ],
   "source": [
    "mhkdr_2_df.head(1)"
   ]
  },
  {
   "cell_type": "code",
   "execution_count": 9,
   "id": "fb9a32d6-d6b6-42bf-99ad-95d82471f18c",
   "metadata": {},
   "outputs": [
    {
     "name": "stdout",
     "output_type": "stream",
     "text": [
      "MHKDR API 1 : \"URI\" = \"landingPage\"       - True\n",
      "MHKDR API 1 : \"URI\" = \"sourceURL\"         - True\n",
      "MHKDR API 1 : \"landingPage\" = \"sourceURL\" - True\n"
     ]
    }
   ],
   "source": [
    "a = mhkdr_1_df['URI'].equals(mhkdr_1_df['landingPage'])\n",
    "b = mhkdr_1_df['URI'].equals(mhkdr_1_df['sourceURL'])\n",
    "c = mhkdr_1_df['landingPage'].equals(mhkdr_1_df['sourceURL'])\n",
    "print(f'MHKDR API 1 : \"URI\" = \"landingPage\"       - {a}\\nMHKDR API 1 : \"URI\" = \"sourceURL\"         - {b}\\nMHKDR API 1 : \"landingPage\" = \"sourceURL\" - {c}')"
   ]
  },
  {
   "cell_type": "markdown",
   "id": "eb7ee867-7104-4d5a-9447-868e75801230",
   "metadata": {},
   "source": [
    "Looking good!\n",
    "\n",
    "As expected, the three columns of MHKDR API 1 (\"URI\" \"landingPage\" and \"sourceURL\") are identical."
   ]
  },
  {
   "cell_type": "code",
   "execution_count": 10,
   "id": "cf8fc198-7e07-4972-b1f3-191929ef098a",
   "metadata": {},
   "outputs": [
    {
     "name": "stdout",
     "output_type": "stream",
     "text": [
      "MHKDR API 2 : \"identifier\" = \"landingPage\"  - True\n"
     ]
    }
   ],
   "source": [
    "a = mhkdr_2_df['identifier'].equals(mhkdr_2_df['landingPage'])\n",
    "print(f'MHKDR API 2 : \"identifier\" = \"landingPage\"  - {a}')"
   ]
  },
  {
   "cell_type": "code",
   "execution_count": 11,
   "id": "dce7b591-2f85-4d94-abe3-b6f49995e1a0",
   "metadata": {},
   "outputs": [
    {
     "name": "stdout",
     "output_type": "stream",
     "text": [
      "MHKDR API 1-2 : \"title\" = \"title\"              - False\n",
      "MHKDR API 1-2 : \"description\" = \"description\"  - False\n",
      "MHKDR API 1-2 : \"spatial\" = \"spatial\"          - False\n",
      "MHKDR API 1-2 : \"tags\" = \"keywords\"            - False\n",
      "MHKDR API 1-2 : \"modifiedDate\" = \"modified\"    - False\n"
     ]
    }
   ],
   "source": [
    "a = mhkdr_1_df['title'].equals(mhkdr_2_df['title'])\n",
    "b = mhkdr_1_df['description'].equals(mhkdr_2_df['description'])\n",
    "c = mhkdr_1_df['spatial'].equals(mhkdr_2_df['spatial'])\n",
    "d = mhkdr_1_df['tags'].equals(mhkdr_2_df['keyword'])\n",
    "e = mhkdr_1_df['modifiedDate'].equals(mhkdr_2_df['modified'])\n",
    "print(f'MHKDR API 1-2 : \"title\" = \"title\"              - {a}\\nMHKDR API 1-2 : \"description\" = \"description\"  - {b}\\nMHKDR API 1-2 : \"spatial\" = \"spatial\"          - {c}\\nMHKDR API 1-2 : \"tags\" = \"keywords\"            - {d}\\nMHKDR API 1-2 : \"modifiedDate\" = \"modified\"    - {e}')"
   ]
  },
  {
   "cell_type": "markdown",
   "id": "0f8420d3-9ccb-4775-b5f9-ea29ea24273c",
   "metadata": {},
   "source": [
    "With the results above, I will elect to keeping the 3 redundant columns of data for MHKDR, so as to match the form of Tethys/Tethys Engineering, and store that all together. \n",
    "\n",
    "The evidently mismatching columsns must be investigated further to determine preferential inclusion into the final structure."
   ]
  },
  {
   "cell_type": "code",
   "execution_count": 12,
   "id": "f1ccdf62-c478-45d4-8717-70cf74516482",
   "metadata": {},
   "outputs": [
    {
     "data": {
      "text/plain": [
       "'CalWave - xWave Device, Non-Commercially Sensitive Project Report'"
      ]
     },
     "execution_count": 12,
     "metadata": {},
     "output_type": "execute_result"
    }
   ],
   "source": [
    "mhkdr_1_df['title'][0]"
   ]
  },
  {
   "cell_type": "code",
   "execution_count": 13,
   "id": "4c135e20-9f36-4018-9132-f2fecfa0aeb6",
   "metadata": {},
   "outputs": [
    {
     "data": {
      "text/plain": [
       "'MHKDR Data Management and Best Practices for Submitters and Curators'"
      ]
     },
     "execution_count": 13,
     "metadata": {},
     "output_type": "execute_result"
    }
   ],
   "source": [
    "mhkdr_2_df['title'][0]"
   ]
  },
  {
   "cell_type": "markdown",
   "id": "49a1d10e-f490-4874-979d-58420389b355",
   "metadata": {},
   "source": [
    "They were mismatched because they were not sorted by id!\n",
    "\n",
    "Next, create the id column, append it, and then sort both dfs by id to compare apples to apples. Also, do a join to remove those 65 observations that are inluded in API 1 but not API 2. For these observations we have no choice but to use the variables we have access to. On writing that, that is a perfect prior for using API 1 vars in all cases. It will still be useful to do these test, because they will verify that there is no data loss by excluding some variables repeated by the two APIs"
   ]
  },
  {
   "cell_type": "code",
   "execution_count": 14,
   "id": "14f461c9-9f4f-40b8-afe7-f5a14b6547cc",
   "metadata": {},
   "outputs": [],
   "source": [
    "ids_1 = list()\n",
    "for i in mhkdr_1_df['URI']:\n",
    "    a = primrea.kh_table_gen.entry_based.find_entry_id(i)\n",
    "    ids_1.append(a)\n",
    "\n",
    "ids_2 = list()\n",
    "for i in mhkdr_2_df['identifier']:\n",
    "    a = primrea.kh_table_gen.entry_based.find_entry_id(i)\n",
    "    ids_2.append(a)"
   ]
  },
  {
   "cell_type": "code",
   "execution_count": 15,
   "id": "4551b439-a794-44b5-9511-b5e4fc3a83da",
   "metadata": {},
   "outputs": [],
   "source": [
    "mhkdr_1_df['id'] = ids_1\n",
    "mhkdr_2_df['id'] = ids_2"
   ]
  },
  {
   "cell_type": "code",
   "execution_count": 16,
   "id": "54c59b35-cbdc-4a1b-8658-3b81ff3e14e4",
   "metadata": {},
   "outputs": [],
   "source": [
    "mhkdr_12_df = mhkdr_1_df.merge(mhkdr_2_df, on='id')"
   ]
  },
  {
   "cell_type": "code",
   "execution_count": 17,
   "id": "d68eb8cd-0040-4e9d-95c3-8a8c430837ab",
   "metadata": {},
   "outputs": [
    {
     "data": {
      "text/plain": [
       "Index(['URI', 'type', 'landingPage_x', 'sourceURL', 'title_x', 'description_x',\n",
       "       'author', 'organization', 'originationDate', 'spatial_x',\n",
       "       'technologyType', 'tags', 'signatureProject', 'modifiedDate', 'id',\n",
       "       '@type', 'identifier', 'accessLevel', 'bureauCode', 'license', 'issued',\n",
       "       'dataQuality', 'title_y', 'description_y', 'keyword', 'projectLead',\n",
       "       'projectTitle', 'projectNumber', 'modified', 'publisher',\n",
       "       'contactPoint', 'programCode', 'landingPage_y', 'distribution',\n",
       "       'spatial_y', 'DOI'],\n",
       "      dtype='object')"
      ]
     },
     "execution_count": 17,
     "metadata": {},
     "output_type": "execute_result"
    }
   ],
   "source": [
    "mhkdr_12_df.keys()"
   ]
  },
  {
   "cell_type": "code",
   "execution_count": 18,
   "id": "166e2625-8bca-4ec9-87a7-aa1430a5c9e0",
   "metadata": {},
   "outputs": [
    {
     "name": "stdout",
     "output_type": "stream",
     "text": [
      "MHKDR API 1-2 : \"title\" = \"title\"              - True\n",
      "MHKDR API 1-2 : \"description\" = \"description\"  - True\n",
      "MHKDR API 1-2 : \"spatial\" = \"spatial\"          - False\n",
      "MHKDR API 1-2 : \"tags\" = \"keywords\"            - True\n",
      "MHKDR API 1-2 : \"modifiedDate\" = \"modified\"    - False\n"
     ]
    }
   ],
   "source": [
    "a = mhkdr_12_df['title_x'].equals(mhkdr_12_df['title_y'])\n",
    "b = mhkdr_12_df['description_x'].equals(mhkdr_12_df['description_y'])\n",
    "c = mhkdr_12_df['spatial_x'].equals(mhkdr_12_df['spatial_y'])\n",
    "d = mhkdr_12_df['tags'].equals(mhkdr_12_df['keyword'])\n",
    "e = mhkdr_12_df['modifiedDate'].equals(mhkdr_12_df['modified'])\n",
    "print(f'MHKDR API 1-2 : \"title\" = \"title\"              - {a}\\nMHKDR API 1-2 : \"description\" = \"description\"  - {b}\\nMHKDR API 1-2 : \"spatial\" = \"spatial\"          - {c}\\nMHKDR API 1-2 : \"tags\" = \"keywords\"            - {d}\\nMHKDR API 1-2 : \"modifiedDate\" = \"modified\"    - {e}')"
   ]
  },
  {
   "cell_type": "markdown",
   "id": "3a6f1668-1a42-4a1d-ae2f-68d9597e0229",
   "metadata": {},
   "source": [
    "It is good to see that the three variables\n",
    "1. title\n",
    "2. description\n",
    "3. tags\n",
    "\n",
    "Are identical across the APIs. I prefer those attached to API 1 for aformentioned reasons, so will include these three in the final structure.\n",
    "\n",
    "Next is analysis of the mismatches; \"spatial,\" and \"modifiedDate.\""
   ]
  },
  {
   "cell_type": "markdown",
   "id": "bdcab8c5-c172-470a-9650-04135b5315f5",
   "metadata": {},
   "source": [
    "#### Spatial"
   ]
  },
  {
   "cell_type": "code",
   "execution_count": 19,
   "id": "d0766659-0b24-4e66-a418-42063a419901",
   "metadata": {},
   "outputs": [],
   "source": [
    "spatial_df = mhkdr_12_df[['spatial_x', 'spatial_y']]"
   ]
  },
  {
   "cell_type": "code",
   "execution_count": 20,
   "id": "8a0348c5-9a50-469f-adb0-8b89c0170103",
   "metadata": {},
   "outputs": [
    {
     "data": {
      "text/plain": [
       "{'boundingCoordinatesNE': [44.63067800397145, -121.943046875],\n",
       " 'boundingCoordinatesSW': [37.098651838142224, -125.91004687499999],\n",
       " 'extent': 'boundingBox'}"
      ]
     },
     "execution_count": 20,
     "metadata": {},
     "output_type": "execute_result"
    }
   ],
   "source": [
    "spatial_df['spatial_x'][0]"
   ]
  },
  {
   "cell_type": "code",
   "execution_count": 21,
   "id": "67f95969-7584-4397-93c8-9f22d37b41f9",
   "metadata": {},
   "outputs": [
    {
     "data": {
      "text/plain": [
       "'{\"type\":\"Polygon\",\"coordinates\":[[[-125.91004687499999,37.098651838142224],[-121.943046875,37.098651838142224],[-121.943046875,44.63067800397145],[-125.91004687499999,44.63067800397145],[-125.91004687499999,37.098651838142224]]]}'"
      ]
     },
     "execution_count": 21,
     "metadata": {},
     "output_type": "execute_result"
    }
   ],
   "source": [
    "spatial_df['spatial_y'][0]"
   ]
  },
  {
   "cell_type": "markdown",
   "id": "eb48d1f9-4ed7-44e4-b2a6-0ec561142fb4",
   "metadata": {},
   "source": [
    "As we can see the same data is encoded with a different typing convention. Preference for the API 1 data as previously stated to match the typing of Tethys/Tethys Engineering data."
   ]
  },
  {
   "cell_type": "markdown",
   "id": "ea1adea0-bb10-4793-ba49-91d381515e75",
   "metadata": {},
   "source": [
    "#### modifiedDate"
   ]
  },
  {
   "cell_type": "code",
   "execution_count": 22,
   "id": "521f3f66-7909-487f-887f-52d396937ec0",
   "metadata": {},
   "outputs": [],
   "source": [
    "mod_df = mhkdr_12_df[['modifiedDate', 'modified']]"
   ]
  },
  {
   "cell_type": "code",
   "execution_count": 23,
   "id": "bdb3c18e-26f5-4b24-a390-2b5d6fd6baff",
   "metadata": {},
   "outputs": [
    {
     "data": {
      "text/plain": [
       "'2024-04-25 20:40:00'"
      ]
     },
     "execution_count": 23,
     "metadata": {},
     "output_type": "execute_result"
    }
   ],
   "source": [
    "mod_df['modifiedDate'][0]"
   ]
  },
  {
   "cell_type": "code",
   "execution_count": 24,
   "id": "88ac6d7a-4922-4104-8570-f632eff031db",
   "metadata": {},
   "outputs": [
    {
     "data": {
      "text/plain": [
       "'2024-04-25T20:40:00Z'"
      ]
     },
     "execution_count": 24,
     "metadata": {},
     "output_type": "execute_result"
    }
   ],
   "source": [
    "mod_df['modified'][0]"
   ]
  },
  {
   "cell_type": "markdown",
   "id": "b59617b3-c72f-40f8-bd36-5086756f3389",
   "metadata": {},
   "source": [
    "As we can see, the same situation as 'spatial' - it is the same information encoded differently. Prefer API 1 data for consistency with Tethys/Tethys Engineering data."
   ]
  },
  {
   "cell_type": "markdown",
   "id": "06817753-6da1-4aff-9e1c-9309eb072674",
   "metadata": {},
   "source": [
    "#### type"
   ]
  },
  {
   "cell_type": "code",
   "execution_count": 25,
   "id": "008c59e0-cd07-4f30-a65e-0d892a747a23",
   "metadata": {},
   "outputs": [
    {
     "data": {
      "text/plain": [
       "['Dataset', 'Dataset/Archive', 'Document/Report', 'Dataset/OnlineTool']"
      ]
     },
     "execution_count": 25,
     "metadata": {},
     "output_type": "execute_result"
    }
   ],
   "source": [
    "mhkdr_12_df['type'][5]"
   ]
  },
  {
   "cell_type": "code",
   "execution_count": 26,
   "id": "3f9228eb-4ab1-4c35-964d-3a8deac8c377",
   "metadata": {},
   "outputs": [
    {
     "data": {
      "text/plain": [
       "'dcat:Dataset'"
      ]
     },
     "execution_count": 26,
     "metadata": {},
     "output_type": "execute_result"
    }
   ],
   "source": [
    "mhkdr_12_df['@type'][5]"
   ]
  },
  {
   "cell_type": "markdown",
   "id": "1cc5f93d-3b21-4c16-8bd0-d86b21d1c31f",
   "metadata": {},
   "source": [
    "#### Other Variables"
   ]
  },
  {
   "cell_type": "code",
   "execution_count": 27,
   "id": "38588d40-4696-42e1-b19a-ee35d4e46e83",
   "metadata": {},
   "outputs": [
    {
     "data": {
      "text/plain": [
       "0    dcat:Dataset\n",
       "Name: @type, dtype: object"
      ]
     },
     "execution_count": 27,
     "metadata": {},
     "output_type": "execute_result"
    }
   ],
   "source": [
    "a = mhkdr_12_df['@type']\n",
    "a.drop_duplicates()"
   ]
  },
  {
   "cell_type": "markdown",
   "id": "79ca4e97-71d6-41b1-8852-1da726ac284f",
   "metadata": {},
   "source": [
    "Remove @type, no information gained."
   ]
  },
  {
   "cell_type": "code",
   "execution_count": 28,
   "id": "60cd713a-d7bf-4603-8a20-946c33547c3a",
   "metadata": {},
   "outputs": [
    {
     "data": {
      "text/plain": [
       "0    public\n",
       "Name: accessLevel, dtype: object"
      ]
     },
     "execution_count": 28,
     "metadata": {},
     "output_type": "execute_result"
    }
   ],
   "source": [
    "a = mhkdr_12_df['accessLevel']\n",
    "a.drop_duplicates()"
   ]
  },
  {
   "cell_type": "markdown",
   "id": "885f098c-d0be-4c22-bc4d-08d3d0fd7460",
   "metadata": {},
   "source": [
    "Remove accessLevel, no information gained."
   ]
  },
  {
   "cell_type": "code",
   "execution_count": 29,
   "id": "d5cb1dbd-d159-4e02-9b69-7dcf71cb4c32",
   "metadata": {},
   "outputs": [
    {
     "data": {
      "text/plain": [
       "0    [019:20]\n",
       "Name: bureauCode, dtype: object"
      ]
     },
     "execution_count": 29,
     "metadata": {},
     "output_type": "execute_result"
    }
   ],
   "source": [
    "a = mhkdr_12_df['bureauCode']\n",
    "a.drop_duplicates()"
   ]
  },
  {
   "cell_type": "markdown",
   "id": "ed552a5b-3e9c-4ed2-ac48-9002a0081afa",
   "metadata": {},
   "source": [
    "Remove bureaCode, no information gained."
   ]
  },
  {
   "cell_type": "code",
   "execution_count": 30,
   "id": "369fe21e-b4ad-4f9a-b2fe-33b7859aa30d",
   "metadata": {},
   "outputs": [
    {
     "data": {
      "text/plain": [
       "0    https://creativecommons.org/licenses/by/4.0/\n",
       "Name: license, dtype: object"
      ]
     },
     "execution_count": 30,
     "metadata": {},
     "output_type": "execute_result"
    }
   ],
   "source": [
    "a = mhkdr_12_df['license']\n",
    "a.drop_duplicates()"
   ]
  },
  {
   "cell_type": "markdown",
   "id": "300aa384-b5ee-4d57-9dfc-418926b35c33",
   "metadata": {},
   "source": [
    "Possibly remove license - they are all the same so no info gained. Retain for now because this is important."
   ]
  },
  {
   "cell_type": "code",
   "execution_count": 31,
   "id": "36da6f7d-528e-467f-9e86-e101e2466bb4",
   "metadata": {},
   "outputs": [
    {
     "data": {
      "text/plain": [
       "0      2024-02-29T07:00:00Z\n",
       "1      2023-07-27T06:00:00Z\n",
       "2      2024-02-27T07:00:00Z\n",
       "3      2024-02-26T07:00:00Z\n",
       "4      2021-11-01T06:00:00Z\n",
       "               ...         \n",
       "325    2014-06-30T06:00:00Z\n",
       "326    2012-06-18T06:00:00Z\n",
       "327    2015-03-20T06:00:00Z\n",
       "328    2015-06-03T06:00:00Z\n",
       "334    2021-12-15T07:00:00Z\n",
       "Name: issued, Length: 224, dtype: object"
      ]
     },
     "execution_count": 31,
     "metadata": {},
     "output_type": "execute_result"
    }
   ],
   "source": [
    "a = mhkdr_12_df['issued']\n",
    "a.drop_duplicates()"
   ]
  },
  {
   "cell_type": "markdown",
   "id": "c5e303ac-2315-46e3-9dd7-b5fa80a1e5db",
   "metadata": {},
   "source": [
    "issued - retain for now, seemingly unuseful but this is for a discussion. What does this mean?"
   ]
  },
  {
   "cell_type": "code",
   "execution_count": 32,
   "id": "1d8f4d2b-e4cc-446a-9cda-77ff07d374ed",
   "metadata": {},
   "outputs": [
    {
     "data": {
      "text/plain": [
       "0    True\n",
       "Name: dataQuality, dtype: bool"
      ]
     },
     "execution_count": 32,
     "metadata": {},
     "output_type": "execute_result"
    }
   ],
   "source": [
    "a = mhkdr_12_df['dataQuality']\n",
    "a.drop_duplicates()"
   ]
  },
  {
   "cell_type": "markdown",
   "id": "f3ac9f6c-91bf-4a7b-a322-a80e7d301f44",
   "metadata": {},
   "source": [
    "Possibly remove dataQuality - they are all the same so no info gained. Retain for now because this is important."
   ]
  },
  {
   "cell_type": "code",
   "execution_count": 33,
   "id": "43f0410a-cf2b-4e8a-9794-6f64acbb92d1",
   "metadata": {},
   "outputs": [
    {
     "data": {
      "text/plain": [
       "0                         CalWave xWave Pilot at PacWave\n",
       "1      Co-locating Wave Energy with an Integrated Mul...\n",
       "2                           Advanced TidGen Power System\n",
       "3      Testing Expertise and Access for Marine Energy...\n",
       "4      Biofouling Analysis for Wave Energy Piston Design\n",
       "                             ...                        \n",
       "321                       Marine Renewable Energy Center\n",
       "322    Performance Testing for Hydrokinetic Canal Eff...\n",
       "326    Ocean Current, River and Tidal Hydrology for I...\n",
       "328      Aquantis 2.5 MW Ocean Current Generation Device\n",
       "334      Marine and Hydrokinetic Data Repository (MHKDR)\n",
       "Name: projectTitle, Length: 92, dtype: object"
      ]
     },
     "execution_count": 33,
     "metadata": {},
     "output_type": "execute_result"
    }
   ],
   "source": [
    "a = mhkdr_12_df['projectTitle']\n",
    "a.drop_duplicates()"
   ]
  },
  {
   "cell_type": "markdown",
   "id": "79fd310a-5974-4de1-a2d4-1ba223a5e5fd",
   "metadata": {},
   "source": [
    "Keep. This is interesting because it appears related to the current funding strategy of DOE, and might group outputs in a meaningful way as they relate to funding."
   ]
  },
  {
   "cell_type": "code",
   "execution_count": 34,
   "id": "eb4e1653-0a34-4caa-800d-15a51fdda089",
   "metadata": {},
   "outputs": [
    {
     "data": {
      "text/plain": [
       "0               EE0009952\n",
       "1      FY24 AOP 2.2.5.602\n",
       "2               EE0007820\n",
       "3               EE0008895\n",
       "7      FY24 AOP 2.1.2.705\n",
       "              ...        \n",
       "322                171701\n",
       "325         FY14 AOP 1321\n",
       "326         FY12 AOP 1323\n",
       "328             EE0003643\n",
       "334                 35007\n",
       "Name: projectNumber, Length: 81, dtype: object"
      ]
     },
     "execution_count": 34,
     "metadata": {},
     "output_type": "execute_result"
    }
   ],
   "source": [
    "a = mhkdr_12_df['projectNumber']\n",
    "a.drop_duplicates()"
   ]
  },
  {
   "cell_type": "markdown",
   "id": "0e3e0407-e6d1-47f4-89ec-41c775412215",
   "metadata": {},
   "source": [
    "Keep. Same reasons as 'projectTitle.' Very interesting because there are a different count in 'projectTitle,' and 'projectNumber,' indicating that these are not equivalent measures."
   ]
  },
  {
   "cell_type": "code",
   "execution_count": 35,
   "id": "63651891-a974-4c6a-a2da-8a112dc3f95b",
   "metadata": {},
   "outputs": [
    {
     "data": {
      "text/plain": [
       "0      {'@type': 'org:Organization', 'name': 'Ryan Da...\n",
       "1      {'@type': 'org:Organization', 'name': 'Lysel G...\n",
       "2      {'@type': 'org:Organization', 'name': 'Katie S...\n",
       "3      {'@type': 'org:Organization', 'name': 'Joseph ...\n",
       "4      {'@type': 'org:Organization', 'name': 'Linnea ...\n",
       "                             ...                        \n",
       "330    {'@type': 'org:Organization', 'name': 'Case Va...\n",
       "331    {'@type': 'org:Organization', 'name': 'Stephen...\n",
       "332    {'@type': 'org:Organization', 'name': 'David C...\n",
       "333    {'@type': 'org:Organization', 'name': 'Tyler M...\n",
       "334    {'@type': 'org:Organization', 'name': 'RJ Scavo'}\n",
       "Name: publisher, Length: 154, dtype: object"
      ]
     },
     "execution_count": 35,
     "metadata": {},
     "output_type": "execute_result"
    }
   ],
   "source": [
    "a = mhkdr_12_df['publisher']\n",
    "a.drop_duplicates()"
   ]
  },
  {
   "cell_type": "markdown",
   "id": "8697e45a-dbcc-4b3e-865e-21e8ff54832c",
   "metadata": {},
   "source": [
    "publisher - can probably be dropped. This is simply one of the names of the authors. It does not add unique info uncaptured elsewhere, and it confuses the grain."
   ]
  },
  {
   "cell_type": "code",
   "execution_count": 36,
   "id": "c71aeb37-0fe7-4793-aeea-2a8fe33c0386",
   "metadata": {},
   "outputs": [
    {
     "data": {
      "text/plain": [
       "0      {'@type': 'vcard:Contact', 'fn': 'Marcus Lehma...\n",
       "1      {'@type': 'vcard:Contact', 'fn': 'James McVey'...\n",
       "2      {'@type': 'vcard:Contact', 'fn': 'Jarlath McEn...\n",
       "3      {'@type': 'vcard:Contact', 'fn': 'James Turnbu...\n",
       "4      {'@type': 'vcard:Contact', 'fn': 'Tyler Robert...\n",
       "                             ...                        \n",
       "314    {'@type': 'vcard:Contact', 'fn': 'Eric Nelson'...\n",
       "321    {'@type': 'vcard:Contact', 'fn': 'Steven Lohre...\n",
       "322    {'@type': 'vcard:Contact', 'fn': 'Budi Gunawan...\n",
       "328    {'@type': 'vcard:Contact', 'fn': 'David Arthur...\n",
       "334    {'@type': 'vcard:Contact', 'fn': 'MHKDR Help',...\n",
       "Name: contactPoint, Length: 105, dtype: object"
      ]
     },
     "execution_count": 36,
     "metadata": {},
     "output_type": "execute_result"
    }
   ],
   "source": [
    "a = mhkdr_12_df['contactPoint']\n",
    "a.drop_duplicates()"
   ]
  },
  {
   "cell_type": "code",
   "execution_count": 37,
   "id": "a2971761-cd6a-4de2-909d-d2f83246aa71",
   "metadata": {},
   "outputs": [
    {
     "data": {
      "text/plain": [
       "{'@type': 'vcard:Contact',\n",
       " 'fn': 'Marcus Lehmann',\n",
       " 'hasEmail': 'mailto:marcus@calwave.energy'}"
      ]
     },
     "execution_count": 37,
     "metadata": {},
     "output_type": "execute_result"
    }
   ],
   "source": [
    "mhkdr_12_df['contactPoint'][0]"
   ]
  },
  {
   "cell_type": "code",
   "execution_count": 38,
   "id": "32fb0b6b-72ff-42d4-8818-8899293972da",
   "metadata": {},
   "outputs": [
    {
     "data": {
      "text/plain": [
       "0    [019:009]\n",
       "Name: programCode, dtype: object"
      ]
     },
     "execution_count": 38,
     "metadata": {},
     "output_type": "execute_result"
    }
   ],
   "source": [
    "a = mhkdr_12_df['programCode']\n",
    "a.drop_duplicates()"
   ]
  },
  {
   "cell_type": "code",
   "execution_count": 39,
   "id": "62434423-2772-4911-b79c-df130e364cbc",
   "metadata": {},
   "outputs": [
    {
     "data": {
      "text/plain": [
       "0                   NaN\n",
       "1      10.15473/2331255\n",
       "3      10.15473/2339895\n",
       "4      10.15473/2315037\n",
       "5      10.15473/2316040\n",
       "             ...       \n",
       "328    10.15473/1417350\n",
       "330    10.15473/1417297\n",
       "331    10.15473/1417292\n",
       "332    10.15473/1415193\n",
       "333    10.15473/1413995\n",
       "Name: DOI, Length: 271, dtype: object"
      ]
     },
     "execution_count": 39,
     "metadata": {},
     "output_type": "execute_result"
    }
   ],
   "source": [
    "a = mhkdr_12_df['DOI']\n",
    "a.drop_duplicates()"
   ]
  },
  {
   "cell_type": "markdown",
   "id": "114066c2-5748-46e2-b4cc-15d68164a976",
   "metadata": {},
   "source": [
    "### MHKDR Data - Revised\n",
    "\n",
    "|1|both|2|\n",
    "|:---:|:---:|:---:|\n",
    "||(URI, landingPage, sourceURL) / ~(identifier, landingPage)~||\n",
    "|type|||\n",
    "||(title) / ~(title)~||\n",
    "||(description) / ~(description)~||\n",
    "|author|||\n",
    "|organization|||\n",
    "|originationDate|||\n",
    "||(spatial) / ~(spatial)~||\n",
    "|technologyType|||\n",
    "||(tags) / ~(keyword)~||\n",
    "|signatureProject|||\n",
    "||(modifiedDate) / ~(modified)~||\n",
    "|||~@type~|\n",
    "|||~accessLevel~|\n",
    "|||~bureauCode~|\n",
    "|||license?|\n",
    "|||issued?|\n",
    "|||~dataQuality~|\n",
    "|||projectTitle|\n",
    "|||projectNumber|\n",
    "|||~publisher~|\n",
    "|||contactPoint?|\n",
    "|||~programCode~|\n",
    "|||distribution|\n",
    "|||DOI?|"
   ]
  },
  {
   "cell_type": "markdown",
   "id": "1a8a5617-e8c4-46a3-af29-a07d79e65985",
   "metadata": {},
   "source": [
    "@type, accesslevel, bureauCode, dataquality good to axe,\n",
    "\n",
    "Doi, contactPoint, license keep\n",
    "\n",
    "DOI list of what doesn't have one good for QA/QC\n",
    "\n",
    "keep issued, keep anything that is just a bool that\n",
    "check 1-1 on publisher, if there is anything added by the field then keep it."
   ]
  },
  {
   "cell_type": "markdown",
   "id": "4e78b757-13f5-47ff-8011-b7761ef60bb2",
   "metadata": {},
   "source": [
    "#### 4.0 \"Distribution\"\n",
    "\n",
    "The aim of this section is to display the fields given by MHKDR API 2 in \"Distribution\" - so that his data can be mapped to the Tethys/Tethys Engineering data for finalizing the table structure."
   ]
  },
  {
   "cell_type": "code",
   "execution_count": 40,
   "id": "1aed9af2-3e34-401e-ae10-a2a29b5f5a59",
   "metadata": {},
   "outputs": [
    {
     "data": {
      "text/plain": [
       "{'@type': 'dcat:Distribution',\n",
       " 'description': 'A video recording of the data management and submission best practices training presentation and a recorded demo of data submission to the MHKDR',\n",
       " 'title': 'MHKDR Data Management and Submission Best Practices Video',\n",
       " 'accessURL': 'https://www.youtube.com/watch?v=QeqYr6W9HC0&list=PL4lfI7kmtVfqEk0SjiR9zPTpqVb2Mm9vO',\n",
       " 'format': 'HTML',\n",
       " 'mediaType': 'text/html'}"
      ]
     },
     "execution_count": 40,
     "metadata": {},
     "output_type": "execute_result"
    }
   ],
   "source": [
    "mhkdr_2_df['distribution'][0][0]"
   ]
  },
  {
   "cell_type": "code",
   "execution_count": 41,
   "id": "b53882ac-ea09-4fdc-ac19-cdedfb87054d",
   "metadata": {},
   "outputs": [
    {
     "data": {
      "text/plain": [
       "dict_keys(['@type', 'description', 'title', 'accessURL', 'format', 'mediaType'])"
      ]
     },
     "execution_count": 41,
     "metadata": {},
     "output_type": "execute_result"
    }
   ],
   "source": [
    "mhkdr_2_df['distribution'][0][0].keys()"
   ]
  },
  {
   "cell_type": "markdown",
   "id": "4efad12b-0ad8-41fc-96e1-5b1f7d95b10b",
   "metadata": {},
   "source": [
    "Decision:\n",
    "\n",
    "Keep Tethys & Tethys Engineering architecture separate from MHKDR. There would be significant loss of content by merging the two, and the merge can still be done after the fact by a user if they so desired. "
   ]
  },
  {
   "cell_type": "code",
   "execution_count": null,
   "id": "f2258fa4-2d23-4159-a0be-3da9dd9835f4",
   "metadata": {},
   "outputs": [],
   "source": []
  },
  {
   "cell_type": "code",
   "execution_count": 49,
   "id": "113b5919-f9f0-4d8a-a551-2d5d390b698b",
   "metadata": {},
   "outputs": [
    {
     "data": {
      "text/plain": [
       "[[],\n",
       " [],\n",
       " [],\n",
       " [],\n",
       " [],\n",
       " [],\n",
       " [],\n",
       " [],\n",
       " [],\n",
       " [],\n",
       " ['TEAMER'],\n",
       " [],\n",
       " ['TEAMER'],\n",
       " ['TEAMER'],\n",
       " [],\n",
       " ['WEC-Sim'],\n",
       " ['WEC-Sim'],\n",
       " [],\n",
       " [],\n",
       " [],\n",
       " ['TEAMER'],\n",
       " [],\n",
       " [],\n",
       " ['TEAMER'],\n",
       " [],\n",
       " [],\n",
       " [],\n",
       " [],\n",
       " [],\n",
       " [],\n",
       " ['TEAMER'],\n",
       " ['TEAMER'],\n",
       " ['Wave Energy Prize'],\n",
       " ['Wave Energy Prize'],\n",
       " ['WEC-Sim'],\n",
       " [],\n",
       " [],\n",
       " [],\n",
       " [],\n",
       " [],\n",
       " [],\n",
       " [],\n",
       " [],\n",
       " [],\n",
       " ['TEAMER'],\n",
       " [],\n",
       " ['WEC-Sim'],\n",
       " [],\n",
       " ['WEC-Sim'],\n",
       " ['TEAMER'],\n",
       " ['LUPA'],\n",
       " ['TEAMER'],\n",
       " ['TEAMER'],\n",
       " [],\n",
       " ['TEAMER'],\n",
       " [],\n",
       " [],\n",
       " [],\n",
       " [],\n",
       " [],\n",
       " ['TEAMER'],\n",
       " ['TEAMER'],\n",
       " [],\n",
       " ['TEAMER'],\n",
       " [],\n",
       " [],\n",
       " [],\n",
       " [],\n",
       " [],\n",
       " ['MHKiT'],\n",
       " ['LUPA'],\n",
       " ['TEAMER'],\n",
       " [],\n",
       " ['TEAMER'],\n",
       " ['TEAMER'],\n",
       " [],\n",
       " ['TEAMER'],\n",
       " [],\n",
       " [],\n",
       " ['TEAMER'],\n",
       " [],\n",
       " [],\n",
       " [],\n",
       " [],\n",
       " ['TEAMER'],\n",
       " ['TEAMER'],\n",
       " ['TEAMER'],\n",
       " ['TEAMER'],\n",
       " [],\n",
       " [],\n",
       " [],\n",
       " [],\n",
       " [],\n",
       " [],\n",
       " [],\n",
       " [],\n",
       " [],\n",
       " [],\n",
       " [],\n",
       " [],\n",
       " [],\n",
       " [],\n",
       " [],\n",
       " ['TEAMER'],\n",
       " ['TEAMER'],\n",
       " [],\n",
       " [],\n",
       " [],\n",
       " [],\n",
       " [],\n",
       " [],\n",
       " [],\n",
       " [],\n",
       " ['TEAMER'],\n",
       " [],\n",
       " [],\n",
       " ['TEAMER', 'WEC-Sim'],\n",
       " [],\n",
       " [],\n",
       " ['TEAMER', 'WEC-Sim'],\n",
       " ['Advanced WEC Dynamics and Controls'],\n",
       " [],\n",
       " ['Reference Model'],\n",
       " ['Reference Model'],\n",
       " ['Reference Model'],\n",
       " [],\n",
       " [],\n",
       " ['Reference Model'],\n",
       " ['Reference Model'],\n",
       " ['Reference Model'],\n",
       " ['Reference Model'],\n",
       " ['Reference Model'],\n",
       " ['Reference Model'],\n",
       " ['Reference Model'],\n",
       " ['Reference Model'],\n",
       " ['Reference Model'],\n",
       " ['Reference Model'],\n",
       " ['Reference Model'],\n",
       " ['Reference Model'],\n",
       " [],\n",
       " [],\n",
       " [],\n",
       " [],\n",
       " [],\n",
       " [],\n",
       " [],\n",
       " [],\n",
       " [],\n",
       " [],\n",
       " ['Advanced WEC Dynamics and Controls'],\n",
       " [],\n",
       " [],\n",
       " [],\n",
       " [],\n",
       " [],\n",
       " [],\n",
       " [],\n",
       " [],\n",
       " [],\n",
       " [],\n",
       " [],\n",
       " [],\n",
       " [],\n",
       " [],\n",
       " [],\n",
       " [],\n",
       " [],\n",
       " [],\n",
       " [],\n",
       " [],\n",
       " [],\n",
       " [],\n",
       " [],\n",
       " [],\n",
       " [],\n",
       " [],\n",
       " [],\n",
       " [],\n",
       " ['Advanced WEC Dynamics and Controls'],\n",
       " [],\n",
       " [],\n",
       " [],\n",
       " [],\n",
       " [],\n",
       " [],\n",
       " ['Advanced WEC Dynamics and Controls'],\n",
       " [],\n",
       " [],\n",
       " [],\n",
       " [],\n",
       " [],\n",
       " [],\n",
       " [],\n",
       " [],\n",
       " [],\n",
       " [],\n",
       " [],\n",
       " [],\n",
       " [],\n",
       " [],\n",
       " [],\n",
       " [],\n",
       " [],\n",
       " [],\n",
       " [],\n",
       " [],\n",
       " [],\n",
       " [],\n",
       " [],\n",
       " [],\n",
       " [],\n",
       " [],\n",
       " [],\n",
       " [],\n",
       " [],\n",
       " [],\n",
       " [],\n",
       " [],\n",
       " [],\n",
       " [],\n",
       " [],\n",
       " [],\n",
       " [],\n",
       " [],\n",
       " [],\n",
       " [],\n",
       " [],\n",
       " [],\n",
       " [],\n",
       " [],\n",
       " [],\n",
       " [],\n",
       " [],\n",
       " [],\n",
       " [],\n",
       " [],\n",
       " [],\n",
       " [],\n",
       " [],\n",
       " [],\n",
       " [],\n",
       " [],\n",
       " [],\n",
       " [],\n",
       " [],\n",
       " [],\n",
       " [],\n",
       " [],\n",
       " ['Wave Energy Prize'],\n",
       " [],\n",
       " [],\n",
       " [],\n",
       " [],\n",
       " [],\n",
       " [],\n",
       " [],\n",
       " ['Advanced WEC Dynamics and Controls'],\n",
       " [],\n",
       " [],\n",
       " [],\n",
       " [],\n",
       " ['Wave Energy Prize'],\n",
       " ['Wave Energy Prize'],\n",
       " ['Wave Energy Prize'],\n",
       " ['Wave Energy Prize'],\n",
       " ['Wave Energy Prize'],\n",
       " ['Wave Energy Prize'],\n",
       " ['Wave Energy Prize'],\n",
       " ['Wave Energy Prize'],\n",
       " ['Wave Energy Prize'],\n",
       " [],\n",
       " [],\n",
       " [],\n",
       " [],\n",
       " [],\n",
       " ['Wave Energy Prize'],\n",
       " ['Wave Energy Prize'],\n",
       " ['Wave Energy Prize'],\n",
       " ['Wave Energy Prize'],\n",
       " ['Wave Energy Prize'],\n",
       " ['Wave Energy Prize'],\n",
       " ['Wave Energy Prize'],\n",
       " ['Wave Energy Prize'],\n",
       " ['Wave Energy Prize'],\n",
       " [],\n",
       " ['Wave Energy Prize'],\n",
       " ['Wave Energy Prize'],\n",
       " ['Wave Energy Prize'],\n",
       " ['Wave Energy Prize'],\n",
       " ['Wave Energy Prize'],\n",
       " ['Wave Energy Prize'],\n",
       " ['Wave Energy Prize'],\n",
       " ['Wave Energy Prize'],\n",
       " [],\n",
       " [],\n",
       " [],\n",
       " [],\n",
       " [],\n",
       " [],\n",
       " [],\n",
       " [],\n",
       " [],\n",
       " [],\n",
       " [],\n",
       " [],\n",
       " [],\n",
       " [],\n",
       " [],\n",
       " [],\n",
       " [],\n",
       " ['Advanced WEC Dynamics and Controls'],\n",
       " [],\n",
       " [],\n",
       " [],\n",
       " [],\n",
       " [],\n",
       " [],\n",
       " [],\n",
       " ['Reference Model'],\n",
       " [],\n",
       " [],\n",
       " [],\n",
       " [],\n",
       " [],\n",
       " [],\n",
       " [],\n",
       " [],\n",
       " [],\n",
       " [],\n",
       " [],\n",
       " [],\n",
       " ['Reference Model'],\n",
       " ['Reference Model'],\n",
       " ['Reference Model'],\n",
       " ['Reference Model'],\n",
       " ['Reference Model'],\n",
       " ['Reference Model'],\n",
       " [],\n",
       " [],\n",
       " [],\n",
       " [],\n",
       " [],\n",
       " [],\n",
       " [],\n",
       " [],\n",
       " [],\n",
       " [],\n",
       " [],\n",
       " [],\n",
       " [],\n",
       " [],\n",
       " [],\n",
       " [],\n",
       " [],\n",
       " [],\n",
       " [],\n",
       " [],\n",
       " [],\n",
       " [],\n",
       " [],\n",
       " [],\n",
       " [],\n",
       " [],\n",
       " [],\n",
       " [],\n",
       " [],\n",
       " [],\n",
       " [],\n",
       " [],\n",
       " [],\n",
       " [],\n",
       " [],\n",
       " [],\n",
       " [],\n",
       " [],\n",
       " [],\n",
       " [],\n",
       " [],\n",
       " [],\n",
       " [],\n",
       " [],\n",
       " [],\n",
       " [],\n",
       " [],\n",
       " [],\n",
       " [],\n",
       " [],\n",
       " [],\n",
       " [],\n",
       " [],\n",
       " [],\n",
       " [],\n",
       " [],\n",
       " [],\n",
       " [],\n",
       " [],\n",
       " [],\n",
       " [],\n",
       " [],\n",
       " []]"
      ]
     },
     "execution_count": 49,
     "metadata": {},
     "output_type": "execute_result"
    }
   ],
   "source": [
    "list(mhkdr_1_df['signatureProject'])"
   ]
  }
 ],
 "metadata": {
  "kernelspec": {
   "display_name": "Python 3 (ipykernel)",
   "language": "python",
   "name": "python3"
  },
  "language_info": {
   "codemirror_mode": {
    "name": "ipython",
    "version": 3
   },
   "file_extension": ".py",
   "mimetype": "text/x-python",
   "name": "python",
   "nbconvert_exporter": "python",
   "pygments_lexer": "ipython3",
   "version": "3.11.7"
  }
 },
 "nbformat": 4,
 "nbformat_minor": 5
}
