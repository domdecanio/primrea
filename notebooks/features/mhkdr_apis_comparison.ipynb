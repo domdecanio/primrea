{
 "cells": [
  {
   "cell_type": "markdown",
   "id": "8ae40149-ddf6-4a6f-8537-4f7eb47dbbe5",
   "metadata": {},
   "source": [
    "# MHKDR APIs Comparison"
   ]
  },
  {
   "cell_type": "markdown",
   "id": "67dbb566-f629-4a4c-a769-b7edd6ebfc6c",
   "metadata": {},
   "source": [
    "The objective of this notebook is to enumerate the variables contained in both the first and second MHKDR api, in order to decide how to include MHKDR data into the package without loss of data or duplication.\n",
    "\n",
    "The fear is that both contain a subset of each other. In such a situation, the use of one but not both APIs would cause data loss. \n",
    "\n",
    "This notebook is considered complete when it has answered the questions:\n",
    "1. Is there data contained in API 1 that is NOT present in API 2?\n",
    "2. Is there data contained in API 2 that is NOT present in API 1 - We know \"yes\"\n",
    "3. What is the cause of mismatch of the number of records in each API?"
   ]
  },
  {
   "cell_type": "markdown",
   "id": "3c7d4ae3-6b55-479e-b2e0-7e58c62b55c9",
   "metadata": {},
   "source": [
    "### Setup"
   ]
  },
  {
   "cell_type": "code",
   "execution_count": 1,
   "id": "47c1936c-de81-4b10-9c5a-d4229caf997c",
   "metadata": {},
   "outputs": [],
   "source": [
    "import requests\n",
    "import json\n",
    "import pandas as pd\n",
    "import re\n",
    "\n",
    "mhkdr_api_1 = 'https://mhkdr.openei.org/api?action=getSubmissionsForPRIMRE'\n",
    "mhkdr_api_2 = 'https://mhkdr.openei.org/data.json'"
   ]
  },
  {
   "cell_type": "code",
   "execution_count": 2,
   "id": "c57decdc-0fab-409f-9d7c-eadd647bfc3e",
   "metadata": {},
   "outputs": [],
   "source": [
    "mhkdr_1_response = requests.get(mhkdr_api_1)\n",
    "mhkdr_2_response = requests.get(mhkdr_api_2)"
   ]
  },
  {
   "cell_type": "code",
   "execution_count": 3,
   "id": "82403580-038d-4a4b-abd9-0d2da1a7fc96",
   "metadata": {},
   "outputs": [],
   "source": [
    "mhkdr_1_response_json = mhkdr_1_response.json()\n",
    "mhkdr_2_response_json = mhkdr_2_response.json()"
   ]
  },
  {
   "cell_type": "markdown",
   "id": "50626c5d-bc15-4679-8d12-9688be3dbff4",
   "metadata": {},
   "source": [
    "### Dev"
   ]
  },
  {
   "cell_type": "markdown",
   "id": "ac3acd5a-27d5-4d3f-9060-306e0a878764",
   "metadata": {},
   "source": [
    "#### 1. & 2. - Data contained in each MHKDR API"
   ]
  },
  {
   "cell_type": "code",
   "execution_count": 4,
   "id": "0efcb82a-f8b1-4f88-93fc-f305d8cfaa78",
   "metadata": {},
   "outputs": [],
   "source": [
    "mhkdr_1_df = pd.DataFrame(mhkdr_1_response_json)\n",
    "mhkdr_2_df = pd.DataFrame(mhkdr_2_response_json['dataset'])"
   ]
  },
  {
   "cell_type": "code",
   "execution_count": 5,
   "id": "a5af59eb-911d-4e84-8d99-8f43801a5e86",
   "metadata": {},
   "outputs": [
    {
     "name": "stdout",
     "output_type": "stream",
     "text": [
      "API 1 Number of MHKDR Entries : 400\n",
      "API 2 Number of MHKDR Entries : 335\n"
     ]
    }
   ],
   "source": [
    "a = len(mhkdr_1_df)\n",
    "b = len(mhkdr_2_df)\n",
    "print(f'API 1 Number of MHKDR Entries : {a}\\nAPI 2 Number of MHKDR Entries : {b}')"
   ]
  },
  {
   "cell_type": "code",
   "execution_count": 6,
   "id": "b8a2eab5-cfab-431f-bc51-d84bbad1ce41",
   "metadata": {},
   "outputs": [
    {
     "name": "stdout",
     "output_type": "stream",
     "text": [
      "API 1 Number of MHKDR Columns : 14\n",
      "API 2 Number of MHKDR Columns : 20\n"
     ]
    }
   ],
   "source": [
    "a = len(mhkdr_1_response_json[0])\n",
    "b = len(mhkdr_2_response_json['dataset'][0])\n",
    "print(f'API 1 Number of MHKDR Columns : {a}\\nAPI 2 Number of MHKDR Columns : {b}')"
   ]
  },
  {
   "cell_type": "markdown",
   "id": "94ef5177-42a6-4af6-a30f-826a36aa95b6",
   "metadata": {},
   "source": [
    "14 fields in api 1 vs 20 fields in api 2"
   ]
  },
  {
   "cell_type": "markdown",
   "id": "946342e2-5543-4987-b8de-853c0b1180c4",
   "metadata": {},
   "source": [
    "##### Comparison Preamble\n",
    "\n",
    "The following table compiles the different variables included in the two MHKDR APIs. The intent is to use the table as a markdown convention to convey a venn diagram, using the variable names to indicate the inclusion of that data in either or both APIs. This structure is problematic because there are cases where:\n",
    "1. two variables have different names but have similar contents\n",
    "2. two variables have similar names but have different contents\n",
    "\n",
    "Also, because the table format inherently includes ordering, it is unclear wheter the variable names should be used with this ordering to form an index, where similar-named things are compared. The competing approach would be to have similar contents requiring an entire row. This way, there is no possibility for two columns of the same row to be filled (as the contents being similar in both indicates that the \"both\" column should be populated instead).\n",
    "\n",
    "I will proceed with the second method: each row will pertain to one nugget of data. After following API 1 through all of its fields, recording similar and different fields accordingly, I will proceed across all fields of API 2, likewise recording similar and different fields. A \"nugget\" is here defined as an atomic datum that is not interchangable with another datum from that or the other API without incurring data loss. We work from the axiom that datum interchangability indicates field (column) interchangability.\n",
    "\n",
    "\n",
    "|1|both|2|\n",
    "|:---:|:---:|:---:|\n",
    "||(URI, landingPage, sourceURL) / (identifier, landingPage)||\n",
    "|type|||\n",
    "||(title) / (title)||\n",
    "||(description) / (description)||\n",
    "|author|||\n",
    "|organization|||\n",
    "|originationDate|||\n",
    "||(spatial) / (spatial)?||\n",
    "|technologyType|||\n",
    "||(tags) / (keyword)||\n",
    "|signatureProject|||\n",
    "||(modifiedDate) / (modified)?||\n",
    "|||@type|\n",
    "|||accessLevel|\n",
    "|||bureauCode|\n",
    "|||license|\n",
    "|||issued|\n",
    "|||dataQuality|\n",
    "|||projectTitle|\n",
    "|||projectNumber|\n",
    "|||publisher|\n",
    "|||contactPoint|\n",
    "|||programCode|\n",
    "|||distribution|\n",
    "|||DOI|"
   ]
  },
  {
   "cell_type": "code",
   "execution_count": 7,
   "id": "c127c5a2-1dcc-483f-86c7-ef2f0292dddf",
   "metadata": {},
   "outputs": [
    {
     "data": {
      "text/plain": [
       "dict_keys(['URI', 'type', 'landingPage', 'sourceURL', 'title', 'description', 'author', 'organization', 'originationDate', 'spatial', 'technologyType', 'tags', 'signatureProject', 'modifiedDate'])"
      ]
     },
     "execution_count": 7,
     "metadata": {},
     "output_type": "execute_result"
    }
   ],
   "source": [
    "mhkdr_1_response_json[0].keys()"
   ]
  },
  {
   "cell_type": "code",
   "execution_count": 8,
   "id": "e60451b7-a86a-4c2c-8dae-982a1c7ab770",
   "metadata": {},
   "outputs": [
    {
     "name": "stdout",
     "output_type": "stream",
     "text": [
      "dict_keys(['@type', 'identifier', 'accessLevel', 'bureauCode', 'license', 'issued', 'dataQuality', 'title', 'description', 'keyword', 'projectLead', 'projectTitle', 'projectNumber', 'modified', 'publisher', 'contactPoint', 'programCode', 'landingPage', 'distribution', 'spatial'])\n"
     ]
    }
   ],
   "source": [
    "print(mhkdr_2_response_json['dataset'][0].keys())"
   ]
  },
  {
   "cell_type": "code",
   "execution_count": 9,
   "id": "3df4aad9-d28f-457e-91f2-148652d073e3",
   "metadata": {},
   "outputs": [
    {
     "data": {
      "text/html": [
       "<div>\n",
       "<style scoped>\n",
       "    .dataframe tbody tr th:only-of-type {\n",
       "        vertical-align: middle;\n",
       "    }\n",
       "\n",
       "    .dataframe tbody tr th {\n",
       "        vertical-align: top;\n",
       "    }\n",
       "\n",
       "    .dataframe thead th {\n",
       "        text-align: right;\n",
       "    }\n",
       "</style>\n",
       "<table border=\"1\" class=\"dataframe\">\n",
       "  <thead>\n",
       "    <tr style=\"text-align: right;\">\n",
       "      <th></th>\n",
       "      <th>URI</th>\n",
       "      <th>type</th>\n",
       "      <th>landingPage</th>\n",
       "      <th>sourceURL</th>\n",
       "      <th>title</th>\n",
       "      <th>description</th>\n",
       "      <th>author</th>\n",
       "      <th>organization</th>\n",
       "      <th>originationDate</th>\n",
       "      <th>spatial</th>\n",
       "      <th>technologyType</th>\n",
       "      <th>tags</th>\n",
       "      <th>signatureProject</th>\n",
       "      <th>modifiedDate</th>\n",
       "    </tr>\n",
       "  </thead>\n",
       "  <tbody>\n",
       "    <tr>\n",
       "      <th>399</th>\n",
       "      <td>https://mhkdr.openei.org/submissions/1</td>\n",
       "      <td>[Dataset, Dataset/OnlineTool, Document/Report]</td>\n",
       "      <td>https://mhkdr.openei.org/submissions/1</td>\n",
       "      <td>https://mhkdr.openei.org/submissions/1</td>\n",
       "      <td>MHKDR Data Management and Best Practices for S...</td>\n",
       "      <td>Resources for MHKDR data submitters and curato...</td>\n",
       "      <td>[Jon Weers, Nicole Taverna, Jay Huggins, RJ Sc...</td>\n",
       "      <td>[National Renewable Energy Laboratory]</td>\n",
       "      <td>2021-12-15 07:00:00</td>\n",
       "      <td>{'boundingCoordinatesNE': [83, 180], 'bounding...</td>\n",
       "      <td>[]</td>\n",
       "      <td>[MHK, Marine, Hydrokinetic, energy, power, dat...</td>\n",
       "      <td>[]</td>\n",
       "      <td>2022-05-26 18:08:40</td>\n",
       "    </tr>\n",
       "  </tbody>\n",
       "</table>\n",
       "</div>"
      ],
      "text/plain": [
       "                                        URI  \\\n",
       "399  https://mhkdr.openei.org/submissions/1   \n",
       "\n",
       "                                               type  \\\n",
       "399  [Dataset, Dataset/OnlineTool, Document/Report]   \n",
       "\n",
       "                                landingPage  \\\n",
       "399  https://mhkdr.openei.org/submissions/1   \n",
       "\n",
       "                                  sourceURL  \\\n",
       "399  https://mhkdr.openei.org/submissions/1   \n",
       "\n",
       "                                                 title  \\\n",
       "399  MHKDR Data Management and Best Practices for S...   \n",
       "\n",
       "                                           description  \\\n",
       "399  Resources for MHKDR data submitters and curato...   \n",
       "\n",
       "                                                author  \\\n",
       "399  [Jon Weers, Nicole Taverna, Jay Huggins, RJ Sc...   \n",
       "\n",
       "                               organization      originationDate  \\\n",
       "399  [National Renewable Energy Laboratory]  2021-12-15 07:00:00   \n",
       "\n",
       "                                               spatial technologyType  \\\n",
       "399  {'boundingCoordinatesNE': [83, 180], 'bounding...             []   \n",
       "\n",
       "                                                  tags signatureProject  \\\n",
       "399  [MHK, Marine, Hydrokinetic, energy, power, dat...               []   \n",
       "\n",
       "            modifiedDate  \n",
       "399  2022-05-26 18:08:40  "
      ]
     },
     "execution_count": 9,
     "metadata": {},
     "output_type": "execute_result"
    }
   ],
   "source": [
    "mhkdr_1_df.tail(1)"
   ]
  },
  {
   "cell_type": "code",
   "execution_count": 10,
   "id": "c620e1d1-a24d-428c-bc20-54f3c418f7b1",
   "metadata": {},
   "outputs": [
    {
     "data": {
      "text/html": [
       "<div>\n",
       "<style scoped>\n",
       "    .dataframe tbody tr th:only-of-type {\n",
       "        vertical-align: middle;\n",
       "    }\n",
       "\n",
       "    .dataframe tbody tr th {\n",
       "        vertical-align: top;\n",
       "    }\n",
       "\n",
       "    .dataframe thead th {\n",
       "        text-align: right;\n",
       "    }\n",
       "</style>\n",
       "<table border=\"1\" class=\"dataframe\">\n",
       "  <thead>\n",
       "    <tr style=\"text-align: right;\">\n",
       "      <th></th>\n",
       "      <th>@type</th>\n",
       "      <th>identifier</th>\n",
       "      <th>accessLevel</th>\n",
       "      <th>bureauCode</th>\n",
       "      <th>license</th>\n",
       "      <th>issued</th>\n",
       "      <th>dataQuality</th>\n",
       "      <th>title</th>\n",
       "      <th>description</th>\n",
       "      <th>keyword</th>\n",
       "      <th>...</th>\n",
       "      <th>projectTitle</th>\n",
       "      <th>projectNumber</th>\n",
       "      <th>modified</th>\n",
       "      <th>publisher</th>\n",
       "      <th>contactPoint</th>\n",
       "      <th>programCode</th>\n",
       "      <th>landingPage</th>\n",
       "      <th>distribution</th>\n",
       "      <th>spatial</th>\n",
       "      <th>DOI</th>\n",
       "    </tr>\n",
       "  </thead>\n",
       "  <tbody>\n",
       "    <tr>\n",
       "      <th>0</th>\n",
       "      <td>dcat:Dataset</td>\n",
       "      <td>https://mhkdr.openei.org/submissions/1</td>\n",
       "      <td>public</td>\n",
       "      <td>[019:20]</td>\n",
       "      <td>https://creativecommons.org/licenses/by/4.0/</td>\n",
       "      <td>2021-12-15T07:00:00Z</td>\n",
       "      <td>True</td>\n",
       "      <td>MHKDR Data Management and Best Practices for S...</td>\n",
       "      <td>Resources for MHKDR data submitters and curato...</td>\n",
       "      <td>[MHK, Marine, Hydrokinetic, energy, power, dat...</td>\n",
       "      <td>...</td>\n",
       "      <td>Marine and Hydrokinetic Data Repository (MHKDR)</td>\n",
       "      <td>35007</td>\n",
       "      <td>2022-05-26T18:08:40Z</td>\n",
       "      <td>{'@type': 'org:Organization', 'name': 'RJ Scavo'}</td>\n",
       "      <td>{'@type': 'vcard:Contact', 'fn': 'MHKDR Help',...</td>\n",
       "      <td>[019:009]</td>\n",
       "      <td>https://mhkdr.openei.org/submissions/1</td>\n",
       "      <td>[{'@type': 'dcat:Distribution', 'description':...</td>\n",
       "      <td>{\"type\":\"Polygon\",\"coordinates\":[[[-180,-83],[...</td>\n",
       "      <td>NaN</td>\n",
       "    </tr>\n",
       "  </tbody>\n",
       "</table>\n",
       "<p>1 rows × 21 columns</p>\n",
       "</div>"
      ],
      "text/plain": [
       "          @type                              identifier accessLevel  \\\n",
       "0  dcat:Dataset  https://mhkdr.openei.org/submissions/1      public   \n",
       "\n",
       "  bureauCode                                       license  \\\n",
       "0   [019:20]  https://creativecommons.org/licenses/by/4.0/   \n",
       "\n",
       "                 issued  dataQuality  \\\n",
       "0  2021-12-15T07:00:00Z         True   \n",
       "\n",
       "                                               title  \\\n",
       "0  MHKDR Data Management and Best Practices for S...   \n",
       "\n",
       "                                         description  \\\n",
       "0  Resources for MHKDR data submitters and curato...   \n",
       "\n",
       "                                             keyword  ...  \\\n",
       "0  [MHK, Marine, Hydrokinetic, energy, power, dat...  ...   \n",
       "\n",
       "                                      projectTitle projectNumber  \\\n",
       "0  Marine and Hydrokinetic Data Repository (MHKDR)         35007   \n",
       "\n",
       "               modified                                          publisher  \\\n",
       "0  2022-05-26T18:08:40Z  {'@type': 'org:Organization', 'name': 'RJ Scavo'}   \n",
       "\n",
       "                                        contactPoint programCode  \\\n",
       "0  {'@type': 'vcard:Contact', 'fn': 'MHKDR Help',...   [019:009]   \n",
       "\n",
       "                              landingPage  \\\n",
       "0  https://mhkdr.openei.org/submissions/1   \n",
       "\n",
       "                                        distribution  \\\n",
       "0  [{'@type': 'dcat:Distribution', 'description':...   \n",
       "\n",
       "                                             spatial  DOI  \n",
       "0  {\"type\":\"Polygon\",\"coordinates\":[[[-180,-83],[...  NaN  \n",
       "\n",
       "[1 rows x 21 columns]"
      ]
     },
     "execution_count": 10,
     "metadata": {},
     "output_type": "execute_result"
    }
   ],
   "source": [
    "mhkdr_2_df.head(1)"
   ]
  },
  {
   "cell_type": "markdown",
   "id": "acdcd028-b7f4-4bad-8a0d-4579b7522f21",
   "metadata": {},
   "source": [
    "#### Full Outputs"
   ]
  },
  {
   "cell_type": "code",
   "execution_count": 11,
   "id": "601341cc-3eda-4c94-ac04-957a999b3482",
   "metadata": {},
   "outputs": [
    {
     "data": {
      "text/plain": [
       "{'URI': 'https://mhkdr.openei.org/submissions/1',\n",
       " 'type': ['Dataset', 'Dataset/OnlineTool', 'Document/Report'],\n",
       " 'landingPage': 'https://mhkdr.openei.org/submissions/1',\n",
       " 'sourceURL': 'https://mhkdr.openei.org/submissions/1',\n",
       " 'title': 'MHKDR Data Management and Best Practices for Submitters and Curators',\n",
       " 'description': 'Resources for MHKDR data submitters and curators, including training videos, step-by-step guides on data submission, and detailed documentation of the MHKDR. The Data Management and Submission Best Practices document also contains API access and metadata schema information for developers interested in harvesting MHKDR metadata for federation or inclusion in their local catalogs.\\n',\n",
       " 'author': ['Jon Weers', 'Nicole Taverna', 'Jay Huggins', 'RJ Scavo'],\n",
       " 'organization': ['National Renewable Energy Laboratory'],\n",
       " 'originationDate': '2021-12-15 07:00:00',\n",
       " 'spatial': {'boundingCoordinatesNE': [83, 180],\n",
       "  'boundingCoordinatesSW': [-83, -180],\n",
       "  'extent': 'boundingBox'},\n",
       " 'technologyType': [],\n",
       " 'tags': ['MHK',\n",
       "  'Marine',\n",
       "  'Hydrokinetic',\n",
       "  'energy',\n",
       "  'power',\n",
       "  'data',\n",
       "  'MHKDR',\n",
       "  'federation',\n",
       "  'metadata',\n",
       "  'standards',\n",
       "  'submission',\n",
       "  'training',\n",
       "  'best practices',\n",
       "  'guide',\n",
       "  'API',\n",
       "  'management',\n",
       "  'storage'],\n",
       " 'signatureProject': [],\n",
       " 'modifiedDate': '2022-05-26 18:08:40'}"
      ]
     },
     "execution_count": 11,
     "metadata": {},
     "output_type": "execute_result"
    }
   ],
   "source": [
    "# Raw json api 1 output  -  this entry corresponds to the entry of api 2 below\n",
    "mhkdr_1_response_json[399]"
   ]
  },
  {
   "cell_type": "code",
   "execution_count": 12,
   "id": "05eb2f2b-20bc-4010-8778-aca4bb2ada51",
   "metadata": {},
   "outputs": [
    {
     "data": {
      "text/plain": [
       "{'@type': 'dcat:Dataset',\n",
       " 'identifier': 'https://mhkdr.openei.org/submissions/1',\n",
       " 'accessLevel': 'public',\n",
       " 'bureauCode': ['019:20'],\n",
       " 'license': 'https://creativecommons.org/licenses/by/4.0/',\n",
       " 'issued': '2021-12-15T07:00:00Z',\n",
       " 'dataQuality': True,\n",
       " 'title': 'MHKDR Data Management and Best Practices for Submitters and Curators',\n",
       " 'description': 'Resources for MHKDR data submitters and curators, including training videos, step-by-step guides on data submission, and detailed documentation of the MHKDR. The Data Management and Submission Best Practices document also contains API access and metadata schema information for developers interested in harvesting MHKDR metadata for federation or inclusion in their local catalogs.\\n',\n",
       " 'keyword': ['MHK',\n",
       "  'Marine',\n",
       "  'Hydrokinetic',\n",
       "  'energy',\n",
       "  'power',\n",
       "  'data',\n",
       "  'MHKDR',\n",
       "  'federation',\n",
       "  'metadata',\n",
       "  'standards',\n",
       "  'submission',\n",
       "  'training',\n",
       "  'best practices',\n",
       "  'guide',\n",
       "  'API',\n",
       "  'management',\n",
       "  'storage'],\n",
       " 'projectLead': 'Bill McShane',\n",
       " 'projectTitle': 'Marine and Hydrokinetic Data Repository (MHKDR)',\n",
       " 'projectNumber': '35007',\n",
       " 'modified': '2022-05-26T18:08:40Z',\n",
       " 'publisher': {'@type': 'org:Organization', 'name': 'RJ Scavo'},\n",
       " 'contactPoint': {'@type': 'vcard:Contact',\n",
       "  'fn': 'MHKDR Help',\n",
       "  'hasEmail': 'mailto:MHKDRHelp@ee.doe.gov'},\n",
       " 'programCode': ['019:009'],\n",
       " 'landingPage': 'https://mhkdr.openei.org/submissions/1',\n",
       " 'distribution': [{'@type': 'dcat:Distribution',\n",
       "   'description': 'A video recording of the data management and submission best practices training presentation and a recorded demo of data submission to the MHKDR',\n",
       "   'title': 'MHKDR Data Management and Submission Best Practices Video',\n",
       "   'accessURL': 'https://www.youtube.com/watch?v=QeqYr6W9HC0&list=PL4lfI7kmtVfqEk0SjiR9zPTpqVb2Mm9vO',\n",
       "   'format': 'HTML',\n",
       "   'mediaType': 'text/html'},\n",
       "  {'@type': 'dcat:Distribution',\n",
       "   'description': 'A series of short, targeted videos that explain individual submission fields and best practices for entering metadata while submitting data to the MHKDR.',\n",
       "   'title': 'MHKDR Submission Tutorial Videos',\n",
       "   'accessURL': 'https://www.youtube.com/watch?v=xrZsebiqdoo&list=PL4lfI7kmtVfqNwb7uQsSpfGI9dibufWG8',\n",
       "   'format': 'HTML',\n",
       "   'mediaType': 'text/html'},\n",
       "  {'@type': 'dcat:Distribution',\n",
       "   'description': ' Data management and submission best practices document containing a detailed walkthrough of data submission, metadata schemas, and the MHKDR. This document also contains API access information for developers seeking to incorporate MHKDR data into their catalogs.',\n",
       "   'title': 'MHKDR Documentation for Submitters and Curators.pdf',\n",
       "   'downloadURL': 'https://mhkdr.openei.org/files/1/MHKDR%20Documentation%20for%20submitters%20and%20curators.pdf',\n",
       "   'format': 'pdf',\n",
       "   'mediaType': 'application/pdf'}],\n",
       " 'spatial': '{\"type\":\"Polygon\",\"coordinates\":[[[-180,-83],[180,-83],[180,83],[-180,83],[-180,-83]]]}'}"
      ]
     },
     "execution_count": 12,
     "metadata": {},
     "output_type": "execute_result"
    }
   ],
   "source": [
    "# Raw json api 2 output\n",
    "mhkdr_2_response_json['dataset'][0]"
   ]
  },
  {
   "cell_type": "markdown",
   "id": "9738f642-636d-46c3-8860-0a79bd61d3ed",
   "metadata": {},
   "source": [
    "#### 1. & 2. - Data Contained in each MHKDR API Conclusions"
   ]
  },
  {
   "cell_type": "markdown",
   "id": "d6bf0432-39ca-48c8-9a93-ea5d37db1205",
   "metadata": {},
   "source": [
    "This notebook is considered complete when it has answered the questions:\n",
    "1. Is there data contained in API 1 that is NOT present in API 2? - Yes!\n",
    "2. Is there data contained in API 2 that is NOT present in API 1? - Yes!"
   ]
  },
  {
   "cell_type": "markdown",
   "id": "5c67d4eb-c03e-462b-95b7-cee1c4b002bd",
   "metadata": {},
   "source": [
    "#### 3. What is the cause of mismatch of the number of records in each API?\n"
   ]
  },
  {
   "cell_type": "markdown",
   "id": "af2f86a7-d5d0-4463-9a28-d1d3d352ebe8",
   "metadata": {},
   "source": [
    "To Find the answer to this question, I need to create a list of all the entries that are included in one API but not the other. Again, this might go both ways:\n",
    "1. Are there entries present in API 1 but not API 2?\n",
    "2. Are there entries present in API 2 but not API 1?\n",
    "\n",
    "I must subsequently open these entries and attempt to determine the cause of the mismatch."
   ]
  },
  {
   "cell_type": "code",
   "execution_count": 13,
   "id": "31bfd479-daec-410e-95a8-f01635198b15",
   "metadata": {},
   "outputs": [],
   "source": [
    "mhkdr_1_uri_lst = list(mhkdr_1_df['landingPage'])\n",
    "mhkdr_2_uri_lst = list(mhkdr_2_df['landingPage'])"
   ]
  },
  {
   "cell_type": "code",
   "execution_count": 14,
   "id": "2354e00b-dcc8-41c5-9bc6-800e46ed0abe",
   "metadata": {},
   "outputs": [],
   "source": [
    "def find_entry_id(entry_uri):\n",
    "    '''\n",
    "    This function takes in the url of a MHKDR entry, and returns the entry_id of that page. \n",
    "    The 'entry_id' is the integer at the end of the url, which is unique to each MHKDR entry.\n",
    "    The regex used in this function relies on the fact that the only number in the url is the id.\n",
    "    '''\n",
    "    rule = re.compile(r'\\d+')\n",
    "    matches_rule = rule.findall(entry_uri)\n",
    "    entry_id = int(matches_rule[0])\n",
    "\n",
    "    return entry_id"
   ]
  },
  {
   "cell_type": "code",
   "execution_count": 15,
   "id": "f8e21d1d-80b1-4320-8ba2-689965261570",
   "metadata": {},
   "outputs": [],
   "source": [
    "mhkdr_1_ids = list()\n",
    "for i in mhkdr_1_uri_lst:\n",
    "    id = find_entry_id(i)\n",
    "    mhkdr_1_ids.append(id)\n",
    "\n",
    "mhkdr_2_ids = list()\n",
    "for i in mhkdr_2_uri_lst:\n",
    "    id = find_entry_id(i)\n",
    "    mhkdr_2_ids.append(id)"
   ]
  },
  {
   "cell_type": "code",
   "execution_count": 16,
   "id": "6765c686-7206-44ea-8521-f9ce95a2c67e",
   "metadata": {},
   "outputs": [
    {
     "name": "stdout",
     "output_type": "stream",
     "text": [
      "Number of entries returned by API 1 : 400\n",
      "Number of entries returned by API 2 : 335\n"
     ]
    }
   ],
   "source": [
    "a = len(mhkdr_1_ids)\n",
    "b = len(mhkdr_2_ids)\n",
    "print(f'Number of entries returned by API 1 : {a}\\nNumber of entries returned by API 2 : {b}')"
   ]
  },
  {
   "cell_type": "markdown",
   "id": "3ed6b210-fab3-42ac-a191-c817dc00e339",
   "metadata": {},
   "source": [
    "Good. As expected, there is a mismatch in the number of entries returned by the two APIs. \n",
    "\n",
    "To get the set of entries that is included by one and not the other, I will append this id column to the original (\"core\") tables, and then do a merge (Anti-Join) so that only those rows are preserved whose values of 'id' do not match the other table. Also, I will create a column entitled 'api' so that the results of API 1 and API 2 are easily differentiable in the final table. This will make it easy to see how many mismatches are unique to API 1 vs unique to API 2."
   ]
  },
  {
   "cell_type": "markdown",
   "id": "ce8aeaac-eb51-4cde-bc25-642fb4c1e12e",
   "metadata": {},
   "source": [
    "#### Prep"
   ]
  },
  {
   "cell_type": "code",
   "execution_count": 17,
   "id": "ce3b12ca-5b65-4809-b1b8-8e4500cd8e14",
   "metadata": {},
   "outputs": [],
   "source": [
    "mhkdr_1_df['id'] = mhkdr_1_ids\n",
    "mhkdr_2_df['id'] = mhkdr_2_ids"
   ]
  },
  {
   "cell_type": "code",
   "execution_count": 18,
   "id": "f7c42637-fca3-43c9-98aa-43e8a24c95ae",
   "metadata": {},
   "outputs": [],
   "source": [
    "mhkdr_1_df['api'] = 1\n",
    "mhkdr_2_df['api'] = 2"
   ]
  },
  {
   "cell_type": "code",
   "execution_count": 19,
   "id": "c31bf456-fc5e-4f0e-9ae6-7efc73718787",
   "metadata": {},
   "outputs": [
    {
     "data": {
      "text/html": [
       "<div>\n",
       "<style scoped>\n",
       "    .dataframe tbody tr th:only-of-type {\n",
       "        vertical-align: middle;\n",
       "    }\n",
       "\n",
       "    .dataframe tbody tr th {\n",
       "        vertical-align: top;\n",
       "    }\n",
       "\n",
       "    .dataframe thead th {\n",
       "        text-align: right;\n",
       "    }\n",
       "</style>\n",
       "<table border=\"1\" class=\"dataframe\">\n",
       "  <thead>\n",
       "    <tr style=\"text-align: right;\">\n",
       "      <th></th>\n",
       "      <th>URI</th>\n",
       "      <th>type</th>\n",
       "      <th>landingPage</th>\n",
       "      <th>sourceURL</th>\n",
       "      <th>title</th>\n",
       "      <th>description</th>\n",
       "      <th>author</th>\n",
       "      <th>organization</th>\n",
       "      <th>originationDate</th>\n",
       "      <th>spatial</th>\n",
       "      <th>technologyType</th>\n",
       "      <th>tags</th>\n",
       "      <th>signatureProject</th>\n",
       "      <th>modifiedDate</th>\n",
       "      <th>id</th>\n",
       "      <th>api</th>\n",
       "    </tr>\n",
       "  </thead>\n",
       "  <tbody>\n",
       "    <tr>\n",
       "      <th>0</th>\n",
       "      <td>https://mhkdr.openei.org/submissions/548</td>\n",
       "      <td>[Dataset, Document/Report]</td>\n",
       "      <td>https://mhkdr.openei.org/submissions/548</td>\n",
       "      <td>https://mhkdr.openei.org/submissions/548</td>\n",
       "      <td>CalWave - xWave Device, Non-Commercially Sensi...</td>\n",
       "      <td>CalWave has developed a submerged pressure dif...</td>\n",
       "      <td>[Marcus Lehmann, Ryan Davidson]</td>\n",
       "      <td>[CalWave Power Technologies Inc.]</td>\n",
       "      <td>2024-02-29 07:00:00</td>\n",
       "      <td>{'boundingCoordinatesNE': [44.63067800397145, ...</td>\n",
       "      <td>[Wave]</td>\n",
       "      <td>[MHK, Marine, Hydrokinetic, energy, power, wav...</td>\n",
       "      <td>[]</td>\n",
       "      <td>2024-04-25 20:40:00</td>\n",
       "      <td>548</td>\n",
       "      <td>1</td>\n",
       "    </tr>\n",
       "  </tbody>\n",
       "</table>\n",
       "</div>"
      ],
      "text/plain": [
       "                                        URI                        type  \\\n",
       "0  https://mhkdr.openei.org/submissions/548  [Dataset, Document/Report]   \n",
       "\n",
       "                                landingPage  \\\n",
       "0  https://mhkdr.openei.org/submissions/548   \n",
       "\n",
       "                                  sourceURL  \\\n",
       "0  https://mhkdr.openei.org/submissions/548   \n",
       "\n",
       "                                               title  \\\n",
       "0  CalWave - xWave Device, Non-Commercially Sensi...   \n",
       "\n",
       "                                         description  \\\n",
       "0  CalWave has developed a submerged pressure dif...   \n",
       "\n",
       "                            author                       organization  \\\n",
       "0  [Marcus Lehmann, Ryan Davidson]  [CalWave Power Technologies Inc.]   \n",
       "\n",
       "       originationDate                                            spatial  \\\n",
       "0  2024-02-29 07:00:00  {'boundingCoordinatesNE': [44.63067800397145, ...   \n",
       "\n",
       "  technologyType                                               tags  \\\n",
       "0         [Wave]  [MHK, Marine, Hydrokinetic, energy, power, wav...   \n",
       "\n",
       "  signatureProject         modifiedDate   id  api  \n",
       "0               []  2024-04-25 20:40:00  548    1  "
      ]
     },
     "execution_count": 19,
     "metadata": {},
     "output_type": "execute_result"
    }
   ],
   "source": [
    "mhkdr_1_df.head(1)"
   ]
  },
  {
   "cell_type": "code",
   "execution_count": 20,
   "id": "1631ecce-1522-4ae3-a0ce-7a53a8dccec5",
   "metadata": {},
   "outputs": [
    {
     "data": {
      "text/html": [
       "<div>\n",
       "<style scoped>\n",
       "    .dataframe tbody tr th:only-of-type {\n",
       "        vertical-align: middle;\n",
       "    }\n",
       "\n",
       "    .dataframe tbody tr th {\n",
       "        vertical-align: top;\n",
       "    }\n",
       "\n",
       "    .dataframe thead th {\n",
       "        text-align: right;\n",
       "    }\n",
       "</style>\n",
       "<table border=\"1\" class=\"dataframe\">\n",
       "  <thead>\n",
       "    <tr style=\"text-align: right;\">\n",
       "      <th></th>\n",
       "      <th>@type</th>\n",
       "      <th>identifier</th>\n",
       "      <th>accessLevel</th>\n",
       "      <th>bureauCode</th>\n",
       "      <th>license</th>\n",
       "      <th>issued</th>\n",
       "      <th>dataQuality</th>\n",
       "      <th>title</th>\n",
       "      <th>description</th>\n",
       "      <th>keyword</th>\n",
       "      <th>...</th>\n",
       "      <th>modified</th>\n",
       "      <th>publisher</th>\n",
       "      <th>contactPoint</th>\n",
       "      <th>programCode</th>\n",
       "      <th>landingPage</th>\n",
       "      <th>distribution</th>\n",
       "      <th>spatial</th>\n",
       "      <th>DOI</th>\n",
       "      <th>id</th>\n",
       "      <th>api</th>\n",
       "    </tr>\n",
       "  </thead>\n",
       "  <tbody>\n",
       "    <tr>\n",
       "      <th>334</th>\n",
       "      <td>dcat:Dataset</td>\n",
       "      <td>https://mhkdr.openei.org/submissions/548</td>\n",
       "      <td>public</td>\n",
       "      <td>[019:20]</td>\n",
       "      <td>https://creativecommons.org/licenses/by/4.0/</td>\n",
       "      <td>2024-02-29T07:00:00Z</td>\n",
       "      <td>True</td>\n",
       "      <td>CalWave - xWave Device, Non-Commercially Sensi...</td>\n",
       "      <td>CalWave has developed a submerged pressure dif...</td>\n",
       "      <td>[MHK, Marine, Hydrokinetic, energy, power, wav...</td>\n",
       "      <td>...</td>\n",
       "      <td>2024-04-25T20:40:00Z</td>\n",
       "      <td>{'@type': 'org:Organization', 'name': 'Ryan Da...</td>\n",
       "      <td>{'@type': 'vcard:Contact', 'fn': 'Marcus Lehma...</td>\n",
       "      <td>[019:009]</td>\n",
       "      <td>https://mhkdr.openei.org/submissions/548</td>\n",
       "      <td>[{'@type': 'dcat:Distribution', 'description':...</td>\n",
       "      <td>{\"type\":\"Polygon\",\"coordinates\":[[[-125.910046...</td>\n",
       "      <td>NaN</td>\n",
       "      <td>548</td>\n",
       "      <td>2</td>\n",
       "    </tr>\n",
       "  </tbody>\n",
       "</table>\n",
       "<p>1 rows × 23 columns</p>\n",
       "</div>"
      ],
      "text/plain": [
       "            @type                                identifier accessLevel  \\\n",
       "334  dcat:Dataset  https://mhkdr.openei.org/submissions/548      public   \n",
       "\n",
       "    bureauCode                                       license  \\\n",
       "334   [019:20]  https://creativecommons.org/licenses/by/4.0/   \n",
       "\n",
       "                   issued  dataQuality  \\\n",
       "334  2024-02-29T07:00:00Z         True   \n",
       "\n",
       "                                                 title  \\\n",
       "334  CalWave - xWave Device, Non-Commercially Sensi...   \n",
       "\n",
       "                                           description  \\\n",
       "334  CalWave has developed a submerged pressure dif...   \n",
       "\n",
       "                                               keyword  ...  \\\n",
       "334  [MHK, Marine, Hydrokinetic, energy, power, wav...  ...   \n",
       "\n",
       "                 modified                                          publisher  \\\n",
       "334  2024-04-25T20:40:00Z  {'@type': 'org:Organization', 'name': 'Ryan Da...   \n",
       "\n",
       "                                          contactPoint programCode  \\\n",
       "334  {'@type': 'vcard:Contact', 'fn': 'Marcus Lehma...   [019:009]   \n",
       "\n",
       "                                  landingPage  \\\n",
       "334  https://mhkdr.openei.org/submissions/548   \n",
       "\n",
       "                                          distribution  \\\n",
       "334  [{'@type': 'dcat:Distribution', 'description':...   \n",
       "\n",
       "                                               spatial  DOI   id api  \n",
       "334  {\"type\":\"Polygon\",\"coordinates\":[[[-125.910046...  NaN  548   2  \n",
       "\n",
       "[1 rows x 23 columns]"
      ]
     },
     "execution_count": 20,
     "metadata": {},
     "output_type": "execute_result"
    }
   ],
   "source": [
    "mhkdr_2_df.tail(1)"
   ]
  },
  {
   "cell_type": "markdown",
   "id": "01d5f358-4ca2-4d92-9ea2-c686f231f913",
   "metadata": {},
   "source": [
    "#### Merge"
   ]
  },
  {
   "cell_type": "code",
   "execution_count": 21,
   "id": "4609fc70-409b-41f3-a943-6151805c5627",
   "metadata": {},
   "outputs": [
    {
     "name": "stderr",
     "output_type": "stream",
     "text": [
      "C:\\Users\\deca761\\AppData\\Local\\Temp\\ipykernel_15976\\3406136988.py:3: FutureWarning: In a future version of pandas all arguments of DataFrame.drop except for the argument 'labels' will be keyword-only.\n",
      "  .drop('_merge', 1))\n"
     ]
    }
   ],
   "source": [
    "mhkdr_diff_df = (mhkdr_1_df.merge(mhkdr_2_df, on='id', how='outer', indicator=True)\n",
    "                     .query('_merge != \"both\"')\n",
    "                     .drop('_merge', 1))"
   ]
  },
  {
   "cell_type": "code",
   "execution_count": 22,
   "id": "a078dd58-0c16-47bd-8f54-f74577efe7b5",
   "metadata": {},
   "outputs": [
    {
     "data": {
      "text/plain": [
       "65"
      ]
     },
     "execution_count": 22,
     "metadata": {},
     "output_type": "execute_result"
    }
   ],
   "source": [
    "len(mhkdr_diff_df)"
   ]
  },
  {
   "cell_type": "code",
   "execution_count": 23,
   "id": "3d09e6d3-7a5e-42e5-852d-4179c542d425",
   "metadata": {},
   "outputs": [
    {
     "data": {
      "text/plain": [
       "400"
      ]
     },
     "execution_count": 23,
     "metadata": {},
     "output_type": "execute_result"
    }
   ],
   "source": [
    "65 + 335"
   ]
  },
  {
   "cell_type": "markdown",
   "id": "78fa953e-5b2c-4ecc-80be-9f8b139748a3",
   "metadata": {},
   "source": [
    "Sanity check! Indeed the merge worked.\n",
    "\n",
    "If the merge was successful, we should have exactly those entries that are inlcuded in one, but not both, APIs. Therefore the number of entries included in the final table should equal the difference between the number of entries in the original two tables. As we can see, we have 65 entries returned to us, and, when added to the entries contained in API 2, we return the number of entries contained in API 1.\n",
    "\n",
    "Now we will proceed to verify that there are only entries in this final table (mhkdr_diff_df) that originate from API 1 (mhkdr_1_df). If this is not the case, our prior sanity check does not hold, and this deserves further investigation."
   ]
  },
  {
   "cell_type": "code",
   "execution_count": 24,
   "id": "d5977270-2e9c-4e96-ac53-0f9293f0a468",
   "metadata": {},
   "outputs": [
    {
     "data": {
      "text/plain": [
       "Index(['URI', 'type', 'landingPage_x', 'sourceURL', 'title_x', 'description_x',\n",
       "       'author', 'organization', 'originationDate', 'spatial_x',\n",
       "       'technologyType', 'tags', 'signatureProject', 'modifiedDate', 'id',\n",
       "       'api_x', '@type', 'identifier', 'accessLevel', 'bureauCode', 'license',\n",
       "       'issued', 'dataQuality', 'title_y', 'description_y', 'keyword',\n",
       "       'projectLead', 'projectTitle', 'projectNumber', 'modified', 'publisher',\n",
       "       'contactPoint', 'programCode', 'landingPage_y', 'distribution',\n",
       "       'spatial_y', 'DOI', 'api_y'],\n",
       "      dtype='object')"
      ]
     },
     "execution_count": 24,
     "metadata": {},
     "output_type": "execute_result"
    }
   ],
   "source": [
    "mhkdr_diff_df.keys()"
   ]
  },
  {
   "cell_type": "code",
   "execution_count": 25,
   "id": "262aa49a-7bc4-4460-b393-02bfdd7c3f07",
   "metadata": {},
   "outputs": [
    {
     "name": "stdout",
     "output_type": "stream",
     "text": [
      "1\n"
     ]
    }
   ],
   "source": [
    "print(mhkdr_diff_df['api_x'].unique()[0])"
   ]
  },
  {
   "cell_type": "code",
   "execution_count": 26,
   "id": "432bbb2b-bfde-401f-86c5-62972a249735",
   "metadata": {},
   "outputs": [
    {
     "name": "stdout",
     "output_type": "stream",
     "text": [
      "nan\n"
     ]
    }
   ],
   "source": [
    "print(mhkdr_diff_df['api_y'].unique()[0])"
   ]
  },
  {
   "cell_type": "markdown",
   "id": "ec0c6a7b-dcdb-4dfa-bb17-b98798cc0a80",
   "metadata": {},
   "source": [
    "Perfect! \n",
    "\n",
    "As we can see, although there was some befuddling in the merge, thereby creating a bunch of extra variables, it is not a problem because we can see above that there are indeed only entries originating from API 1 in this table. Because of this, we can be confident that API 1 includes everything in API 2,  but not the reverse. We can therefore discard all columns ending with '_y', or complete a second merge to replace this one in order to get cleaner results."
   ]
  },
  {
   "cell_type": "markdown",
   "id": "1ec748db-9873-4d07-9c62-0a1655c29f7c",
   "metadata": {},
   "source": [
    "#### 3.1 Conclusion (What is the cause of mismatch of the number of records in each API?)\n",
    "\n",
    "1. Are there entries present in API 1 but not API 2? - Yes!\n",
    "2. Are there entries present in API 2 but not API 1? - No!"
   ]
  },
  {
   "cell_type": "markdown",
   "id": "63b3fc84-a510-4d7b-a3a1-3c1da51a12b5",
   "metadata": {},
   "source": [
    "#### 3.2 - Find the reason for the API mismatch"
   ]
  },
  {
   "cell_type": "code",
   "execution_count": 27,
   "id": "921fe722-03bb-4f4e-b40d-0f2f4c04ecd4",
   "metadata": {},
   "outputs": [],
   "source": [
    "pd.set_option('display.max_columns', 1000)"
   ]
  },
  {
   "cell_type": "code",
   "execution_count": 28,
   "id": "30ea3f16-1c91-4daf-a201-971b860b0734",
   "metadata": {},
   "outputs": [
    {
     "data": {
      "text/html": [
       "<div>\n",
       "<style scoped>\n",
       "    .dataframe tbody tr th:only-of-type {\n",
       "        vertical-align: middle;\n",
       "    }\n",
       "\n",
       "    .dataframe tbody tr th {\n",
       "        vertical-align: top;\n",
       "    }\n",
       "\n",
       "    .dataframe thead th {\n",
       "        text-align: right;\n",
       "    }\n",
       "</style>\n",
       "<table border=\"1\" class=\"dataframe\">\n",
       "  <thead>\n",
       "    <tr style=\"text-align: right;\">\n",
       "      <th></th>\n",
       "      <th>URI</th>\n",
       "      <th>type</th>\n",
       "      <th>landingPage_x</th>\n",
       "      <th>sourceURL</th>\n",
       "      <th>title_x</th>\n",
       "      <th>description_x</th>\n",
       "      <th>author</th>\n",
       "      <th>organization</th>\n",
       "      <th>originationDate</th>\n",
       "      <th>spatial_x</th>\n",
       "      <th>technologyType</th>\n",
       "      <th>tags</th>\n",
       "      <th>signatureProject</th>\n",
       "      <th>modifiedDate</th>\n",
       "      <th>id</th>\n",
       "      <th>api_x</th>\n",
       "      <th>@type</th>\n",
       "      <th>identifier</th>\n",
       "      <th>accessLevel</th>\n",
       "      <th>bureauCode</th>\n",
       "      <th>license</th>\n",
       "      <th>issued</th>\n",
       "      <th>dataQuality</th>\n",
       "      <th>title_y</th>\n",
       "      <th>description_y</th>\n",
       "      <th>keyword</th>\n",
       "      <th>projectLead</th>\n",
       "      <th>projectTitle</th>\n",
       "      <th>projectNumber</th>\n",
       "      <th>modified</th>\n",
       "      <th>publisher</th>\n",
       "      <th>contactPoint</th>\n",
       "      <th>programCode</th>\n",
       "      <th>landingPage_y</th>\n",
       "      <th>distribution</th>\n",
       "      <th>spatial_y</th>\n",
       "      <th>DOI</th>\n",
       "      <th>api_y</th>\n",
       "    </tr>\n",
       "  </thead>\n",
       "  <tbody>\n",
       "    <tr>\n",
       "      <th>1</th>\n",
       "      <td>https://mhkdr.openei.org/submissions/547</td>\n",
       "      <td>[Dataset, Document/Report, Dataset/Data]</td>\n",
       "      <td>https://mhkdr.openei.org/submissions/547</td>\n",
       "      <td>https://mhkdr.openei.org/submissions/547</td>\n",
       "      <td>CalWave - Reports and Plans for xWave Device D...</td>\n",
       "      <td>CalWave has developed a submerged pressure dif...</td>\n",
       "      <td>[Thomas Boerner, Nigel Kojimoto, Marcus Lehman...</td>\n",
       "      <td>[CalWave Power Technologies Inc.]</td>\n",
       "      <td>2024-02-29 07:00:00</td>\n",
       "      <td>{'boundingCoordinatesNE': [44.69319166311689, ...</td>\n",
       "      <td>[Wave]</td>\n",
       "      <td>[MHK, Marine, Hydrokinetic, energy, power, Wav...</td>\n",
       "      <td>[]</td>\n",
       "      <td>2024-04-25 20:48:08</td>\n",
       "      <td>547</td>\n",
       "      <td>1</td>\n",
       "      <td>NaN</td>\n",
       "      <td>NaN</td>\n",
       "      <td>NaN</td>\n",
       "      <td>NaN</td>\n",
       "      <td>NaN</td>\n",
       "      <td>NaN</td>\n",
       "      <td>NaN</td>\n",
       "      <td>NaN</td>\n",
       "      <td>NaN</td>\n",
       "      <td>NaN</td>\n",
       "      <td>NaN</td>\n",
       "      <td>NaN</td>\n",
       "      <td>NaN</td>\n",
       "      <td>NaN</td>\n",
       "      <td>NaN</td>\n",
       "      <td>NaN</td>\n",
       "      <td>NaN</td>\n",
       "      <td>NaN</td>\n",
       "      <td>NaN</td>\n",
       "      <td>NaN</td>\n",
       "      <td>NaN</td>\n",
       "      <td>NaN</td>\n",
       "    </tr>\n",
       "  </tbody>\n",
       "</table>\n",
       "</div>"
      ],
      "text/plain": [
       "                                        URI  \\\n",
       "1  https://mhkdr.openei.org/submissions/547   \n",
       "\n",
       "                                       type  \\\n",
       "1  [Dataset, Document/Report, Dataset/Data]   \n",
       "\n",
       "                              landingPage_x  \\\n",
       "1  https://mhkdr.openei.org/submissions/547   \n",
       "\n",
       "                                  sourceURL  \\\n",
       "1  https://mhkdr.openei.org/submissions/547   \n",
       "\n",
       "                                             title_x  \\\n",
       "1  CalWave - Reports and Plans for xWave Device D...   \n",
       "\n",
       "                                       description_x  \\\n",
       "1  CalWave has developed a submerged pressure dif...   \n",
       "\n",
       "                                              author  \\\n",
       "1  [Thomas Boerner, Nigel Kojimoto, Marcus Lehman...   \n",
       "\n",
       "                        organization      originationDate  \\\n",
       "1  [CalWave Power Technologies Inc.]  2024-02-29 07:00:00   \n",
       "\n",
       "                                           spatial_x technologyType  \\\n",
       "1  {'boundingCoordinatesNE': [44.69319166311689, ...         [Wave]   \n",
       "\n",
       "                                                tags signatureProject  \\\n",
       "1  [MHK, Marine, Hydrokinetic, energy, power, Wav...               []   \n",
       "\n",
       "          modifiedDate   id  api_x @type identifier accessLevel bureauCode  \\\n",
       "1  2024-04-25 20:48:08  547      1   NaN        NaN         NaN        NaN   \n",
       "\n",
       "  license issued dataQuality title_y description_y keyword projectLead  \\\n",
       "1     NaN    NaN         NaN     NaN           NaN     NaN         NaN   \n",
       "\n",
       "  projectTitle projectNumber modified publisher contactPoint programCode  \\\n",
       "1          NaN           NaN      NaN       NaN          NaN         NaN   \n",
       "\n",
       "  landingPage_y distribution spatial_y  DOI  api_y  \n",
       "1           NaN          NaN       NaN  NaN    NaN  "
      ]
     },
     "execution_count": 28,
     "metadata": {},
     "output_type": "execute_result"
    }
   ],
   "source": [
    "mhkdr_diff_df.head(1)"
   ]
  },
  {
   "cell_type": "markdown",
   "id": "dcc3512c-ce4a-4d6a-b9b6-8a3a8913f329",
   "metadata": {},
   "source": [
    "It appears that all of these entries are on data moratorium.\n",
    "\n",
    "This makes integration very easy. This will correspond directly to Tethys / Tethys E where the \"attachment\" field is missing/nan.\n",
    "\n",
    "Printing all of the links so that I can open every page and verify this hypothesis."
   ]
  },
  {
   "cell_type": "code",
   "execution_count": 29,
   "id": "81eb38c1-2604-464f-b44a-2f77796400b0",
   "metadata": {},
   "outputs": [],
   "source": [
    "# links = list(mhkdr_diff_df['URI'])\n",
    "# for i in links:\n",
    "#     print(i)"
   ]
  },
  {
   "cell_type": "markdown",
   "id": "04cdd4cc-aa35-478c-baaf-e23863b5986e",
   "metadata": {},
   "source": [
    "Indeed all 65 entries have their Resources section marked as available at a future date."
   ]
  },
  {
   "cell_type": "markdown",
   "id": "b7ff2b73-456f-49ca-b017-e899ef8c9811",
   "metadata": {},
   "source": [
    "#### 3.2 Conclusion (What is the cause of mismatch of the number of records in each API?)"
   ]
  },
  {
   "cell_type": "markdown",
   "id": "0c4c5c67-95c3-44ce-96ba-263fa26dde95",
   "metadata": {},
   "source": [
    "I am fairly confident that the cause of the mismatch between then number of records in each API is that API 1 includes all entries, regardless of the state of the \"resources\" section within the entry, whereas API 2 only includes those entries whose \"resources\" section is not in moratorium."
   ]
  }
 ],
 "metadata": {
  "kernelspec": {
   "display_name": "Python 3 (ipykernel)",
   "language": "python",
   "name": "python3"
  },
  "language_info": {
   "codemirror_mode": {
    "name": "ipython",
    "version": 3
   },
   "file_extension": ".py",
   "mimetype": "text/x-python",
   "name": "python",
   "nbconvert_exporter": "python",
   "pygments_lexer": "ipython3",
   "version": "3.11.7"
  }
 },
 "nbformat": 4,
 "nbformat_minor": 5
}
