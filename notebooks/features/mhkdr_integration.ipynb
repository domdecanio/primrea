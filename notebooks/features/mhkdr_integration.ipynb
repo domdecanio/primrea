{
 "cells": [
  {
   "cell_type": "markdown",
   "id": "cd665082-0f0d-44bb-9b5f-1984107066ee",
   "metadata": {},
   "source": [
    "# MHKDR Integration"
   ]
  },
  {
   "cell_type": "markdown",
   "id": "f8fa94ce-6d5b-42d8-a144-24370d1c0335",
   "metadata": {},
   "source": [
    "The purpose of this notebook is to integrate MHKDR API results into the primrea package using the plan outlined in the most recent iterations of the database diagram."
   ]
  },
  {
   "cell_type": "markdown",
   "id": "bb286942-29a6-4864-9a65-fd127d34785a",
   "metadata": {},
   "source": [
    "### Setup"
   ]
  },
  {
   "cell_type": "code",
   "execution_count": 1,
   "id": "8f3ac426-98d8-4f99-b1f5-cddf083fc42d",
   "metadata": {},
   "outputs": [],
   "source": [
    "import pandas as pd\n",
    "import requests\n",
    "import primrea.core\n",
    "from primrea import *"
   ]
  },
  {
   "cell_type": "code",
   "execution_count": 2,
   "id": "c5ce3a45-810b-40cf-99a1-05f47e8d6109",
   "metadata": {},
   "outputs": [],
   "source": [
    "mhkdr_1_api = 'https://mhkdr.openei.org/api?action=getSubmissionsForPRIMRE'\n",
    "mhkdr_2_api = 'https://mhkdr.openei.org/data.json'"
   ]
  },
  {
   "cell_type": "code",
   "execution_count": 3,
   "id": "e4003fa8-3aea-4f9d-b4ad-125662e870dd",
   "metadata": {},
   "outputs": [],
   "source": [
    "mhkdr_1_df = primrea.core.api_to_df(mhkdr_1_api)\n",
    "#mhkdr_2_df = primrea.core.api_to_df(mhkdr_2_api)"
   ]
  },
  {
   "cell_type": "code",
   "execution_count": 4,
   "id": "dae158b5-624e-4331-97f8-3bc28739a9a9",
   "metadata": {},
   "outputs": [],
   "source": [
    "mhkdr_2_response = requests.get(mhkdr_2_api)\n",
    "mhkdr_2_response_json = mhkdr_2_response.json()\n",
    "mhkdr_2_df = pd.DataFrame(mhkdr_2_response_json['dataset'])"
   ]
  },
  {
   "cell_type": "markdown",
   "id": "8f38c5d4-2093-4f22-bd17-95f2b6be8e6b",
   "metadata": {},
   "source": [
    "### Dev"
   ]
  },
  {
   "cell_type": "code",
   "execution_count": 5,
   "id": "7dcce7a0-f656-417b-b999-a5ebe7bc5663",
   "metadata": {},
   "outputs": [
    {
     "data": {
      "text/html": [
       "<div>\n",
       "<style scoped>\n",
       "    .dataframe tbody tr th:only-of-type {\n",
       "        vertical-align: middle;\n",
       "    }\n",
       "\n",
       "    .dataframe tbody tr th {\n",
       "        vertical-align: top;\n",
       "    }\n",
       "\n",
       "    .dataframe thead th {\n",
       "        text-align: right;\n",
       "    }\n",
       "</style>\n",
       "<table border=\"1\" class=\"dataframe\">\n",
       "  <thead>\n",
       "    <tr style=\"text-align: right;\">\n",
       "      <th></th>\n",
       "      <th>URI</th>\n",
       "      <th>type</th>\n",
       "      <th>landingPage</th>\n",
       "      <th>sourceURL</th>\n",
       "      <th>title</th>\n",
       "      <th>description</th>\n",
       "      <th>author</th>\n",
       "      <th>organization</th>\n",
       "      <th>originationDate</th>\n",
       "      <th>spatial</th>\n",
       "      <th>technologyType</th>\n",
       "      <th>tags</th>\n",
       "      <th>signatureProject</th>\n",
       "      <th>modifiedDate</th>\n",
       "    </tr>\n",
       "  </thead>\n",
       "  <tbody>\n",
       "    <tr>\n",
       "      <th>0</th>\n",
       "      <td>https://mhkdr.openei.org/submissions/553</td>\n",
       "      <td>[Dataset, Dataset/Archive, Dataset/OnlineTool]</td>\n",
       "      <td>https://mhkdr.openei.org/submissions/553</td>\n",
       "      <td>https://mhkdr.openei.org/submissions/553</td>\n",
       "      <td>HERO WEC V1.0 - WEC-Sim Model (July 2024)</td>\n",
       "      <td>**This submission supersedes submission MHKDR-...</td>\n",
       "      <td>[Justin Panzarella, Toan Tran, Scott Jenne]</td>\n",
       "      <td>[National Renewable Energy Laboratory]</td>\n",
       "      <td>2024-07-01 06:00:00</td>\n",
       "      <td>{'extent': 'point', 'coordinates': [39.9146828...</td>\n",
       "      <td>[Wave/Point Absorber]</td>\n",
       "      <td>[MHK, Marine, Hydrokinetic, energy, power, HER...</td>\n",
       "      <td>[WEC-Sim]</td>\n",
       "      <td>2024-07-17 16:50:33</td>\n",
       "    </tr>\n",
       "  </tbody>\n",
       "</table>\n",
       "</div>"
      ],
      "text/plain": [
       "                                        URI  \\\n",
       "0  https://mhkdr.openei.org/submissions/553   \n",
       "\n",
       "                                             type  \\\n",
       "0  [Dataset, Dataset/Archive, Dataset/OnlineTool]   \n",
       "\n",
       "                                landingPage  \\\n",
       "0  https://mhkdr.openei.org/submissions/553   \n",
       "\n",
       "                                  sourceURL  \\\n",
       "0  https://mhkdr.openei.org/submissions/553   \n",
       "\n",
       "                                       title  \\\n",
       "0  HERO WEC V1.0 - WEC-Sim Model (July 2024)   \n",
       "\n",
       "                                         description  \\\n",
       "0  **This submission supersedes submission MHKDR-...   \n",
       "\n",
       "                                        author  \\\n",
       "0  [Justin Panzarella, Toan Tran, Scott Jenne]   \n",
       "\n",
       "                             organization      originationDate  \\\n",
       "0  [National Renewable Energy Laboratory]  2024-07-01 06:00:00   \n",
       "\n",
       "                                             spatial         technologyType  \\\n",
       "0  {'extent': 'point', 'coordinates': [39.9146828...  [Wave/Point Absorber]   \n",
       "\n",
       "                                                tags signatureProject  \\\n",
       "0  [MHK, Marine, Hydrokinetic, energy, power, HER...        [WEC-Sim]   \n",
       "\n",
       "          modifiedDate  \n",
       "0  2024-07-17 16:50:33  "
      ]
     },
     "execution_count": 5,
     "metadata": {},
     "output_type": "execute_result"
    }
   ],
   "source": [
    "mhkdr_1_df.head(1)"
   ]
  },
  {
   "cell_type": "code",
   "execution_count": 6,
   "id": "67070dac-cb4c-4016-86ca-6105b34548cb",
   "metadata": {},
   "outputs": [
    {
     "data": {
      "text/html": [
       "<div>\n",
       "<style scoped>\n",
       "    .dataframe tbody tr th:only-of-type {\n",
       "        vertical-align: middle;\n",
       "    }\n",
       "\n",
       "    .dataframe tbody tr th {\n",
       "        vertical-align: top;\n",
       "    }\n",
       "\n",
       "    .dataframe thead th {\n",
       "        text-align: right;\n",
       "    }\n",
       "</style>\n",
       "<table border=\"1\" class=\"dataframe\">\n",
       "  <thead>\n",
       "    <tr style=\"text-align: right;\">\n",
       "      <th></th>\n",
       "      <th>@type</th>\n",
       "      <th>identifier</th>\n",
       "      <th>accessLevel</th>\n",
       "      <th>bureauCode</th>\n",
       "      <th>license</th>\n",
       "      <th>issued</th>\n",
       "      <th>dataQuality</th>\n",
       "      <th>title</th>\n",
       "      <th>description</th>\n",
       "      <th>keyword</th>\n",
       "      <th>...</th>\n",
       "      <th>projectTitle</th>\n",
       "      <th>projectNumber</th>\n",
       "      <th>modified</th>\n",
       "      <th>publisher</th>\n",
       "      <th>contactPoint</th>\n",
       "      <th>programCode</th>\n",
       "      <th>landingPage</th>\n",
       "      <th>distribution</th>\n",
       "      <th>spatial</th>\n",
       "      <th>DOI</th>\n",
       "    </tr>\n",
       "  </thead>\n",
       "  <tbody>\n",
       "    <tr>\n",
       "      <th>0</th>\n",
       "      <td>dcat:Dataset</td>\n",
       "      <td>https://mhkdr.openei.org/submissions/1</td>\n",
       "      <td>public</td>\n",
       "      <td>[019:20]</td>\n",
       "      <td>https://creativecommons.org/licenses/by/4.0/</td>\n",
       "      <td>2021-12-15T07:00:00Z</td>\n",
       "      <td>True</td>\n",
       "      <td>MHKDR Data Management and Best Practices for S...</td>\n",
       "      <td>Resources for MHKDR data submitters and curato...</td>\n",
       "      <td>[MHK, Marine, Hydrokinetic, energy, power, dat...</td>\n",
       "      <td>...</td>\n",
       "      <td>Marine and Hydrokinetic Data Repository (MHKDR)</td>\n",
       "      <td>35007</td>\n",
       "      <td>2022-05-26T18:08:40Z</td>\n",
       "      <td>{'@type': 'org:Organization', 'name': 'RJ Scavo'}</td>\n",
       "      <td>{'@type': 'vcard:Contact', 'fn': 'MHKDR Help',...</td>\n",
       "      <td>[019:009]</td>\n",
       "      <td>https://mhkdr.openei.org/submissions/1</td>\n",
       "      <td>[{'@type': 'dcat:Distribution', 'description':...</td>\n",
       "      <td>{\"type\":\"Polygon\",\"coordinates\":[[[-180,-83],[...</td>\n",
       "      <td>NaN</td>\n",
       "    </tr>\n",
       "  </tbody>\n",
       "</table>\n",
       "<p>1 rows × 21 columns</p>\n",
       "</div>"
      ],
      "text/plain": [
       "          @type                              identifier accessLevel  \\\n",
       "0  dcat:Dataset  https://mhkdr.openei.org/submissions/1      public   \n",
       "\n",
       "  bureauCode                                       license  \\\n",
       "0   [019:20]  https://creativecommons.org/licenses/by/4.0/   \n",
       "\n",
       "                 issued  dataQuality  \\\n",
       "0  2021-12-15T07:00:00Z         True   \n",
       "\n",
       "                                               title  \\\n",
       "0  MHKDR Data Management and Best Practices for S...   \n",
       "\n",
       "                                         description  \\\n",
       "0  Resources for MHKDR data submitters and curato...   \n",
       "\n",
       "                                             keyword  ...  \\\n",
       "0  [MHK, Marine, Hydrokinetic, energy, power, dat...  ...   \n",
       "\n",
       "                                      projectTitle projectNumber  \\\n",
       "0  Marine and Hydrokinetic Data Repository (MHKDR)         35007   \n",
       "\n",
       "               modified                                          publisher  \\\n",
       "0  2022-05-26T18:08:40Z  {'@type': 'org:Organization', 'name': 'RJ Scavo'}   \n",
       "\n",
       "                                        contactPoint programCode  \\\n",
       "0  {'@type': 'vcard:Contact', 'fn': 'MHKDR Help',...   [019:009]   \n",
       "\n",
       "                              landingPage  \\\n",
       "0  https://mhkdr.openei.org/submissions/1   \n",
       "\n",
       "                                        distribution  \\\n",
       "0  [{'@type': 'dcat:Distribution', 'description':...   \n",
       "\n",
       "                                             spatial  DOI  \n",
       "0  {\"type\":\"Polygon\",\"coordinates\":[[[-180,-83],[...  NaN  \n",
       "\n",
       "[1 rows x 21 columns]"
      ]
     },
     "execution_count": 6,
     "metadata": {},
     "output_type": "execute_result"
    }
   ],
   "source": [
    "mhkdr_2_df.head(1)"
   ]
  },
  {
   "cell_type": "markdown",
   "id": "8cec80b7-03d2-4443-9fec-f716cc259e87",
   "metadata": {},
   "source": [
    "We only want 5 variables from \n",
    "```python\n",
    "mhkdr_df_2\n",
    "```\n",
    " - license\n",
    " - issued\n",
    " - projectTitle\n",
    " - projectNumber\n",
    " - contactPoint"
   ]
  },
  {
   "cell_type": "code",
   "execution_count": 11,
   "id": "c95c2955-c19b-43ad-8fbb-33785697ec41",
   "metadata": {},
   "outputs": [
    {
     "data": {
      "text/html": [
       "<div>\n",
       "<style scoped>\n",
       "    .dataframe tbody tr th:only-of-type {\n",
       "        vertical-align: middle;\n",
       "    }\n",
       "\n",
       "    .dataframe tbody tr th {\n",
       "        vertical-align: top;\n",
       "    }\n",
       "\n",
       "    .dataframe thead th {\n",
       "        text-align: right;\n",
       "    }\n",
       "</style>\n",
       "<table border=\"1\" class=\"dataframe\">\n",
       "  <thead>\n",
       "    <tr style=\"text-align: right;\">\n",
       "      <th></th>\n",
       "      <th>entry_id</th>\n",
       "      <th>originationDate</th>\n",
       "      <th>modifiedDate</th>\n",
       "      <th>URI</th>\n",
       "      <th>landingPage</th>\n",
       "      <th>sourceURL</th>\n",
       "      <th>title</th>\n",
       "      <th>description</th>\n",
       "      <th>signatureProject</th>\n",
       "    </tr>\n",
       "  </thead>\n",
       "  <tbody>\n",
       "    <tr>\n",
       "      <th>0</th>\n",
       "      <td>553</td>\n",
       "      <td>2024-07-01 06:00:00</td>\n",
       "      <td>2024-07-17 16:50:33</td>\n",
       "      <td>https://mhkdr.openei.org/submissions/553</td>\n",
       "      <td>https://mhkdr.openei.org/submissions/553</td>\n",
       "      <td>https://mhkdr.openei.org/submissions/553</td>\n",
       "      <td>HERO WEC V1.0 - WEC-Sim Model (July 2024)</td>\n",
       "      <td>**This submission supersedes submission MHKDR-...</td>\n",
       "      <td>[WEC-Sim]</td>\n",
       "    </tr>\n",
       "  </tbody>\n",
       "</table>\n",
       "</div>"
      ],
      "text/plain": [
       "   entry_id     originationDate        modifiedDate  \\\n",
       "0       553 2024-07-01 06:00:00 2024-07-17 16:50:33   \n",
       "\n",
       "                                        URI  \\\n",
       "0  https://mhkdr.openei.org/submissions/553   \n",
       "\n",
       "                                landingPage  \\\n",
       "0  https://mhkdr.openei.org/submissions/553   \n",
       "\n",
       "                                  sourceURL  \\\n",
       "0  https://mhkdr.openei.org/submissions/553   \n",
       "\n",
       "                                       title  \\\n",
       "0  HERO WEC V1.0 - WEC-Sim Model (July 2024)   \n",
       "\n",
       "                                         description signatureProject  \n",
       "0  **This submission supersedes submission MHKDR-...        [WEC-Sim]  "
      ]
     },
     "execution_count": 11,
     "metadata": {},
     "output_type": "execute_result"
    }
   ],
   "source": [
    "mhkdr_df = primrea.kh_table_gen.entry_based.construct_ts_core_table(mhkdr_1_df)\n",
    "mhkdr_df.head(1)"
   ]
  },
  {
   "cell_type": "code",
   "execution_count": 12,
   "id": "8f4079b0-be3f-4d14-96be-205f2970456c",
   "metadata": {},
   "outputs": [
    {
     "data": {
      "text/plain": [
       "Index(['@type', 'identifier', 'accessLevel', 'bureauCode', 'license', 'issued',\n",
       "       'dataQuality', 'title', 'description', 'keyword', 'projectLead',\n",
       "       'projectTitle', 'projectNumber', 'modified', 'publisher',\n",
       "       'contactPoint', 'programCode', 'landingPage', 'distribution', 'spatial',\n",
       "       'DOI'],\n",
       "      dtype='object')"
      ]
     },
     "execution_count": 12,
     "metadata": {},
     "output_type": "execute_result"
    }
   ],
   "source": [
    "mhkdr_2_df.keys()"
   ]
  },
  {
   "cell_type": "code",
   "execution_count": 13,
   "id": "8ecf8190-0289-427a-8fa7-5803d84b57a4",
   "metadata": {},
   "outputs": [
    {
     "data": {
      "text/html": [
       "<div>\n",
       "<style scoped>\n",
       "    .dataframe tbody tr th:only-of-type {\n",
       "        vertical-align: middle;\n",
       "    }\n",
       "\n",
       "    .dataframe tbody tr th {\n",
       "        vertical-align: top;\n",
       "    }\n",
       "\n",
       "    .dataframe thead th {\n",
       "        text-align: right;\n",
       "    }\n",
       "</style>\n",
       "<table border=\"1\" class=\"dataframe\">\n",
       "  <thead>\n",
       "    <tr style=\"text-align: right;\">\n",
       "      <th></th>\n",
       "      <th>@type</th>\n",
       "      <th>identifier</th>\n",
       "      <th>accessLevel</th>\n",
       "      <th>bureauCode</th>\n",
       "      <th>license</th>\n",
       "      <th>issued</th>\n",
       "      <th>dataQuality</th>\n",
       "      <th>title</th>\n",
       "      <th>description</th>\n",
       "      <th>keyword</th>\n",
       "      <th>...</th>\n",
       "      <th>projectTitle</th>\n",
       "      <th>projectNumber</th>\n",
       "      <th>modified</th>\n",
       "      <th>publisher</th>\n",
       "      <th>contactPoint</th>\n",
       "      <th>programCode</th>\n",
       "      <th>landingPage</th>\n",
       "      <th>distribution</th>\n",
       "      <th>spatial</th>\n",
       "      <th>DOI</th>\n",
       "    </tr>\n",
       "  </thead>\n",
       "  <tbody>\n",
       "    <tr>\n",
       "      <th>0</th>\n",
       "      <td>dcat:Dataset</td>\n",
       "      <td>https://mhkdr.openei.org/submissions/1</td>\n",
       "      <td>public</td>\n",
       "      <td>[019:20]</td>\n",
       "      <td>https://creativecommons.org/licenses/by/4.0/</td>\n",
       "      <td>2021-12-15T07:00:00Z</td>\n",
       "      <td>True</td>\n",
       "      <td>MHKDR Data Management and Best Practices for S...</td>\n",
       "      <td>Resources for MHKDR data submitters and curato...</td>\n",
       "      <td>[MHK, Marine, Hydrokinetic, energy, power, dat...</td>\n",
       "      <td>...</td>\n",
       "      <td>Marine and Hydrokinetic Data Repository (MHKDR)</td>\n",
       "      <td>35007</td>\n",
       "      <td>2022-05-26T18:08:40Z</td>\n",
       "      <td>{'@type': 'org:Organization', 'name': 'RJ Scavo'}</td>\n",
       "      <td>{'@type': 'vcard:Contact', 'fn': 'MHKDR Help',...</td>\n",
       "      <td>[019:009]</td>\n",
       "      <td>https://mhkdr.openei.org/submissions/1</td>\n",
       "      <td>[{'@type': 'dcat:Distribution', 'description':...</td>\n",
       "      <td>{\"type\":\"Polygon\",\"coordinates\":[[[-180,-83],[...</td>\n",
       "      <td>NaN</td>\n",
       "    </tr>\n",
       "  </tbody>\n",
       "</table>\n",
       "<p>1 rows × 21 columns</p>\n",
       "</div>"
      ],
      "text/plain": [
       "          @type                              identifier accessLevel  \\\n",
       "0  dcat:Dataset  https://mhkdr.openei.org/submissions/1      public   \n",
       "\n",
       "  bureauCode                                       license  \\\n",
       "0   [019:20]  https://creativecommons.org/licenses/by/4.0/   \n",
       "\n",
       "                 issued  dataQuality  \\\n",
       "0  2021-12-15T07:00:00Z         True   \n",
       "\n",
       "                                               title  \\\n",
       "0  MHKDR Data Management and Best Practices for S...   \n",
       "\n",
       "                                         description  \\\n",
       "0  Resources for MHKDR data submitters and curato...   \n",
       "\n",
       "                                             keyword  ...  \\\n",
       "0  [MHK, Marine, Hydrokinetic, energy, power, dat...  ...   \n",
       "\n",
       "                                      projectTitle projectNumber  \\\n",
       "0  Marine and Hydrokinetic Data Repository (MHKDR)         35007   \n",
       "\n",
       "               modified                                          publisher  \\\n",
       "0  2022-05-26T18:08:40Z  {'@type': 'org:Organization', 'name': 'RJ Scavo'}   \n",
       "\n",
       "                                        contactPoint programCode  \\\n",
       "0  {'@type': 'vcard:Contact', 'fn': 'MHKDR Help',...   [019:009]   \n",
       "\n",
       "                              landingPage  \\\n",
       "0  https://mhkdr.openei.org/submissions/1   \n",
       "\n",
       "                                        distribution  \\\n",
       "0  [{'@type': 'dcat:Distribution', 'description':...   \n",
       "\n",
       "                                             spatial  DOI  \n",
       "0  {\"type\":\"Polygon\",\"coordinates\":[[[-180,-83],[...  NaN  \n",
       "\n",
       "[1 rows x 21 columns]"
      ]
     },
     "execution_count": 13,
     "metadata": {},
     "output_type": "execute_result"
    }
   ],
   "source": [
    "mhkdr_2_df.head(1)"
   ]
  },
  {
   "cell_type": "code",
   "execution_count": 14,
   "id": "764975da-4fed-43d6-9a54-ae1c518becd5",
   "metadata": {},
   "outputs": [],
   "source": [
    "# Constructing the entry_id data\n",
    "mhkdr_2_df_len = len(mhkdr_2_df)\n",
    "\n",
    "entry_ids = list()\n",
    "for i in range(0, mhkdr_2_df_len):\n",
    "    entry_id = primrea.kh_table_gen.entry_based.find_entry_id(mhkdr_2_df['identifier'][i])\n",
    "    entry_ids.append(entry_id)"
   ]
  },
  {
   "cell_type": "code",
   "execution_count": 15,
   "id": "7e320290-d274-47ae-8a2e-4eab8f87aad1",
   "metadata": {},
   "outputs": [],
   "source": [
    "mhkdr_2_df['issued'] = pd.to_datetime(mhkdr_2_df['issued'])\n",
    "mhkdr_2_df['entry_id'] = entry_ids"
   ]
  },
  {
   "cell_type": "code",
   "execution_count": 16,
   "id": "31e8922e-e975-4a91-b296-240f4c142167",
   "metadata": {},
   "outputs": [
    {
     "data": {
      "text/html": [
       "<div>\n",
       "<style scoped>\n",
       "    .dataframe tbody tr th:only-of-type {\n",
       "        vertical-align: middle;\n",
       "    }\n",
       "\n",
       "    .dataframe tbody tr th {\n",
       "        vertical-align: top;\n",
       "    }\n",
       "\n",
       "    .dataframe thead th {\n",
       "        text-align: right;\n",
       "    }\n",
       "</style>\n",
       "<table border=\"1\" class=\"dataframe\">\n",
       "  <thead>\n",
       "    <tr style=\"text-align: right;\">\n",
       "      <th></th>\n",
       "      <th>entry_id</th>\n",
       "      <th>license</th>\n",
       "      <th>issued</th>\n",
       "      <th>projectTitle</th>\n",
       "      <th>projectNumber</th>\n",
       "    </tr>\n",
       "  </thead>\n",
       "  <tbody>\n",
       "    <tr>\n",
       "      <th>0</th>\n",
       "      <td>1</td>\n",
       "      <td>https://creativecommons.org/licenses/by/4.0/</td>\n",
       "      <td>2021-12-15 07:00:00+00:00</td>\n",
       "      <td>Marine and Hydrokinetic Data Repository (MHKDR)</td>\n",
       "      <td>35007</td>\n",
       "    </tr>\n",
       "  </tbody>\n",
       "</table>\n",
       "</div>"
      ],
      "text/plain": [
       "   entry_id                                       license  \\\n",
       "0         1  https://creativecommons.org/licenses/by/4.0/   \n",
       "\n",
       "                     issued                                     projectTitle  \\\n",
       "0 2021-12-15 07:00:00+00:00  Marine and Hydrokinetic Data Repository (MHKDR)   \n",
       "\n",
       "  projectNumber  \n",
       "0         35007  "
      ]
     },
     "execution_count": 16,
     "metadata": {},
     "output_type": "execute_result"
    }
   ],
   "source": [
    "mhkdr_2_df_matured = mhkdr_2_df[['entry_id', 'license', 'issued', 'projectTitle', 'projectNumber']]\n",
    "mhkdr_2_df_matured.head(1)"
   ]
  },
  {
   "cell_type": "code",
   "execution_count": 33,
   "id": "90946e15-3df3-4acb-add5-a2f0b905f60b",
   "metadata": {},
   "outputs": [
    {
     "data": {
      "text/plain": [
       "404"
      ]
     },
     "execution_count": 33,
     "metadata": {},
     "output_type": "execute_result"
    }
   ],
   "source": [
    "len(mhkdr_df)"
   ]
  },
  {
   "cell_type": "code",
   "execution_count": 34,
   "id": "dcf1742e-ec02-4f66-ad19-5c5cc92ec2e8",
   "metadata": {},
   "outputs": [
    {
     "data": {
      "text/plain": [
       "340"
      ]
     },
     "execution_count": 34,
     "metadata": {},
     "output_type": "execute_result"
    }
   ],
   "source": [
    "len(mhkdr_2_df)"
   ]
  },
  {
   "cell_type": "code",
   "execution_count": null,
   "id": "933e8c09-e411-4c2c-b241-64f356edd60d",
   "metadata": {},
   "outputs": [],
   "source": []
  },
  {
   "cell_type": "code",
   "execution_count": null,
   "id": "aeb97662-0f5b-4582-8abf-581afcc3bf0e",
   "metadata": {},
   "outputs": [],
   "source": []
  },
  {
   "cell_type": "code",
   "execution_count": null,
   "id": "2451e464-dde7-470d-a83e-33aedff1ea5c",
   "metadata": {},
   "outputs": [],
   "source": []
  },
  {
   "cell_type": "code",
   "execution_count": null,
   "id": "ddb72b5a-c88c-47de-aae2-c9f105eb9750",
   "metadata": {},
   "outputs": [],
   "source": []
  },
  {
   "cell_type": "code",
   "execution_count": null,
   "id": "d3940091-ca6f-437c-9bfa-4f1b850d626f",
   "metadata": {},
   "outputs": [],
   "source": []
  },
  {
   "cell_type": "code",
   "execution_count": null,
   "id": "d81b9bd6-d412-470d-ab8b-28c7f81e6325",
   "metadata": {},
   "outputs": [],
   "source": []
  },
  {
   "cell_type": "code",
   "execution_count": null,
   "id": "6c8d22b9-ca12-4a90-8c60-f81088aa03ff",
   "metadata": {},
   "outputs": [],
   "source": []
  },
  {
   "cell_type": "code",
   "execution_count": null,
   "id": "6b34ca9d-dd44-4e2d-9fce-eb746e7f39ae",
   "metadata": {},
   "outputs": [],
   "source": []
  },
  {
   "cell_type": "markdown",
   "id": "a055aabf-07ed-4db0-9f52-0b37835ff47b",
   "metadata": {},
   "source": [
    "## Error Identification and Investigation"
   ]
  },
  {
   "cell_type": "code",
   "execution_count": 17,
   "id": "aa8dcd67-c3f3-4c7b-b92a-9a9442e4319e",
   "metadata": {},
   "outputs": [
    {
     "data": {
      "text/plain": [
       "340"
      ]
     },
     "execution_count": 17,
     "metadata": {},
     "output_type": "execute_result"
    }
   ],
   "source": [
    "len(mhkdr_2_df_matured)"
   ]
  },
  {
   "cell_type": "code",
   "execution_count": 18,
   "id": "dad6cba1-3d20-4682-afa8-1d9cc5be6d94",
   "metadata": {},
   "outputs": [
    {
     "data": {
      "text/plain": [
       "404"
      ]
     },
     "execution_count": 18,
     "metadata": {},
     "output_type": "execute_result"
    }
   ],
   "source": [
    "len(mhkdr_df)"
   ]
  },
  {
   "cell_type": "code",
   "execution_count": 25,
   "id": "ab5339ec-589b-41e1-a6e7-5cac0002b220",
   "metadata": {},
   "outputs": [],
   "source": [
    "#c = mhkdr_df.merge(mhkdr_2_df_matured, on='entry_id', how='outer')\n",
    "c = mhkdr_df.merge(mhkdr_2_df_matured, on='entry_id')"
   ]
  },
  {
   "cell_type": "code",
   "execution_count": 26,
   "id": "c7023c2b-764e-455d-ae68-96d9bb83a36d",
   "metadata": {},
   "outputs": [
    {
     "data": {
      "text/plain": [
       "340"
      ]
     },
     "execution_count": 26,
     "metadata": {},
     "output_type": "execute_result"
    }
   ],
   "source": [
    "len(c)"
   ]
  },
  {
   "cell_type": "code",
   "execution_count": 21,
   "id": "390a05b8-612c-4061-ad97-9c05f2939655",
   "metadata": {},
   "outputs": [
    {
     "data": {
      "text/html": [
       "<div>\n",
       "<style scoped>\n",
       "    .dataframe tbody tr th:only-of-type {\n",
       "        vertical-align: middle;\n",
       "    }\n",
       "\n",
       "    .dataframe tbody tr th {\n",
       "        vertical-align: top;\n",
       "    }\n",
       "\n",
       "    .dataframe thead th {\n",
       "        text-align: right;\n",
       "    }\n",
       "</style>\n",
       "<table border=\"1\" class=\"dataframe\">\n",
       "  <thead>\n",
       "    <tr style=\"text-align: right;\">\n",
       "      <th></th>\n",
       "      <th>entry_id</th>\n",
       "      <th>originationDate</th>\n",
       "      <th>modifiedDate</th>\n",
       "      <th>URI</th>\n",
       "      <th>landingPage</th>\n",
       "      <th>sourceURL</th>\n",
       "      <th>title</th>\n",
       "      <th>description</th>\n",
       "      <th>signatureProject</th>\n",
       "      <th>license</th>\n",
       "      <th>issued</th>\n",
       "      <th>projectTitle</th>\n",
       "      <th>projectNumber</th>\n",
       "    </tr>\n",
       "  </thead>\n",
       "  <tbody>\n",
       "    <tr>\n",
       "      <th>0</th>\n",
       "      <td>553</td>\n",
       "      <td>2024-07-01 06:00:00</td>\n",
       "      <td>2024-07-17 16:50:33</td>\n",
       "      <td>https://mhkdr.openei.org/submissions/553</td>\n",
       "      <td>https://mhkdr.openei.org/submissions/553</td>\n",
       "      <td>https://mhkdr.openei.org/submissions/553</td>\n",
       "      <td>HERO WEC V1.0 - WEC-Sim Model (July 2024)</td>\n",
       "      <td>**This submission supersedes submission MHKDR-...</td>\n",
       "      <td>[WEC-Sim]</td>\n",
       "      <td>https://creativecommons.org/licenses/by/4.0/</td>\n",
       "      <td>2024-07-01 06:00:00+00:00</td>\n",
       "      <td>Wave-Powered Desalination Deployment &amp; Analysis</td>\n",
       "      <td>FY23 AOP 2.2.6.404</td>\n",
       "    </tr>\n",
       "  </tbody>\n",
       "</table>\n",
       "</div>"
      ],
      "text/plain": [
       "   entry_id     originationDate        modifiedDate  \\\n",
       "0       553 2024-07-01 06:00:00 2024-07-17 16:50:33   \n",
       "\n",
       "                                        URI  \\\n",
       "0  https://mhkdr.openei.org/submissions/553   \n",
       "\n",
       "                                landingPage  \\\n",
       "0  https://mhkdr.openei.org/submissions/553   \n",
       "\n",
       "                                  sourceURL  \\\n",
       "0  https://mhkdr.openei.org/submissions/553   \n",
       "\n",
       "                                       title  \\\n",
       "0  HERO WEC V1.0 - WEC-Sim Model (July 2024)   \n",
       "\n",
       "                                         description signatureProject  \\\n",
       "0  **This submission supersedes submission MHKDR-...        [WEC-Sim]   \n",
       "\n",
       "                                        license                    issued  \\\n",
       "0  https://creativecommons.org/licenses/by/4.0/ 2024-07-01 06:00:00+00:00   \n",
       "\n",
       "                                      projectTitle       projectNumber  \n",
       "0  Wave-Powered Desalination Deployment & Analysis  FY23 AOP 2.2.6.404  "
      ]
     },
     "execution_count": 21,
     "metadata": {},
     "output_type": "execute_result"
    }
   ],
   "source": [
    "c.head(1)"
   ]
  },
  {
   "cell_type": "markdown",
   "id": "37419fb5-08b4-4c83-bff3-ab1814fcf2f3",
   "metadata": {},
   "source": [
    "#### Trying to understand how we +1 row"
   ]
  },
  {
   "cell_type": "code",
   "execution_count": 31,
   "id": "73189b14-8015-4188-8ce1-2f0f66214e52",
   "metadata": {},
   "outputs": [
    {
     "name": "stderr",
     "output_type": "stream",
     "text": [
      "C:\\Users\\deca761\\AppData\\Local\\Temp\\ipykernel_20976\\3026307725.py:3: FutureWarning: In a future version of pandas all arguments of DataFrame.drop except for the argument 'labels' will be keyword-only.\n",
      "  .drop('_merge', 1)).head()\n"
     ]
    },
    {
     "data": {
      "text/html": [
       "<div>\n",
       "<style scoped>\n",
       "    .dataframe tbody tr th:only-of-type {\n",
       "        vertical-align: middle;\n",
       "    }\n",
       "\n",
       "    .dataframe tbody tr th {\n",
       "        vertical-align: top;\n",
       "    }\n",
       "\n",
       "    .dataframe thead th {\n",
       "        text-align: right;\n",
       "    }\n",
       "</style>\n",
       "<table border=\"1\" class=\"dataframe\">\n",
       "  <thead>\n",
       "    <tr style=\"text-align: right;\">\n",
       "      <th></th>\n",
       "      <th>entry_id</th>\n",
       "      <th>originationDate_x</th>\n",
       "      <th>modifiedDate_x</th>\n",
       "      <th>URI_x</th>\n",
       "      <th>landingPage_x</th>\n",
       "      <th>sourceURL_x</th>\n",
       "      <th>title_x</th>\n",
       "      <th>description_x</th>\n",
       "      <th>signatureProject_x</th>\n",
       "      <th>license</th>\n",
       "      <th>...</th>\n",
       "      <th>projectTitle</th>\n",
       "      <th>projectNumber</th>\n",
       "      <th>originationDate_y</th>\n",
       "      <th>modifiedDate_y</th>\n",
       "      <th>URI_y</th>\n",
       "      <th>landingPage_y</th>\n",
       "      <th>sourceURL_y</th>\n",
       "      <th>title_y</th>\n",
       "      <th>description_y</th>\n",
       "      <th>signatureProject_y</th>\n",
       "    </tr>\n",
       "  </thead>\n",
       "  <tbody>\n",
       "    <tr>\n",
       "      <th>340</th>\n",
       "      <td>547</td>\n",
       "      <td>NaT</td>\n",
       "      <td>NaT</td>\n",
       "      <td>NaN</td>\n",
       "      <td>NaN</td>\n",
       "      <td>NaN</td>\n",
       "      <td>NaN</td>\n",
       "      <td>NaN</td>\n",
       "      <td>NaN</td>\n",
       "      <td>NaN</td>\n",
       "      <td>...</td>\n",
       "      <td>NaN</td>\n",
       "      <td>NaN</td>\n",
       "      <td>2024-02-29 07:00:00</td>\n",
       "      <td>2024-04-25 20:48:08</td>\n",
       "      <td>https://mhkdr.openei.org/submissions/547</td>\n",
       "      <td>https://mhkdr.openei.org/submissions/547</td>\n",
       "      <td>https://mhkdr.openei.org/submissions/547</td>\n",
       "      <td>CalWave - Reports and Plans for xWave Device D...</td>\n",
       "      <td>CalWave has developed a submerged pressure dif...</td>\n",
       "      <td>[]</td>\n",
       "    </tr>\n",
       "    <tr>\n",
       "      <th>341</th>\n",
       "      <td>542</td>\n",
       "      <td>NaT</td>\n",
       "      <td>NaT</td>\n",
       "      <td>NaN</td>\n",
       "      <td>NaN</td>\n",
       "      <td>NaN</td>\n",
       "      <td>NaN</td>\n",
       "      <td>NaN</td>\n",
       "      <td>NaN</td>\n",
       "      <td>NaN</td>\n",
       "      <td>...</td>\n",
       "      <td>NaN</td>\n",
       "      <td>NaN</td>\n",
       "      <td>2024-01-05 07:00:00</td>\n",
       "      <td>2024-05-21 21:06:46</td>\n",
       "      <td>https://mhkdr.openei.org/submissions/542</td>\n",
       "      <td>https://mhkdr.openei.org/submissions/542</td>\n",
       "      <td>https://mhkdr.openei.org/submissions/542</td>\n",
       "      <td>TidGen: Single Turbine System (STS) Deployment...</td>\n",
       "      <td>This document provides a summary for the perfo...</td>\n",
       "      <td>[]</td>\n",
       "    </tr>\n",
       "    <tr>\n",
       "      <th>342</th>\n",
       "      <td>541</td>\n",
       "      <td>NaT</td>\n",
       "      <td>NaT</td>\n",
       "      <td>NaN</td>\n",
       "      <td>NaN</td>\n",
       "      <td>NaN</td>\n",
       "      <td>NaN</td>\n",
       "      <td>NaN</td>\n",
       "      <td>NaN</td>\n",
       "      <td>NaN</td>\n",
       "      <td>...</td>\n",
       "      <td>NaN</td>\n",
       "      <td>NaN</td>\n",
       "      <td>2023-02-20 07:00:00</td>\n",
       "      <td>2024-05-21 21:05:40</td>\n",
       "      <td>https://mhkdr.openei.org/submissions/541</td>\n",
       "      <td>https://mhkdr.openei.org/submissions/541</td>\n",
       "      <td>https://mhkdr.openei.org/submissions/541</td>\n",
       "      <td>TidGen: Single Turbine Subsystem (STS) Device ...</td>\n",
       "      <td>This document provides the process details for...</td>\n",
       "      <td>[]</td>\n",
       "    </tr>\n",
       "    <tr>\n",
       "      <th>343</th>\n",
       "      <td>540</td>\n",
       "      <td>NaT</td>\n",
       "      <td>NaT</td>\n",
       "      <td>NaN</td>\n",
       "      <td>NaN</td>\n",
       "      <td>NaN</td>\n",
       "      <td>NaN</td>\n",
       "      <td>NaN</td>\n",
       "      <td>NaN</td>\n",
       "      <td>NaN</td>\n",
       "      <td>...</td>\n",
       "      <td>NaN</td>\n",
       "      <td>NaN</td>\n",
       "      <td>2022-10-19 06:00:00</td>\n",
       "      <td>2024-04-26 15:15:37</td>\n",
       "      <td>https://mhkdr.openei.org/submissions/540</td>\n",
       "      <td>https://mhkdr.openei.org/submissions/540</td>\n",
       "      <td>https://mhkdr.openei.org/submissions/540</td>\n",
       "      <td>TidGen: Single Turbine System Mooring Design O...</td>\n",
       "      <td>This document summarizes the design of the Sin...</td>\n",
       "      <td>[]</td>\n",
       "    </tr>\n",
       "    <tr>\n",
       "      <th>344</th>\n",
       "      <td>539</td>\n",
       "      <td>NaT</td>\n",
       "      <td>NaT</td>\n",
       "      <td>NaN</td>\n",
       "      <td>NaN</td>\n",
       "      <td>NaN</td>\n",
       "      <td>NaN</td>\n",
       "      <td>NaN</td>\n",
       "      <td>NaN</td>\n",
       "      <td>NaN</td>\n",
       "      <td>...</td>\n",
       "      <td>NaN</td>\n",
       "      <td>NaN</td>\n",
       "      <td>2024-01-11 07:00:00</td>\n",
       "      <td>2024-05-21 20:57:50</td>\n",
       "      <td>https://mhkdr.openei.org/submissions/539</td>\n",
       "      <td>https://mhkdr.openei.org/submissions/539</td>\n",
       "      <td>https://mhkdr.openei.org/submissions/539</td>\n",
       "      <td>TidGen: Single Turbine System Performance Anal...</td>\n",
       "      <td>This document offers a detailed performance an...</td>\n",
       "      <td>[]</td>\n",
       "    </tr>\n",
       "  </tbody>\n",
       "</table>\n",
       "<p>5 rows × 21 columns</p>\n",
       "</div>"
      ],
      "text/plain": [
       "     entry_id originationDate_x modifiedDate_x URI_x landingPage_x  \\\n",
       "340       547               NaT            NaT   NaN           NaN   \n",
       "341       542               NaT            NaT   NaN           NaN   \n",
       "342       541               NaT            NaT   NaN           NaN   \n",
       "343       540               NaT            NaT   NaN           NaN   \n",
       "344       539               NaT            NaT   NaN           NaN   \n",
       "\n",
       "    sourceURL_x title_x description_x signatureProject_x license  ...  \\\n",
       "340         NaN     NaN           NaN                NaN     NaN  ...   \n",
       "341         NaN     NaN           NaN                NaN     NaN  ...   \n",
       "342         NaN     NaN           NaN                NaN     NaN  ...   \n",
       "343         NaN     NaN           NaN                NaN     NaN  ...   \n",
       "344         NaN     NaN           NaN                NaN     NaN  ...   \n",
       "\n",
       "    projectTitle projectNumber   originationDate_y      modifiedDate_y  \\\n",
       "340          NaN           NaN 2024-02-29 07:00:00 2024-04-25 20:48:08   \n",
       "341          NaN           NaN 2024-01-05 07:00:00 2024-05-21 21:06:46   \n",
       "342          NaN           NaN 2023-02-20 07:00:00 2024-05-21 21:05:40   \n",
       "343          NaN           NaN 2022-10-19 06:00:00 2024-04-26 15:15:37   \n",
       "344          NaN           NaN 2024-01-11 07:00:00 2024-05-21 20:57:50   \n",
       "\n",
       "                                        URI_y  \\\n",
       "340  https://mhkdr.openei.org/submissions/547   \n",
       "341  https://mhkdr.openei.org/submissions/542   \n",
       "342  https://mhkdr.openei.org/submissions/541   \n",
       "343  https://mhkdr.openei.org/submissions/540   \n",
       "344  https://mhkdr.openei.org/submissions/539   \n",
       "\n",
       "                                landingPage_y  \\\n",
       "340  https://mhkdr.openei.org/submissions/547   \n",
       "341  https://mhkdr.openei.org/submissions/542   \n",
       "342  https://mhkdr.openei.org/submissions/541   \n",
       "343  https://mhkdr.openei.org/submissions/540   \n",
       "344  https://mhkdr.openei.org/submissions/539   \n",
       "\n",
       "                                  sourceURL_y  \\\n",
       "340  https://mhkdr.openei.org/submissions/547   \n",
       "341  https://mhkdr.openei.org/submissions/542   \n",
       "342  https://mhkdr.openei.org/submissions/541   \n",
       "343  https://mhkdr.openei.org/submissions/540   \n",
       "344  https://mhkdr.openei.org/submissions/539   \n",
       "\n",
       "                                               title_y  \\\n",
       "340  CalWave - Reports and Plans for xWave Device D...   \n",
       "341  TidGen: Single Turbine System (STS) Deployment...   \n",
       "342  TidGen: Single Turbine Subsystem (STS) Device ...   \n",
       "343  TidGen: Single Turbine System Mooring Design O...   \n",
       "344  TidGen: Single Turbine System Performance Anal...   \n",
       "\n",
       "                                         description_y signatureProject_y  \n",
       "340  CalWave has developed a submerged pressure dif...                 []  \n",
       "341  This document provides a summary for the perfo...                 []  \n",
       "342  This document provides the process details for...                 []  \n",
       "343  This document summarizes the design of the Sin...                 []  \n",
       "344  This document offers a detailed performance an...                 []  \n",
       "\n",
       "[5 rows x 21 columns]"
      ]
     },
     "execution_count": 31,
     "metadata": {},
     "output_type": "execute_result"
    }
   ],
   "source": [
    "(c.merge(mhkdr_df, on='entry_id', how='outer', indicator=True)\n",
    "     .query('_merge != \"both\"')\n",
    "     .drop('_merge', 1)).head()"
   ]
  },
  {
   "cell_type": "code",
   "execution_count": 28,
   "id": "43cbf3e9-9339-4c3a-bce1-20524843397a",
   "metadata": {},
   "outputs": [
    {
     "name": "stderr",
     "output_type": "stream",
     "text": [
      "C:\\Users\\deca761\\AppData\\Local\\Temp\\ipykernel_20976\\1857445680.py:3: FutureWarning: In a future version of pandas all arguments of DataFrame.drop except for the argument 'labels' will be keyword-only.\n",
      "  .drop('_merge', 1))\n"
     ]
    },
    {
     "data": {
      "text/html": [
       "<div>\n",
       "<style scoped>\n",
       "    .dataframe tbody tr th:only-of-type {\n",
       "        vertical-align: middle;\n",
       "    }\n",
       "\n",
       "    .dataframe tbody tr th {\n",
       "        vertical-align: top;\n",
       "    }\n",
       "\n",
       "    .dataframe thead th {\n",
       "        text-align: right;\n",
       "    }\n",
       "</style>\n",
       "<table border=\"1\" class=\"dataframe\">\n",
       "  <thead>\n",
       "    <tr style=\"text-align: right;\">\n",
       "      <th></th>\n",
       "      <th>entry_id</th>\n",
       "      <th>originationDate</th>\n",
       "      <th>modifiedDate</th>\n",
       "      <th>URI</th>\n",
       "      <th>landingPage_x</th>\n",
       "      <th>sourceURL</th>\n",
       "      <th>title_x</th>\n",
       "      <th>description_x</th>\n",
       "      <th>signatureProject</th>\n",
       "      <th>license_x</th>\n",
       "      <th>...</th>\n",
       "      <th>projectTitle_y</th>\n",
       "      <th>projectNumber_y</th>\n",
       "      <th>modified</th>\n",
       "      <th>publisher</th>\n",
       "      <th>contactPoint</th>\n",
       "      <th>programCode</th>\n",
       "      <th>landingPage_y</th>\n",
       "      <th>distribution</th>\n",
       "      <th>spatial</th>\n",
       "      <th>DOI</th>\n",
       "    </tr>\n",
       "  </thead>\n",
       "  <tbody>\n",
       "  </tbody>\n",
       "</table>\n",
       "<p>0 rows × 34 columns</p>\n",
       "</div>"
      ],
      "text/plain": [
       "Empty DataFrame\n",
       "Columns: [entry_id, originationDate, modifiedDate, URI, landingPage_x, sourceURL, title_x, description_x, signatureProject, license_x, issued_x, projectTitle_x, projectNumber_x, @type, identifier, accessLevel, bureauCode, license_y, issued_y, dataQuality, title_y, description_y, keyword, projectLead, projectTitle_y, projectNumber_y, modified, publisher, contactPoint, programCode, landingPage_y, distribution, spatial, DOI]\n",
       "Index: []\n",
       "\n",
       "[0 rows x 34 columns]"
      ]
     },
     "execution_count": 28,
     "metadata": {},
     "output_type": "execute_result"
    }
   ],
   "source": [
    "(c.merge(mhkdr_2_df, on='entry_id', how='outer', indicator=True)\n",
    "     .query('_merge != \"both\"')\n",
    "     .drop('_merge', 1))"
   ]
  },
  {
   "cell_type": "code",
   "execution_count": 29,
   "id": "ca264c64-6a49-4f6e-823a-32ab3242b9b5",
   "metadata": {},
   "outputs": [
    {
     "data": {
      "text/html": [
       "<div>\n",
       "<style scoped>\n",
       "    .dataframe tbody tr th:only-of-type {\n",
       "        vertical-align: middle;\n",
       "    }\n",
       "\n",
       "    .dataframe tbody tr th {\n",
       "        vertical-align: top;\n",
       "    }\n",
       "\n",
       "    .dataframe thead th {\n",
       "        text-align: right;\n",
       "    }\n",
       "</style>\n",
       "<table border=\"1\" class=\"dataframe\">\n",
       "  <thead>\n",
       "    <tr style=\"text-align: right;\">\n",
       "      <th></th>\n",
       "      <th>entry_id</th>\n",
       "      <th>license</th>\n",
       "      <th>issued</th>\n",
       "      <th>projectTitle</th>\n",
       "      <th>projectNumber</th>\n",
       "    </tr>\n",
       "  </thead>\n",
       "  <tbody>\n",
       "    <tr>\n",
       "      <th>328</th>\n",
       "      <td>529</td>\n",
       "      <td>https://creativecommons.org/licenses/by/4.0/</td>\n",
       "      <td>2023-09-07 06:00:00+00:00</td>\n",
       "      <td>Applied Research and Development to Support Op...</td>\n",
       "      <td>EE0009969</td>\n",
       "    </tr>\n",
       "  </tbody>\n",
       "</table>\n",
       "</div>"
      ],
      "text/plain": [
       "     entry_id                                       license  \\\n",
       "328       529  https://creativecommons.org/licenses/by/4.0/   \n",
       "\n",
       "                       issued  \\\n",
       "328 2023-09-07 06:00:00+00:00   \n",
       "\n",
       "                                          projectTitle projectNumber  \n",
       "328  Applied Research and Development to Support Op...     EE0009969  "
      ]
     },
     "execution_count": 29,
     "metadata": {},
     "output_type": "execute_result"
    }
   ],
   "source": [
    "mhkdr_2_df_matured[mhkdr_2_df_matured['entry_id']==529]"
   ]
  },
  {
   "cell_type": "code",
   "execution_count": 30,
   "id": "b443a677-da9c-47e0-8084-596bbdf0b19d",
   "metadata": {},
   "outputs": [
    {
     "data": {
      "text/html": [
       "<div>\n",
       "<style scoped>\n",
       "    .dataframe tbody tr th:only-of-type {\n",
       "        vertical-align: middle;\n",
       "    }\n",
       "\n",
       "    .dataframe tbody tr th {\n",
       "        vertical-align: top;\n",
       "    }\n",
       "\n",
       "    .dataframe thead th {\n",
       "        text-align: right;\n",
       "    }\n",
       "</style>\n",
       "<table border=\"1\" class=\"dataframe\">\n",
       "  <thead>\n",
       "    <tr style=\"text-align: right;\">\n",
       "      <th></th>\n",
       "      <th>entry_id</th>\n",
       "      <th>originationDate</th>\n",
       "      <th>modifiedDate</th>\n",
       "      <th>URI</th>\n",
       "      <th>landingPage</th>\n",
       "      <th>sourceURL</th>\n",
       "      <th>title</th>\n",
       "      <th>description</th>\n",
       "      <th>signatureProject</th>\n",
       "      <th>license</th>\n",
       "      <th>issued</th>\n",
       "      <th>projectTitle</th>\n",
       "      <th>projectNumber</th>\n",
       "    </tr>\n",
       "  </thead>\n",
       "  <tbody>\n",
       "    <tr>\n",
       "      <th>11</th>\n",
       "      <td>529</td>\n",
       "      <td>2023-09-07 06:00:00</td>\n",
       "      <td>2024-07-18 15:30:01</td>\n",
       "      <td>https://mhkdr.openei.org/submissions/529</td>\n",
       "      <td>https://mhkdr.openei.org/submissions/529</td>\n",
       "      <td>https://mhkdr.openei.org/submissions/529</td>\n",
       "      <td>Cone Penetration Tests at the PacWave South Te...</td>\n",
       "      <td>This ZIP archive contains cone penetration tes...</td>\n",
       "      <td>[]</td>\n",
       "      <td>https://creativecommons.org/licenses/by/4.0/</td>\n",
       "      <td>2023-09-07 06:00:00+00:00</td>\n",
       "      <td>Applied Research and Development to Support Op...</td>\n",
       "      <td>EE0009969</td>\n",
       "    </tr>\n",
       "  </tbody>\n",
       "</table>\n",
       "</div>"
      ],
      "text/plain": [
       "    entry_id     originationDate        modifiedDate  \\\n",
       "11       529 2023-09-07 06:00:00 2024-07-18 15:30:01   \n",
       "\n",
       "                                         URI  \\\n",
       "11  https://mhkdr.openei.org/submissions/529   \n",
       "\n",
       "                                 landingPage  \\\n",
       "11  https://mhkdr.openei.org/submissions/529   \n",
       "\n",
       "                                   sourceURL  \\\n",
       "11  https://mhkdr.openei.org/submissions/529   \n",
       "\n",
       "                                                title  \\\n",
       "11  Cone Penetration Tests at the PacWave South Te...   \n",
       "\n",
       "                                          description signatureProject  \\\n",
       "11  This ZIP archive contains cone penetration tes...               []   \n",
       "\n",
       "                                         license                    issued  \\\n",
       "11  https://creativecommons.org/licenses/by/4.0/ 2023-09-07 06:00:00+00:00   \n",
       "\n",
       "                                         projectTitle projectNumber  \n",
       "11  Applied Research and Development to Support Op...     EE0009969  "
      ]
     },
     "execution_count": 30,
     "metadata": {},
     "output_type": "execute_result"
    }
   ],
   "source": [
    "c[c['entry_id']==529]"
   ]
  },
  {
   "cell_type": "markdown",
   "id": "042b314c-77e6-4643-8fb3-3c7f5becb366",
   "metadata": {},
   "source": [
    "From the prior experimentation, we can see that the observation is present in the **second** API but not the first. When I did my testing, this did not seem possible. Bookmark for reference and discussion with Jonathan at the next check-in."
   ]
  },
  {
   "cell_type": "markdown",
   "id": "4924ef5a-4150-42f5-9cb6-1f37f5337a42",
   "metadata": {},
   "source": [
    "### We can see from the code above, that the issue above was resolved.\n",
    "After one or two days, the issue with entry_id 529 has been resolved. The problem was that this entry had a response from the Resources API but not the PRIMRE API. This caused some concern that there was a mistake in the PRIMRE API code for MHKDR, that could cause later situations where an entry was only added to the \"Resources\" API without being added to the PRIMRE API at all. If this was the case, I would need to alter the table designs accordingly to fit this, or (more likely) email Jon and try to get this fixed, while maintaining my structure, and possibly putting this work on hold for a time until this issue was better understood.\n",
    "\n",
    "Because the issue was resolved on its own, we have reason to believe that there is no oversight in the MHKDR API adding process. I believe this is reason enough to continue the process as I had intended, possibly creating error handling to handle if there are entries in the Resources API but not the PRIMRE API, and excluding such entries from the results of the primera package. Then, once the entry is correctly added to the PRIMRE API, it will automatically be included in the primrea output."
   ]
  }
 ],
 "metadata": {
  "kernelspec": {
   "display_name": "Python 3 (ipykernel)",
   "language": "python",
   "name": "python3"
  },
  "language_info": {
   "codemirror_mode": {
    "name": "ipython",
    "version": 3
   },
   "file_extension": ".py",
   "mimetype": "text/x-python",
   "name": "python",
   "nbconvert_exporter": "python",
   "pygments_lexer": "ipython3",
   "version": "3.11.7"
  }
 },
 "nbformat": 4,
 "nbformat_minor": 5
}
