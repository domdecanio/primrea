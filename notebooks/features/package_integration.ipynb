{
 "cells": [
  {
   "cell_type": "markdown",
   "id": "79b06408-22ff-4f50-90fa-25cbd4e67b4a",
   "metadata": {},
   "source": [
    "# Package Integration"
   ]
  },
  {
   "cell_type": "markdown",
   "id": "d4809889-fc04-4bf2-b847-0f06b37b82f0",
   "metadata": {},
   "source": [
    "The purpose of this notebook is to create the base class initialized when running the primrea package, and which references the other modules to:\n",
    "1. Access the PRIMRE APIs\n",
    "2. Create the tables from the API responses\n",
    "3. Give the user basic functionality with these tables:\n",
    "    - Ability to download a subset of files to the local machine based on the dataframe of interest"
   ]
  },
  {
   "cell_type": "markdown",
   "id": "062a58f5-1cf2-4bb6-b61a-0a86919ab852",
   "metadata": {},
   "source": [
    "### Setup"
   ]
  },
  {
   "cell_type": "code",
   "execution_count": 1,
   "id": "2bc45ac8-9606-4f16-8b3b-5445e04a9cda",
   "metadata": {},
   "outputs": [],
   "source": [
    "import requests\n",
    "import pandas as pd\n",
    "import primrea.kh_table_gen.entry_based as entry_based_table_gen"
   ]
  },
  {
   "cell_type": "markdown",
   "id": "72c59084-0ada-43bc-9766-c23b51a3d526",
   "metadata": {},
   "source": [
    "### Dev"
   ]
  },
  {
   "cell_type": "code",
   "execution_count": 6,
   "id": "37896173-fac9-4e3f-a782-5c53029e0478",
   "metadata": {},
   "outputs": [
    {
     "name": "stdout",
     "output_type": "stream",
     "text": [
      "Help on function find_entry_id in module primrea.kh_table_gen.entry_based:\n",
      "\n",
      "find_entry_id(entry_uri)\n",
      "    This function takes in the url of a MHKDR entry, and returns the entry_id of that page. \n",
      "    The 'entry_id' is the integer at the end of the url, which is unique to each MHKDR entry.\n",
      "    The regex used in this function relies on the fact that the only number in the url is the id.\n",
      "\n"
     ]
    }
   ],
   "source": [
    "help(entry_based_table_gen.find_entry_id)"
   ]
  },
  {
   "cell_type": "code",
   "execution_count": 7,
   "id": "24046352-94da-4765-b62f-4d5c780bb6fa",
   "metadata": {},
   "outputs": [],
   "source": [
    "class primrea_data():\n",
    "    '''\n",
    "    \n",
    "    '''\n",
    "    def __init__(self):\n",
    "        # Return raw pandas dataframes corresponding to api contents\n",
    "        tethys_api = 'https://tethys.pnnl.gov/api/primre_export'\n",
    "        tethys_e_api = 'https://tethys-engineering.pnnl.gov/api/primre_export'\n",
    "        #tethys_dataframe = api_to_df(tethys_api)\n",
    "        #tethys_e_dataframe = api_to_df(tethys_e_api)\n",
    "        \n",
    "        # Initialize Tethys tables\n",
    "        self.tethys_dataframe = api_to_df(tethys_api)\n",
    "        self.tethys_authors = entry_based_table_gen.construct_authors_table(self.tethys_dataframe)\n",
    "        self.tethys_organizations = entry_based_table_gen.construct_organizations_table(self.tethys_dataframe)\n",
    "        self.tethys_tags = entry_based_table_gen.construct_tags_table(self.tethys_dataframe)\n",
    "\n",
    "        # Initialize Tethys Engineering tables\n",
    "        self.tethys_e_dataframe = api_to_df(tethys_e_api)\n",
    "        self.tethys_e_authors = entry_based_table_gen.construct_authors_table(self.tethys_e_dataframe)\n",
    "        self.tethys_e_organizations = entry_based_table_gen.construct_organizations_table(self.tethys_e_dataframe)\n",
    "        self.tethys_e_tags = entry_based_table_gen.construct_tags_table(self.tethys_e_dataframe)\n",
    "\n"
   ]
  },
  {
   "cell_type": "code",
   "execution_count": 8,
   "id": "be4ec062-ee8a-4ce3-a038-f793254faf70",
   "metadata": {},
   "outputs": [],
   "source": [
    "apple = primrea_data()"
   ]
  },
  {
   "cell_type": "code",
   "execution_count": 9,
   "id": "044c8c3d-bb75-4ac0-9d30-4e862c126719",
   "metadata": {},
   "outputs": [
    {
     "data": {
      "text/plain": [
       "<__main__.primrea_data at 0x1059751ed10>"
      ]
     },
     "execution_count": 9,
     "metadata": {},
     "output_type": "execute_result"
    }
   ],
   "source": [
    "apple"
   ]
  },
  {
   "cell_type": "code",
   "execution_count": 10,
   "id": "7cfe9141-d23f-4135-bd79-b46241b8a8b4",
   "metadata": {},
   "outputs": [],
   "source": [
    "tethys_authors_local = apple.tethys_e_authors"
   ]
  },
  {
   "cell_type": "code",
   "execution_count": 11,
   "id": "5409a804-c12b-489b-b7a0-e2ce3ad82314",
   "metadata": {},
   "outputs": [
    {
     "data": {
      "text/html": [
       "<div>\n",
       "<style scoped>\n",
       "    .dataframe tbody tr th:only-of-type {\n",
       "        vertical-align: middle;\n",
       "    }\n",
       "\n",
       "    .dataframe tbody tr th {\n",
       "        vertical-align: top;\n",
       "    }\n",
       "\n",
       "    .dataframe thead th {\n",
       "        text-align: right;\n",
       "    }\n",
       "</style>\n",
       "<table border=\"1\" class=\"dataframe\">\n",
       "  <thead>\n",
       "    <tr style=\"text-align: right;\">\n",
       "      <th></th>\n",
       "      <th>entry_id</th>\n",
       "      <th>author</th>\n",
       "    </tr>\n",
       "  </thead>\n",
       "  <tbody>\n",
       "    <tr>\n",
       "      <th>31952</th>\n",
       "      <td>17438</td>\n",
       "      <td>France Energies Marines</td>\n",
       "    </tr>\n",
       "    <tr>\n",
       "      <th>31953</th>\n",
       "      <td>17526</td>\n",
       "      <td>France Energies Marines</td>\n",
       "    </tr>\n",
       "  </tbody>\n",
       "</table>\n",
       "</div>"
      ],
      "text/plain": [
       "       entry_id                   author\n",
       "31952     17438  France Energies Marines\n",
       "31953     17526  France Energies Marines"
      ]
     },
     "execution_count": 11,
     "metadata": {},
     "output_type": "execute_result"
    }
   ],
   "source": [
    "tethys_authors_local[tethys_authors_local['author']=='France Energies Marines']"
   ]
  },
  {
   "cell_type": "code",
   "execution_count": 12,
   "id": "db41d6f8-1b37-47fd-b361-562f321ae252",
   "metadata": {},
   "outputs": [
    {
     "data": {
      "text/plain": [
       "10919"
      ]
     },
     "execution_count": 12,
     "metadata": {},
     "output_type": "execute_result"
    }
   ],
   "source": [
    "len(tethys_authors_local['author'].unique())"
   ]
  },
  {
   "cell_type": "code",
   "execution_count": 13,
   "id": "6b987479-a44e-455b-8fa7-1bb16db786a8",
   "metadata": {},
   "outputs": [
    {
     "data": {
      "text/plain": [
       "31955"
      ]
     },
     "execution_count": 13,
     "metadata": {},
     "output_type": "execute_result"
    }
   ],
   "source": [
    "len(tethys_authors_local)"
   ]
  }
 ],
 "metadata": {
  "kernelspec": {
   "display_name": "Python 3 (ipykernel)",
   "language": "python",
   "name": "python3"
  },
  "language_info": {
   "codemirror_mode": {
    "name": "ipython",
    "version": 3
   },
   "file_extension": ".py",
   "mimetype": "text/x-python",
   "name": "python",
   "nbconvert_exporter": "python",
   "pygments_lexer": "ipython3",
   "version": "3.11.7"
  }
 },
 "nbformat": 4,
 "nbformat_minor": 5
}
