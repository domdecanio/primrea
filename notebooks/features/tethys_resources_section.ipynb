{
 "cells": [
  {
   "cell_type": "markdown",
   "id": "9e826d2b-7a46-43b5-81b9-0dac591a6df1",
   "metadata": {},
   "source": [
    "# Tethys Resources Section"
   ]
  },
  {
   "cell_type": "markdown",
   "id": "05f85e4f-b614-43eb-8bcc-fa578e8dc50c",
   "metadata": {},
   "source": [
    "The aim of this notebook is to determine if it is possible to develop a feature (and if yes, develop such a feature) that detects links in the text of Tethys / Tethys Engineering entries, and then use this detection to isolate sentences where the link is located to automatically create a title for that resource.\n",
    "\n",
    "This would enable us to connect Tethys/ Tethys Engineering entries to MHKDR entries 1-1 because we will have the same structure for the resources/attachments."
   ]
  },
  {
   "cell_type": "markdown",
   "id": "7618e1ba-012d-4517-824d-19b54dbd0cf9",
   "metadata": {},
   "source": [
    "### Setup"
   ]
  },
  {
   "cell_type": "code",
   "execution_count": null,
   "id": "06ccee42-bedb-452f-a23d-8bc09db4f849",
   "metadata": {},
   "outputs": [],
   "source": [
    "import requests\n",
    "import json\n",
    "import pandas as pd\n",
    "#import re\n",
    "import primrea\n",
    "\n",
    "tethys_api = 'https://tethys.pnnl.gov/api/primre_export'"
   ]
  },
  {
   "cell_type": "code",
   "execution_count": null,
   "id": "236c4424-6bc7-45d1-b5d8-a131eed63351",
   "metadata": {},
   "outputs": [],
   "source": [
    "tethys_response = requests.get(tethys_api)       # Note: The tethys api grabs content specifically related to marine energy, and there is another API for wind energy."
   ]
  },
  {
   "cell_type": "code",
   "execution_count": null,
   "id": "c67fa10f-477c-4d7e-adac-350c85d15484",
   "metadata": {},
   "outputs": [],
   "source": [
    "tethys_response_json = tethys_response.json()"
   ]
  },
  {
   "cell_type": "code",
   "execution_count": null,
   "id": "a19dd3c3-6a8d-46ce-9a9e-30fc8a013de0",
   "metadata": {},
   "outputs": [],
   "source": [
    "tethys_df = pd.DataFrame(tethys_response_json)"
   ]
  },
  {
   "cell_type": "markdown",
   "id": "ee62be1b-13fc-4d4c-b150-9677b4da074f",
   "metadata": {},
   "source": [
    "### Dev"
   ]
  },
  {
   "cell_type": "code",
   "execution_count": null,
   "id": "09c361af-19f5-4961-8875-ea59abb35d14",
   "metadata": {},
   "outputs": [],
   "source": [
    "#a = tethys_df[tethys_df['title']>='West of Orkney Windfarm Offshore Environmental']"
   ]
  },
  {
   "cell_type": "code",
   "execution_count": null,
   "id": "7365cbd1-91ec-4b1b-b474-3d9d2a13f032",
   "metadata": {},
   "outputs": [],
   "source": [
    "#a.sort_values(by='originationDate', ascending=False)"
   ]
  },
  {
   "cell_type": "code",
   "execution_count": null,
   "id": "75efb669-64bd-477f-9389-58f8c734d3f3",
   "metadata": {},
   "outputs": [],
   "source": [
    "2078849"
   ]
  },
  {
   "cell_type": "code",
   "execution_count": null,
   "id": "da23509d-cdc0-4de6-987c-ca12a215dc2b",
   "metadata": {},
   "outputs": [],
   "source": [
    "ids_t = list()\n",
    "for i in tethys_df['URI']:\n",
    "    a = primrea.kh_table_gen.entry_based.find_entry_id(i)\n",
    "    ids_t.append(a)"
   ]
  },
  {
   "cell_type": "code",
   "execution_count": null,
   "id": "cae823e3-3787-4418-acb3-9c6697b2f76f",
   "metadata": {},
   "outputs": [],
   "source": [
    "help(primrea)"
   ]
  },
  {
   "cell_type": "markdown",
   "id": "aceccd23-d5f0-4cd1-ac5a-b81afaafaf59",
   "metadata": {},
   "source": [
    "**Conclusion**\n",
    "\n",
    "On further exposure I am very confident that this is not possible without directly accessing the drupal site. Because I am geared toward using the API, there is no way to get this added information. This also seems like the wrong answer to the problem.\n",
    "\n",
    "I am considering this notebook \"Complete\" and I will push this as the final version."
   ]
  }
 ],
 "metadata": {
  "kernelspec": {
   "display_name": "Python 3 (ipykernel)",
   "language": "python",
   "name": "python3"
  },
  "language_info": {
   "codemirror_mode": {
    "name": "ipython",
    "version": 3
   },
   "file_extension": ".py",
   "mimetype": "text/x-python",
   "name": "python",
   "nbconvert_exporter": "python",
   "pygments_lexer": "ipython3",
   "version": "3.11.7"
  }
 },
 "nbformat": 4,
 "nbformat_minor": 5
}
