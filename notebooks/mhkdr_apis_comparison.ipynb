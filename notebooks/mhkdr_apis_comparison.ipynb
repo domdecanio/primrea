{
 "cells": [
  {
   "cell_type": "markdown",
   "id": "8ae40149-ddf6-4a6f-8537-4f7eb47dbbe5",
   "metadata": {},
   "source": [
    "# MHKDR APIs Comparison"
   ]
  },
  {
   "cell_type": "markdown",
   "id": "67dbb566-f629-4a4c-a769-b7edd6ebfc6c",
   "metadata": {},
   "source": [
    "The objective of this notebook is to enumerate the variables contained in both the first and second MHKDR api, in order to decide how to include MHKDR data into the package without loss of data or duplication.\n",
    "\n",
    "The fear is that both contain a subset of each other. In such a situation, the use of one but not both APIs would cause data loss. \n",
    "\n",
    "This notebook is considered complete when it has answered the questions:\n",
    "1. Is there data contained in API 1 that is NOT present in API 2?\n",
    "2. Is there data contained in API 2 that is NOT present in API 1 - We know \"yes\"\n",
    "3. What is the cause of mismatch of the number of records in each API?\n",
    "4. Is there any reason to prefer one or the other data source when the fields are similar?"
   ]
  },
  {
   "cell_type": "markdown",
   "id": "3c7d4ae3-6b55-479e-b2e0-7e58c62b55c9",
   "metadata": {},
   "source": [
    "### Setup"
   ]
  },
  {
   "cell_type": "code",
   "execution_count": 1,
   "id": "47c1936c-de81-4b10-9c5a-d4229caf997c",
   "metadata": {},
   "outputs": [],
   "source": [
    "import requests\n",
    "import json\n",
    "import pandas as pd\n",
    "\n",
    "mhkdr_api_1 = 'https://mhkdr.openei.org/api?action=getSubmissionsForPRIMRE'\n",
    "mhkdr_api_2 = 'https://mhkdr.openei.org/data.json'"
   ]
  },
  {
   "cell_type": "code",
   "execution_count": 2,
   "id": "bf965f41-1400-4fcc-9854-bcd0ececd645",
   "metadata": {},
   "outputs": [],
   "source": [
    "mhkdr_1_response = requests.get(mhkdr_api_1)\n",
    "mhkdr_2_response = requests.get(mhkdr_api_2)\n",
    "\n",
    "mhkdr_1_response_json = mhkdr_1_response.json()\n",
    "mhkdr_2_response_json = mhkdr_2_response.json()"
   ]
  },
  {
   "cell_type": "markdown",
   "id": "50626c5d-bc15-4679-8d12-9688be3dbff4",
   "metadata": {},
   "source": [
    "### Dev"
   ]
  },
  {
   "cell_type": "markdown",
   "id": "946342e2-5543-4987-b8de-853c0b1180c4",
   "metadata": {},
   "source": [
    "|1|both|2|\n",
    "|:---:|:---:|:---:|\n",
    "||||"
   ]
  },
  {
   "cell_type": "code",
   "execution_count": 3,
   "id": "b8a2eab5-cfab-431f-bc51-d84bbad1ce41",
   "metadata": {},
   "outputs": [
    {
     "data": {
      "text/plain": [
       "14"
      ]
     },
     "execution_count": 3,
     "metadata": {},
     "output_type": "execute_result"
    }
   ],
   "source": [
    "len(mhkdr_1_response_json[0])"
   ]
  },
  {
   "cell_type": "code",
   "execution_count": 4,
   "id": "9eab7a3a-fb01-49c3-8d8e-e7c61faca629",
   "metadata": {},
   "outputs": [
    {
     "data": {
      "text/plain": [
       "20"
      ]
     },
     "execution_count": 4,
     "metadata": {},
     "output_type": "execute_result"
    }
   ],
   "source": [
    "len(mhkdr_2_response_json['dataset'][0])"
   ]
  },
  {
   "cell_type": "markdown",
   "id": "d5e33264-60e4-4e50-96ae-5dd26d7ece82",
   "metadata": {},
   "source": [
    "14 fields in api 1 vs 20 fields in api 2"
   ]
  },
  {
   "cell_type": "code",
   "execution_count": 5,
   "id": "c127c5a2-1dcc-483f-86c7-ef2f0292dddf",
   "metadata": {},
   "outputs": [
    {
     "data": {
      "text/plain": [
       "dict_keys(['URI', 'type', 'landingPage', 'sourceURL', 'title', 'description', 'author', 'organization', 'originationDate', 'spatial', 'technologyType', 'tags', 'signatureProject', 'modifiedDate'])"
      ]
     },
     "execution_count": 5,
     "metadata": {},
     "output_type": "execute_result"
    }
   ],
   "source": [
    "mhkdr_1_response_json[0].keys()"
   ]
  },
  {
   "cell_type": "code",
   "execution_count": 6,
   "id": "e60451b7-a86a-4c2c-8dae-982a1c7ab770",
   "metadata": {},
   "outputs": [
    {
     "name": "stdout",
     "output_type": "stream",
     "text": [
      "dict_keys(['@type', 'identifier', 'accessLevel', 'bureauCode', 'license', 'issued', 'dataQuality', 'title', 'description', 'keyword', 'projectLead', 'projectTitle', 'projectNumber', 'modified', 'publisher', 'contactPoint', 'programCode', 'landingPage', 'distribution', 'spatial'])\n"
     ]
    }
   ],
   "source": [
    "print(mhkdr_2_response_json['dataset'][0].keys())"
   ]
  },
  {
   "cell_type": "code",
   "execution_count": 7,
   "id": "601341cc-3eda-4c94-ac04-957a999b3482",
   "metadata": {},
   "outputs": [
    {
     "data": {
      "text/plain": [
       "{'URI': 'https://mhkdr.openei.org/submissions/1',\n",
       " 'type': ['Dataset', 'Dataset/OnlineTool', 'Document/Report'],\n",
       " 'landingPage': 'https://mhkdr.openei.org/submissions/1',\n",
       " 'sourceURL': 'https://mhkdr.openei.org/submissions/1',\n",
       " 'title': 'MHKDR Data Management and Best Practices for Submitters and Curators',\n",
       " 'description': 'Resources for MHKDR data submitters and curators, including training videos, step-by-step guides on data submission, and detailed documentation of the MHKDR. The Data Management and Submission Best Practices document also contains API access and metadata schema information for developers interested in harvesting MHKDR metadata for federation or inclusion in their local catalogs.\\n',\n",
       " 'author': ['Jon Weers', 'Nicole Taverna', 'Jay Huggins', 'RJ Scavo'],\n",
       " 'organization': ['National Renewable Energy Laboratory'],\n",
       " 'originationDate': '2021-12-15 07:00:00',\n",
       " 'spatial': {'boundingCoordinatesNE': [83, 180],\n",
       "  'boundingCoordinatesSW': [-83, -180],\n",
       "  'extent': 'boundingBox'},\n",
       " 'technologyType': [],\n",
       " 'tags': ['MHK',\n",
       "  'Marine',\n",
       "  'Hydrokinetic',\n",
       "  'energy',\n",
       "  'power',\n",
       "  'data',\n",
       "  'MHKDR',\n",
       "  'federation',\n",
       "  'metadata',\n",
       "  'standards',\n",
       "  'submission',\n",
       "  'training',\n",
       "  'best practices',\n",
       "  'guide',\n",
       "  'API',\n",
       "  'management',\n",
       "  'storage'],\n",
       " 'signatureProject': [],\n",
       " 'modifiedDate': '2022-05-26 18:08:40'}"
      ]
     },
     "execution_count": 7,
     "metadata": {},
     "output_type": "execute_result"
    }
   ],
   "source": [
    "mhkdr_1_response_json[399]"
   ]
  },
  {
   "cell_type": "code",
   "execution_count": 8,
   "id": "05eb2f2b-20bc-4010-8778-aca4bb2ada51",
   "metadata": {},
   "outputs": [
    {
     "data": {
      "text/plain": [
       "{'@type': 'dcat:Dataset',\n",
       " 'identifier': 'https://mhkdr.openei.org/submissions/1',\n",
       " 'accessLevel': 'public',\n",
       " 'bureauCode': ['019:20'],\n",
       " 'license': 'https://creativecommons.org/licenses/by/4.0/',\n",
       " 'issued': '2021-12-15T07:00:00Z',\n",
       " 'dataQuality': True,\n",
       " 'title': 'MHKDR Data Management and Best Practices for Submitters and Curators',\n",
       " 'description': 'Resources for MHKDR data submitters and curators, including training videos, step-by-step guides on data submission, and detailed documentation of the MHKDR. The Data Management and Submission Best Practices document also contains API access and metadata schema information for developers interested in harvesting MHKDR metadata for federation or inclusion in their local catalogs.\\n',\n",
       " 'keyword': ['MHK',\n",
       "  'Marine',\n",
       "  'Hydrokinetic',\n",
       "  'energy',\n",
       "  'power',\n",
       "  'data',\n",
       "  'MHKDR',\n",
       "  'federation',\n",
       "  'metadata',\n",
       "  'standards',\n",
       "  'submission',\n",
       "  'training',\n",
       "  'best practices',\n",
       "  'guide',\n",
       "  'API',\n",
       "  'management',\n",
       "  'storage'],\n",
       " 'projectLead': 'Bill McShane',\n",
       " 'projectTitle': 'Marine and Hydrokinetic Data Repository (MHKDR)',\n",
       " 'projectNumber': '35007',\n",
       " 'modified': '2022-05-26T18:08:40Z',\n",
       " 'publisher': {'@type': 'org:Organization', 'name': 'RJ Scavo'},\n",
       " 'contactPoint': {'@type': 'vcard:Contact',\n",
       "  'fn': 'MHKDR Help',\n",
       "  'hasEmail': 'mailto:MHKDRHelp@ee.doe.gov'},\n",
       " 'programCode': ['019:009'],\n",
       " 'landingPage': 'https://mhkdr.openei.org/submissions/1',\n",
       " 'distribution': [{'@type': 'dcat:Distribution',\n",
       "   'description': 'A video recording of the data management and submission best practices training presentation and a recorded demo of data submission to the MHKDR',\n",
       "   'title': 'MHKDR Data Management and Submission Best Practices Video',\n",
       "   'accessURL': 'https://www.youtube.com/watch?v=QeqYr6W9HC0&list=PL4lfI7kmtVfqEk0SjiR9zPTpqVb2Mm9vO',\n",
       "   'format': 'HTML',\n",
       "   'mediaType': 'text/html'},\n",
       "  {'@type': 'dcat:Distribution',\n",
       "   'description': 'A series of short, targeted videos that explain individual submission fields and best practices for entering metadata while submitting data to the MHKDR.',\n",
       "   'title': 'MHKDR Submission Tutorial Videos',\n",
       "   'accessURL': 'https://www.youtube.com/watch?v=xrZsebiqdoo&list=PL4lfI7kmtVfqNwb7uQsSpfGI9dibufWG8',\n",
       "   'format': 'HTML',\n",
       "   'mediaType': 'text/html'},\n",
       "  {'@type': 'dcat:Distribution',\n",
       "   'description': ' Data management and submission best practices document containing a detailed walkthrough of data submission, metadata schemas, and the MHKDR. This document also contains API access information for developers seeking to incorporate MHKDR data into their catalogs.',\n",
       "   'title': 'MHKDR Documentation for Submitters and Curators.pdf',\n",
       "   'downloadURL': 'https://mhkdr.openei.org/files/1/MHKDR%20Documentation%20for%20submitters%20and%20curators.pdf',\n",
       "   'format': 'pdf',\n",
       "   'mediaType': 'application/pdf'}],\n",
       " 'spatial': '{\"type\":\"Polygon\",\"coordinates\":[[[-180,-83],[180,-83],[180,83],[-180,83],[-180,-83]]]}'}"
      ]
     },
     "execution_count": 8,
     "metadata": {},
     "output_type": "execute_result"
    }
   ],
   "source": [
    "mhkdr_2_response_json['dataset'][0]"
   ]
  }
 ],
 "metadata": {
  "kernelspec": {
   "display_name": "Python 3 (ipykernel)",
   "language": "python",
   "name": "python3"
  },
  "language_info": {
   "codemirror_mode": {
    "name": "ipython",
    "version": 3
   },
   "file_extension": ".py",
   "mimetype": "text/x-python",
   "name": "python",
   "nbconvert_exporter": "python",
   "pygments_lexer": "ipython3",
   "version": "3.11.7"
  }
 },
 "nbformat": 4,
 "nbformat_minor": 5
}
