{
 "cells": [
  {
   "cell_type": "markdown",
   "id": "8ae40149-ddf6-4a6f-8537-4f7eb47dbbe5",
   "metadata": {},
   "source": [
    "# MHKDR APIs Comparison"
   ]
  },
  {
   "cell_type": "markdown",
   "id": "67dbb566-f629-4a4c-a769-b7edd6ebfc6c",
   "metadata": {},
   "source": [
    "The objective of this notebook is to enumerate the variables contained in both the first and second MHKDR api, in order to decide how to include MHKDR data into the package without loss of data or duplication.\n",
    "\n",
    "The fear is that both contain a subset of each other. In such a situation, the use of one but not both APIs would cause data loss."
   ]
  },
  {
   "cell_type": "markdown",
   "id": "3c7d4ae3-6b55-479e-b2e0-7e58c62b55c9",
   "metadata": {},
   "source": [
    "### Setup"
   ]
  },
  {
   "cell_type": "code",
   "execution_count": null,
   "id": "47c1936c-de81-4b10-9c5a-d4229caf997c",
   "metadata": {},
   "outputs": [],
   "source": []
  },
  {
   "cell_type": "markdown",
   "id": "50626c5d-bc15-4679-8d12-9688be3dbff4",
   "metadata": {},
   "source": [
    "### Dev"
   ]
  },
  {
   "cell_type": "code",
   "execution_count": null,
   "id": "b8a2eab5-cfab-431f-bc51-d84bbad1ce41",
   "metadata": {},
   "outputs": [],
   "source": []
  }
 ],
 "metadata": {
  "kernelspec": {
   "display_name": "Python 3 (ipykernel)",
   "language": "python",
   "name": "python3"
  },
  "language_info": {
   "codemirror_mode": {
    "name": "ipython",
    "version": 3
   },
   "file_extension": ".py",
   "mimetype": "text/x-python",
   "name": "python",
   "nbconvert_exporter": "python",
   "pygments_lexer": "ipython3",
   "version": "3.11.7"
  }
 },
 "nbformat": 4,
 "nbformat_minor": 5
}
