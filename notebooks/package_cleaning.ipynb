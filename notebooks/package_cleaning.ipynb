{
 "cells": [
  {
   "cell_type": "markdown",
   "id": "bbb4e365-aa66-428e-a351-d042d9c795fb",
   "metadata": {},
   "source": [
    "# Package Cleaning"
   ]
  },
  {
   "cell_type": "markdown",
   "id": "62935935-5013-4146-a8fb-4a3413bfafd0",
   "metadata": {},
   "source": [
    "The purpose of this notebook is to work through the current codebase of the primrea package and remove duplicate code, as the current codebase still includes the raw contents of the development notebooks used to create the first functionality.\n",
    "\n",
    "1. This notebook will be complete when it has been used to test the package to ensure proper functionality, insofar as the code base no longer contains redundant code and functions properly.\n",
    "2. This notebook will inform 2 other notebooks:\n",
    "   1. package_testing\n",
    "          This notebook will continue the theme of testing, learning from the checks made in the package_cleaning notebook, to implement tests into the package to ensure code reliability.\n",
    "   3. package_integration\n",
    "          This notebook will continue the main development trajectory of package_cleaning by composing the cleaned codebase into an integrated system. Here I will introduce the base class which creates the cleaned tables on initialization.\n",
    "   "
   ]
  },
  {
   "cell_type": "markdown",
   "id": "f52266b7-a5cc-4624-877d-bf972e95f86d",
   "metadata": {},
   "source": [
    "### Setup"
   ]
  },
  {
   "cell_type": "code",
   "execution_count": 1,
   "id": "4b5d05f2-3820-48cf-9cff-22f8dcfe805c",
   "metadata": {},
   "outputs": [],
   "source": [
    "import requests\n",
    "import pandas as pd\n",
    "import primrea.kh_table_gen.entry_based as entry_based_table_gen"
   ]
  },
  {
   "cell_type": "code",
   "execution_count": 2,
   "id": "8c5ae7f0-cd81-4d1e-bfd6-5e3b3e17771f",
   "metadata": {},
   "outputs": [],
   "source": [
    "mhkdr_api = 'https://mhkdr.openei.org/api?action=getSubmissionsForPRIMRE'\n",
    "tethys_api = 'https://tethys.pnnl.gov/api/primre_export'\n",
    "tethys_e_api = 'https://tethys-engineering.pnnl.gov/api/primre_export'"
   ]
  },
  {
   "cell_type": "code",
   "execution_count": 3,
   "id": "13c81d42-659a-4cb8-9af1-289c2708b907",
   "metadata": {},
   "outputs": [
    {
     "name": "stdout",
     "output_type": "stream",
     "text": [
      "Number of MHKDR Entries: 400\n",
      "Number of Tethys Entries: 4241\n",
      "Number of Tethys Engineering Entries: 8228\n"
     ]
    }
   ],
   "source": [
    "mhkdr_response = requests.get(mhkdr_api)\n",
    "tethys_response = requests.get(tethys_api)       # Note: The tethys api grabs content specifically related to marine energy, and there is another API for wind energy.\n",
    "tethys_e_response = requests.get(tethys_e_api)\n",
    "\n",
    "mhkdr_response_json = mhkdr_response.json()\n",
    "tethys_response_json = tethys_response.json()\n",
    "tethys_e_response_json = tethys_e_response.json()\n",
    "\n",
    "print(f'Number of MHKDR Entries: {len(mhkdr_response_json)}\\nNumber of Tethys Entries: {len(tethys_response_json)}\\nNumber of Tethys Engineering Entries: {len(tethys_e_response_json)}')"
   ]
  },
  {
   "cell_type": "code",
   "execution_count": 4,
   "id": "00de7ef7-2773-4239-9390-63b809f4f3b5",
   "metadata": {},
   "outputs": [],
   "source": [
    "mhkdr_dataframe = pd.DataFrame(mhkdr_response_json)\n",
    "tethys_dataframe = pd.DataFrame(tethys_response_json)\n",
    "tethys_e_dataframe = pd.DataFrame(tethys_e_response_json)"
   ]
  },
  {
   "cell_type": "markdown",
   "id": "d9cb0cba-7e24-4cfe-b66f-6a7547f23bb3",
   "metadata": {},
   "source": [
    "### Dev"
   ]
  },
  {
   "cell_type": "code",
   "execution_count": 5,
   "id": "5cdcfab5-2dc3-405f-b93e-4d35ed1e7bff",
   "metadata": {},
   "outputs": [
    {
     "name": "stdout",
     "output_type": "stream",
     "text": [
      "Help on function find_entry_id in module primrea.kh_table_gen.entry_based:\n",
      "\n",
      "find_entry_id(entry_uri)\n",
      "    This function takes in the url of a MHKDR entry, and returns the entry_id of that page. \n",
      "    The 'entry_id' is the integer at the end of the url, which is unique to each MHKDR entry.\n",
      "    The regex used in this function relies on the fact that the only number in the url is the id.\n",
      "\n"
     ]
    }
   ],
   "source": [
    "help(entry_based_table_gen.find_entry_id)"
   ]
  },
  {
   "cell_type": "code",
   "execution_count": 6,
   "id": "cf2caa57-b8ef-423a-ba3f-ae6ea0df4a33",
   "metadata": {},
   "outputs": [
    {
     "data": {
      "text/html": [
       "<div>\n",
       "<style scoped>\n",
       "    .dataframe tbody tr th:only-of-type {\n",
       "        vertical-align: middle;\n",
       "    }\n",
       "\n",
       "    .dataframe tbody tr th {\n",
       "        vertical-align: top;\n",
       "    }\n",
       "\n",
       "    .dataframe thead th {\n",
       "        text-align: right;\n",
       "    }\n",
       "</style>\n",
       "<table border=\"1\" class=\"dataframe\">\n",
       "  <thead>\n",
       "    <tr style=\"text-align: right;\">\n",
       "      <th></th>\n",
       "      <th>entry_id</th>\n",
       "      <th>tag</th>\n",
       "    </tr>\n",
       "  </thead>\n",
       "  <tbody>\n",
       "    <tr>\n",
       "      <th>0</th>\n",
       "      <td>548</td>\n",
       "      <td>MHK</td>\n",
       "    </tr>\n",
       "    <tr>\n",
       "      <th>1</th>\n",
       "      <td>548</td>\n",
       "      <td>Marine</td>\n",
       "    </tr>\n",
       "    <tr>\n",
       "      <th>2</th>\n",
       "      <td>548</td>\n",
       "      <td>Hydrokinetic</td>\n",
       "    </tr>\n",
       "    <tr>\n",
       "      <th>3</th>\n",
       "      <td>548</td>\n",
       "      <td>energy</td>\n",
       "    </tr>\n",
       "    <tr>\n",
       "      <th>4</th>\n",
       "      <td>548</td>\n",
       "      <td>power</td>\n",
       "    </tr>\n",
       "    <tr>\n",
       "      <th>...</th>\n",
       "      <td>...</td>\n",
       "      <td>...</td>\n",
       "    </tr>\n",
       "    <tr>\n",
       "      <th>11166</th>\n",
       "      <td>1</td>\n",
       "      <td>best practices</td>\n",
       "    </tr>\n",
       "    <tr>\n",
       "      <th>11167</th>\n",
       "      <td>1</td>\n",
       "      <td>guide</td>\n",
       "    </tr>\n",
       "    <tr>\n",
       "      <th>11168</th>\n",
       "      <td>1</td>\n",
       "      <td>API</td>\n",
       "    </tr>\n",
       "    <tr>\n",
       "      <th>11169</th>\n",
       "      <td>1</td>\n",
       "      <td>management</td>\n",
       "    </tr>\n",
       "    <tr>\n",
       "      <th>11170</th>\n",
       "      <td>1</td>\n",
       "      <td>storage</td>\n",
       "    </tr>\n",
       "  </tbody>\n",
       "</table>\n",
       "<p>11171 rows × 2 columns</p>\n",
       "</div>"
      ],
      "text/plain": [
       "       entry_id             tag\n",
       "0           548             MHK\n",
       "1           548          Marine\n",
       "2           548    Hydrokinetic\n",
       "3           548          energy\n",
       "4           548           power\n",
       "...         ...             ...\n",
       "11166         1  best practices\n",
       "11167         1           guide\n",
       "11168         1             API\n",
       "11169         1      management\n",
       "11170         1         storage\n",
       "\n",
       "[11171 rows x 2 columns]"
      ]
     },
     "execution_count": 6,
     "metadata": {},
     "output_type": "execute_result"
    }
   ],
   "source": [
    "entry_based_table_gen.construct_tags_table(mhkdr_dataframe)"
   ]
  },
  {
   "cell_type": "code",
   "execution_count": 7,
   "id": "7c490336-e90a-4931-ac28-4848ac452898",
   "metadata": {},
   "outputs": [
    {
     "data": {
      "text/html": [
       "<div>\n",
       "<style scoped>\n",
       "    .dataframe tbody tr th:only-of-type {\n",
       "        vertical-align: middle;\n",
       "    }\n",
       "\n",
       "    .dataframe tbody tr th {\n",
       "        vertical-align: top;\n",
       "    }\n",
       "\n",
       "    .dataframe thead th {\n",
       "        text-align: right;\n",
       "    }\n",
       "</style>\n",
       "<table border=\"1\" class=\"dataframe\">\n",
       "  <thead>\n",
       "    <tr style=\"text-align: right;\">\n",
       "      <th></th>\n",
       "      <th>entry_id</th>\n",
       "      <th>tag</th>\n",
       "    </tr>\n",
       "  </thead>\n",
       "  <tbody>\n",
       "    <tr>\n",
       "      <th>0</th>\n",
       "      <td>499</td>\n",
       "      <td>Environment</td>\n",
       "    </tr>\n",
       "    <tr>\n",
       "      <th>1</th>\n",
       "      <td>499</td>\n",
       "      <td>Human Dimensions</td>\n",
       "    </tr>\n",
       "    <tr>\n",
       "      <th>2</th>\n",
       "      <td>500</td>\n",
       "      <td>Environment</td>\n",
       "    </tr>\n",
       "    <tr>\n",
       "      <th>3</th>\n",
       "      <td>500</td>\n",
       "      <td>Environmental Impact Assessment</td>\n",
       "    </tr>\n",
       "    <tr>\n",
       "      <th>4</th>\n",
       "      <td>501</td>\n",
       "      <td>Environment</td>\n",
       "    </tr>\n",
       "    <tr>\n",
       "      <th>...</th>\n",
       "      <td>...</td>\n",
       "      <td>...</td>\n",
       "    </tr>\n",
       "    <tr>\n",
       "      <th>13908</th>\n",
       "      <td>2078958</td>\n",
       "      <td>EMF</td>\n",
       "    </tr>\n",
       "    <tr>\n",
       "      <th>13909</th>\n",
       "      <td>2078958</td>\n",
       "      <td>Habitat Change</td>\n",
       "    </tr>\n",
       "    <tr>\n",
       "      <th>13910</th>\n",
       "      <td>2078959</td>\n",
       "      <td>Environment</td>\n",
       "    </tr>\n",
       "    <tr>\n",
       "      <th>13911</th>\n",
       "      <td>2078959</td>\n",
       "      <td>Fish</td>\n",
       "    </tr>\n",
       "    <tr>\n",
       "      <th>13912</th>\n",
       "      <td>2078959</td>\n",
       "      <td>Attraction</td>\n",
       "    </tr>\n",
       "  </tbody>\n",
       "</table>\n",
       "<p>13913 rows × 2 columns</p>\n",
       "</div>"
      ],
      "text/plain": [
       "       entry_id                              tag\n",
       "0           499                      Environment\n",
       "1           499                 Human Dimensions\n",
       "2           500                      Environment\n",
       "3           500  Environmental Impact Assessment\n",
       "4           501                      Environment\n",
       "...         ...                              ...\n",
       "13908   2078958                              EMF\n",
       "13909   2078958                   Habitat Change\n",
       "13910   2078959                      Environment\n",
       "13911   2078959                             Fish\n",
       "13912   2078959                       Attraction\n",
       "\n",
       "[13913 rows x 2 columns]"
      ]
     },
     "execution_count": 7,
     "metadata": {},
     "output_type": "execute_result"
    }
   ],
   "source": [
    "entry_based_table_gen.construct_tags_table(tethys_dataframe)"
   ]
  },
  {
   "cell_type": "code",
   "execution_count": 8,
   "id": "25c4aa7c-71de-4e2e-8569-25c47184a231",
   "metadata": {},
   "outputs": [
    {
     "data": {
      "text/html": [
       "<div>\n",
       "<style scoped>\n",
       "    .dataframe tbody tr th:only-of-type {\n",
       "        vertical-align: middle;\n",
       "    }\n",
       "\n",
       "    .dataframe tbody tr th {\n",
       "        vertical-align: top;\n",
       "    }\n",
       "\n",
       "    .dataframe thead th {\n",
       "        text-align: right;\n",
       "    }\n",
       "</style>\n",
       "<table border=\"1\" class=\"dataframe\">\n",
       "  <thead>\n",
       "    <tr style=\"text-align: right;\">\n",
       "      <th></th>\n",
       "      <th>entry_id</th>\n",
       "      <th>tag</th>\n",
       "    </tr>\n",
       "  </thead>\n",
       "  <tbody>\n",
       "    <tr>\n",
       "      <th>0</th>\n",
       "      <td>4</td>\n",
       "      <td>Engineering</td>\n",
       "    </tr>\n",
       "    <tr>\n",
       "      <th>1</th>\n",
       "      <td>4</td>\n",
       "      <td>Performance</td>\n",
       "    </tr>\n",
       "    <tr>\n",
       "      <th>2</th>\n",
       "      <td>4</td>\n",
       "      <td>Modeling</td>\n",
       "    </tr>\n",
       "    <tr>\n",
       "      <th>3</th>\n",
       "      <td>6</td>\n",
       "      <td>Engineering</td>\n",
       "    </tr>\n",
       "    <tr>\n",
       "      <th>4</th>\n",
       "      <td>6</td>\n",
       "      <td>Array Effects</td>\n",
       "    </tr>\n",
       "    <tr>\n",
       "      <th>...</th>\n",
       "      <td>...</td>\n",
       "      <td>...</td>\n",
       "    </tr>\n",
       "    <tr>\n",
       "      <th>30698</th>\n",
       "      <td>17438</td>\n",
       "      <td>Engineering</td>\n",
       "    </tr>\n",
       "    <tr>\n",
       "      <th>30699</th>\n",
       "      <td>17438</td>\n",
       "      <td>Mooring</td>\n",
       "    </tr>\n",
       "    <tr>\n",
       "      <th>30700</th>\n",
       "      <td>17526</td>\n",
       "      <td>Engineering</td>\n",
       "    </tr>\n",
       "    <tr>\n",
       "      <th>30701</th>\n",
       "      <td>17526</td>\n",
       "      <td>Substructure</td>\n",
       "    </tr>\n",
       "    <tr>\n",
       "      <th>30702</th>\n",
       "      <td>18796</td>\n",
       "      <td>Engineering</td>\n",
       "    </tr>\n",
       "  </tbody>\n",
       "</table>\n",
       "<p>30703 rows × 2 columns</p>\n",
       "</div>"
      ],
      "text/plain": [
       "       entry_id            tag\n",
       "0             4    Engineering\n",
       "1             4    Performance\n",
       "2             4       Modeling\n",
       "3             6    Engineering\n",
       "4             6  Array Effects\n",
       "...         ...            ...\n",
       "30698     17438    Engineering\n",
       "30699     17438        Mooring\n",
       "30700     17526    Engineering\n",
       "30701     17526   Substructure\n",
       "30702     18796    Engineering\n",
       "\n",
       "[30703 rows x 2 columns]"
      ]
     },
     "execution_count": 8,
     "metadata": {},
     "output_type": "execute_result"
    }
   ],
   "source": [
    "entry_based_table_gen.construct_tags_table(tethys_e_dataframe)"
   ]
  }
 ],
 "metadata": {
  "kernelspec": {
   "display_name": "Python 3 (ipykernel)",
   "language": "python",
   "name": "python3"
  },
  "language_info": {
   "codemirror_mode": {
    "name": "ipython",
    "version": 3
   },
   "file_extension": ".py",
   "mimetype": "text/x-python",
   "name": "python",
   "nbconvert_exporter": "python",
   "pygments_lexer": "ipython3",
   "version": "3.11.7"
  }
 },
 "nbformat": 4,
 "nbformat_minor": 5
}
