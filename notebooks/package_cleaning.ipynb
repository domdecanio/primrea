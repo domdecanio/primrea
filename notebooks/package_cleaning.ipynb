{
 "cells": [
  {
   "cell_type": "markdown",
   "id": "bbb4e365-aa66-428e-a351-d042d9c795fb",
   "metadata": {},
   "source": [
    "# Package Cleaning"
   ]
  },
  {
   "cell_type": "markdown",
   "id": "62935935-5013-4146-a8fb-4a3413bfafd0",
   "metadata": {},
   "source": [
    "The purpose of this notebook is to work through the current codebase of the primrea package and remove duplicate code, as the current codebase still includes the raw contents of the development notebooks used to create the first functionality.\n",
    "\n",
    "1. This notebook will be complete when it has been used to test the package to ensure proper functionality, insofar as the code base no longer contains redundant code and functions properly.\n",
    "2. This notebook will inform 2 other notebooks:\n",
    "   1. package_testing\n",
    "          This notebook will continue the theme of testing, learning from the checks made in the package_cleaning notebook, to implement tests into the package to ensure code reliability.\n",
    "   3. package_integration\n",
    "          This notebook will continue the main development trajectory of package_cleaning by composing the cleaned codebase into an integrated system. Here I will introduce the base class which creates the cleaned tables on initialization.\n",
    "   "
   ]
  },
  {
   "cell_type": "markdown",
   "id": "d9cb0cba-7e24-4cfe-b66f-6a7547f23bb3",
   "metadata": {},
   "source": [
    "### Dev"
   ]
  },
  {
   "cell_type": "code",
   "execution_count": null,
   "id": "b3fd1174-ce25-4f4c-ba47-2933d71a1596",
   "metadata": {},
   "outputs": [],
   "source": []
  },
  {
   "cell_type": "code",
   "execution_count": null,
   "id": "cf2caa57-b8ef-423a-ba3f-ae6ea0df4a33",
   "metadata": {},
   "outputs": [],
   "source": []
  },
  {
   "cell_type": "code",
   "execution_count": null,
   "id": "4b118ce1-c07e-4395-8d56-51da9f6381f4",
   "metadata": {},
   "outputs": [],
   "source": []
  }
 ],
 "metadata": {
  "kernelspec": {
   "display_name": "Python 3 (ipykernel)",
   "language": "python",
   "name": "python3"
  },
  "language_info": {
   "codemirror_mode": {
    "name": "ipython",
    "version": 3
   },
   "file_extension": ".py",
   "mimetype": "text/x-python",
   "name": "python",
   "nbconvert_exporter": "python",
   "pygments_lexer": "ipython3",
   "version": "3.11.7"
  }
 },
 "nbformat": 4,
 "nbformat_minor": 5
}
