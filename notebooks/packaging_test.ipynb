{
 "cells": [
  {
   "cell_type": "markdown",
   "id": "ae6e9668-1d8a-4094-8442-09b4bfcdbc86",
   "metadata": {},
   "source": [
    "# Packaging Testing"
   ]
  },
  {
   "cell_type": "markdown",
   "id": "157d971a-ec49-4af4-8db3-dda8045274f7",
   "metadata": {},
   "source": [
    "The objective of this notebook is to test the functionality of the newly packaged \"primrea\" python package, which forms 0.1.0 in development. The objective of this version is to compile the current state of the codebase, and allow for flexible architectural changes and feature development \n",
    "by migrating to a notebook-interactable but script based codebase."
   ]
  },
  {
   "cell_type": "markdown",
   "id": "9bc726b0-e0fc-4e57-b698-ac2812b72881",
   "metadata": {},
   "source": [
    "It seems that I installed the local package sucessfully into my system (in command prompt I can access the package) but not into the anaconda environment! Next I will attempt to install through the anaconda terminal to make it accessible to jupyter lab notebooks via this editor."
   ]
  },
  {
   "cell_type": "markdown",
   "id": "60612d07-ca7a-40af-9030-1708d2536e77",
   "metadata": {},
   "source": [
    "Note that it takes a long time to import the package.\n",
    "\n",
    "I think this is becuase the package is located very far away from the normal locations of applications or packages, and therefore the computer has to do an extensive search to find the package. When the package is closer to deployment, it would be prudent to test the import timing when the package is normally installed via pip from pypi, or simply placed in the correct directory (by the developer) and installed from that correct directory.\n",
    "\n",
    "path: C:\\Users\\deca761\\OneDrive - PNNL\\Documents\\Work Items\\Ongoing\\PRIMRE Research Questions"
   ]
  },
  {
   "cell_type": "code",
   "execution_count": 1,
   "id": "046a5138-5dfc-40d3-89a5-9e0a4a6f2a53",
   "metadata": {},
   "outputs": [],
   "source": [
    "import sys\n",
    "\n",
    "# from primrea import * # This line runs without error, but does not make the package available.\n",
    "import primrea.kh_table_gen.entry as mod"
   ]
  },
  {
   "cell_type": "code",
   "execution_count": 2,
   "id": "eb58ca8c-d7d4-48d2-b11f-34bc9a594b0c",
   "metadata": {},
   "outputs": [
    {
     "name": "stdout",
     "output_type": "stream",
     "text": [
      "Help on function find_entry_id in module primrea.kh_table_gen.entry:\n",
      "\n",
      "find_entry_id(entry_uri)\n",
      "    This function takes in the url of a MHKDR entry, and returns the entry_id of that page. \n",
      "    The 'entry_id' is the integer at the end of the url, which is unique to each MHKDR entry.\n",
      "    The regex used in this function relies on the fact that the only number in the url is the id.\n",
      "\n"
     ]
    }
   ],
   "source": [
    "help(mod.find_entry_id)"
   ]
  }
 ],
 "metadata": {
  "kernelspec": {
   "display_name": "Python 3 (ipykernel)",
   "language": "python",
   "name": "python3"
  },
  "language_info": {
   "codemirror_mode": {
    "name": "ipython",
    "version": 3
   },
   "file_extension": ".py",
   "mimetype": "text/x-python",
   "name": "python",
   "nbconvert_exporter": "python",
   "pygments_lexer": "ipython3",
   "version": "3.11.7"
  }
 },
 "nbformat": 4,
 "nbformat_minor": 5
}
