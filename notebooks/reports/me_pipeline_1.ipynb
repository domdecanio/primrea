{
 "cells": [
  {
   "cell_type": "markdown",
   "id": "85d42743-05a4-48df-9e4c-b72ae53a362d",
   "metadata": {},
   "source": [
    "# Marine Energy Pipeline Analysis 1"
   ]
  },
  {
   "cell_type": "markdown",
   "id": "15a2e70a-0ae7-49d6-892b-9dbae33e17b3",
   "metadata": {},
   "source": [
    "The purpose of this notebook is to "
   ]
  },
  {
   "cell_type": "code",
   "execution_count": 1,
   "id": "7611fb37-7a1f-4495-81f3-1dd31e634dc6",
   "metadata": {},
   "outputs": [],
   "source": [
    "import primrea.core"
   ]
  },
  {
   "cell_type": "code",
   "execution_count": null,
   "id": "058285fb-afa7-4cce-a3ec-41ce4a314988",
   "metadata": {},
   "outputs": [],
   "source": [
    "primre_data = "
   ]
  },
  {
   "cell_type": "code",
   "execution_count": null,
   "id": "736ad00b-8262-474f-8f66-624e20e09891",
   "metadata": {},
   "outputs": [],
   "source": []
  }
 ],
 "metadata": {
  "kernelspec": {
   "display_name": "Python 3 (ipykernel)",
   "language": "python",
   "name": "python3"
  },
  "language_info": {
   "codemirror_mode": {
    "name": "ipython",
    "version": 3
   },
   "file_extension": ".py",
   "mimetype": "text/x-python",
   "name": "python",
   "nbconvert_exporter": "python",
   "pygments_lexer": "ipython3",
   "version": "3.11.7"
  }
 },
 "nbformat": 4,
 "nbformat_minor": 5
}
