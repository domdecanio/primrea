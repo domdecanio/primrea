{
 "cells": [
  {
   "cell_type": "markdown",
   "id": "c73df0c3-2ee3-453e-a585-f6d3a117e4a1",
   "metadata": {},
   "source": [
    "# Tethys / Tethys Engineering QA/QC1"
   ]
  },
  {
   "cell_type": "markdown",
   "id": "8e224033-d4a7-49c7-8fc9-a71a7dbb60a4",
   "metadata": {},
   "source": [
    "The purpose of this notebook is to generate a list of Tethys and Tethys Engineering entries that have attached documents, where the name of the attached file includes a space. \n",
    "\n",
    "This is likely the first in a series of notebooks dedicated to bringing value to the PRIMRE team through quality control of various knowledge hubs. I expect that there will be at least a few of these notebooks dedicated to Tethys / Tethys Engineering."
   ]
  },
  {
   "cell_type": "markdown",
   "id": "534bdf6b-9f9e-4bfc-8772-41ef83015e9d",
   "metadata": {},
   "source": [
    "### Setup"
   ]
  },
  {
   "cell_type": "code",
   "execution_count": 1,
   "id": "bd1f831d-d9f0-42b4-a4ab-88a52c50b1b8",
   "metadata": {},
   "outputs": [],
   "source": [
    "import re\n",
    "import primrea.core"
   ]
  },
  {
   "cell_type": "markdown",
   "id": "6ba2a4f5-e94d-4009-a58f-25262b702d23",
   "metadata": {},
   "source": [
    "### Dev"
   ]
  },
  {
   "cell_type": "code",
   "execution_count": 2,
   "id": "beaba3eb-90e0-40f3-9243-9090986bbcd1",
   "metadata": {},
   "outputs": [],
   "source": [
    "primre_data = primrea.core.primrea_data()"
   ]
  },
  {
   "cell_type": "markdown",
   "id": "d8a5ff21-40fc-4c70-9470-a0f2c74f14fc",
   "metadata": {},
   "source": [
    "It appears that the 'attachment' field is quite convenient. All of the documents appear to be saved in the same place in the server, so the url of each download is identical excepting the file name. After a few random picks, I arrived a url that has spaces in it (index 3000, below). As we can see, this url is pre-parsing by a browser, so we do not even need to decode it using regex. I think there will be some minor regex to select those which have spaces, but this will be significantly easier than secting with the '%20', or whatever the space encoding is from the browser."
   ]
  },
  {
   "cell_type": "code",
   "execution_count": 3,
   "id": "179113a9-fedb-43b9-ab66-727c50a351f3",
   "metadata": {},
   "outputs": [
    {
     "data": {
      "text/plain": [
       "'ICES Report 344.pdf'"
      ]
     },
     "execution_count": 3,
     "metadata": {},
     "output_type": "execute_result"
    }
   ],
   "source": [
    "primre_data.tethys_dataframe['attachment'][3000][0][57:]"
   ]
  },
  {
   "cell_type": "markdown",
   "id": "6dddfe32-2e6b-4765-8a56-ff14d469a464",
   "metadata": {},
   "source": [
    "Necessary regex for determining if there is a space in the string. \\/"
   ]
  },
  {
   "cell_type": "code",
   "execution_count": 4,
   "id": "5f4b30a9-1535-4cfb-b5f3-fad3cff233bb",
   "metadata": {},
   "outputs": [
    {
     "data": {
      "text/plain": [
       "re.compile(r' +', re.UNICODE)"
      ]
     },
     "execution_count": 4,
     "metadata": {},
     "output_type": "execute_result"
    }
   ],
   "source": [
    "p = re.compile(' +')\n",
    "p"
   ]
  },
  {
   "cell_type": "code",
   "execution_count": 5,
   "id": "76bf6c14-c694-43d5-8d3e-a80d71ae0717",
   "metadata": {},
   "outputs": [
    {
     "name": "stdout",
     "output_type": "stream",
     "text": [
      "None\n",
      "<re.Match object; span=(4, 5), match=' '>\n"
     ]
    }
   ],
   "source": [
    "a = 'BPS_EMP_092016.pdf'\n",
    "b = 'ICES Report 344.pdf'\n",
    "\n",
    "print(re.search(p, a))\n",
    "print(re.search(p, b))"
   ]
  },
  {
   "cell_type": "code",
   "execution_count": 6,
   "id": "9304eb61-5add-4c6f-9c65-f7ce8687c474",
   "metadata": {},
   "outputs": [
    {
     "name": "stdout",
     "output_type": "stream",
     "text": [
      "None\n",
      "<re.Match object; span=(4, 5), match=' '>\n"
     ]
    }
   ],
   "source": [
    "print(p.search(a))\n",
    "print(p.search(b))"
   ]
  },
  {
   "cell_type": "code",
   "execution_count": 7,
   "id": "275f6943-0cd3-4b5c-aa80-d24cdd341ef7",
   "metadata": {},
   "outputs": [],
   "source": [
    "tethys_df = primre_data.tethys_dataframe\n",
    "num_t_entries = len(tethys_df)\n",
    "\n",
    "match_lst = list()\n",
    "for i in range(0, num_t_entries):\n",
    "    i_url = tethys_df['attachment'][i]\n",
    "    if len(i_url) < 1:\n",
    "        match_lst.append(0)\n",
    "    elif len(i_url) > 0:\n",
    "        match = re.search(p, i_url[0])    # Index the i_url variable because we have a list at this point, and we were previously checking that the list was not empty\n",
    "        if match == None:\n",
    "            match_lst.append(1)\n",
    "        else:\n",
    "            #elif match != None:\n",
    "            match_lst.append(2)\n",
    "        "
   ]
  },
  {
   "cell_type": "code",
   "execution_count": 8,
   "id": "07a7b785-3229-4086-ae71-75addd79c0bb",
   "metadata": {},
   "outputs": [
    {
     "data": {
      "text/html": [
       "<div>\n",
       "<style scoped>\n",
       "    .dataframe tbody tr th:only-of-type {\n",
       "        vertical-align: middle;\n",
       "    }\n",
       "\n",
       "    .dataframe tbody tr th {\n",
       "        vertical-align: top;\n",
       "    }\n",
       "\n",
       "    .dataframe thead th {\n",
       "        text-align: right;\n",
       "    }\n",
       "</style>\n",
       "<table border=\"1\" class=\"dataframe\">\n",
       "  <thead>\n",
       "    <tr style=\"text-align: right;\">\n",
       "      <th></th>\n",
       "      <th>URI</th>\n",
       "      <th>type</th>\n",
       "      <th>landingPage</th>\n",
       "      <th>sourceURL</th>\n",
       "      <th>title</th>\n",
       "      <th>description</th>\n",
       "      <th>author</th>\n",
       "      <th>organization</th>\n",
       "      <th>originationDate</th>\n",
       "      <th>spatial</th>\n",
       "      <th>technologyType</th>\n",
       "      <th>tags</th>\n",
       "      <th>modifiedDate</th>\n",
       "      <th>signatureProject</th>\n",
       "      <th>attachment</th>\n",
       "      <th>match</th>\n",
       "    </tr>\n",
       "  </thead>\n",
       "  <tbody>\n",
       "    <tr>\n",
       "      <th>0</th>\n",
       "      <td>https://tethys.pnnl.gov/node/499</td>\n",
       "      <td>[Document, Document/Journal Article]</td>\n",
       "      <td>https://tethys.pnnl.gov/publications/marine-re...</td>\n",
       "      <td>https://www.mdpi.com/1996-1073/10/10/1512/htm</td>\n",
       "      <td>Marine Renewable Energy in the Mediterranean S...</td>\n",
       "      <td>In this work, an extended overview of the mari...</td>\n",
       "      <td>[Soukissian, T., Denaxa, D., Karathanasi, F., ...</td>\n",
       "      <td>[Hellenic Centre for Marine Research (HCMR), N...</td>\n",
       "      <td>2017-09-29</td>\n",
       "      <td>[]</td>\n",
       "      <td>[]</td>\n",
       "      <td>[Environment, Human Dimensions]</td>\n",
       "      <td>2024-01-22 09:24:45</td>\n",
       "      <td>[]</td>\n",
       "      <td>[]</td>\n",
       "      <td>0</td>\n",
       "    </tr>\n",
       "  </tbody>\n",
       "</table>\n",
       "</div>"
      ],
      "text/plain": [
       "                                URI                                  type  \\\n",
       "0  https://tethys.pnnl.gov/node/499  [Document, Document/Journal Article]   \n",
       "\n",
       "                                         landingPage  \\\n",
       "0  https://tethys.pnnl.gov/publications/marine-re...   \n",
       "\n",
       "                                       sourceURL  \\\n",
       "0  https://www.mdpi.com/1996-1073/10/10/1512/htm   \n",
       "\n",
       "                                               title  \\\n",
       "0  Marine Renewable Energy in the Mediterranean S...   \n",
       "\n",
       "                                         description  \\\n",
       "0  In this work, an extended overview of the mari...   \n",
       "\n",
       "                                              author  \\\n",
       "0  [Soukissian, T., Denaxa, D., Karathanasi, F., ...   \n",
       "\n",
       "                                        organization originationDate spatial  \\\n",
       "0  [Hellenic Centre for Marine Research (HCMR), N...      2017-09-29      []   \n",
       "\n",
       "  technologyType                             tags         modifiedDate  \\\n",
       "0             []  [Environment, Human Dimensions]  2024-01-22 09:24:45   \n",
       "\n",
       "  signatureProject attachment  match  \n",
       "0               []         []      0  "
      ]
     },
     "execution_count": 8,
     "metadata": {},
     "output_type": "execute_result"
    }
   ],
   "source": [
    "# assign this information as a column in the original dataframe\n",
    "tethys_df['match'] = match_lst\n",
    "tethys_df.head(1)"
   ]
  },
  {
   "cell_type": "code",
   "execution_count": 9,
   "id": "799dd119-29b2-46b5-bbd0-44176d824d0c",
   "metadata": {},
   "outputs": [
    {
     "name": "stdout",
     "output_type": "stream",
     "text": [
      "Number of obs no attch : 2172\n",
      "Number of obs gd attch : 2064\n",
      "Number of obs bd attch : 13\n",
      "Number of observations in Tethys :  4249\n",
      "Number of observations of matches : 4249\n"
     ]
    }
   ],
   "source": [
    "tethys_no_attch = tethys_df[tethys_df['match']==0]\n",
    "tethys_gd_attch = tethys_df[tethys_df['match']==1]\n",
    "tethys_bd_attch = tethys_df[tethys_df['match']==2]\n",
    "print(f'Number of obs no attch : {len(tethys_no_attch)}\\nNumber of obs gd attch : {len(tethys_gd_attch)}\\nNumber of obs bd attch : {len(tethys_bd_attch)}')\n",
    "print(f'Number of observations in Tethys :  {num_t_entries}\\nNumber of observations of matches : {len(tethys_no_attch) + len(tethys_gd_attch) + len(tethys_bd_attch)}')\n"
   ]
  },
  {
   "cell_type": "code",
   "execution_count": 10,
   "id": "b66305df-81ff-4f7c-81f5-bb11b0c1ca04",
   "metadata": {},
   "outputs": [
    {
     "data": {
      "text/plain": [
       "2370       https://tethys.pnnl.gov/node/5744\n",
       "2581       https://tethys.pnnl.gov/node/6531\n",
       "2582       https://tethys.pnnl.gov/node/6533\n",
       "2686       https://tethys.pnnl.gov/node/7195\n",
       "2713       https://tethys.pnnl.gov/node/8211\n",
       "2854      https://tethys.pnnl.gov/node/77442\n",
       "2855      https://tethys.pnnl.gov/node/77636\n",
       "2856      https://tethys.pnnl.gov/node/77637\n",
       "2944     https://tethys.pnnl.gov/node/112518\n",
       "3000     https://tethys.pnnl.gov/node/121849\n",
       "3023     https://tethys.pnnl.gov/node/154322\n",
       "3770    https://tethys.pnnl.gov/node/1760762\n",
       "3893    https://tethys.pnnl.gov/node/2072546\n",
       "Name: URI, dtype: object"
      ]
     },
     "execution_count": 10,
     "metadata": {},
     "output_type": "execute_result"
    }
   ],
   "source": [
    "tethys_bd_attch['URI']"
   ]
  },
  {
   "cell_type": "markdown",
   "id": "7ec99c27-5e27-4098-b789-0782c77d0c53",
   "metadata": {},
   "source": [
    "### All characters"
   ]
  },
  {
   "cell_type": "markdown",
   "id": "12d57c46-ea72-4a4d-9881-0d6365e65f70",
   "metadata": {},
   "source": [
    "For added certainty that the results above account for all entries with possible broken links, I will also create a list of all the unique characters used in all of the file names throughout tethys to allow the QAQC specialists to visually confirm that no other characters will cause problems. If the results of this analysis find that there are other characters that could be problematic found in the attachment names for these entries, these problem characters can be added to the regex in the prior analysis to create a comprehensive approach. "
   ]
  },
  {
   "cell_type": "code",
   "execution_count": 42,
   "id": "06300643-514a-4b3c-8293-dcd310691382",
   "metadata": {},
   "outputs": [],
   "source": [
    "all_chars = ''\n",
    "url_locs = list()\n",
    "for i in range(0, num_t_entries):\n",
    "    i_url = tethys_df['attachment'][i]\n",
    "#    if len(i_url) < 1:\n",
    "#        match_lst.append(0)\n",
    "    if len(i_url) > 0:\n",
    "#        match = re.search(p, i_url[0])    # Index the i_url variable because we have a list at this point, and we were previously checking that the list was not empty\n",
    "        all_chars = all_chars + i_url[0][57:]\n",
    "        url_locs.append(i_url[0][0:57])\n",
    "        # if match == None:\n",
    "        #     match_lst.append(1)\n",
    "        # else:\n",
    "        #     #elif match != None:\n",
    "        #     match_lst.append(2)"
   ]
  },
  {
   "cell_type": "code",
   "execution_count": 14,
   "id": "9bf0b68f-e67f-4f59-980c-f5b87d6d2a4a",
   "metadata": {},
   "outputs": [],
   "source": [
    "a = ''"
   ]
  },
  {
   "cell_type": "code",
   "execution_count": 18,
   "id": "34a8da47-b425-4ffa-ac7d-551ef38947d2",
   "metadata": {},
   "outputs": [],
   "source": [
    "a = a + 'b'"
   ]
  },
  {
   "cell_type": "code",
   "execution_count": 19,
   "id": "2be901a4-68b6-404d-a2a8-1b3c267a34c5",
   "metadata": {},
   "outputs": [],
   "source": [
    "a = a + 'bsdadeeedd'"
   ]
  },
  {
   "cell_type": "code",
   "execution_count": 20,
   "id": "be1f348a-d8bd-4abb-ba08-ea9355ceaead",
   "metadata": {},
   "outputs": [
    {
     "data": {
      "text/plain": [
       "'bbsdadeeedd'"
      ]
     },
     "execution_count": 20,
     "metadata": {},
     "output_type": "execute_result"
    }
   ],
   "source": [
    "a\n"
   ]
  },
  {
   "cell_type": "code",
   "execution_count": 21,
   "id": "a8842f4a-784a-45bf-ad43-edeecd998614",
   "metadata": {},
   "outputs": [
    {
     "data": {
      "text/plain": [
       "['s', 'e', 'a', 'd', 'b']"
      ]
     },
     "execution_count": 21,
     "metadata": {},
     "output_type": "execute_result"
    }
   ],
   "source": [
    "list(set(a))"
   ]
  },
  {
   "cell_type": "code",
   "execution_count": 46,
   "id": "8c4d9236-9fe9-42e7-98eb-91a43a87e7ac",
   "metadata": {},
   "outputs": [
    {
     "data": {
      "text/plain": [
       "{'https://tethys.pnnl.gov/sites/default/files/DataTransfera',\n",
       " 'https://tethys.pnnl.gov/sites/default/files/Short-Science',\n",
       " 'https://tethys.pnnl.gov/sites/default/files/publications/',\n",
       " 'https://tethys.pnnl.gov/sites/default/files/summaries/Ada',\n",
       " 'https://tethys.pnnl.gov/sites/default/files/summaries/Ben',\n",
       " 'https://tethys.pnnl.gov/sites/default/files/summaries/Cha',\n",
       " 'https://tethys.pnnl.gov/sites/default/files/summaries/Col',\n",
       " 'https://tethys.pnnl.gov/sites/default/files/summaries/Ele',\n",
       " 'https://tethys.pnnl.gov/sites/default/files/summaries/Ent',\n",
       " 'https://tethys.pnnl.gov/sites/default/files/summaries/Env',\n",
       " 'https://tethys.pnnl.gov/sites/default/files/summaries/MRE',\n",
       " 'https://tethys.pnnl.gov/sites/default/files/summaries/Mar',\n",
       " 'https://tethys.pnnl.gov/sites/default/files/summaries/Ris',\n",
       " 'https://tethys.pnnl.gov/sites/default/files/summaries/Soc',\n",
       " 'https://tethys.pnnl.gov/sites/default/files/summaries/Tet',\n",
       " 'https://tethys.pnnl.gov/sites/default/files/summaries/Und',\n",
       " 'https://tethys.pnnl.gov/sites/default/files/summaries/WRE'}"
      ]
     },
     "execution_count": 46,
     "metadata": {},
     "output_type": "execute_result"
    }
   ],
   "source": [
    "set(url_locs)"
   ]
  },
  {
   "cell_type": "code",
   "execution_count": 48,
   "id": "168efb65-06c0-4961-bc91-62be29391f1a",
   "metadata": {},
   "outputs": [
    {
     "data": {
      "text/plain": [
       "'BPS_EMP_092016.pdfMcInnes_et_al_2018.pdfEMEC-AK_EnvironmentalMonitoringReport.pdfMcIntyre-2016-EMF-Sturgeon.pdfEMEC_2019.PDFmarine_institute-spiddal-environmental_report.pdfOneaetal2019.pdfPoweringTheBlueEconomy_73355-v2.pdfWhiting-et-al-2019.pdfenergies-2019.pdfJohnson_Pride_2010.pdfSnyderetal2019.pdfSmith_et_al-2019-Ecology_and_Evolution.pdfLusseau_et_al_2012.pdfAshley_et_al_2014.pdfemblingetal.pdfLepperetal.pdfNERC_9.pdfNERC_2016.pdfNERC_2019.pdfFreeman_et_al_2013.pdfBruch_et_al_1994.pdfCarr2'"
      ]
     },
     "execution_count": 48,
     "metadata": {},
     "output_type": "execute_result"
    }
   ],
   "source": [
    "all_chars[:500]"
   ]
  },
  {
   "cell_type": "code",
   "execution_count": 49,
   "id": "b07de3f1-6b84-4c74-835a-dec55396b57b",
   "metadata": {},
   "outputs": [
    {
     "data": {
      "text/plain": [
       "{' ',\n",
       " \"'\",\n",
       " '(',\n",
       " ')',\n",
       " '-',\n",
       " '.',\n",
       " '0',\n",
       " '1',\n",
       " '2',\n",
       " '3',\n",
       " '4',\n",
       " '5',\n",
       " '6',\n",
       " '7',\n",
       " '8',\n",
       " '9',\n",
       " 'A',\n",
       " 'B',\n",
       " 'C',\n",
       " 'D',\n",
       " 'E',\n",
       " 'F',\n",
       " 'G',\n",
       " 'H',\n",
       " 'I',\n",
       " 'J',\n",
       " 'K',\n",
       " 'L',\n",
       " 'M',\n",
       " 'N',\n",
       " 'O',\n",
       " 'P',\n",
       " 'Q',\n",
       " 'R',\n",
       " 'S',\n",
       " 'T',\n",
       " 'U',\n",
       " 'V',\n",
       " 'W',\n",
       " 'X',\n",
       " 'Y',\n",
       " 'Z',\n",
       " '_',\n",
       " 'a',\n",
       " 'b',\n",
       " 'c',\n",
       " 'd',\n",
       " 'e',\n",
       " 'f',\n",
       " 'g',\n",
       " 'h',\n",
       " 'i',\n",
       " 'j',\n",
       " 'k',\n",
       " 'l',\n",
       " 'm',\n",
       " 'n',\n",
       " 'o',\n",
       " 'p',\n",
       " 'q',\n",
       " 'r',\n",
       " 's',\n",
       " 't',\n",
       " 'u',\n",
       " 'v',\n",
       " 'w',\n",
       " 'x',\n",
       " 'y',\n",
       " 'z',\n",
       " 'Ç',\n",
       " 'Ü',\n",
       " 'é',\n",
       " 'í',\n",
       " 'ć',\n",
       " '“',\n",
       " '”'}"
      ]
     },
     "execution_count": 49,
     "metadata": {},
     "output_type": "execute_result"
    }
   ],
   "source": [
    "set(list(all_chars))"
   ]
  }
 ],
 "metadata": {
  "kernelspec": {
   "display_name": "Python 3 (ipykernel)",
   "language": "python",
   "name": "python3"
  },
  "language_info": {
   "codemirror_mode": {
    "name": "ipython",
    "version": 3
   },
   "file_extension": ".py",
   "mimetype": "text/x-python",
   "name": "python",
   "nbconvert_exporter": "python",
   "pygments_lexer": "ipython3",
   "version": "3.11.7"
  }
 },
 "nbformat": 4,
 "nbformat_minor": 5
}
