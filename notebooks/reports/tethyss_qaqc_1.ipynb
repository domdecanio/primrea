{
 "cells": [
  {
   "cell_type": "markdown",
   "id": "c73df0c3-2ee3-453e-a585-f6d3a117e4a1",
   "metadata": {},
   "source": [
    "# Tethys / Tethys Engineering QA/QC 1"
   ]
  },
  {
   "cell_type": "markdown",
   "id": "8e224033-d4a7-49c7-8fc9-a71a7dbb60a4",
   "metadata": {},
   "source": [
    "The purpose of this notebook is to generate a list of Tethys and Tethys Engineering entries that have attached documents, where the name of the attached file includes a space. \n",
    "\n",
    "This is likely the first in a series of notebooks dedicated to bringing value to the PRIMRE team through quality control of various knowledge hubs. I expect that there will be at least a few of these notebooks dedicated to Tethys / Tethys Engineering."
   ]
  },
  {
   "cell_type": "markdown",
   "id": "534bdf6b-9f9e-4bfc-8772-41ef83015e9d",
   "metadata": {},
   "source": [
    "### Setup"
   ]
  },
  {
   "cell_type": "code",
   "execution_count": 1,
   "id": "bd1f831d-d9f0-42b4-a4ab-88a52c50b1b8",
   "metadata": {},
   "outputs": [],
   "source": [
    "import re\n",
    "import primrea.core\n",
    "import numpy as np\n",
    "import pandas as pd"
   ]
  },
  {
   "cell_type": "markdown",
   "id": "6ba2a4f5-e94d-4009-a58f-25262b702d23",
   "metadata": {},
   "source": [
    "### Dev"
   ]
  },
  {
   "cell_type": "code",
   "execution_count": 2,
   "id": "beaba3eb-90e0-40f3-9243-9090986bbcd1",
   "metadata": {},
   "outputs": [],
   "source": [
    "primre_data = primrea.core.primrea_data()"
   ]
  },
  {
   "cell_type": "markdown",
   "id": "d8a5ff21-40fc-4c70-9470-a0f2c74f14fc",
   "metadata": {},
   "source": [
    "It appears that the 'attachment' field is quite convenient. All of the documents appear to be saved in the same place in the server, so the url of each download is identical excepting the file name. After a few random picks, I arrived a url that has spaces in it (index 3000, below). As we can see, this url is pre-parsing by a browser, so we do not even need to decode it using regex. I think there will be some minor regex to select those which have spaces, but this will be significantly easier than secting with the '%20', or whatever the space encoding is from the browser."
   ]
  },
  {
   "cell_type": "code",
   "execution_count": 3,
   "id": "179113a9-fedb-43b9-ab66-727c50a351f3",
   "metadata": {},
   "outputs": [
    {
     "data": {
      "text/plain": [
       "'ICES Report 344.pdf'"
      ]
     },
     "execution_count": 3,
     "metadata": {},
     "output_type": "execute_result"
    }
   ],
   "source": [
    "primre_data.tethys_dataframe_raw['attachment'][3000][0][57:]"
   ]
  },
  {
   "cell_type": "markdown",
   "id": "6dddfe32-2e6b-4765-8a56-ff14d469a464",
   "metadata": {},
   "source": [
    "Necessary regex for determining if there is a space in the string. \\/"
   ]
  },
  {
   "cell_type": "code",
   "execution_count": 4,
   "id": "5f4b30a9-1535-4cfb-b5f3-fad3cff233bb",
   "metadata": {},
   "outputs": [
    {
     "data": {
      "text/plain": [
       "re.compile(r' +', re.UNICODE)"
      ]
     },
     "execution_count": 4,
     "metadata": {},
     "output_type": "execute_result"
    }
   ],
   "source": [
    "p = re.compile(' +')\n",
    "p"
   ]
  },
  {
   "cell_type": "code",
   "execution_count": 5,
   "id": "76bf6c14-c694-43d5-8d3e-a80d71ae0717",
   "metadata": {},
   "outputs": [
    {
     "name": "stdout",
     "output_type": "stream",
     "text": [
      "None\n",
      "<re.Match object; span=(4, 5), match=' '>\n"
     ]
    }
   ],
   "source": [
    "a = 'BPS_EMP_092016.pdf'\n",
    "b = 'ICES Report 344.pdf'\n",
    "\n",
    "print(re.search(p, a))\n",
    "print(re.search(p, b))"
   ]
  },
  {
   "cell_type": "code",
   "execution_count": 6,
   "id": "9304eb61-5add-4c6f-9c65-f7ce8687c474",
   "metadata": {},
   "outputs": [
    {
     "name": "stdout",
     "output_type": "stream",
     "text": [
      "None\n",
      "<re.Match object; span=(4, 5), match=' '>\n"
     ]
    }
   ],
   "source": [
    "print(p.search(a))\n",
    "print(p.search(b))"
   ]
  },
  {
   "cell_type": "code",
   "execution_count": 7,
   "id": "275f6943-0cd3-4b5c-aa80-d24cdd341ef7",
   "metadata": {},
   "outputs": [],
   "source": [
    "tethys_df = primre_data.tethys_dataframe_raw\n",
    "num_t_entries = len(tethys_df)\n",
    "\n",
    "match_lst = list()\n",
    "for i in range(0, num_t_entries):\n",
    "    i_url = tethys_df['attachment'][i]\n",
    "    if len(i_url) < 1:\n",
    "        match_lst.append(0)\n",
    "    elif len(i_url) > 0:\n",
    "        match = re.search(p, i_url[0])    # Index the i_url variable because we have a list at this point, and we were previously checking that the list was not empty\n",
    "        if match == None:\n",
    "            match_lst.append(1)\n",
    "        else:\n",
    "            #elif match != None:\n",
    "            match_lst.append(2)\n",
    "        "
   ]
  },
  {
   "cell_type": "code",
   "execution_count": 8,
   "id": "07a7b785-3229-4086-ae71-75addd79c0bb",
   "metadata": {},
   "outputs": [
    {
     "data": {
      "text/html": [
       "<div>\n",
       "<style scoped>\n",
       "    .dataframe tbody tr th:only-of-type {\n",
       "        vertical-align: middle;\n",
       "    }\n",
       "\n",
       "    .dataframe tbody tr th {\n",
       "        vertical-align: top;\n",
       "    }\n",
       "\n",
       "    .dataframe thead th {\n",
       "        text-align: right;\n",
       "    }\n",
       "</style>\n",
       "<table border=\"1\" class=\"dataframe\">\n",
       "  <thead>\n",
       "    <tr style=\"text-align: right;\">\n",
       "      <th></th>\n",
       "      <th>URI</th>\n",
       "      <th>type</th>\n",
       "      <th>landingPage</th>\n",
       "      <th>sourceURL</th>\n",
       "      <th>title</th>\n",
       "      <th>description</th>\n",
       "      <th>author</th>\n",
       "      <th>organization</th>\n",
       "      <th>originationDate</th>\n",
       "      <th>spatial</th>\n",
       "      <th>technologyType</th>\n",
       "      <th>tags</th>\n",
       "      <th>modifiedDate</th>\n",
       "      <th>signatureProject</th>\n",
       "      <th>attachment</th>\n",
       "      <th>entry_id</th>\n",
       "      <th>originationDate2</th>\n",
       "      <th>modifiedDate2</th>\n",
       "      <th>match</th>\n",
       "    </tr>\n",
       "  </thead>\n",
       "  <tbody>\n",
       "    <tr>\n",
       "      <th>0</th>\n",
       "      <td>https://tethys.pnnl.gov/node/499</td>\n",
       "      <td>[Document, Document/Journal Article]</td>\n",
       "      <td>https://tethys.pnnl.gov/publications/marine-re...</td>\n",
       "      <td>https://www.mdpi.com/1996-1073/10/10/1512/htm</td>\n",
       "      <td>Marine Renewable Energy in the Mediterranean S...</td>\n",
       "      <td>In this work, an extended overview of the mari...</td>\n",
       "      <td>[Soukissian, T., Denaxa, D., Karathanasi, F., ...</td>\n",
       "      <td>[Hellenic Centre for Marine Research (HCMR), N...</td>\n",
       "      <td>2017-09-29</td>\n",
       "      <td>[]</td>\n",
       "      <td>[]</td>\n",
       "      <td>[Environment, Human Dimensions]</td>\n",
       "      <td>2024-01-22 09:24:45</td>\n",
       "      <td>[]</td>\n",
       "      <td>[]</td>\n",
       "      <td>499</td>\n",
       "      <td>2017-09-29</td>\n",
       "      <td>2024-01-22 09:24:45</td>\n",
       "      <td>0</td>\n",
       "    </tr>\n",
       "  </tbody>\n",
       "</table>\n",
       "</div>"
      ],
      "text/plain": [
       "                                URI                                  type  \\\n",
       "0  https://tethys.pnnl.gov/node/499  [Document, Document/Journal Article]   \n",
       "\n",
       "                                         landingPage  \\\n",
       "0  https://tethys.pnnl.gov/publications/marine-re...   \n",
       "\n",
       "                                       sourceURL  \\\n",
       "0  https://www.mdpi.com/1996-1073/10/10/1512/htm   \n",
       "\n",
       "                                               title  \\\n",
       "0  Marine Renewable Energy in the Mediterranean S...   \n",
       "\n",
       "                                         description  \\\n",
       "0  In this work, an extended overview of the mari...   \n",
       "\n",
       "                                              author  \\\n",
       "0  [Soukissian, T., Denaxa, D., Karathanasi, F., ...   \n",
       "\n",
       "                                        organization originationDate spatial  \\\n",
       "0  [Hellenic Centre for Marine Research (HCMR), N...      2017-09-29      []   \n",
       "\n",
       "  technologyType                             tags         modifiedDate  \\\n",
       "0             []  [Environment, Human Dimensions]  2024-01-22 09:24:45   \n",
       "\n",
       "  signatureProject attachment  entry_id originationDate2       modifiedDate2  \\\n",
       "0               []         []       499       2017-09-29 2024-01-22 09:24:45   \n",
       "\n",
       "   match  \n",
       "0      0  "
      ]
     },
     "execution_count": 8,
     "metadata": {},
     "output_type": "execute_result"
    }
   ],
   "source": [
    "# assign this information as a column in the original dataframe\n",
    "tethys_df['match'] = match_lst\n",
    "tethys_df.head(1)"
   ]
  },
  {
   "cell_type": "code",
   "execution_count": 9,
   "id": "799dd119-29b2-46b5-bbd0-44176d824d0c",
   "metadata": {},
   "outputs": [
    {
     "name": "stdout",
     "output_type": "stream",
     "text": [
      "Number of obs no attch : 2173\n",
      "Number of obs gd attch : 2069\n",
      "Number of obs bd attch : 13\n",
      "Number of observations in Tethys :  4255\n",
      "Number of observations of matches : 4255\n"
     ]
    }
   ],
   "source": [
    "tethys_no_attch = tethys_df[tethys_df['match']==0]\n",
    "tethys_gd_attch = tethys_df[tethys_df['match']==1]\n",
    "tethys_bd_attch = tethys_df[tethys_df['match']==2]\n",
    "print(f'Number of obs no attch : {len(tethys_no_attch)}\\nNumber of obs gd attch : {len(tethys_gd_attch)}\\nNumber of obs bd attch : {len(tethys_bd_attch)}')\n",
    "print(f'Number of observations in Tethys :  {num_t_entries}\\nNumber of observations of matches : {len(tethys_no_attch) + len(tethys_gd_attch) + len(tethys_bd_attch)}')\n"
   ]
  },
  {
   "cell_type": "code",
   "execution_count": 10,
   "id": "b66305df-81ff-4f7c-81f5-bb11b0c1ca04",
   "metadata": {},
   "outputs": [
    {
     "data": {
      "text/plain": [
       "2370       https://tethys.pnnl.gov/node/5744\n",
       "2581       https://tethys.pnnl.gov/node/6531\n",
       "2582       https://tethys.pnnl.gov/node/6533\n",
       "2686       https://tethys.pnnl.gov/node/7195\n",
       "2713       https://tethys.pnnl.gov/node/8211\n",
       "2854      https://tethys.pnnl.gov/node/77442\n",
       "2855      https://tethys.pnnl.gov/node/77636\n",
       "2856      https://tethys.pnnl.gov/node/77637\n",
       "2944     https://tethys.pnnl.gov/node/112518\n",
       "3000     https://tethys.pnnl.gov/node/121849\n",
       "3023     https://tethys.pnnl.gov/node/154322\n",
       "3770    https://tethys.pnnl.gov/node/1760762\n",
       "3893    https://tethys.pnnl.gov/node/2072546\n",
       "Name: URI, dtype: object"
      ]
     },
     "execution_count": 10,
     "metadata": {},
     "output_type": "execute_result"
    }
   ],
   "source": [
    "tethys_bd_attch['URI']"
   ]
  },
  {
   "cell_type": "code",
   "execution_count": null,
   "id": "6f22e642-09fb-48dc-a593-525d7d92f1aa",
   "metadata": {},
   "outputs": [],
   "source": []
  },
  {
   "cell_type": "markdown",
   "id": "11a79068-44a3-4ccc-a9ca-addff573f86d",
   "metadata": {},
   "source": [
    "### Clean"
   ]
  },
  {
   "cell_type": "markdown",
   "id": "0457327f-129e-4209-b52a-1f95bb6a0fb5",
   "metadata": {},
   "source": [
    "The aim of this section is to collect the report generated in \"Dev\" into one funciton with discrete dependencies. This is preperation for creating a deliverable notebook, which J described as the final destination of this work, in the PRIMRE shared Google Drive.\n",
    "\n",
    "Note: because this will \"live\" in the shared PRIMRE drive, and will be used before final deployment of the primrea package, it cannot rely on any architecture built by primrea. This means that all api calls, and dependencies to make these calls, must be included in the following code."
   ]
  },
  {
   "cell_type": "code",
   "execution_count": 11,
   "id": "41554bdf-820d-4c60-ada6-49d24529f8a6",
   "metadata": {},
   "outputs": [],
   "source": [
    "import requests\n",
    "import pandas as pd\n",
    "import re"
   ]
  },
  {
   "cell_type": "code",
   "execution_count": 12,
   "id": "db8fd8d0-6d4f-468c-bb84-1bfca48a3674",
   "metadata": {},
   "outputs": [],
   "source": [
    "def tethyss_qaqc_1_attachment_names(api_str):\n",
    "    '''\n",
    "    This function takes in an API url from Tethys or Tethys Engineering, and returns a report\n",
    "    on the amount of entries in the Knowledge Hub that have an associated attachment, how many\n",
    "    of these entries with an associated attachment have problematic attachment file names, and\n",
    "    a list of these problematic entries.\n",
    "    '''\n",
    "    # Return DF from API\n",
    "    api_response = requests.get(api_str)\n",
    "    api_response_json = api_response.json()\n",
    "    api_df = pd.DataFrame(api_response_json)\n",
    "    \n",
    "    p = re.compile(' +')\n",
    "    \n",
    "#    tethys_df = primre_data.tethys_dataframe\n",
    "    num_ts_entries = len(api_df)\n",
    "    \n",
    "    match_lst = list()\n",
    "    for i in range(0, num_ts_entries):\n",
    "        i_url = api_df['attachment'][i]\n",
    "        if len(i_url) < 1:\n",
    "            match_lst.append(0)\n",
    "        elif len(i_url) > 0:\n",
    "            match = re.search(p, i_url[0])    # Index the i_url variable because we have a list at this point, and we were previously checking that the list was not empty\n",
    "            if match == None:\n",
    "                match_lst.append(1)\n",
    "            else:\n",
    "                #elif match != None:\n",
    "                match_lst.append(2)\n",
    "    \n",
    "    # assign this information as a column in the original dataframe\n",
    "    api_df['match'] = match_lst\n",
    "    api_df.head(1)\n",
    "    \n",
    "    tethyss_no_attch = api_df[api_df['match']==0]\n",
    "    tethyss_gd_attch = api_df[api_df['match']==1]\n",
    "    tethyss_bd_attch = api_df[api_df['match']==2]\n",
    "    print(f'Number of obs no attch : {len(tethyss_no_attch)}\\nNumber of obs gd attch : {len(tethyss_gd_attch)}\\nNumber of obs bd attch : {len(tethyss_bd_attch)}')\n",
    "    print(f'Number of observations in Tethys :  {num_ts_entries}\\nNumber of observations of matches : {len(tethyss_no_attch) + len(tethyss_gd_attch) + len(tethyss_bd_attch)}')\n",
    "    \n",
    "    print(tethyss_bd_attch['URI'])"
   ]
  },
  {
   "cell_type": "code",
   "execution_count": 13,
   "id": "3583373a-e70b-4900-9e71-a984a80c8753",
   "metadata": {},
   "outputs": [],
   "source": [
    "tethys_m_api = 'https://tethys.pnnl.gov/api/primre_export'\n",
    "tethys_w_api = 'https://tethys.pnnl.gov/api/tethys-wind-document-export'\n",
    "tethys_e_api = 'https://tethys-engineering.pnnl.gov/api/primre_export'"
   ]
  },
  {
   "cell_type": "code",
   "execution_count": 14,
   "id": "5336d7ca-6488-40cb-81fc-f6ef1bce23c5",
   "metadata": {},
   "outputs": [
    {
     "name": "stdout",
     "output_type": "stream",
     "text": [
      "Number of obs no attch : 2173\n",
      "Number of obs gd attch : 2069\n",
      "Number of obs bd attch : 13\n",
      "Number of observations in Tethys :  4255\n",
      "Number of observations of matches : 4255\n",
      "2370       https://tethys.pnnl.gov/node/5744\n",
      "2581       https://tethys.pnnl.gov/node/6531\n",
      "2582       https://tethys.pnnl.gov/node/6533\n",
      "2686       https://tethys.pnnl.gov/node/7195\n",
      "2713       https://tethys.pnnl.gov/node/8211\n",
      "2854      https://tethys.pnnl.gov/node/77442\n",
      "2855      https://tethys.pnnl.gov/node/77636\n",
      "2856      https://tethys.pnnl.gov/node/77637\n",
      "2944     https://tethys.pnnl.gov/node/112518\n",
      "3000     https://tethys.pnnl.gov/node/121849\n",
      "3023     https://tethys.pnnl.gov/node/154322\n",
      "3770    https://tethys.pnnl.gov/node/1760762\n",
      "3893    https://tethys.pnnl.gov/node/2072546\n",
      "Name: URI, dtype: object\n"
     ]
    }
   ],
   "source": [
    "tethyss_qaqc_1_attachment_names(tethys_m_api)"
   ]
  },
  {
   "cell_type": "code",
   "execution_count": 15,
   "id": "9e6a60aa-4742-47b8-8c1b-5cc89ad55e52",
   "metadata": {},
   "outputs": [],
   "source": [
    "#tethyss_qaqc_1_attachment_names(tethys_w_api)"
   ]
  },
  {
   "cell_type": "code",
   "execution_count": 16,
   "id": "d3874e1c-3f6b-4804-86c2-8a73115e759f",
   "metadata": {},
   "outputs": [
    {
     "name": "stdout",
     "output_type": "stream",
     "text": [
      "Number of obs no attch : 5963\n",
      "Number of obs gd attch : 2285\n",
      "Number of obs bd attch : 33\n",
      "Number of observations in Tethys :  8281\n",
      "Number of observations of matches : 8281\n",
      "124       https://tethys-engineering.pnnl.gov/node/140\n",
      "128       https://tethys-engineering.pnnl.gov/node/144\n",
      "214       https://tethys-engineering.pnnl.gov/node/236\n",
      "989      https://tethys-engineering.pnnl.gov/node/1039\n",
      "1430     https://tethys-engineering.pnnl.gov/node/1519\n",
      "1438     https://tethys-engineering.pnnl.gov/node/1528\n",
      "1814     https://tethys-engineering.pnnl.gov/node/2065\n",
      "1886     https://tethys-engineering.pnnl.gov/node/2139\n",
      "1893     https://tethys-engineering.pnnl.gov/node/2147\n",
      "1897     https://tethys-engineering.pnnl.gov/node/2151\n",
      "1900     https://tethys-engineering.pnnl.gov/node/2154\n",
      "2067     https://tethys-engineering.pnnl.gov/node/2328\n",
      "2883     https://tethys-engineering.pnnl.gov/node/3194\n",
      "3266     https://tethys-engineering.pnnl.gov/node/3596\n",
      "3343     https://tethys-engineering.pnnl.gov/node/3676\n",
      "3348     https://tethys-engineering.pnnl.gov/node/3681\n",
      "3350     https://tethys-engineering.pnnl.gov/node/3683\n",
      "3351     https://tethys-engineering.pnnl.gov/node/3684\n",
      "3880     https://tethys-engineering.pnnl.gov/node/4235\n",
      "3889     https://tethys-engineering.pnnl.gov/node/4244\n",
      "3890     https://tethys-engineering.pnnl.gov/node/4245\n",
      "3891     https://tethys-engineering.pnnl.gov/node/4246\n",
      "3893     https://tethys-engineering.pnnl.gov/node/4248\n",
      "3897     https://tethys-engineering.pnnl.gov/node/4252\n",
      "4031     https://tethys-engineering.pnnl.gov/node/4392\n",
      "4033     https://tethys-engineering.pnnl.gov/node/4394\n",
      "4056     https://tethys-engineering.pnnl.gov/node/4417\n",
      "4379     https://tethys-engineering.pnnl.gov/node/4768\n",
      "4618     https://tethys-engineering.pnnl.gov/node/8756\n",
      "4740     https://tethys-engineering.pnnl.gov/node/9299\n",
      "4873     https://tethys-engineering.pnnl.gov/node/9567\n",
      "6989    https://tethys-engineering.pnnl.gov/node/20156\n",
      "7387    https://tethys-engineering.pnnl.gov/node/20721\n",
      "Name: URI, dtype: object\n"
     ]
    }
   ],
   "source": [
    "tethyss_qaqc_1_attachment_names(tethys_e_api)"
   ]
  },
  {
   "cell_type": "code",
   "execution_count": null,
   "id": "f4375fb4-bf18-44e4-84c8-685ed147067b",
   "metadata": {},
   "outputs": [],
   "source": []
  },
  {
   "cell_type": "code",
   "execution_count": null,
   "id": "957084ed-effb-4d60-9563-cb715fc9b24e",
   "metadata": {},
   "outputs": [],
   "source": []
  },
  {
   "cell_type": "code",
   "execution_count": 17,
   "id": "ee166efc-9c49-4eb8-8b96-96b5f70db4f8",
   "metadata": {},
   "outputs": [],
   "source": [
    "api_response = requests.get(tethys_w_api)\n",
    "api_response_json = api_response.json()\n",
    "api_df = pd.DataFrame(api_response_json)"
   ]
  },
  {
   "cell_type": "code",
   "execution_count": 18,
   "id": "a4e8c2a3-fd09-482d-a594-cf18674dcdb1",
   "metadata": {},
   "outputs": [
    {
     "data": {
      "text/html": [
       "<div>\n",
       "<style scoped>\n",
       "    .dataframe tbody tr th:only-of-type {\n",
       "        vertical-align: middle;\n",
       "    }\n",
       "\n",
       "    .dataframe tbody tr th {\n",
       "        vertical-align: top;\n",
       "    }\n",
       "\n",
       "    .dataframe thead th {\n",
       "        text-align: right;\n",
       "    }\n",
       "</style>\n",
       "<table border=\"1\" class=\"dataframe\">\n",
       "  <thead>\n",
       "    <tr style=\"text-align: right;\">\n",
       "      <th></th>\n",
       "      <th>URI</th>\n",
       "      <th>type</th>\n",
       "      <th>landingPage</th>\n",
       "      <th>sourceURL</th>\n",
       "      <th>title</th>\n",
       "      <th>description</th>\n",
       "      <th>author</th>\n",
       "      <th>affiliation</th>\n",
       "      <th>sponsoringOrganization</th>\n",
       "      <th>originationDate</th>\n",
       "      <th>spatial</th>\n",
       "      <th>technologyType</th>\n",
       "      <th>stressor</th>\n",
       "      <th>receptor</th>\n",
       "      <th>modifiedDate</th>\n",
       "    </tr>\n",
       "  </thead>\n",
       "  <tbody>\n",
       "    <tr>\n",
       "      <th>0</th>\n",
       "      <td>https://tethys.pnnl.gov/node/2079493</td>\n",
       "      <td>Document/Report</td>\n",
       "      <td>https://tethys.pnnl.gov/publications/setting-e...</td>\n",
       "      <td>https://publications.jrc.ec.europa.eu/reposito...</td>\n",
       "      <td>Setting EU Threshold Values for impulsive unde...</td>\n",
       "      <td>The purpose of the present document is to give...</td>\n",
       "      <td>[Sigray, P., Andersson, M., André, M., Azzelli...</td>\n",
       "      <td>[European Commission]</td>\n",
       "      <td>[]</td>\n",
       "      <td>2023-05-22</td>\n",
       "      <td></td>\n",
       "      <td>[Wind Energy, Fixed Offshore Wind]</td>\n",
       "      <td>[Noise]</td>\n",
       "      <td>[Ecosystem Processes, Marine Mammals]</td>\n",
       "      <td>2024-07-09 01:41:56</td>\n",
       "    </tr>\n",
       "    <tr>\n",
       "      <th>1</th>\n",
       "      <td>https://tethys.pnnl.gov/node/2079486</td>\n",
       "      <td>Document/Report</td>\n",
       "      <td>https://tethys.pnnl.gov/publications/wind-powe...</td>\n",
       "      <td>https://www.naturvardsverket.se/publikationer/...</td>\n",
       "      <td>Wind power infrastructure and perceived value ...</td>\n",
       "      <td>This project focuses on developing a measureme...</td>\n",
       "      <td>[Prince, S., Chekalina, T., Peters, A.]</td>\n",
       "      <td>[Linnaeus University, Mid Sweden University]</td>\n",
       "      <td>[Swedish Environmental Protection Agency (EPA)...</td>\n",
       "      <td>2024-07-01</td>\n",
       "      <td></td>\n",
       "      <td>[Wind Energy]</td>\n",
       "      <td>[]</td>\n",
       "      <td>[Human Dimensions, Recreation &amp;amp; Tourism, V...</td>\n",
       "      <td>2024-07-03 17:09:36</td>\n",
       "    </tr>\n",
       "    <tr>\n",
       "      <th>2</th>\n",
       "      <td>https://tethys.pnnl.gov/node/2079483</td>\n",
       "      <td>Document/Journal Article</td>\n",
       "      <td>https://tethys.pnnl.gov/publications/regulatio...</td>\n",
       "      <td>https://www.researchgate.net/publication/38118...</td>\n",
       "      <td>Regulations for Bat Protection in Mexico&amp;#039;...</td>\n",
       "      <td>Wind energy development has expanded the faste...</td>\n",
       "      <td>[Uribe, M., Aguilera, J., Villada-Canela, M., ...</td>\n",
       "      <td>[Universidad Autónoma de Baja California (Auto...</td>\n",
       "      <td>[]</td>\n",
       "      <td>2024-06-05</td>\n",
       "      <td>POINT (-102.61554 24.38818)</td>\n",
       "      <td>[Wind Energy, Land-Based Wind]</td>\n",
       "      <td>[]</td>\n",
       "      <td>[Bats, Human Dimensions, Legal &amp;amp; Policy]</td>\n",
       "      <td>2024-07-02 23:50:27</td>\n",
       "    </tr>\n",
       "  </tbody>\n",
       "</table>\n",
       "</div>"
      ],
      "text/plain": [
       "                                    URI                      type  \\\n",
       "0  https://tethys.pnnl.gov/node/2079493           Document/Report   \n",
       "1  https://tethys.pnnl.gov/node/2079486           Document/Report   \n",
       "2  https://tethys.pnnl.gov/node/2079483  Document/Journal Article   \n",
       "\n",
       "                                         landingPage  \\\n",
       "0  https://tethys.pnnl.gov/publications/setting-e...   \n",
       "1  https://tethys.pnnl.gov/publications/wind-powe...   \n",
       "2  https://tethys.pnnl.gov/publications/regulatio...   \n",
       "\n",
       "                                           sourceURL  \\\n",
       "0  https://publications.jrc.ec.europa.eu/reposito...   \n",
       "1  https://www.naturvardsverket.se/publikationer/...   \n",
       "2  https://www.researchgate.net/publication/38118...   \n",
       "\n",
       "                                               title  \\\n",
       "0  Setting EU Threshold Values for impulsive unde...   \n",
       "1  Wind power infrastructure and perceived value ...   \n",
       "2  Regulations for Bat Protection in Mexico&#039;...   \n",
       "\n",
       "                                         description  \\\n",
       "0  The purpose of the present document is to give...   \n",
       "1  This project focuses on developing a measureme...   \n",
       "2  Wind energy development has expanded the faste...   \n",
       "\n",
       "                                              author  \\\n",
       "0  [Sigray, P., Andersson, M., André, M., Azzelli...   \n",
       "1            [Prince, S., Chekalina, T., Peters, A.]   \n",
       "2  [Uribe, M., Aguilera, J., Villada-Canela, M., ...   \n",
       "\n",
       "                                         affiliation  \\\n",
       "0                              [European Commission]   \n",
       "1       [Linnaeus University, Mid Sweden University]   \n",
       "2  [Universidad Autónoma de Baja California (Auto...   \n",
       "\n",
       "                              sponsoringOrganization originationDate  \\\n",
       "0                                                 []      2023-05-22   \n",
       "1  [Swedish Environmental Protection Agency (EPA)...      2024-07-01   \n",
       "2                                                 []      2024-06-05   \n",
       "\n",
       "                       spatial                      technologyType stressor  \\\n",
       "0                               [Wind Energy, Fixed Offshore Wind]  [Noise]   \n",
       "1                                                    [Wind Energy]       []   \n",
       "2  POINT (-102.61554 24.38818)      [Wind Energy, Land-Based Wind]       []   \n",
       "\n",
       "                                            receptor         modifiedDate  \n",
       "0              [Ecosystem Processes, Marine Mammals]  2024-07-09 01:41:56  \n",
       "1  [Human Dimensions, Recreation &amp; Tourism, V...  2024-07-03 17:09:36  \n",
       "2       [Bats, Human Dimensions, Legal &amp; Policy]  2024-07-02 23:50:27  "
      ]
     },
     "execution_count": 18,
     "metadata": {},
     "output_type": "execute_result"
    }
   ],
   "source": [
    "api_df.head(3)"
   ]
  },
  {
   "cell_type": "code",
   "execution_count": null,
   "id": "e71c2de6-b330-4ad3-9d90-c200d6befdf3",
   "metadata": {},
   "outputs": [],
   "source": []
  },
  {
   "cell_type": "code",
   "execution_count": null,
   "id": "5834ef07-a599-43b1-8b5c-95904e13a21b",
   "metadata": {},
   "outputs": [],
   "source": []
  },
  {
   "cell_type": "markdown",
   "id": "7ec99c27-5e27-4098-b789-0782c77d0c53",
   "metadata": {},
   "source": [
    "### All characters"
   ]
  },
  {
   "cell_type": "markdown",
   "id": "12d57c46-ea72-4a4d-9881-0d6365e65f70",
   "metadata": {},
   "source": [
    "For added certainty that the results above account for all entries with possible broken links, I will also create a list of all the unique characters used in all of the file names throughout tethys to allow the QAQC specialists to visually confirm that no other characters will cause problems. If the results of this analysis find that there are other characters that could be problematic found in the attachment names for these entries, these problem characters can be added to the regex in the prior analysis to create a comprehensive approach. "
   ]
  },
  {
   "cell_type": "code",
   "execution_count": 19,
   "id": "06300643-514a-4b3c-8293-dcd310691382",
   "metadata": {},
   "outputs": [],
   "source": [
    "all_chars = ''\n",
    "url_locs = list()\n",
    "for i in range(0, num_t_entries):\n",
    "    i_url = tethys_df['attachment'][i]\n",
    "#    if len(i_url) < 1:\n",
    "#        match_lst.append(0)\n",
    "    if len(i_url) > 0:\n",
    "#        match = re.search(p, i_url[0])    # Index the i_url variable because we have a list at this point, and we were previously checking that the list was not empty\n",
    "        all_chars = all_chars + i_url[0][57:]\n",
    "        url_locs.append(i_url[0][0:57])\n",
    "        # if match == None:\n",
    "        #     match_lst.append(1)\n",
    "        # else:\n",
    "        #     #elif match != None:\n",
    "        #     match_lst.append(2)"
   ]
  },
  {
   "cell_type": "code",
   "execution_count": 20,
   "id": "9bf0b68f-e67f-4f59-980c-f5b87d6d2a4a",
   "metadata": {},
   "outputs": [],
   "source": [
    "a = ''"
   ]
  },
  {
   "cell_type": "code",
   "execution_count": 21,
   "id": "34a8da47-b425-4ffa-ac7d-551ef38947d2",
   "metadata": {},
   "outputs": [],
   "source": [
    "a = a + 'b'"
   ]
  },
  {
   "cell_type": "code",
   "execution_count": 22,
   "id": "2be901a4-68b6-404d-a2a8-1b3c267a34c5",
   "metadata": {},
   "outputs": [],
   "source": [
    "a = a + 'bsdadeeedd'"
   ]
  },
  {
   "cell_type": "code",
   "execution_count": 23,
   "id": "be1f348a-d8bd-4abb-ba08-ea9355ceaead",
   "metadata": {},
   "outputs": [
    {
     "data": {
      "text/plain": [
       "'bbsdadeeedd'"
      ]
     },
     "execution_count": 23,
     "metadata": {},
     "output_type": "execute_result"
    }
   ],
   "source": [
    "a\n"
   ]
  },
  {
   "cell_type": "code",
   "execution_count": 24,
   "id": "a8842f4a-784a-45bf-ad43-edeecd998614",
   "metadata": {},
   "outputs": [
    {
     "data": {
      "text/plain": [
       "['e', 's', 'd', 'b', 'a']"
      ]
     },
     "execution_count": 24,
     "metadata": {},
     "output_type": "execute_result"
    }
   ],
   "source": [
    "list(set(a))"
   ]
  },
  {
   "cell_type": "code",
   "execution_count": 25,
   "id": "8c4d9236-9fe9-42e7-98eb-91a43a87e7ac",
   "metadata": {},
   "outputs": [
    {
     "data": {
      "text/plain": [
       "{'https://tethys.pnnl.gov/sites/default/files/DataTransfera',\n",
       " 'https://tethys.pnnl.gov/sites/default/files/Short-Science',\n",
       " 'https://tethys.pnnl.gov/sites/default/files/publications/',\n",
       " 'https://tethys.pnnl.gov/sites/default/files/summaries/Ada',\n",
       " 'https://tethys.pnnl.gov/sites/default/files/summaries/Ben',\n",
       " 'https://tethys.pnnl.gov/sites/default/files/summaries/Cha',\n",
       " 'https://tethys.pnnl.gov/sites/default/files/summaries/Col',\n",
       " 'https://tethys.pnnl.gov/sites/default/files/summaries/Ele',\n",
       " 'https://tethys.pnnl.gov/sites/default/files/summaries/Ent',\n",
       " 'https://tethys.pnnl.gov/sites/default/files/summaries/Env',\n",
       " 'https://tethys.pnnl.gov/sites/default/files/summaries/MRE',\n",
       " 'https://tethys.pnnl.gov/sites/default/files/summaries/Mar',\n",
       " 'https://tethys.pnnl.gov/sites/default/files/summaries/Ris',\n",
       " 'https://tethys.pnnl.gov/sites/default/files/summaries/Soc',\n",
       " 'https://tethys.pnnl.gov/sites/default/files/summaries/Tet',\n",
       " 'https://tethys.pnnl.gov/sites/default/files/summaries/Und',\n",
       " 'https://tethys.pnnl.gov/sites/default/files/summaries/WRE'}"
      ]
     },
     "execution_count": 25,
     "metadata": {},
     "output_type": "execute_result"
    }
   ],
   "source": [
    "set(url_locs)"
   ]
  },
  {
   "cell_type": "code",
   "execution_count": 26,
   "id": "168efb65-06c0-4961-bc91-62be29391f1a",
   "metadata": {},
   "outputs": [
    {
     "data": {
      "text/plain": [
       "'BPS_EMP_092016.pdfMcInnes_et_al_2018.pdfEMEC-AK_EnvironmentalMonitoringReport.pdfMcIntyre-2016-EMF-Sturgeon.pdfEMEC_2019.PDFmarine_institute-spiddal-environmental_report.pdfOneaetal2019.pdfPoweringTheBlueEconomy_73355-v2.pdfWhiting-et-al-2019.pdfenergies-2019.pdfJohnson_Pride_2010.pdfSnyderetal2019.pdfSmith_et_al-2019-Ecology_and_Evolution.pdfLusseau_et_al_2012.pdfAshley_et_al_2014.pdfemblingetal.pdfLepperetal.pdfNERC_9.pdfNERC_2016.pdfNERC_2019.pdfFreeman_et_al_2013.pdfBruch_et_al_1994.pdfCarr2'"
      ]
     },
     "execution_count": 26,
     "metadata": {},
     "output_type": "execute_result"
    }
   ],
   "source": [
    "all_chars[:500]"
   ]
  },
  {
   "cell_type": "code",
   "execution_count": 27,
   "id": "b07de3f1-6b84-4c74-835a-dec55396b57b",
   "metadata": {},
   "outputs": [
    {
     "data": {
      "text/plain": [
       "{' ',\n",
       " \"'\",\n",
       " '(',\n",
       " ')',\n",
       " '-',\n",
       " '.',\n",
       " '0',\n",
       " '1',\n",
       " '2',\n",
       " '3',\n",
       " '4',\n",
       " '5',\n",
       " '6',\n",
       " '7',\n",
       " '8',\n",
       " '9',\n",
       " 'A',\n",
       " 'B',\n",
       " 'C',\n",
       " 'D',\n",
       " 'E',\n",
       " 'F',\n",
       " 'G',\n",
       " 'H',\n",
       " 'I',\n",
       " 'J',\n",
       " 'K',\n",
       " 'L',\n",
       " 'M',\n",
       " 'N',\n",
       " 'O',\n",
       " 'P',\n",
       " 'Q',\n",
       " 'R',\n",
       " 'S',\n",
       " 'T',\n",
       " 'U',\n",
       " 'V',\n",
       " 'W',\n",
       " 'X',\n",
       " 'Y',\n",
       " 'Z',\n",
       " '_',\n",
       " 'a',\n",
       " 'b',\n",
       " 'c',\n",
       " 'd',\n",
       " 'e',\n",
       " 'f',\n",
       " 'g',\n",
       " 'h',\n",
       " 'i',\n",
       " 'j',\n",
       " 'k',\n",
       " 'l',\n",
       " 'm',\n",
       " 'n',\n",
       " 'o',\n",
       " 'p',\n",
       " 'q',\n",
       " 'r',\n",
       " 's',\n",
       " 't',\n",
       " 'u',\n",
       " 'v',\n",
       " 'w',\n",
       " 'x',\n",
       " 'y',\n",
       " 'z',\n",
       " 'Ç',\n",
       " 'Ü',\n",
       " 'é',\n",
       " 'í',\n",
       " 'ć',\n",
       " '“',\n",
       " '”'}"
      ]
     },
     "execution_count": 27,
     "metadata": {},
     "output_type": "execute_result"
    }
   ],
   "source": [
    "set(list(all_chars))"
   ]
  },
  {
   "cell_type": "markdown",
   "id": "76a6fa55-e351-44aa-b22a-e896ef3e80f3",
   "metadata": {},
   "source": [
    "### New Feature: Accounting for Special Characters"
   ]
  },
  {
   "cell_type": "markdown",
   "id": "9cfba808-d126-4370-abee-e9f67b4fa0f2",
   "metadata": {},
   "source": [
    "For this section of the notebook, I will change the logic of the previously developed reporting function to include special characters besides spaces. To do this, I will compose regex to match based on the inclusion of characters other alpha-numeric characters, hyphen (-) and underscore (_).\n",
    "\n",
    "Unlike the prior method, where a match was determined by connection with a particular character (space), this new method will match based on the existence of a character outside a particular set (a-z, A-Z, 0-9, -, _)."
   ]
  },
  {
   "cell_type": "code",
   "execution_count": 28,
   "id": "06fff714-7723-453d-87ad-55165f20f9eb",
   "metadata": {},
   "outputs": [
    {
     "data": {
      "text/plain": [
       "'ICES Report 344.pdf'"
      ]
     },
     "execution_count": 28,
     "metadata": {},
     "output_type": "execute_result"
    }
   ],
   "source": [
    "primre_data.tethys_dataframe_raw['attachment'][3000][0][57:]"
   ]
  },
  {
   "cell_type": "markdown",
   "id": "ac0dbc5b-fc14-4c45-a2ce-4af99fe0ea78",
   "metadata": {},
   "source": [
    "Necessary regex for determining if there is a space in the string. \\/"
   ]
  },
  {
   "cell_type": "code",
   "execution_count": 29,
   "id": "af46883a-d846-44cb-a80d-1f0eea59519a",
   "metadata": {},
   "outputs": [
    {
     "data": {
      "text/plain": [
       "re.compile(r'[^a-zA-Z0-9_]', re.UNICODE)"
      ]
     },
     "execution_count": 29,
     "metadata": {},
     "output_type": "execute_result"
    }
   ],
   "source": [
    "p = re.compile('[^a-zA-Z0-9_]')\n",
    "p"
   ]
  },
  {
   "cell_type": "markdown",
   "id": "b95d94cc-ae5a-4077-ac62-a5f6b60aaf91",
   "metadata": {},
   "source": [
    "pdf will match the tex [a-z] every time.  So if you do not remove the file extension for each iteration, it will not work because we are trying to do \"outside the set is a match\" paradigm. Same with the \".\" in the file extension. If we want to match \".\" because it is very bad practice to have a period in a file name, then we need to make sure that the extension periods are removed so that they are not creating false positives."
   ]
  },
  {
   "cell_type": "code",
   "execution_count": 30,
   "id": "d6be4c73-6eca-48f1-bef1-15487af6f69a",
   "metadata": {},
   "outputs": [
    {
     "name": "stdout",
     "output_type": "stream",
     "text": [
      "<re.Match object; span=(14, 15), match='.'>\n",
      "<re.Match object; span=(4, 5), match=' '>\n"
     ]
    }
   ],
   "source": [
    "a = 'BPS_EMP_092016.pdf'\n",
    "b = 'ICES Report 344'\n",
    "\n",
    "print(re.search(p, a))\n",
    "print(re.search(p, b))"
   ]
  },
  {
   "cell_type": "markdown",
   "id": "065c5a4e-c547-4001-981a-e70294ebe005",
   "metadata": {},
   "source": [
    "#### Additional Slicing!"
   ]
  },
  {
   "cell_type": "code",
   "execution_count": 31,
   "id": "56d322c6-71e3-453b-9de3-20af0fb883c9",
   "metadata": {},
   "outputs": [
    {
     "data": {
      "text/plain": [
       "'ICES Report 344.pdf'"
      ]
     },
     "execution_count": 31,
     "metadata": {},
     "output_type": "execute_result"
    }
   ],
   "source": [
    "a = primre_data.tethys_dataframe_raw['attachment'][3000][0][57:]\n",
    "a"
   ]
  },
  {
   "cell_type": "code",
   "execution_count": 32,
   "id": "d100ccce-2bf0-4786-b274-1a47c7d7b05f",
   "metadata": {},
   "outputs": [
    {
     "data": {
      "text/plain": [
       "'ICES Report 344'"
      ]
     },
     "execution_count": 32,
     "metadata": {},
     "output_type": "execute_result"
    }
   ],
   "source": [
    "a = a[:-4]\n",
    "a"
   ]
  },
  {
   "cell_type": "code",
   "execution_count": 33,
   "id": "d12d3666-6a8b-4cc3-a0bb-3300f607b255",
   "metadata": {},
   "outputs": [
    {
     "data": {
      "text/plain": [
       "'BPS_EMP_092016'"
      ]
     },
     "execution_count": 33,
     "metadata": {},
     "output_type": "execute_result"
    }
   ],
   "source": [
    "b = primre_data.tethys_dataframe_raw['attachment'][1][0][57:]\n",
    "b = b[:-4]\n",
    "b"
   ]
  },
  {
   "cell_type": "code",
   "execution_count": 34,
   "id": "32ae25f9-a8a7-4f86-82e4-b8b7fcdec673",
   "metadata": {},
   "outputs": [
    {
     "name": "stdout",
     "output_type": "stream",
     "text": [
      "<re.Match object; span=(4, 5), match=' '>\n",
      "None\n"
     ]
    }
   ],
   "source": [
    "print(re.search(p, a))\n",
    "print(re.search(p, b))"
   ]
  },
  {
   "cell_type": "markdown",
   "id": "fb1c9cd1-fb13-40c7-a0ee-dfe6fe08cb7d",
   "metadata": {},
   "source": [
    "Beyond the slicing, I need to have a way to handle the different file locations besides \"publication\" that does not rely entirely on slicing. Otherwise I will not be able to handle the 8ish special cases."
   ]
  },
  {
   "cell_type": "markdown",
   "id": "5f9bfe76-776c-4247-8a3a-25ceea0670e2",
   "metadata": {},
   "source": [
    "#### Handling File Locations\n",
    "\n",
    "To handle the different file locations of the attachments, I will need to decompose the string slicing, and read the substring to understand its contents before slicing to isolate the file names. Below.\n",
    "\n",
    "I will also need to change the approach to using regex. Instead of having a standard slice (everything after the 57th index) I need to change the logic to \"everything after the last /\". I will likewise need to change the logic that I have used for splicing the end to regex, as some file extensions are 4 characters long not 3. To handle this and remove the possibility that an errant \".\" is included in the string of the attachment name, I need to have the regex account for that."
   ]
  },
  {
   "cell_type": "code",
   "execution_count": 35,
   "id": "76e7f9cb-910f-47a0-a363-cd86f575ef1b",
   "metadata": {},
   "outputs": [
    {
     "data": {
      "text/plain": [
       "0                                                      []\n",
       "1       [https://tethys.pnnl.gov/sites/default/files/p...\n",
       "2                                                      []\n",
       "3                                                      []\n",
       "4       [https://tethys.pnnl.gov/sites/default/files/p...\n",
       "                              ...                        \n",
       "4250    [https://tethys.pnnl.gov/sites/default/files/p...\n",
       "4251    [https://tethys.pnnl.gov/sites/default/files/p...\n",
       "4252    [https://tethys.pnnl.gov/sites/default/files/p...\n",
       "4253    [https://tethys.pnnl.gov/sites/default/files/p...\n",
       "4254    [https://tethys.pnnl.gov/sites/default/files/p...\n",
       "Name: attachment, Length: 4255, dtype: object"
      ]
     },
     "execution_count": 35,
     "metadata": {},
     "output_type": "execute_result"
    }
   ],
   "source": [
    "primre_data.tethys_dataframe_raw['attachment']"
   ]
  },
  {
   "cell_type": "code",
   "execution_count": 36,
   "id": "c069de9c-c720-4f7a-a85b-8e7f0b991401",
   "metadata": {},
   "outputs": [
    {
     "data": {
      "text/plain": [
       "'https://tethys.pnnl.gov/sites/default/files/publications/ICES Report 344.pdf'"
      ]
     },
     "execution_count": 36,
     "metadata": {},
     "output_type": "execute_result"
    }
   ],
   "source": [
    "test_string = primre_data.tethys_dataframe_raw['attachment'][3000][0]\n",
    "test_string"
   ]
  },
  {
   "cell_type": "code",
   "execution_count": 37,
   "id": "9915fe6d-bf25-4e36-938a-ff1b0b43e440",
   "metadata": {},
   "outputs": [
    {
     "data": {
      "text/plain": [
       "['Words', 'words', 'words', '']"
      ]
     },
     "execution_count": 37,
     "metadata": {},
     "output_type": "execute_result"
    }
   ],
   "source": [
    "# From the dccs\n",
    "re.split(r'\\W+', 'Words, words, words.')"
   ]
  },
  {
   "cell_type": "code",
   "execution_count": 38,
   "id": "bddde868-0bc0-4ae0-baeb-6e30ff5b54c6",
   "metadata": {},
   "outputs": [
    {
     "data": {
      "text/plain": [
       "['Words', ', ', 'words', ', ', 'words', '.', '']"
      ]
     },
     "execution_count": 38,
     "metadata": {},
     "output_type": "execute_result"
    }
   ],
   "source": [
    "re.split(r'(\\W+)', 'Words, words, words.')"
   ]
  },
  {
   "cell_type": "code",
   "execution_count": 39,
   "id": "622cd4e1-fbf2-4231-8199-16813fcb589f",
   "metadata": {},
   "outputs": [
    {
     "data": {
      "text/plain": [
       "['https:',\n",
       " '',\n",
       " 'tethys',\n",
       " 'pnnl',\n",
       " 'gov',\n",
       " 'sites',\n",
       " 'default',\n",
       " 'files',\n",
       " 'publications',\n",
       " 'ICES Report 344',\n",
       " 'pdf']"
      ]
     },
     "execution_count": 39,
     "metadata": {},
     "output_type": "execute_result"
    }
   ],
   "source": [
    "test_string_lst = re.split(r'/|\\.', test_string)\n",
    "test_string_lst"
   ]
  },
  {
   "cell_type": "code",
   "execution_count": 40,
   "id": "7e2881c0-ed31-459e-88b9-bf5a133cd5cd",
   "metadata": {},
   "outputs": [],
   "source": [
    "tethys_df = primre_data.tethys_dataframe_raw\n",
    "tethys_df_len = len(tethys_df)\n",
    "\n",
    "locations = list()\n",
    "for i in range(0, tethys_df_len):\n",
    "    if len(primre_data.tethys_dataframe_raw['attachment'][i]) > 0:  # Checking that there is an attachment for the entry\n",
    "        \n",
    "        test_string = primre_data.tethys_dataframe_raw['attachment'][i][0]    \n",
    "        test_string_lst = re.split(r'/|\\.', test_string)\n",
    "    \n",
    "        location = list()\n",
    "        test_string_lst_len = len(test_string_lst)\n",
    "        ticker = 0                                       # Tracks the index of the loop in relation to the dir\n",
    "        for j in range(0, test_string_lst_len-1):        # By looping one less than len, we exclude file extension\n",
    "            if test_string_lst[j] == 'files':\n",
    "                ticker += 1\n",
    "                \n",
    "            if ticker > 0:\n",
    "                location.append(test_string_lst[j])\n",
    "\n",
    "            if (ticker == 1) & (test_string_lst_len < 11): # If the location is 'files' only, this will preserve df structure. All sub-lists will have 3 items.\n",
    "                location.append('')\n",
    "    \n",
    "        locations.append(location)\n",
    "        \n",
    "\n",
    "\n",
    "    "
   ]
  },
  {
   "cell_type": "code",
   "execution_count": 41,
   "id": "bf337c32-0661-4306-92d3-53223ef825eb",
   "metadata": {},
   "outputs": [
    {
     "data": {
      "text/html": [
       "<div>\n",
       "<style scoped>\n",
       "    .dataframe tbody tr th:only-of-type {\n",
       "        vertical-align: middle;\n",
       "    }\n",
       "\n",
       "    .dataframe tbody tr th {\n",
       "        vertical-align: top;\n",
       "    }\n",
       "\n",
       "    .dataframe thead th {\n",
       "        text-align: right;\n",
       "    }\n",
       "</style>\n",
       "<table border=\"1\" class=\"dataframe\">\n",
       "  <thead>\n",
       "    <tr style=\"text-align: right;\">\n",
       "      <th></th>\n",
       "      <th>0</th>\n",
       "      <th>1</th>\n",
       "      <th>2</th>\n",
       "      <th>3</th>\n",
       "      <th>4</th>\n",
       "      <th>5</th>\n",
       "    </tr>\n",
       "  </thead>\n",
       "  <tbody>\n",
       "    <tr>\n",
       "      <th>0</th>\n",
       "      <td>files</td>\n",
       "      <td>publications</td>\n",
       "      <td>BPS_EMP_092016</td>\n",
       "      <td>None</td>\n",
       "      <td>None</td>\n",
       "      <td>None</td>\n",
       "    </tr>\n",
       "    <tr>\n",
       "      <th>1</th>\n",
       "      <td>files</td>\n",
       "      <td>publications</td>\n",
       "      <td>McInnes_et_al_2018</td>\n",
       "      <td>None</td>\n",
       "      <td>None</td>\n",
       "      <td>None</td>\n",
       "    </tr>\n",
       "    <tr>\n",
       "      <th>2</th>\n",
       "      <td>files</td>\n",
       "      <td>publications</td>\n",
       "      <td>EMEC-AK_EnvironmentalMonitoringReport</td>\n",
       "      <td>None</td>\n",
       "      <td>None</td>\n",
       "      <td>None</td>\n",
       "    </tr>\n",
       "    <tr>\n",
       "      <th>3</th>\n",
       "      <td>files</td>\n",
       "      <td>publications</td>\n",
       "      <td>McIntyre-2016-EMF-Sturgeon</td>\n",
       "      <td>None</td>\n",
       "      <td>None</td>\n",
       "      <td>None</td>\n",
       "    </tr>\n",
       "    <tr>\n",
       "      <th>4</th>\n",
       "      <td>files</td>\n",
       "      <td>publications</td>\n",
       "      <td>EMEC_2019</td>\n",
       "      <td>None</td>\n",
       "      <td>None</td>\n",
       "      <td>None</td>\n",
       "    </tr>\n",
       "    <tr>\n",
       "      <th>...</th>\n",
       "      <td>...</td>\n",
       "      <td>...</td>\n",
       "      <td>...</td>\n",
       "      <td>...</td>\n",
       "      <td>...</td>\n",
       "      <td>...</td>\n",
       "    </tr>\n",
       "    <tr>\n",
       "      <th>2077</th>\n",
       "      <td>files</td>\n",
       "      <td>publications</td>\n",
       "      <td>Marine-Renewable-Report-final</td>\n",
       "      <td>None</td>\n",
       "      <td>None</td>\n",
       "      <td>None</td>\n",
       "    </tr>\n",
       "    <tr>\n",
       "      <th>2078</th>\n",
       "      <td>files</td>\n",
       "      <td>publications</td>\n",
       "      <td>Moradi-Ilinca-2024</td>\n",
       "      <td>None</td>\n",
       "      <td>None</td>\n",
       "      <td>None</td>\n",
       "    </tr>\n",
       "    <tr>\n",
       "      <th>2079</th>\n",
       "      <td>files</td>\n",
       "      <td>publications</td>\n",
       "      <td>Country_Specific_Guidance_Document-Mexico_final_6</td>\n",
       "      <td>24</td>\n",
       "      <td>24</td>\n",
       "      <td>None</td>\n",
       "    </tr>\n",
       "    <tr>\n",
       "      <th>2080</th>\n",
       "      <td>files</td>\n",
       "      <td>publications</td>\n",
       "      <td>Bianchietals2024</td>\n",
       "      <td>None</td>\n",
       "      <td>None</td>\n",
       "      <td>None</td>\n",
       "    </tr>\n",
       "    <tr>\n",
       "      <th>2081</th>\n",
       "      <td>files</td>\n",
       "      <td>publications</td>\n",
       "      <td>RezaeiJavadi2024</td>\n",
       "      <td>None</td>\n",
       "      <td>None</td>\n",
       "      <td>None</td>\n",
       "    </tr>\n",
       "  </tbody>\n",
       "</table>\n",
       "<p>2082 rows × 6 columns</p>\n",
       "</div>"
      ],
      "text/plain": [
       "          0             1                                                  2  \\\n",
       "0     files  publications                                     BPS_EMP_092016   \n",
       "1     files  publications                                 McInnes_et_al_2018   \n",
       "2     files  publications              EMEC-AK_EnvironmentalMonitoringReport   \n",
       "3     files  publications                         McIntyre-2016-EMF-Sturgeon   \n",
       "4     files  publications                                          EMEC_2019   \n",
       "...     ...           ...                                                ...   \n",
       "2077  files  publications                      Marine-Renewable-Report-final   \n",
       "2078  files  publications                                 Moradi-Ilinca-2024   \n",
       "2079  files  publications  Country_Specific_Guidance_Document-Mexico_final_6   \n",
       "2080  files  publications                                   Bianchietals2024   \n",
       "2081  files  publications                                   RezaeiJavadi2024   \n",
       "\n",
       "         3     4     5  \n",
       "0     None  None  None  \n",
       "1     None  None  None  \n",
       "2     None  None  None  \n",
       "3     None  None  None  \n",
       "4     None  None  None  \n",
       "...    ...   ...   ...  \n",
       "2077  None  None  None  \n",
       "2078  None  None  None  \n",
       "2079    24    24  None  \n",
       "2080  None  None  None  \n",
       "2081  None  None  None  \n",
       "\n",
       "[2082 rows x 6 columns]"
      ]
     },
     "execution_count": 41,
     "metadata": {},
     "output_type": "execute_result"
    }
   ],
   "source": [
    "#a = pd.DataFrame(locations, columns=['1', '2', '3', '4', '5', '6'])\n",
    "a = pd.DataFrame(locations)\n",
    "a"
   ]
  },
  {
   "cell_type": "code",
   "execution_count": 42,
   "id": "c7baf5e1-6d90-49b3-9344-1cbdb35a8162",
   "metadata": {},
   "outputs": [],
   "source": [
    "b = a[a[3]=='19']"
   ]
  },
  {
   "cell_type": "code",
   "execution_count": 43,
   "id": "60dfabe6-7e0b-4217-8d3d-3d37d90479f2",
   "metadata": {},
   "outputs": [
    {
     "data": {
      "text/plain": [
       "2075    False\n",
       "Name: 5, dtype: bool"
      ]
     },
     "execution_count": 43,
     "metadata": {},
     "output_type": "execute_result"
    }
   ],
   "source": [
    "b[5].notnull()"
   ]
  },
  {
   "cell_type": "code",
   "execution_count": 44,
   "id": "cc74a108-beea-4f0f-86a8-425c1dd42af5",
   "metadata": {},
   "outputs": [
    {
     "data": {
      "text/plain": [
       "array(['24'], dtype=object)"
      ]
     },
     "execution_count": 44,
     "metadata": {},
     "output_type": "execute_result"
    }
   ],
   "source": [
    "b[4].unique()"
   ]
  },
  {
   "cell_type": "raw",
   "id": "cab5b8b5-3ab8-4fce-b961-37ffb0f0161e",
   "metadata": {},
   "source": [
    "xtrain = df.loc[df['Survive'].notnull(), ['Age','Fare', 'Group_Size','deck', 'Pclass', 'Title' ]]"
   ]
  },
  {
   "cell_type": "code",
   "execution_count": 45,
   "id": "0b087db9-7101-4f27-858a-e30cbf5f475f",
   "metadata": {},
   "outputs": [
    {
     "data": {
      "text/html": [
       "<div>\n",
       "<style scoped>\n",
       "    .dataframe tbody tr th:only-of-type {\n",
       "        vertical-align: middle;\n",
       "    }\n",
       "\n",
       "    .dataframe tbody tr th {\n",
       "        vertical-align: top;\n",
       "    }\n",
       "\n",
       "    .dataframe thead th {\n",
       "        text-align: right;\n",
       "    }\n",
       "</style>\n",
       "<table border=\"1\" class=\"dataframe\">\n",
       "  <thead>\n",
       "    <tr style=\"text-align: right;\">\n",
       "      <th></th>\n",
       "      <th>0</th>\n",
       "      <th>1</th>\n",
       "      <th>2</th>\n",
       "      <th>3</th>\n",
       "      <th>4</th>\n",
       "      <th>5</th>\n",
       "    </tr>\n",
       "  </thead>\n",
       "  <tbody>\n",
       "    <tr>\n",
       "      <th>2075</th>\n",
       "      <td>files</td>\n",
       "      <td>publications</td>\n",
       "      <td>Country_Specific_Guidance_Document-Portugal_fi...</td>\n",
       "      <td>19</td>\n",
       "      <td>24</td>\n",
       "      <td>None</td>\n",
       "    </tr>\n",
       "  </tbody>\n",
       "</table>\n",
       "</div>"
      ],
      "text/plain": [
       "          0             1                                                  2  \\\n",
       "2075  files  publications  Country_Specific_Guidance_Document-Portugal_fi...   \n",
       "\n",
       "       3   4     5  \n",
       "2075  19  24  None  "
      ]
     },
     "execution_count": 45,
     "metadata": {},
     "output_type": "execute_result"
    }
   ],
   "source": [
    "b[b[3].notnull()]"
   ]
  },
  {
   "cell_type": "code",
   "execution_count": 46,
   "id": "87059b3d-f589-4e56-9fb7-e1e96d1fa40c",
   "metadata": {},
   "outputs": [
    {
     "data": {
      "text/html": [
       "<div>\n",
       "<style scoped>\n",
       "    .dataframe tbody tr th:only-of-type {\n",
       "        vertical-align: middle;\n",
       "    }\n",
       "\n",
       "    .dataframe tbody tr th {\n",
       "        vertical-align: top;\n",
       "    }\n",
       "\n",
       "    .dataframe thead th {\n",
       "        text-align: right;\n",
       "    }\n",
       "</style>\n",
       "<table border=\"1\" class=\"dataframe\">\n",
       "  <thead>\n",
       "    <tr style=\"text-align: right;\">\n",
       "      <th></th>\n",
       "      <th>0</th>\n",
       "      <th>1</th>\n",
       "      <th>2</th>\n",
       "      <th>3</th>\n",
       "      <th>4</th>\n",
       "      <th>5</th>\n",
       "    </tr>\n",
       "  </thead>\n",
       "  <tbody>\n",
       "    <tr>\n",
       "      <th>2075</th>\n",
       "      <td>files</td>\n",
       "      <td>publications</td>\n",
       "      <td>Country_Specific_Guidance_Document-Portugal_fi...</td>\n",
       "      <td>19</td>\n",
       "      <td>24</td>\n",
       "      <td>None</td>\n",
       "    </tr>\n",
       "  </tbody>\n",
       "</table>\n",
       "</div>"
      ],
      "text/plain": [
       "          0             1                                                  2  \\\n",
       "2075  files  publications  Country_Specific_Guidance_Document-Portugal_fi...   \n",
       "\n",
       "       3   4     5  \n",
       "2075  19  24  None  "
      ]
     },
     "execution_count": 46,
     "metadata": {},
     "output_type": "execute_result"
    }
   ],
   "source": [
    "b"
   ]
  },
  {
   "cell_type": "code",
   "execution_count": 47,
   "id": "218de3de-671e-437e-b013-2078a4d8d98c",
   "metadata": {},
   "outputs": [
    {
     "data": {
      "text/html": [
       "<div>\n",
       "<style scoped>\n",
       "    .dataframe tbody tr th:only-of-type {\n",
       "        vertical-align: middle;\n",
       "    }\n",
       "\n",
       "    .dataframe tbody tr th {\n",
       "        vertical-align: top;\n",
       "    }\n",
       "\n",
       "    .dataframe thead th {\n",
       "        text-align: right;\n",
       "    }\n",
       "</style>\n",
       "<table border=\"1\" class=\"dataframe\">\n",
       "  <thead>\n",
       "    <tr style=\"text-align: right;\">\n",
       "      <th></th>\n",
       "      <th>0</th>\n",
       "      <th>1</th>\n",
       "      <th>2</th>\n",
       "      <th>3</th>\n",
       "      <th>4</th>\n",
       "      <th>5</th>\n",
       "    </tr>\n",
       "  </thead>\n",
       "  <tbody>\n",
       "    <tr>\n",
       "      <th>164</th>\n",
       "      <td>files</td>\n",
       "      <td>publications</td>\n",
       "      <td>Elliot-et-al-2019</td>\n",
       "      <td>pdf</td>\n",
       "      <td>None</td>\n",
       "      <td>None</td>\n",
       "    </tr>\n",
       "    <tr>\n",
       "      <th>264</th>\n",
       "      <td>files</td>\n",
       "      <td>publications</td>\n",
       "      <td>D3</td>\n",
       "      <td>1_Inventory_of_Environmental_Impact_Monitoring...</td>\n",
       "      <td>None</td>\n",
       "      <td>None</td>\n",
       "    </tr>\n",
       "    <tr>\n",
       "      <th>266</th>\n",
       "      <td>files</td>\n",
       "      <td>publications</td>\n",
       "      <td>D2</td>\n",
       "      <td>1_Catalogue_of_Wave_Energy_Test_Centres</td>\n",
       "      <td>None</td>\n",
       "      <td>None</td>\n",
       "    </tr>\n",
       "    <tr>\n",
       "      <th>280</th>\n",
       "      <td>files</td>\n",
       "      <td>publications</td>\n",
       "      <td>MARINET-D4</td>\n",
       "      <td>17</td>\n",
       "      <td>None</td>\n",
       "      <td>None</td>\n",
       "    </tr>\n",
       "    <tr>\n",
       "      <th>281</th>\n",
       "      <td>files</td>\n",
       "      <td>publications</td>\n",
       "      <td>MARINET-D4</td>\n",
       "      <td>13</td>\n",
       "      <td>None</td>\n",
       "      <td>None</td>\n",
       "    </tr>\n",
       "    <tr>\n",
       "      <th>...</th>\n",
       "      <td>...</td>\n",
       "      <td>...</td>\n",
       "      <td>...</td>\n",
       "      <td>...</td>\n",
       "      <td>...</td>\n",
       "      <td>...</td>\n",
       "    </tr>\n",
       "    <tr>\n",
       "      <th>2013</th>\n",
       "      <td>files</td>\n",
       "      <td>publications</td>\n",
       "      <td>IMEJPaper_12</td>\n",
       "      <td>14</td>\n",
       "      <td>2023_final</td>\n",
       "      <td>None</td>\n",
       "    </tr>\n",
       "    <tr>\n",
       "      <th>2043</th>\n",
       "      <td>files</td>\n",
       "      <td>publications</td>\n",
       "      <td>Deliverable-7</td>\n",
       "      <td>4-Education-and-Public-Engagement-Framework-fo...</td>\n",
       "      <td>None</td>\n",
       "      <td>None</td>\n",
       "    </tr>\n",
       "    <tr>\n",
       "      <th>2073</th>\n",
       "      <td>files</td>\n",
       "      <td>publications</td>\n",
       "      <td>Country_Specific_Guidance_Document-Australia_f...</td>\n",
       "      <td>6</td>\n",
       "      <td>24</td>\n",
       "      <td>None</td>\n",
       "    </tr>\n",
       "    <tr>\n",
       "      <th>2075</th>\n",
       "      <td>files</td>\n",
       "      <td>publications</td>\n",
       "      <td>Country_Specific_Guidance_Document-Portugal_fi...</td>\n",
       "      <td>19</td>\n",
       "      <td>24</td>\n",
       "      <td>None</td>\n",
       "    </tr>\n",
       "    <tr>\n",
       "      <th>2079</th>\n",
       "      <td>files</td>\n",
       "      <td>publications</td>\n",
       "      <td>Country_Specific_Guidance_Document-Mexico_final_6</td>\n",
       "      <td>24</td>\n",
       "      <td>24</td>\n",
       "      <td>None</td>\n",
       "    </tr>\n",
       "  </tbody>\n",
       "</table>\n",
       "<p>77 rows × 6 columns</p>\n",
       "</div>"
      ],
      "text/plain": [
       "          0             1                                                  2  \\\n",
       "164   files  publications                                  Elliot-et-al-2019   \n",
       "264   files  publications                                                 D3   \n",
       "266   files  publications                                                 D2   \n",
       "280   files  publications                                         MARINET-D4   \n",
       "281   files  publications                                         MARINET-D4   \n",
       "...     ...           ...                                                ...   \n",
       "2013  files  publications                                       IMEJPaper_12   \n",
       "2043  files  publications                                      Deliverable-7   \n",
       "2073  files  publications  Country_Specific_Guidance_Document-Australia_f...   \n",
       "2075  files  publications  Country_Specific_Guidance_Document-Portugal_fi...   \n",
       "2079  files  publications  Country_Specific_Guidance_Document-Mexico_final_6   \n",
       "\n",
       "                                                      3           4     5  \n",
       "164                                                 pdf        None  None  \n",
       "264   1_Inventory_of_Environmental_Impact_Monitoring...        None  None  \n",
       "266             1_Catalogue_of_Wave_Energy_Test_Centres        None  None  \n",
       "280                                                  17        None  None  \n",
       "281                                                  13        None  None  \n",
       "...                                                 ...         ...   ...  \n",
       "2013                                                 14  2023_final  None  \n",
       "2043  4-Education-and-Public-Engagement-Framework-fo...        None  None  \n",
       "2073                                                  6          24  None  \n",
       "2075                                                 19          24  None  \n",
       "2079                                                 24          24  None  \n",
       "\n",
       "[77 rows x 6 columns]"
      ]
     },
     "execution_count": 47,
     "metadata": {},
     "output_type": "execute_result"
    }
   ],
   "source": [
    "a.loc[a[3].notnull()]"
   ]
  },
  {
   "cell_type": "code",
   "execution_count": 48,
   "id": "a595d766-ead6-48dc-be69-6ed09d79ba05",
   "metadata": {},
   "outputs": [
    {
     "name": "stdout",
     "output_type": "stream",
     "text": [
      "True\n"
     ]
    }
   ],
   "source": [
    "nulls_lst = list(a[5].notnull())\n",
    "\n",
    "for i in nulls_lst:\n",
    "    if i == True:\n",
    "        print(i)"
   ]
  },
  {
   "cell_type": "markdown",
   "id": "f9b53d99-487e-4c4b-ac30-b2c69f969498",
   "metadata": {},
   "source": [
    "### Changing Gears"
   ]
  },
  {
   "cell_type": "markdown",
   "id": "158b1608-4cef-467c-aa03-61ffb579ce77",
   "metadata": {},
   "source": [
    "As we can see from the above code, my second plan - to use \"/\" and \".\" as delimeters to isolate the attachment file name, is a poor direction because it makes the faulty assumption that these characters are not included in the attached file's name. From the code block directly preceeding this section, we can see that one entry has an attachment whose file name has 3 or more periods!\n",
    "\n",
    "After encountering these issues with using delimiters, especially with the period, I find it necessary to change the approach of this analysis. During my meeting with Jonathan on 7/5/24, we came to the agreement that I will need to use the path of the file locations in a stagnant way, and possibly run a second analysis/qaqc test to validate that all actual file locations of the attachments are accounted for during this test (or, in case there are unexpected or new file locations that appear, this could help qaqc to diagnose/process improvement the problem)."
   ]
  },
  {
   "cell_type": "markdown",
   "id": "29c63617-0c91-4f7f-923a-e319f34c038e",
   "metadata": {},
   "source": [
    "#### Roadmap"
   ]
  },
  {
   "cell_type": "markdown",
   "id": "6fa37fc8-7ee2-4628-912b-468dc09b632c",
   "metadata": {},
   "source": [
    "What must be done? In what order?\n",
    "\n",
    "1. Enumerate supported file locations, file extensions, characters\n",
    "2. Create working regex logic, and assocaited funciton(s), to correctly isolate faulty entries\n",
    "3. Apply the test to Tethys, Tethys Wind, and Tethys Engineering"
   ]
  },
  {
   "cell_type": "markdown",
   "id": "6a4314d1-d004-4587-afa3-74a7225ae57f",
   "metadata": {},
   "source": [
    "**1. Enumerate supported locations, extensions, characters**"
   ]
  },
  {
   "cell_type": "code",
   "execution_count": 49,
   "id": "4fe568f9-c7ee-4278-aa2a-2f9fc1f0ec5f",
   "metadata": {},
   "outputs": [
    {
     "data": {
      "text/plain": [
       "{'https://tethys.pnnl.gov/sites/default/files/DataTransfera',\n",
       " 'https://tethys.pnnl.gov/sites/default/files/Short-Science',\n",
       " 'https://tethys.pnnl.gov/sites/default/files/publications/',\n",
       " 'https://tethys.pnnl.gov/sites/default/files/summaries/Ada',\n",
       " 'https://tethys.pnnl.gov/sites/default/files/summaries/Ben',\n",
       " 'https://tethys.pnnl.gov/sites/default/files/summaries/Cha',\n",
       " 'https://tethys.pnnl.gov/sites/default/files/summaries/Col',\n",
       " 'https://tethys.pnnl.gov/sites/default/files/summaries/Ele',\n",
       " 'https://tethys.pnnl.gov/sites/default/files/summaries/Ent',\n",
       " 'https://tethys.pnnl.gov/sites/default/files/summaries/Env',\n",
       " 'https://tethys.pnnl.gov/sites/default/files/summaries/MRE',\n",
       " 'https://tethys.pnnl.gov/sites/default/files/summaries/Mar',\n",
       " 'https://tethys.pnnl.gov/sites/default/files/summaries/Ris',\n",
       " 'https://tethys.pnnl.gov/sites/default/files/summaries/Soc',\n",
       " 'https://tethys.pnnl.gov/sites/default/files/summaries/Tet',\n",
       " 'https://tethys.pnnl.gov/sites/default/files/summaries/Und',\n",
       " 'https://tethys.pnnl.gov/sites/default/files/summaries/WRE'}"
      ]
     },
     "execution_count": 49,
     "metadata": {},
     "output_type": "execute_result"
    }
   ],
   "source": [
    "set(url_locs)"
   ]
  },
  {
   "cell_type": "markdown",
   "id": "af5ed99a-3d96-4108-9250-c081ae8ecbfa",
   "metadata": {},
   "source": [
    "As we can see, most of the entries are located in \"publications,\" followed by \"summaries,\" and only two are located directly in \"files.\""
   ]
  },
  {
   "cell_type": "code",
   "execution_count": 50,
   "id": "c1f305e4-7a13-4587-a3cd-f868ea484c76",
   "metadata": {},
   "outputs": [],
   "source": [
    "# locations:\n",
    "locs = ['https://tethys.pnnl.gov/sites/default/files/publications/',\n",
    "        'https://tethys.pnnl.gov/sites/default/files/summaries/',\n",
    "        'https://tethys.pnnl.gov/sites/default/files/']"
   ]
  },
  {
   "cell_type": "code",
   "execution_count": 51,
   "id": "b072a482-5e72-41e8-8fa8-358210f656d6",
   "metadata": {},
   "outputs": [],
   "source": [
    "# Extensions:\n",
    "attachments_lst = tethys_df['attachment']\n",
    "attachment_extensions = list()\n",
    "\n",
    "counter = 0\n",
    "for i in attachments_lst:\n",
    "    if len(i) > 0:\n",
    "        counter+=1\n",
    "        for j in i:\n",
    "            attachment_field_lst = re.split(r'\\.', j)\n",
    "            attachment_extensions.append(attachment_field_lst[-1])"
   ]
  },
  {
   "cell_type": "code",
   "execution_count": 52,
   "id": "5da2aca8-a98f-4f9a-acba-a76dac68dc85",
   "metadata": {},
   "outputs": [
    {
     "name": "stdout",
     "output_type": "stream",
     "text": [
      "Num entries with 1+ attachment     : 2082\n",
      "Num observed attachment extensions : 2200\n"
     ]
    }
   ],
   "source": [
    "print(f'Num entries with 1+ attachment     : {counter}\\nNum observed attachment extensions : {len(attachment_extensions)}')"
   ]
  },
  {
   "cell_type": "code",
   "execution_count": 53,
   "id": "7ed490f5-ce3b-4e7f-92db-ce4c9cdd260d",
   "metadata": {},
   "outputs": [
    {
     "data": {
      "text/plain": [
       "{'PDF', 'pdf'}"
      ]
     },
     "execution_count": 53,
     "metadata": {},
     "output_type": "execute_result"
    }
   ],
   "source": [
    "all_file_extensions = set(attachment_extensions)\n",
    "all_file_extensions"
   ]
  },
  {
   "cell_type": "code",
   "execution_count": 54,
   "id": "434869fe-5eec-463a-b69e-f0169f6eaae5",
   "metadata": {},
   "outputs": [
    {
     "name": "stdout",
     "output_type": "stream",
     "text": [
      "a result : pdf\n",
      "b result : filepdf\n"
     ]
    }
   ],
   "source": [
    "a = re.split(r'\\.', 'file.pdf')[-1]\n",
    "b = re.split(r'\\.', 'filepdf')[-1]\n",
    "print(f'a result : {a}\\nb result : {b}')"
   ]
  },
  {
   "cell_type": "markdown",
   "id": "b2ddbb17-8c21-45f9-b65b-96c7f50ae2cf",
   "metadata": {},
   "source": [
    "Per the code above, we can have confidence that the variable \"all_file_extensions\" captures all file extensions present in the field \"attachment\" returned by the Tethys API, because, in the event that there is a file that does not have a proper file extension, its full file name will be returned in the \"attachment_extensions\" list, and displayed by the \"set\" transformation. Verification of this behavior is shown in the cell directly above. \n",
    "\n",
    "We can also have confidence in this functionality because we can see that it takes into account all attachments, even when an entry has 2+ attachments associated with it. Verification of this behavior is shown 3 cells prior, where we can see that the number of observed attachment extensions exceeds the number of entries with attachments. This verifies that none of the files attached to a Tethys entry is of a type other than \"pdf\" or \"PDF\"."
   ]
  },
  {
   "cell_type": "code",
   "execution_count": 55,
   "id": "6f54dfad-b0ce-4448-8945-ca4e5df49c08",
   "metadata": {},
   "outputs": [],
   "source": [
    "# Characters"
   ]
  },
  {
   "cell_type": "code",
   "execution_count": null,
   "id": "1ef9c99e-63d9-43d0-8bc8-48c3b4de2df1",
   "metadata": {},
   "outputs": [],
   "source": []
  },
  {
   "cell_type": "markdown",
   "id": "b6e67286-dae7-42b6-b693-ef5f7967be9e",
   "metadata": {},
   "source": [
    "**2. Create working regex logic, and assocaited funciton(s), to correctly isolate faulty entries**"
   ]
  },
  {
   "cell_type": "markdown",
   "id": "2be61f1e-5ae8-4761-a371-69cdc0aaf258",
   "metadata": {},
   "source": [
    "Note that the data is presented as a list of lists - there is a list of entries, and within each entry a list of attachments. We want to return the **Entry** associated with a bad file name. We will leave it up to the operator/ editor to figure out which file name is bad, as it should be very obvious.\n",
    "\n",
    "Note also that the API returns duplicates because of an error with the return of spatial coordinates. For an entry associated with 2+ coordinate entries, the API will return that entry the same number of times as that entry is associated with unique locations."
   ]
  },
  {
   "cell_type": "markdown",
   "id": "7ea4ec11-90a5-4a9b-962f-bfe9f19f4430",
   "metadata": {},
   "source": [
    "1. loop through the entries\n",
    "2. loop through the attachments associated with each entry\n",
    "3. check each attachments url\n",
    "   1. Loop through the file locations to find a match\n",
    "   2. loop through the extensions to find a match\n",
    "   3. isolate the file name by slicing, based on the matches from (1.) and (2.)\n",
    "   4. Check if there is a match with a character other than alpha-numeric, \"_\" and \"-\"\n",
    "   5. If there is a match, add the entry id/uri to a list\n",
    "   6. de-duplicate the list (to catch any duplicate API responses that may have also had attachments that failed the test)\n",
    "   7. return the list of entries to be reviewed"
   ]
  },
  {
   "cell_type": "markdown",
   "id": "b8d003cf-88c6-443c-8a94-e1c2118049da",
   "metadata": {},
   "source": [
    "I will also need to somehow output:\n",
    " - Locations being used by the tester\n",
    " - Locations observed in the data\n",
    " - Extensions being used by the tester\n",
    " - Extensions observed in the data\n",
    "\n",
    "So that the user can ensure that there are no edge cases excluded from the analysis.\n",
    "\n",
    "I need to find a way to integrate these two aims via software engineering before I can start to really dig in with the code. Otherwise I will be constructing a system that is not comprehensive, and therefore fails the mission of measuring the broken file names, and underreports revision need."
   ]
  },
  {
   "cell_type": "markdown",
   "id": "2ee67a5b-db8c-4e15-958f-5d15d0af4d60",
   "metadata": {},
   "source": [
    "**software engineering brainstorm**"
   ]
  },
  {
   "cell_type": "markdown",
   "id": "3b7b7daa-5db7-4107-aa68-1e34af2d3d07",
   "metadata": {},
   "source": [
    "funct1 \n",
    " - somehow list the locations observed\n",
    " - somehow list the extensions observed\n",
    "\n",
    "Display results of funct1 so that the human-in-the-loop can see if there are any process-improvements to be made, or if the system is functioning as desired\n",
    "\n",
    "funct2 \n",
    " - Takes in the results of funct1\n",
    " - Uses the paths reported by funct1, and the \n",
    "\n",
    "       "
   ]
  },
  {
   "cell_type": "code",
   "execution_count": 62,
   "id": "62c39e0e-5180-4a42-a1b5-c86bfdda9365",
   "metadata": {},
   "outputs": [
    {
     "data": {
      "text/html": [
       "<div>\n",
       "<style scoped>\n",
       "    .dataframe tbody tr th:only-of-type {\n",
       "        vertical-align: middle;\n",
       "    }\n",
       "\n",
       "    .dataframe tbody tr th {\n",
       "        vertical-align: top;\n",
       "    }\n",
       "\n",
       "    .dataframe thead th {\n",
       "        text-align: right;\n",
       "    }\n",
       "</style>\n",
       "<table border=\"1\" class=\"dataframe\">\n",
       "  <thead>\n",
       "    <tr style=\"text-align: right;\">\n",
       "      <th></th>\n",
       "      <th>URI</th>\n",
       "      <th>type</th>\n",
       "      <th>landingPage</th>\n",
       "      <th>sourceURL</th>\n",
       "      <th>title</th>\n",
       "      <th>description</th>\n",
       "      <th>author</th>\n",
       "      <th>organization</th>\n",
       "      <th>originationDate</th>\n",
       "      <th>spatial</th>\n",
       "      <th>technologyType</th>\n",
       "      <th>tags</th>\n",
       "      <th>modifiedDate</th>\n",
       "      <th>signatureProject</th>\n",
       "      <th>attachment</th>\n",
       "      <th>entry_id</th>\n",
       "      <th>originationDate2</th>\n",
       "      <th>modifiedDate2</th>\n",
       "      <th>match</th>\n",
       "    </tr>\n",
       "  </thead>\n",
       "  <tbody>\n",
       "    <tr>\n",
       "      <th>0</th>\n",
       "      <td>https://tethys.pnnl.gov/node/499</td>\n",
       "      <td>[Document, Document/Journal Article]</td>\n",
       "      <td>https://tethys.pnnl.gov/publications/marine-re...</td>\n",
       "      <td>https://www.mdpi.com/1996-1073/10/10/1512/htm</td>\n",
       "      <td>Marine Renewable Energy in the Mediterranean S...</td>\n",
       "      <td>In this work, an extended overview of the mari...</td>\n",
       "      <td>[Soukissian, T., Denaxa, D., Karathanasi, F., ...</td>\n",
       "      <td>[Hellenic Centre for Marine Research (HCMR), N...</td>\n",
       "      <td>2017-09-29</td>\n",
       "      <td>[]</td>\n",
       "      <td>[]</td>\n",
       "      <td>[Environment, Human Dimensions]</td>\n",
       "      <td>2024-01-22 09:24:45</td>\n",
       "      <td>[]</td>\n",
       "      <td>[]</td>\n",
       "      <td>499</td>\n",
       "      <td>2017-09-29</td>\n",
       "      <td>2024-01-22 09:24:45</td>\n",
       "      <td>0</td>\n",
       "    </tr>\n",
       "  </tbody>\n",
       "</table>\n",
       "</div>"
      ],
      "text/plain": [
       "                                URI                                  type  \\\n",
       "0  https://tethys.pnnl.gov/node/499  [Document, Document/Journal Article]   \n",
       "\n",
       "                                         landingPage  \\\n",
       "0  https://tethys.pnnl.gov/publications/marine-re...   \n",
       "\n",
       "                                       sourceURL  \\\n",
       "0  https://www.mdpi.com/1996-1073/10/10/1512/htm   \n",
       "\n",
       "                                               title  \\\n",
       "0  Marine Renewable Energy in the Mediterranean S...   \n",
       "\n",
       "                                         description  \\\n",
       "0  In this work, an extended overview of the mari...   \n",
       "\n",
       "                                              author  \\\n",
       "0  [Soukissian, T., Denaxa, D., Karathanasi, F., ...   \n",
       "\n",
       "                                        organization originationDate spatial  \\\n",
       "0  [Hellenic Centre for Marine Research (HCMR), N...      2017-09-29      []   \n",
       "\n",
       "  technologyType                             tags         modifiedDate  \\\n",
       "0             []  [Environment, Human Dimensions]  2024-01-22 09:24:45   \n",
       "\n",
       "  signatureProject attachment  entry_id originationDate2       modifiedDate2  \\\n",
       "0               []         []       499       2017-09-29 2024-01-22 09:24:45   \n",
       "\n",
       "   match  \n",
       "0      0  "
      ]
     },
     "execution_count": 62,
     "metadata": {},
     "output_type": "execute_result"
    }
   ],
   "source": [
    "tethys_df = primre_data.tethys_dataframe_raw\n",
    "tethys_df.head(1)"
   ]
  },
  {
   "cell_type": "code",
   "execution_count": 64,
   "id": "42921faf-9989-401f-8767-e9d092a8603f",
   "metadata": {},
   "outputs": [],
   "source": [
    "def locations_found():\n",
    "    '''\n",
    "\n",
    "    '''\n",
    "    all_chars = ''\n",
    "    url_locs = list()\n",
    "    for i in range(0, num_t_entries):\n",
    "        i_url = tethys_df['attachment'][i]\n",
    "        if len(i_url) > 0:\n",
    "            all_chars = all_chars + i_url[0][57:]\n",
    "            url_locs.append(i_url[0][0:57])\n",
    "\n",
    "    \n"
   ]
  },
  {
   "cell_type": "code",
   "execution_count": 65,
   "id": "3b743d57-ab83-401e-bcec-49411ae415d3",
   "metadata": {},
   "outputs": [],
   "source": [
    "def extensions_found():\n",
    "    '''\n",
    "\n",
    "    '''\n",
    "    attachments_lst = tethys_df['attachment']\n",
    "    attachment_extensions = list()\n",
    "    \n",
    "    counter = 0\n",
    "    for i in attachments_lst:\n",
    "        if len(i) > 0:\n",
    "            counter+=1\n",
    "            for j in i:\n",
    "                attachment_field_lst = re.split(r'\\.', j)\n",
    "                attachment_extensions.append(attachment_field_lst[-1])\n",
    "\n",
    "    return"
   ]
  },
  {
   "cell_type": "code",
   "execution_count": null,
   "id": "c77ab121-79cb-4aaa-b907-e8ca3fb8d0f9",
   "metadata": {},
   "outputs": [],
   "source": []
  },
  {
   "cell_type": "code",
   "execution_count": null,
   "id": "a49b72f9-9011-457d-8a68-1e846c080d5c",
   "metadata": {},
   "outputs": [],
   "source": []
  },
  {
   "cell_type": "code",
   "execution_count": null,
   "id": "db574c95-5be1-4975-a63f-fed7555b5cb8",
   "metadata": {},
   "outputs": [],
   "source": []
  },
  {
   "cell_type": "code",
   "execution_count": 56,
   "id": "62c32280-5656-45e9-9517-09612d0eb001",
   "metadata": {},
   "outputs": [
    {
     "data": {
      "text/plain": [
       "'https://tethys.pnnl.gov/sites/default/files/publications/'"
      ]
     },
     "execution_count": 56,
     "metadata": {},
     "output_type": "execute_result"
    }
   ],
   "source": [
    "locs[0]"
   ]
  },
  {
   "cell_type": "code",
   "execution_count": null,
   "id": "fc104245-08bc-48df-8f12-d86aefdb2b6c",
   "metadata": {},
   "outputs": [],
   "source": []
  },
  {
   "cell_type": "code",
   "execution_count": null,
   "id": "da7eac6d-1f55-4f0c-b876-20222d2ccf8b",
   "metadata": {},
   "outputs": [],
   "source": []
  },
  {
   "cell_type": "code",
   "execution_count": null,
   "id": "6496bc48-b2f3-4339-a626-38216103ced4",
   "metadata": {},
   "outputs": [],
   "source": []
  },
  {
   "cell_type": "markdown",
   "id": "e78012cf-1f52-4909-980e-3f9c90956953",
   "metadata": {},
   "source": [
    "**3. Apply the test to Tethys, Tethys Wind, and Tethys Engineering**"
   ]
  },
  {
   "cell_type": "code",
   "execution_count": null,
   "id": "043d4227-63c9-4488-be39-ed6e5ab434dd",
   "metadata": {},
   "outputs": [],
   "source": []
  },
  {
   "cell_type": "code",
   "execution_count": null,
   "id": "98a79382-ec27-4f23-9d4c-53a0dd437f4f",
   "metadata": {},
   "outputs": [],
   "source": []
  },
  {
   "cell_type": "code",
   "execution_count": null,
   "id": "6d781633-74c0-4bb8-a329-e73b97367bb0",
   "metadata": {},
   "outputs": [],
   "source": []
  },
  {
   "cell_type": "code",
   "execution_count": 57,
   "id": "e24d4371-a5a5-402b-b99d-5e569631ea68",
   "metadata": {},
   "outputs": [],
   "source": [
    "tethys_df = primre_data.tethys_dataframe_raw\n",
    "num_t_entries = len(tethys_df)\n",
    "\n",
    "match_lst = list()\n",
    "for i in range(0, num_t_entries):\n",
    "    i_url = tethys_df['attachment'][i]\n",
    "    if len(i_url) < 1:\n",
    "        match_lst.append(0)\n",
    "    elif len(i_url) > 0:\n",
    "        match = re.search(p, i_url[0])    # Index the i_url variable because we have a list at this point, and we were previously checking that the list was not empty\n",
    "        if match == None:\n",
    "            match_lst.append(1)\n",
    "        else:\n",
    "            #elif match != None:\n",
    "            match_lst.append(2)\n",
    "        "
   ]
  },
  {
   "cell_type": "code",
   "execution_count": 58,
   "id": "11fa112a-af8b-40cc-9fbc-04fe33046292",
   "metadata": {},
   "outputs": [
    {
     "data": {
      "text/html": [
       "<div>\n",
       "<style scoped>\n",
       "    .dataframe tbody tr th:only-of-type {\n",
       "        vertical-align: middle;\n",
       "    }\n",
       "\n",
       "    .dataframe tbody tr th {\n",
       "        vertical-align: top;\n",
       "    }\n",
       "\n",
       "    .dataframe thead th {\n",
       "        text-align: right;\n",
       "    }\n",
       "</style>\n",
       "<table border=\"1\" class=\"dataframe\">\n",
       "  <thead>\n",
       "    <tr style=\"text-align: right;\">\n",
       "      <th></th>\n",
       "      <th>URI</th>\n",
       "      <th>type</th>\n",
       "      <th>landingPage</th>\n",
       "      <th>sourceURL</th>\n",
       "      <th>title</th>\n",
       "      <th>description</th>\n",
       "      <th>author</th>\n",
       "      <th>organization</th>\n",
       "      <th>originationDate</th>\n",
       "      <th>spatial</th>\n",
       "      <th>technologyType</th>\n",
       "      <th>tags</th>\n",
       "      <th>modifiedDate</th>\n",
       "      <th>signatureProject</th>\n",
       "      <th>attachment</th>\n",
       "      <th>entry_id</th>\n",
       "      <th>originationDate2</th>\n",
       "      <th>modifiedDate2</th>\n",
       "      <th>match</th>\n",
       "    </tr>\n",
       "  </thead>\n",
       "  <tbody>\n",
       "    <tr>\n",
       "      <th>0</th>\n",
       "      <td>https://tethys.pnnl.gov/node/499</td>\n",
       "      <td>[Document, Document/Journal Article]</td>\n",
       "      <td>https://tethys.pnnl.gov/publications/marine-re...</td>\n",
       "      <td>https://www.mdpi.com/1996-1073/10/10/1512/htm</td>\n",
       "      <td>Marine Renewable Energy in the Mediterranean S...</td>\n",
       "      <td>In this work, an extended overview of the mari...</td>\n",
       "      <td>[Soukissian, T., Denaxa, D., Karathanasi, F., ...</td>\n",
       "      <td>[Hellenic Centre for Marine Research (HCMR), N...</td>\n",
       "      <td>2017-09-29</td>\n",
       "      <td>[]</td>\n",
       "      <td>[]</td>\n",
       "      <td>[Environment, Human Dimensions]</td>\n",
       "      <td>2024-01-22 09:24:45</td>\n",
       "      <td>[]</td>\n",
       "      <td>[]</td>\n",
       "      <td>499</td>\n",
       "      <td>2017-09-29</td>\n",
       "      <td>2024-01-22 09:24:45</td>\n",
       "      <td>0</td>\n",
       "    </tr>\n",
       "  </tbody>\n",
       "</table>\n",
       "</div>"
      ],
      "text/plain": [
       "                                URI                                  type  \\\n",
       "0  https://tethys.pnnl.gov/node/499  [Document, Document/Journal Article]   \n",
       "\n",
       "                                         landingPage  \\\n",
       "0  https://tethys.pnnl.gov/publications/marine-re...   \n",
       "\n",
       "                                       sourceURL  \\\n",
       "0  https://www.mdpi.com/1996-1073/10/10/1512/htm   \n",
       "\n",
       "                                               title  \\\n",
       "0  Marine Renewable Energy in the Mediterranean S...   \n",
       "\n",
       "                                         description  \\\n",
       "0  In this work, an extended overview of the mari...   \n",
       "\n",
       "                                              author  \\\n",
       "0  [Soukissian, T., Denaxa, D., Karathanasi, F., ...   \n",
       "\n",
       "                                        organization originationDate spatial  \\\n",
       "0  [Hellenic Centre for Marine Research (HCMR), N...      2017-09-29      []   \n",
       "\n",
       "  technologyType                             tags         modifiedDate  \\\n",
       "0             []  [Environment, Human Dimensions]  2024-01-22 09:24:45   \n",
       "\n",
       "  signatureProject attachment  entry_id originationDate2       modifiedDate2  \\\n",
       "0               []         []       499       2017-09-29 2024-01-22 09:24:45   \n",
       "\n",
       "   match  \n",
       "0      0  "
      ]
     },
     "execution_count": 58,
     "metadata": {},
     "output_type": "execute_result"
    }
   ],
   "source": [
    "# assign this information as a column in the original dataframe\n",
    "tethys_df['match'] = match_lst\n",
    "tethys_df.head(1)"
   ]
  },
  {
   "cell_type": "code",
   "execution_count": null,
   "id": "b18f2143-f560-406f-8bb7-3135f210320d",
   "metadata": {},
   "outputs": [],
   "source": []
  }
 ],
 "metadata": {
  "kernelspec": {
   "display_name": "Python 3 (ipykernel)",
   "language": "python",
   "name": "python3"
  },
  "language_info": {
   "codemirror_mode": {
    "name": "ipython",
    "version": 3
   },
   "file_extension": ".py",
   "mimetype": "text/x-python",
   "name": "python",
   "nbconvert_exporter": "python",
   "pygments_lexer": "ipython3",
   "version": "3.11.7"
  }
 },
 "nbformat": 4,
 "nbformat_minor": 5
}
