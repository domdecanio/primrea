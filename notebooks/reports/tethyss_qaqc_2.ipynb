{
 "cells": [
  {
   "cell_type": "markdown",
   "id": "16194e53-825b-47c2-9bb2-df6a239e4b2a",
   "metadata": {},
   "source": [
    "# Tethyss QAQC 2 - Flag by Tag"
   ]
  },
  {
   "cell_type": "markdown",
   "id": "b9408de5-d997-4382-9118-a65a9f24d2e0",
   "metadata": {},
   "source": [
    "The aim of this notebook is to complete a qaqc check on Tethys/Tethys Engineering, which flags enties that exceed a threshold of a particular number of tags associated with them.\n",
    "\n",
    "5 stressors / 5 receptors / 8 tags"
   ]
  },
  {
   "cell_type": "markdown",
   "id": "a8ef1369-38e7-4a4e-ac4c-42b88628a102",
   "metadata": {},
   "source": [
    "### Setup"
   ]
  },
  {
   "cell_type": "code",
   "execution_count": 1,
   "id": "d4d1e546-db56-4f22-a075-35a83dd8f87d",
   "metadata": {},
   "outputs": [],
   "source": [
    "import pandas as pd\n",
    "import primrea.core\n",
    "\n",
    "primre_data = primrea.core.primrea_data()"
   ]
  },
  {
   "cell_type": "markdown",
   "id": "9a40e615-971b-46c8-bc32-ff05899de442",
   "metadata": {},
   "source": [
    "### Dev"
   ]
  },
  {
   "cell_type": "code",
   "execution_count": 2,
   "id": "917e66dc-6a6e-4c87-b4b3-96271a8bbc94",
   "metadata": {},
   "outputs": [],
   "source": [
    "tethys_df_core = primre_data.tethys_core\n",
    "tethys_df_tags = primre_data.tethys_tags"
   ]
  },
  {
   "cell_type": "code",
   "execution_count": 3,
   "id": "57165d64-c03d-4632-b97f-6141d3d8967c",
   "metadata": {},
   "outputs": [
    {
     "data": {
      "text/plain": [
       "129768     34\n",
       "191608     29\n",
       "5793       23\n",
       "1838447    21\n",
       "5749       20\n",
       "           ..\n",
       "3539        1\n",
       "40989       1\n",
       "3540        1\n",
       "3541        1\n",
       "2751        1\n",
       "Name: entry_id, Length: 4248, dtype: int64"
      ]
     },
     "execution_count": 3,
     "metadata": {},
     "output_type": "execute_result"
    }
   ],
   "source": [
    "tethys_df_tags['entry_id'].value_counts()"
   ]
  },
  {
   "cell_type": "code",
   "execution_count": 4,
   "id": "8440a430-0f0d-480c-923d-b4d315434f34",
   "metadata": {},
   "outputs": [
    {
     "data": {
      "text/html": [
       "<div>\n",
       "<style scoped>\n",
       "    .dataframe tbody tr th:only-of-type {\n",
       "        vertical-align: middle;\n",
       "    }\n",
       "\n",
       "    .dataframe tbody tr th {\n",
       "        vertical-align: top;\n",
       "    }\n",
       "\n",
       "    .dataframe thead th {\n",
       "        text-align: right;\n",
       "    }\n",
       "</style>\n",
       "<table border=\"1\" class=\"dataframe\">\n",
       "  <thead>\n",
       "    <tr style=\"text-align: right;\">\n",
       "      <th></th>\n",
       "      <th>entry_id</th>\n",
       "    </tr>\n",
       "  </thead>\n",
       "  <tbody>\n",
       "    <tr>\n",
       "      <th>129768</th>\n",
       "      <td>34</td>\n",
       "    </tr>\n",
       "    <tr>\n",
       "      <th>191608</th>\n",
       "      <td>29</td>\n",
       "    </tr>\n",
       "    <tr>\n",
       "      <th>5793</th>\n",
       "      <td>23</td>\n",
       "    </tr>\n",
       "    <tr>\n",
       "      <th>1838447</th>\n",
       "      <td>21</td>\n",
       "    </tr>\n",
       "    <tr>\n",
       "      <th>5749</th>\n",
       "      <td>20</td>\n",
       "    </tr>\n",
       "    <tr>\n",
       "      <th>...</th>\n",
       "      <td>...</td>\n",
       "    </tr>\n",
       "    <tr>\n",
       "      <th>3539</th>\n",
       "      <td>1</td>\n",
       "    </tr>\n",
       "    <tr>\n",
       "      <th>40989</th>\n",
       "      <td>1</td>\n",
       "    </tr>\n",
       "    <tr>\n",
       "      <th>3540</th>\n",
       "      <td>1</td>\n",
       "    </tr>\n",
       "    <tr>\n",
       "      <th>3541</th>\n",
       "      <td>1</td>\n",
       "    </tr>\n",
       "    <tr>\n",
       "      <th>2751</th>\n",
       "      <td>1</td>\n",
       "    </tr>\n",
       "  </tbody>\n",
       "</table>\n",
       "<p>4248 rows × 1 columns</p>\n",
       "</div>"
      ],
      "text/plain": [
       "         entry_id\n",
       "129768         34\n",
       "191608         29\n",
       "5793           23\n",
       "1838447        21\n",
       "5749           20\n",
       "...           ...\n",
       "3539            1\n",
       "40989           1\n",
       "3540            1\n",
       "3541            1\n",
       "2751            1\n",
       "\n",
       "[4248 rows x 1 columns]"
      ]
     },
     "execution_count": 4,
     "metadata": {},
     "output_type": "execute_result"
    }
   ],
   "source": [
    "tethys_tags_count_df = pd.DataFrame(tethys_df_tags['entry_id'].value_counts())\n",
    "tethys_tags_count_df"
   ]
  },
  {
   "cell_type": "code",
   "execution_count": 5,
   "id": "40eb74a6-d8f8-425d-8efa-f0f426984689",
   "metadata": {},
   "outputs": [
    {
     "data": {
      "text/html": [
       "<div>\n",
       "<style scoped>\n",
       "    .dataframe tbody tr th:only-of-type {\n",
       "        vertical-align: middle;\n",
       "    }\n",
       "\n",
       "    .dataframe tbody tr th {\n",
       "        vertical-align: top;\n",
       "    }\n",
       "\n",
       "    .dataframe thead th {\n",
       "        text-align: right;\n",
       "    }\n",
       "</style>\n",
       "<table border=\"1\" class=\"dataframe\">\n",
       "  <thead>\n",
       "    <tr style=\"text-align: right;\">\n",
       "      <th></th>\n",
       "      <th>index</th>\n",
       "      <th>entry_id</th>\n",
       "    </tr>\n",
       "  </thead>\n",
       "  <tbody>\n",
       "    <tr>\n",
       "      <th>0</th>\n",
       "      <td>129768</td>\n",
       "      <td>34</td>\n",
       "    </tr>\n",
       "    <tr>\n",
       "      <th>1</th>\n",
       "      <td>191608</td>\n",
       "      <td>29</td>\n",
       "    </tr>\n",
       "    <tr>\n",
       "      <th>2</th>\n",
       "      <td>5793</td>\n",
       "      <td>23</td>\n",
       "    </tr>\n",
       "    <tr>\n",
       "      <th>3</th>\n",
       "      <td>1838447</td>\n",
       "      <td>21</td>\n",
       "    </tr>\n",
       "    <tr>\n",
       "      <th>4</th>\n",
       "      <td>5749</td>\n",
       "      <td>20</td>\n",
       "    </tr>\n",
       "    <tr>\n",
       "      <th>...</th>\n",
       "      <td>...</td>\n",
       "      <td>...</td>\n",
       "    </tr>\n",
       "    <tr>\n",
       "      <th>4243</th>\n",
       "      <td>3539</td>\n",
       "      <td>1</td>\n",
       "    </tr>\n",
       "    <tr>\n",
       "      <th>4244</th>\n",
       "      <td>40989</td>\n",
       "      <td>1</td>\n",
       "    </tr>\n",
       "    <tr>\n",
       "      <th>4245</th>\n",
       "      <td>3540</td>\n",
       "      <td>1</td>\n",
       "    </tr>\n",
       "    <tr>\n",
       "      <th>4246</th>\n",
       "      <td>3541</td>\n",
       "      <td>1</td>\n",
       "    </tr>\n",
       "    <tr>\n",
       "      <th>4247</th>\n",
       "      <td>2751</td>\n",
       "      <td>1</td>\n",
       "    </tr>\n",
       "  </tbody>\n",
       "</table>\n",
       "<p>4248 rows × 2 columns</p>\n",
       "</div>"
      ],
      "text/plain": [
       "        index  entry_id\n",
       "0      129768        34\n",
       "1      191608        29\n",
       "2        5793        23\n",
       "3     1838447        21\n",
       "4        5749        20\n",
       "...       ...       ...\n",
       "4243     3539         1\n",
       "4244    40989         1\n",
       "4245     3540         1\n",
       "4246     3541         1\n",
       "4247     2751         1\n",
       "\n",
       "[4248 rows x 2 columns]"
      ]
     },
     "execution_count": 5,
     "metadata": {},
     "output_type": "execute_result"
    }
   ],
   "source": [
    "tethys_tags_count_df = tethys_tags_count_df.reset_index()\n",
    "tethys_tags_count_df"
   ]
  },
  {
   "cell_type": "code",
   "execution_count": 6,
   "id": "d838e4f5-5948-422e-a386-71c2c9cb8902",
   "metadata": {},
   "outputs": [
    {
     "data": {
      "text/html": [
       "<div>\n",
       "<style scoped>\n",
       "    .dataframe tbody tr th:only-of-type {\n",
       "        vertical-align: middle;\n",
       "    }\n",
       "\n",
       "    .dataframe tbody tr th {\n",
       "        vertical-align: top;\n",
       "    }\n",
       "\n",
       "    .dataframe thead th {\n",
       "        text-align: right;\n",
       "    }\n",
       "</style>\n",
       "<table border=\"1\" class=\"dataframe\">\n",
       "  <thead>\n",
       "    <tr style=\"text-align: right;\">\n",
       "      <th></th>\n",
       "      <th>entry_id</th>\n",
       "      <th>num_tags</th>\n",
       "    </tr>\n",
       "  </thead>\n",
       "  <tbody>\n",
       "    <tr>\n",
       "      <th>0</th>\n",
       "      <td>129768</td>\n",
       "      <td>34</td>\n",
       "    </tr>\n",
       "    <tr>\n",
       "      <th>1</th>\n",
       "      <td>191608</td>\n",
       "      <td>29</td>\n",
       "    </tr>\n",
       "    <tr>\n",
       "      <th>2</th>\n",
       "      <td>5793</td>\n",
       "      <td>23</td>\n",
       "    </tr>\n",
       "    <tr>\n",
       "      <th>3</th>\n",
       "      <td>1838447</td>\n",
       "      <td>21</td>\n",
       "    </tr>\n",
       "    <tr>\n",
       "      <th>4</th>\n",
       "      <td>5749</td>\n",
       "      <td>20</td>\n",
       "    </tr>\n",
       "    <tr>\n",
       "      <th>...</th>\n",
       "      <td>...</td>\n",
       "      <td>...</td>\n",
       "    </tr>\n",
       "    <tr>\n",
       "      <th>4243</th>\n",
       "      <td>3539</td>\n",
       "      <td>1</td>\n",
       "    </tr>\n",
       "    <tr>\n",
       "      <th>4244</th>\n",
       "      <td>40989</td>\n",
       "      <td>1</td>\n",
       "    </tr>\n",
       "    <tr>\n",
       "      <th>4245</th>\n",
       "      <td>3540</td>\n",
       "      <td>1</td>\n",
       "    </tr>\n",
       "    <tr>\n",
       "      <th>4246</th>\n",
       "      <td>3541</td>\n",
       "      <td>1</td>\n",
       "    </tr>\n",
       "    <tr>\n",
       "      <th>4247</th>\n",
       "      <td>2751</td>\n",
       "      <td>1</td>\n",
       "    </tr>\n",
       "  </tbody>\n",
       "</table>\n",
       "<p>4248 rows × 2 columns</p>\n",
       "</div>"
      ],
      "text/plain": [
       "      entry_id  num_tags\n",
       "0       129768        34\n",
       "1       191608        29\n",
       "2         5793        23\n",
       "3      1838447        21\n",
       "4         5749        20\n",
       "...        ...       ...\n",
       "4243      3539         1\n",
       "4244     40989         1\n",
       "4245      3540         1\n",
       "4246      3541         1\n",
       "4247      2751         1\n",
       "\n",
       "[4248 rows x 2 columns]"
      ]
     },
     "execution_count": 6,
     "metadata": {},
     "output_type": "execute_result"
    }
   ],
   "source": [
    "tethys_tags_count_df = tethys_tags_count_df.rename(columns={'index': 'entry_id', 'entry_id': 'num_tags'})\n",
    "tethys_tags_count_df"
   ]
  },
  {
   "cell_type": "code",
   "execution_count": 7,
   "id": "6bf49e32-f89d-4384-976b-67e4133274dd",
   "metadata": {},
   "outputs": [
    {
     "data": {
      "text/html": [
       "<div>\n",
       "<style scoped>\n",
       "    .dataframe tbody tr th:only-of-type {\n",
       "        vertical-align: middle;\n",
       "    }\n",
       "\n",
       "    .dataframe tbody tr th {\n",
       "        vertical-align: top;\n",
       "    }\n",
       "\n",
       "    .dataframe thead th {\n",
       "        text-align: right;\n",
       "    }\n",
       "</style>\n",
       "<table border=\"1\" class=\"dataframe\">\n",
       "  <thead>\n",
       "    <tr style=\"text-align: right;\">\n",
       "      <th></th>\n",
       "      <th>num_tags</th>\n",
       "      <th>obs</th>\n",
       "    </tr>\n",
       "  </thead>\n",
       "  <tbody>\n",
       "    <tr>\n",
       "      <th>3</th>\n",
       "      <td>1</td>\n",
       "      <td>591</td>\n",
       "    </tr>\n",
       "    <tr>\n",
       "      <th>2</th>\n",
       "      <td>2</td>\n",
       "      <td>785</td>\n",
       "    </tr>\n",
       "    <tr>\n",
       "      <th>0</th>\n",
       "      <td>3</td>\n",
       "      <td>1517</td>\n",
       "    </tr>\n",
       "    <tr>\n",
       "      <th>1</th>\n",
       "      <td>4</td>\n",
       "      <td>788</td>\n",
       "    </tr>\n",
       "    <tr>\n",
       "      <th>4</th>\n",
       "      <td>5</td>\n",
       "      <td>246</td>\n",
       "    </tr>\n",
       "    <tr>\n",
       "      <th>5</th>\n",
       "      <td>6</td>\n",
       "      <td>119</td>\n",
       "    </tr>\n",
       "    <tr>\n",
       "      <th>7</th>\n",
       "      <td>7</td>\n",
       "      <td>35</td>\n",
       "    </tr>\n",
       "    <tr>\n",
       "      <th>6</th>\n",
       "      <td>8</td>\n",
       "      <td>41</td>\n",
       "    </tr>\n",
       "    <tr>\n",
       "      <th>9</th>\n",
       "      <td>9</td>\n",
       "      <td>20</td>\n",
       "    </tr>\n",
       "    <tr>\n",
       "      <th>8</th>\n",
       "      <td>10</td>\n",
       "      <td>28</td>\n",
       "    </tr>\n",
       "    <tr>\n",
       "      <th>10</th>\n",
       "      <td>11</td>\n",
       "      <td>17</td>\n",
       "    </tr>\n",
       "    <tr>\n",
       "      <th>11</th>\n",
       "      <td>12</td>\n",
       "      <td>14</td>\n",
       "    </tr>\n",
       "    <tr>\n",
       "      <th>12</th>\n",
       "      <td>13</td>\n",
       "      <td>13</td>\n",
       "    </tr>\n",
       "    <tr>\n",
       "      <th>13</th>\n",
       "      <td>14</td>\n",
       "      <td>12</td>\n",
       "    </tr>\n",
       "    <tr>\n",
       "      <th>14</th>\n",
       "      <td>15</td>\n",
       "      <td>6</td>\n",
       "    </tr>\n",
       "    <tr>\n",
       "      <th>16</th>\n",
       "      <td>16</td>\n",
       "      <td>3</td>\n",
       "    </tr>\n",
       "    <tr>\n",
       "      <th>15</th>\n",
       "      <td>17</td>\n",
       "      <td>4</td>\n",
       "    </tr>\n",
       "    <tr>\n",
       "      <th>17</th>\n",
       "      <td>18</td>\n",
       "      <td>3</td>\n",
       "    </tr>\n",
       "    <tr>\n",
       "      <th>18</th>\n",
       "      <td>20</td>\n",
       "      <td>2</td>\n",
       "    </tr>\n",
       "    <tr>\n",
       "      <th>20</th>\n",
       "      <td>21</td>\n",
       "      <td>1</td>\n",
       "    </tr>\n",
       "    <tr>\n",
       "      <th>21</th>\n",
       "      <td>23</td>\n",
       "      <td>1</td>\n",
       "    </tr>\n",
       "    <tr>\n",
       "      <th>19</th>\n",
       "      <td>29</td>\n",
       "      <td>1</td>\n",
       "    </tr>\n",
       "    <tr>\n",
       "      <th>22</th>\n",
       "      <td>34</td>\n",
       "      <td>1</td>\n",
       "    </tr>\n",
       "  </tbody>\n",
       "</table>\n",
       "</div>"
      ],
      "text/plain": [
       "    num_tags   obs\n",
       "3          1   591\n",
       "2          2   785\n",
       "0          3  1517\n",
       "1          4   788\n",
       "4          5   246\n",
       "5          6   119\n",
       "7          7    35\n",
       "6          8    41\n",
       "9          9    20\n",
       "8         10    28\n",
       "10        11    17\n",
       "11        12    14\n",
       "12        13    13\n",
       "13        14    12\n",
       "14        15     6\n",
       "16        16     3\n",
       "15        17     4\n",
       "17        18     3\n",
       "18        20     2\n",
       "20        21     1\n",
       "21        23     1\n",
       "19        29     1\n",
       "22        34     1"
      ]
     },
     "execution_count": 7,
     "metadata": {},
     "output_type": "execute_result"
    }
   ],
   "source": [
    "# Chart\n",
    "chart_df = tethys_tags_count_df['num_tags'].value_counts()\n",
    "chart_df = chart_df.reset_index()\n",
    "chart_df = chart_df.rename(columns={'index': 'num_tags', 'num_tags': 'obs'})\n",
    "chart_df = chart_df.sort_values('num_tags', ascending=True)\n",
    "chart_df"
   ]
  },
  {
   "cell_type": "code",
   "execution_count": 8,
   "id": "3484ce8f-3a9c-40e3-889e-2e76b4192401",
   "metadata": {},
   "outputs": [],
   "source": [
    "import matplotlib.pyplot as plt"
   ]
  },
  {
   "cell_type": "code",
   "execution_count": 9,
   "id": "9d2239ac-13d6-48c7-9781-929abea7a972",
   "metadata": {},
   "outputs": [],
   "source": [
    "x = list(chart_df['num_tags'])\n",
    "y = list(chart_df['obs'])"
   ]
  },
  {
   "cell_type": "code",
   "execution_count": 10,
   "id": "dd749b28-3814-4869-851c-863244650394",
   "metadata": {},
   "outputs": [],
   "source": [
    "x.insert(0, 0)\n",
    "y.insert(0, 0)"
   ]
  },
  {
   "cell_type": "code",
   "execution_count": 11,
   "id": "9df43a83-ac8f-4c6a-8299-f7d6f5023bb5",
   "metadata": {},
   "outputs": [
    {
     "data": {
      "image/png": "[encoded data removed]",
      "text/plain": [
       "<Figure size 600x300 with 1 Axes>"
      ]
     },
     "metadata": {},
     "output_type": "display_data"
    }
   ],
   "source": [
    "#plt.rcParams['figure.dpi'] = 300\n",
    "\n",
    "fig, ax = plt.subplots()\n",
    "ps = ax.bar(x, y, )\n",
    "#pe, = ax.plot(x, z, label = 'Project End')\n",
    "#pa, = ax.plot(x, a, label = 'Projects Active')\n",
    "ax.set_title('Entry Observations Associated With x Number of Tags')\n",
    "ax.set_xlabel('Number of Tags')\n",
    "ax.set_ylabel('Count of Entries')\n",
    "#ax.legend(['Project Start', 'Project End', 'Projects Active'])\n",
    "#ax.legend(handles = [ps, pe, pa])\n",
    "fig.set_size_inches([6,3])\n",
    "plt.savefig('Observations vs tags.png', bbox_inches='tight')\n",
    "#plt.show()"
   ]
  },
  {
   "cell_type": "code",
   "execution_count": 21,
   "id": "d0a705c0-3244-4cdf-b1d0-19e10cfe2a1f",
   "metadata": {},
   "outputs": [
    {
     "name": "stdout",
     "output_type": "stream",
     "text": [
      "Number of entries having 10+ tags : 106\n",
      "Number of entries having 9+ tags  : 126\n",
      "Number of entries having 8+ tags  : 167\n",
      "Number of entries having 7+ tags  : 202\n",
      "Number of entries having 6+ tags  : 321\n",
      "Number of entries having 5+ tags  : 567\n"
     ]
    }
   ],
   "source": [
    "tags_10_plus = chart_df[chart_df['num_tags']>=10]['obs'].sum()\n",
    "tags_9_plus = chart_df[chart_df['num_tags']>=9]['obs'].sum()\n",
    "tags_8_plus = chart_df[chart_df['num_tags']>=8]['obs'].sum()\n",
    "tags_7_plus = chart_df[chart_df['num_tags']>=7]['obs'].sum()\n",
    "tags_6_plus = chart_df[chart_df['num_tags']>=6]['obs'].sum()\n",
    "tags_5_plus = chart_df[chart_df['num_tags']>=5]['obs'].sum()\n",
    "print(f'Number of entries having 10+ tags : {tags_10_plus}\\nNumber of entries having 9+ tags  : {tags_9_plus}\\nNumber of entries having 8+ tags  : {tags_8_plus}\\nNumber of entries having 7+ tags  : {tags_7_plus}\\nNumber of entries having 6+ tags  : {tags_6_plus}\\nNumber of entries having 5+ tags  : {tags_5_plus}')"
   ]
  },
  {
   "cell_type": "code",
   "execution_count": 24,
   "id": "c01b37dd-1f0d-4ab0-8ed7-de363358c955",
   "metadata": {},
   "outputs": [
    {
     "data": {
      "text/plain": [
       "array(['Environment', 'Human Dimensions',\n",
       "       'Environmental Impact Assessment', 'Noise', 'Legal & Policy',\n",
       "       'Physical Environment', 'Changes in Flow', 'Birds', 'Fish',\n",
       "       'Demersal Fish', 'EMF', 'Water Quality', 'Climate Change',\n",
       "       'Recreation & Tourism', 'Social & Economic Data',\n",
       "       'Stakeholder Engagement', 'Attraction', 'Avoidance', 'Collision',\n",
       "       'Displacement', 'Sediment Transport', 'Marine Spatial Planning',\n",
       "       'Ecosystem Processes', 'Habitat Change', 'Fisheries',\n",
       "       'Pelagic Fish', 'Environmental Justice', 'Invertebrates',\n",
       "       'Seabirds', 'Marine Mammals', 'Cetaceans', 'Pinnipeds',\n",
       "       'Waterfowl', 'Visual Impacts', 'Life Cycle Assessment',\n",
       "       'Navigation', 'Bats', 'Lighting', 'Raptors', 'Chemicals',\n",
       "       'Reptiles', 'Entanglement', 'Shorebirds', 'Terrestrial Mammals',\n",
       "       'Ground-Nesting Birds', 'Passerines', 'Sea Turtles'], dtype=object)"
      ]
     },
     "execution_count": 24,
     "metadata": {},
     "output_type": "execute_result"
    }
   ],
   "source": [
    "tethys_df_tags['tag'].unique()"
   ]
  },
  {
   "cell_type": "code",
   "execution_count": null,
   "id": "e9d38d76-2438-478c-9932-72bae0f3adb2",
   "metadata": {},
   "outputs": [],
   "source": []
  },
  {
   "cell_type": "code",
   "execution_count": null,
   "id": "46e60fab-ce0d-4ab8-9bcb-39a0b41ce5ce",
   "metadata": {},
   "outputs": [],
   "source": []
  },
  {
   "cell_type": "code",
   "execution_count": null,
   "id": "a2b896a0-ba19-4bc9-9207-0ab66d99d7c2",
   "metadata": {},
   "outputs": [],
   "source": []
  },
  {
   "cell_type": "markdown",
   "id": "965a72ec-b9ab-46ce-acd3-4755f1cd6ef5",
   "metadata": {},
   "source": [
    "#### Example Output"
   ]
  },
  {
   "cell_type": "code",
   "execution_count": 28,
   "id": "dd0ee2b4-9a21-4235-a072-66a96de2941f",
   "metadata": {},
   "outputs": [
    {
     "data": {
      "text/html": [
       "<div>\n",
       "<style scoped>\n",
       "    .dataframe tbody tr th:only-of-type {\n",
       "        vertical-align: middle;\n",
       "    }\n",
       "\n",
       "    .dataframe tbody tr th {\n",
       "        vertical-align: top;\n",
       "    }\n",
       "\n",
       "    .dataframe thead th {\n",
       "        text-align: right;\n",
       "    }\n",
       "</style>\n",
       "<table border=\"1\" class=\"dataframe\">\n",
       "  <thead>\n",
       "    <tr style=\"text-align: right;\">\n",
       "      <th></th>\n",
       "      <th>entry_id</th>\n",
       "      <th>num_tags</th>\n",
       "    </tr>\n",
       "  </thead>\n",
       "  <tbody>\n",
       "    <tr>\n",
       "      <th>0</th>\n",
       "      <td>129768</td>\n",
       "      <td>34</td>\n",
       "    </tr>\n",
       "    <tr>\n",
       "      <th>1</th>\n",
       "      <td>191608</td>\n",
       "      <td>29</td>\n",
       "    </tr>\n",
       "    <tr>\n",
       "      <th>2</th>\n",
       "      <td>5793</td>\n",
       "      <td>23</td>\n",
       "    </tr>\n",
       "    <tr>\n",
       "      <th>3</th>\n",
       "      <td>1838447</td>\n",
       "      <td>21</td>\n",
       "    </tr>\n",
       "    <tr>\n",
       "      <th>4</th>\n",
       "      <td>5749</td>\n",
       "      <td>20</td>\n",
       "    </tr>\n",
       "    <tr>\n",
       "      <th>...</th>\n",
       "      <td>...</td>\n",
       "      <td>...</td>\n",
       "    </tr>\n",
       "    <tr>\n",
       "      <th>101</th>\n",
       "      <td>5804</td>\n",
       "      <td>10</td>\n",
       "    </tr>\n",
       "    <tr>\n",
       "      <th>102</th>\n",
       "      <td>5833</td>\n",
       "      <td>10</td>\n",
       "    </tr>\n",
       "    <tr>\n",
       "      <th>103</th>\n",
       "      <td>2828</td>\n",
       "      <td>10</td>\n",
       "    </tr>\n",
       "    <tr>\n",
       "      <th>104</th>\n",
       "      <td>5848</td>\n",
       "      <td>10</td>\n",
       "    </tr>\n",
       "    <tr>\n",
       "      <th>105</th>\n",
       "      <td>249939</td>\n",
       "      <td>10</td>\n",
       "    </tr>\n",
       "  </tbody>\n",
       "</table>\n",
       "<p>106 rows × 2 columns</p>\n",
       "</div>"
      ],
      "text/plain": [
       "     entry_id  num_tags\n",
       "0      129768        34\n",
       "1      191608        29\n",
       "2        5793        23\n",
       "3     1838447        21\n",
       "4        5749        20\n",
       "..        ...       ...\n",
       "101      5804        10\n",
       "102      5833        10\n",
       "103      2828        10\n",
       "104      5848        10\n",
       "105    249939        10\n",
       "\n",
       "[106 rows x 2 columns]"
      ]
     },
     "execution_count": 28,
     "metadata": {},
     "output_type": "execute_result"
    }
   ],
   "source": [
    "a = tethys_tags_count_df[tethys_tags_count_df['num_tags']>=10]\n",
    "a"
   ]
  },
  {
   "cell_type": "code",
   "execution_count": 33,
   "id": "ca2fb303-5b14-4a8f-99d0-703b733f79cc",
   "metadata": {},
   "outputs": [
    {
     "data": {
      "text/html": [
       "<div>\n",
       "<style scoped>\n",
       "    .dataframe tbody tr th:only-of-type {\n",
       "        vertical-align: middle;\n",
       "    }\n",
       "\n",
       "    .dataframe tbody tr th {\n",
       "        vertical-align: top;\n",
       "    }\n",
       "\n",
       "    .dataframe thead th {\n",
       "        text-align: right;\n",
       "    }\n",
       "</style>\n",
       "<table border=\"1\" class=\"dataframe\">\n",
       "  <thead>\n",
       "    <tr style=\"text-align: right;\">\n",
       "      <th></th>\n",
       "      <th>entry_id</th>\n",
       "      <th>num_tags</th>\n",
       "      <th>originationDate</th>\n",
       "      <th>modifiedDate</th>\n",
       "      <th>URI</th>\n",
       "      <th>landingPage</th>\n",
       "      <th>sourceURL</th>\n",
       "      <th>title</th>\n",
       "      <th>description</th>\n",
       "      <th>signatureProject</th>\n",
       "    </tr>\n",
       "  </thead>\n",
       "  <tbody>\n",
       "    <tr>\n",
       "      <th>0</th>\n",
       "      <td>129768</td>\n",
       "      <td>34</td>\n",
       "      <td>2009-12-01</td>\n",
       "      <td>2024-01-22 09:24:45</td>\n",
       "      <td>https://tethys.pnnl.gov/node/129768</td>\n",
       "      <td>https://tethys.pnnl.gov/publications/strategic...</td>\n",
       "      <td></td>\n",
       "      <td>Strategic Environmental Assessment (SEA) of Of...</td>\n",
       "      <td>This Environmental Report presents the results...</td>\n",
       "      <td>[]</td>\n",
       "    </tr>\n",
       "    <tr>\n",
       "      <th>1</th>\n",
       "      <td>191608</td>\n",
       "      <td>29</td>\n",
       "      <td>2020-09-30</td>\n",
       "      <td>2024-05-10 05:59:48</td>\n",
       "      <td>https://tethys.pnnl.gov/node/191608</td>\n",
       "      <td>https://tethys.pnnl.gov/publications/state-of-...</td>\n",
       "      <td></td>\n",
       "      <td>OES-Environmental 2020 State of the Science Re...</td>\n",
       "      <td>The OES-Environmental 2020 State of the Scienc...</td>\n",
       "      <td>[]</td>\n",
       "    </tr>\n",
       "    <tr>\n",
       "      <th>2</th>\n",
       "      <td>5793</td>\n",
       "      <td>23</td>\n",
       "      <td>2024-04-19</td>\n",
       "      <td>2024-04-26 10:49:50</td>\n",
       "      <td>https://tethys.pnnl.gov/node/5793</td>\n",
       "      <td>https://tethys.pnnl.gov/project-sites/sem-rev-...</td>\n",
       "      <td>https://sem-rev.ec-nantes.fr/</td>\n",
       "      <td>SEM-REV Sea Test Site</td>\n",
       "      <td>The test site occupies approximately a 1 km2 t...</td>\n",
       "      <td>[]</td>\n",
       "    </tr>\n",
       "    <tr>\n",
       "      <th>3</th>\n",
       "      <td>1838447</td>\n",
       "      <td>21</td>\n",
       "      <td>2022-07-15</td>\n",
       "      <td>2024-01-22 08:44:52</td>\n",
       "      <td>https://tethys.pnnl.gov/node/1838447</td>\n",
       "      <td>https://tethys.pnnl.gov/publications/practical...</td>\n",
       "      <td>https://www.frontiersin.org/articles/10.3389/f...</td>\n",
       "      <td>Practical Approaches for Providing Empirical D...</td>\n",
       "      <td>Persisting knowledge gaps relating to the ecol...</td>\n",
       "      <td>[]</td>\n",
       "    </tr>\n",
       "    <tr>\n",
       "      <th>4</th>\n",
       "      <td>1838447</td>\n",
       "      <td>21</td>\n",
       "      <td>2022-07-15</td>\n",
       "      <td>2024-01-22 08:44:52</td>\n",
       "      <td>https://tethys.pnnl.gov/node/1838447</td>\n",
       "      <td>https://tethys.pnnl.gov/publications/practical...</td>\n",
       "      <td>https://www.frontiersin.org/articles/10.3389/f...</td>\n",
       "      <td>Practical Approaches for Providing Empirical D...</td>\n",
       "      <td>Persisting knowledge gaps relating to the ecol...</td>\n",
       "      <td>[]</td>\n",
       "    </tr>\n",
       "    <tr>\n",
       "      <th>...</th>\n",
       "      <td>...</td>\n",
       "      <td>...</td>\n",
       "      <td>...</td>\n",
       "      <td>...</td>\n",
       "      <td>...</td>\n",
       "      <td>...</td>\n",
       "      <td>...</td>\n",
       "      <td>...</td>\n",
       "      <td>...</td>\n",
       "      <td>...</td>\n",
       "    </tr>\n",
       "    <tr>\n",
       "      <th>105</th>\n",
       "      <td>5804</td>\n",
       "      <td>10</td>\n",
       "      <td>2014-07-04</td>\n",
       "      <td>2023-12-08 12:52:58</td>\n",
       "      <td>https://tethys.pnnl.gov/node/5804</td>\n",
       "      <td>https://tethys.pnnl.gov/project-sites/wave-rid...</td>\n",
       "      <td>http://www.waveriderenergy.com.au/</td>\n",
       "      <td>Wave Rider Wave Energy Pilot Plant</td>\n",
       "      <td>The Wave Rider™ is an offshore wave energy con...</td>\n",
       "      <td>[]</td>\n",
       "    </tr>\n",
       "    <tr>\n",
       "      <th>106</th>\n",
       "      <td>5833</td>\n",
       "      <td>10</td>\n",
       "      <td>2019-03-28</td>\n",
       "      <td>2023-12-08 12:28:14</td>\n",
       "      <td>https://tethys.pnnl.gov/node/5833</td>\n",
       "      <td>https://tethys.pnnl.gov/project-sites/scotrene...</td>\n",
       "      <td>https://orbitalmarine.com/technology/</td>\n",
       "      <td>ScotRenewables SR2000 at EMEC</td>\n",
       "      <td>Orbital Marine Power (formerly Scotrenewables)...</td>\n",
       "      <td>[]</td>\n",
       "    </tr>\n",
       "    <tr>\n",
       "      <th>107</th>\n",
       "      <td>2828</td>\n",
       "      <td>10</td>\n",
       "      <td>2015-10-06</td>\n",
       "      <td>2024-01-22 10:04:04</td>\n",
       "      <td>https://tethys.pnnl.gov/node/2828</td>\n",
       "      <td>https://tethys.pnnl.gov/publications/wales-mar...</td>\n",
       "      <td>http://gov.wales/docs/drah/publications/151008...</td>\n",
       "      <td>Wales' Marine Evidence Report</td>\n",
       "      <td>The purpose of marine planning under the Marin...</td>\n",
       "      <td>[]</td>\n",
       "    </tr>\n",
       "    <tr>\n",
       "      <th>108</th>\n",
       "      <td>5848</td>\n",
       "      <td>10</td>\n",
       "      <td>2022-10-21</td>\n",
       "      <td>2023-12-07 11:24:54</td>\n",
       "      <td>https://tethys.pnnl.gov/node/5848</td>\n",
       "      <td>https://tethys.pnnl.gov/project-sites/wave-swe...</td>\n",
       "      <td>https://www.waveswell.com</td>\n",
       "      <td>Wave Swell Energy King Island Project</td>\n",
       "      <td>The Wave Swell Energy (WSE) King Island projec...</td>\n",
       "      <td>[]</td>\n",
       "    </tr>\n",
       "    <tr>\n",
       "      <th>109</th>\n",
       "      <td>249939</td>\n",
       "      <td>10</td>\n",
       "      <td>2013-12-31</td>\n",
       "      <td>2024-01-22 08:52:49</td>\n",
       "      <td>https://tethys.pnnl.gov/node/249939</td>\n",
       "      <td>https://tethys.pnnl.gov/publications/pmec-nets...</td>\n",
       "      <td></td>\n",
       "      <td>PMEC-NETS Annual Operations and Monitoring Rep...</td>\n",
       "      <td>This Annual Operations and Monitoring Report s...</td>\n",
       "      <td>[]</td>\n",
       "    </tr>\n",
       "  </tbody>\n",
       "</table>\n",
       "<p>110 rows × 10 columns</p>\n",
       "</div>"
      ],
      "text/plain": [
       "     entry_id  num_tags originationDate        modifiedDate  \\\n",
       "0      129768        34      2009-12-01 2024-01-22 09:24:45   \n",
       "1      191608        29      2020-09-30 2024-05-10 05:59:48   \n",
       "2        5793        23      2024-04-19 2024-04-26 10:49:50   \n",
       "3     1838447        21      2022-07-15 2024-01-22 08:44:52   \n",
       "4     1838447        21      2022-07-15 2024-01-22 08:44:52   \n",
       "..        ...       ...             ...                 ...   \n",
       "105      5804        10      2014-07-04 2023-12-08 12:52:58   \n",
       "106      5833        10      2019-03-28 2023-12-08 12:28:14   \n",
       "107      2828        10      2015-10-06 2024-01-22 10:04:04   \n",
       "108      5848        10      2022-10-21 2023-12-07 11:24:54   \n",
       "109    249939        10      2013-12-31 2024-01-22 08:52:49   \n",
       "\n",
       "                                      URI  \\\n",
       "0     https://tethys.pnnl.gov/node/129768   \n",
       "1     https://tethys.pnnl.gov/node/191608   \n",
       "2       https://tethys.pnnl.gov/node/5793   \n",
       "3    https://tethys.pnnl.gov/node/1838447   \n",
       "4    https://tethys.pnnl.gov/node/1838447   \n",
       "..                                    ...   \n",
       "105     https://tethys.pnnl.gov/node/5804   \n",
       "106     https://tethys.pnnl.gov/node/5833   \n",
       "107     https://tethys.pnnl.gov/node/2828   \n",
       "108     https://tethys.pnnl.gov/node/5848   \n",
       "109   https://tethys.pnnl.gov/node/249939   \n",
       "\n",
       "                                           landingPage  \\\n",
       "0    https://tethys.pnnl.gov/publications/strategic...   \n",
       "1    https://tethys.pnnl.gov/publications/state-of-...   \n",
       "2    https://tethys.pnnl.gov/project-sites/sem-rev-...   \n",
       "3    https://tethys.pnnl.gov/publications/practical...   \n",
       "4    https://tethys.pnnl.gov/publications/practical...   \n",
       "..                                                 ...   \n",
       "105  https://tethys.pnnl.gov/project-sites/wave-rid...   \n",
       "106  https://tethys.pnnl.gov/project-sites/scotrene...   \n",
       "107  https://tethys.pnnl.gov/publications/wales-mar...   \n",
       "108  https://tethys.pnnl.gov/project-sites/wave-swe...   \n",
       "109  https://tethys.pnnl.gov/publications/pmec-nets...   \n",
       "\n",
       "                                             sourceURL  \\\n",
       "0                                                        \n",
       "1                                                        \n",
       "2                        https://sem-rev.ec-nantes.fr/   \n",
       "3    https://www.frontiersin.org/articles/10.3389/f...   \n",
       "4    https://www.frontiersin.org/articles/10.3389/f...   \n",
       "..                                                 ...   \n",
       "105                 http://www.waveriderenergy.com.au/   \n",
       "106              https://orbitalmarine.com/technology/   \n",
       "107  http://gov.wales/docs/drah/publications/151008...   \n",
       "108                          https://www.waveswell.com   \n",
       "109                                                      \n",
       "\n",
       "                                                 title  \\\n",
       "0    Strategic Environmental Assessment (SEA) of Of...   \n",
       "1    OES-Environmental 2020 State of the Science Re...   \n",
       "2                                SEM-REV Sea Test Site   \n",
       "3    Practical Approaches for Providing Empirical D...   \n",
       "4    Practical Approaches for Providing Empirical D...   \n",
       "..                                                 ...   \n",
       "105                 Wave Rider Wave Energy Pilot Plant   \n",
       "106                      ScotRenewables SR2000 at EMEC   \n",
       "107                      Wales' Marine Evidence Report   \n",
       "108             Wave Swell Energy King Island Project    \n",
       "109  PMEC-NETS Annual Operations and Monitoring Rep...   \n",
       "\n",
       "                                           description signatureProject  \n",
       "0    This Environmental Report presents the results...               []  \n",
       "1    The OES-Environmental 2020 State of the Scienc...               []  \n",
       "2    The test site occupies approximately a 1 km2 t...               []  \n",
       "3    Persisting knowledge gaps relating to the ecol...               []  \n",
       "4    Persisting knowledge gaps relating to the ecol...               []  \n",
       "..                                                 ...              ...  \n",
       "105  The Wave Rider™ is an offshore wave energy con...               []  \n",
       "106  Orbital Marine Power (formerly Scotrenewables)...               []  \n",
       "107  The purpose of marine planning under the Marin...               []  \n",
       "108  The Wave Swell Energy (WSE) King Island projec...               []  \n",
       "109  This Annual Operations and Monitoring Report s...               []  \n",
       "\n",
       "[110 rows x 10 columns]"
      ]
     },
     "execution_count": 33,
     "metadata": {},
     "output_type": "execute_result"
    }
   ],
   "source": [
    "b = a.merge(tethys_df_core, how='inner', on='entry_id')\n",
    "b"
   ]
  },
  {
   "cell_type": "code",
   "execution_count": 34,
   "id": "ae5061e6-db06-42e7-940e-dae4bd0b8fe5",
   "metadata": {},
   "outputs": [
    {
     "data": {
      "text/plain": [
       "0       https://tethys.pnnl.gov/node/129768\n",
       "1       https://tethys.pnnl.gov/node/191608\n",
       "2         https://tethys.pnnl.gov/node/5793\n",
       "3      https://tethys.pnnl.gov/node/1838447\n",
       "4      https://tethys.pnnl.gov/node/1838447\n",
       "                       ...                 \n",
       "105       https://tethys.pnnl.gov/node/5804\n",
       "106       https://tethys.pnnl.gov/node/5833\n",
       "107       https://tethys.pnnl.gov/node/2828\n",
       "108       https://tethys.pnnl.gov/node/5848\n",
       "109     https://tethys.pnnl.gov/node/249939\n",
       "Name: URI, Length: 110, dtype: object"
      ]
     },
     "execution_count": 34,
     "metadata": {},
     "output_type": "execute_result"
    }
   ],
   "source": [
    "b['URI']"
   ]
  },
  {
   "cell_type": "code",
   "execution_count": 40,
   "id": "ee1436a2-df2f-4bad-a2a5-5631ee3a98d4",
   "metadata": {},
   "outputs": [
    {
     "data": {
      "text/plain": [
       "1838447    3\n",
       "1284878    2\n",
       "1630709    2\n",
       "2156       1\n",
       "1560530    1\n",
       "          ..\n",
       "5797       1\n",
       "5747       1\n",
       "5836       1\n",
       "643163     1\n",
       "249939     1\n",
       "Name: entry_id, Length: 106, dtype: int64"
      ]
     },
     "execution_count": 40,
     "metadata": {},
     "output_type": "execute_result"
    }
   ],
   "source": [
    "b['entry_id'].value_counts()"
   ]
  },
  {
   "cell_type": "code",
   "execution_count": null,
   "id": "48eacc95-2f07-4deb-aee4-0657bd63a96e",
   "metadata": {},
   "outputs": [],
   "source": []
  },
  {
   "cell_type": "code",
   "execution_count": null,
   "id": "9ae16413-a8d1-4a28-a9cf-14a95049fda8",
   "metadata": {},
   "outputs": [],
   "source": []
  },
  {
   "cell_type": "code",
   "execution_count": 41,
   "id": "bf32f769-bb20-4448-a9f8-7695eff96eaa",
   "metadata": {},
   "outputs": [
    {
     "data": {
      "text/plain": [
       "False"
      ]
     },
     "execution_count": 41,
     "metadata": {},
     "output_type": "execute_result"
    }
   ],
   "source": [
    "tethys_df_core['URI'].is_unique"
   ]
  },
  {
   "cell_type": "code",
   "execution_count": 47,
   "id": "5cedf4e2-9f92-4dff-bcec-dafa5d0f5a0c",
   "metadata": {},
   "outputs": [
    {
     "data": {
      "text/plain": [
       "False"
      ]
     },
     "execution_count": 47,
     "metadata": {},
     "output_type": "execute_result"
    }
   ],
   "source": [
    "tethys_df_core['entry_id'].is_unique"
   ]
  },
  {
   "cell_type": "code",
   "execution_count": 49,
   "id": "3cb3629b-f1fe-4d4c-a3cc-c9e04f154a33",
   "metadata": {},
   "outputs": [
    {
     "data": {
      "text/plain": [
       "https://tethys.pnnl.gov/node/1838447    3\n",
       "https://tethys.pnnl.gov/node/1630709    2\n",
       "https://tethys.pnnl.gov/node/1618730    2\n",
       "https://tethys.pnnl.gov/node/1560806    2\n",
       "https://tethys.pnnl.gov/node/1284879    2\n",
       "                                       ..\n",
       "https://tethys.pnnl.gov/node/3659       1\n",
       "https://tethys.pnnl.gov/node/3661       1\n",
       "https://tethys.pnnl.gov/node/3662       1\n",
       "https://tethys.pnnl.gov/node/3665       1\n",
       "https://tethys.pnnl.gov/node/2079485    1\n",
       "Name: URI, Length: 4248, dtype: int64"
      ]
     },
     "execution_count": 49,
     "metadata": {},
     "output_type": "execute_result"
    }
   ],
   "source": [
    "tethys_df_core['URI'].value_counts()"
   ]
  },
  {
   "cell_type": "code",
   "execution_count": 42,
   "id": "a88f8e57-5e03-479a-aa2d-19ccfc6c6d8a",
   "metadata": {},
   "outputs": [],
   "source": [
    "tethys_e_df_core = primre_data.tethys_e_core"
   ]
  },
  {
   "cell_type": "code",
   "execution_count": 43,
   "id": "d9cefc72-cca1-4d3e-8b5d-5c1d6915e385",
   "metadata": {},
   "outputs": [
    {
     "data": {
      "text/plain": [
       "False"
      ]
     },
     "execution_count": 43,
     "metadata": {},
     "output_type": "execute_result"
    }
   ],
   "source": [
    "tethys_e_df_core['URI'].is_unique"
   ]
  },
  {
   "cell_type": "code",
   "execution_count": 48,
   "id": "4cf354a5-3856-43e0-a9c4-9efa1d11fc44",
   "metadata": {},
   "outputs": [
    {
     "data": {
      "text/plain": [
       "False"
      ]
     },
     "execution_count": 48,
     "metadata": {},
     "output_type": "execute_result"
    }
   ],
   "source": [
    "tethys_e_df_core['entry_id'].is_unique"
   ]
  },
  {
   "cell_type": "code",
   "execution_count": 46,
   "id": "7cf0a6d9-a88e-45fc-b52a-24a5dbbefc73",
   "metadata": {},
   "outputs": [
    {
     "data": {
      "text/plain": [
       "https://tethys-engineering.pnnl.gov/node/10830    8\n",
       "https://tethys-engineering.pnnl.gov/node/1265     8\n",
       "https://tethys-engineering.pnnl.gov/node/20746    7\n",
       "https://tethys-engineering.pnnl.gov/node/10835    6\n",
       "https://tethys-engineering.pnnl.gov/node/10658    6\n",
       "                                                 ..\n",
       "https://tethys-engineering.pnnl.gov/node/3024     1\n",
       "https://tethys-engineering.pnnl.gov/node/3023     1\n",
       "https://tethys-engineering.pnnl.gov/node/3022     1\n",
       "https://tethys-engineering.pnnl.gov/node/3021     1\n",
       "https://tethys-engineering.pnnl.gov/node/18796    1\n",
       "Name: URI, Length: 8173, dtype: int64"
      ]
     },
     "execution_count": 46,
     "metadata": {},
     "output_type": "execute_result"
    }
   ],
   "source": [
    "tethys_e_df_core['URI'].value_counts()"
   ]
  },
  {
   "cell_type": "code",
   "execution_count": null,
   "id": "cabb384b-f063-42b9-8e58-f9c852f4f3c4",
   "metadata": {},
   "outputs": [],
   "source": []
  }
 ],
 "metadata": {
  "kernelspec": {
   "display_name": "Python 3 (ipykernel)",
   "language": "python",
   "name": "python3"
  },
  "language_info": {
   "codemirror_mode": {
    "name": "ipython",
    "version": 3
   },
   "file_extension": ".py",
   "mimetype": "text/x-python",
   "name": "python",
   "nbconvert_exporter": "python",
   "pygments_lexer": "ipython3",
   "version": "3.11.7"
  }
 },
 "nbformat": 4,
 "nbformat_minor": 5
}
